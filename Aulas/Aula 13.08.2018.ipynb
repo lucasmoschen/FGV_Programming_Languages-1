{
 "cells": [
  {
   "cell_type": "markdown",
   "metadata": {},
   "source": [
    "# Aula 13.08.2018"
   ]
  },
  {
   "cell_type": "markdown",
   "metadata": {},
   "source": [
    "Algus comandos git:\n",
    "    - remote -v (verbose)\n",
    "    - rm -rf (apaga forçosamente os arquivos).\n",
    "    - git mv troca os nome e arquivos\n",
    "    - git commit -a"
   ]
  },
  {
   "cell_type": "markdown",
   "metadata": {},
   "source": [
    "### Agora, falando de Python:\n",
    "- Métodos são funções  que vem de graça;\n",
    "- Atributos são funções simples, constantes.\n",
    "\n",
    "Os tipos tem métodos e atributos. \n",
    "\n",
    "Site http://www.pythontutor.com/ "
   ]
  },
  {
   "cell_type": "markdown",
   "metadata": {},
   "source": [
    "Os tipos numéricos, string, tupla e booleano são imutáveis, enquanto os tipos lista, conjunto e dicionário são imutáveis. Os tipos lista, tupla, conjunto, dicionário (dada pelo hash) e string são sequenciais. \n",
    "\n",
    "\"Tudo que é vazio é falso, e o que não é vazio, é verdadeiro\"\n",
    "\n",
    "Hash: O hash de um valor é o resultado da aplicação de uma função de hashing a tal valor. Esse resultado é, em geral, muito diferente do valor original. Uma função de hashing H recebe como entrada um valor x e retorna como resultado o hash h correspondente àquele valor. "
   ]
  },
  {
   "cell_type": "code",
   "execution_count": 2,
   "metadata": {},
   "outputs": [
    {
     "data": {
      "text/plain": [
       "True"
      ]
     },
     "execution_count": 2,
     "metadata": {},
     "output_type": "execute_result"
    }
   ],
   "source": [
    "bool([{}])"
   ]
  },
  {
   "cell_type": "code",
   "execution_count": 1,
   "metadata": {},
   "outputs": [],
   "source": [
    "# Parte 2"
   ]
  },
  {
   "cell_type": "markdown",
   "metadata": {},
   "source": [
    "Módulos são pacotes de métodos e atributos, que podem ser importadas para o python. \n",
    "Os módulos da biblioteca padrão não são carregados, junto com o Python, diferente dos \"Built-in\"\n"
   ]
  },
  {
   "cell_type": "markdown",
   "metadata": {},
   "source": [
    "## Importando módulos:"
   ]
  },
  {
   "cell_type": "markdown",
   "metadata": {},
   "source": [
    "- string\n",
    "- random\n",
    "- math\n",
    "- numpy"
   ]
  },
  {
   "cell_type": "markdown",
   "metadata": {},
   "source": [
    "pylint e pep8"
   ]
  },
  {
   "cell_type": "code",
   "execution_count": null,
   "metadata": {},
   "outputs": [],
   "source": []
  }
 ],
 "metadata": {
  "kernelspec": {
   "display_name": "Python 3",
   "language": "python",
   "name": "python3"
  },
  "language_info": {
   "codemirror_mode": {
    "name": "ipython",
    "version": 3
   },
   "file_extension": ".py",
   "mimetype": "text/x-python",
   "name": "python",
   "nbconvert_exporter": "python",
   "pygments_lexer": "ipython3",
   "version": "3.5.2"
  }
 },
 "nbformat": 4,
 "nbformat_minor": 2
}
