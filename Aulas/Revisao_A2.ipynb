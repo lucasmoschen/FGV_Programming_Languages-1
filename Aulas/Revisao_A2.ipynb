{
 "cells": [
  {
   "cell_type": "markdown",
   "metadata": {},
   "source": [
    "# Revisão A2"
   ]
  },
  {
   "cell_type": "code",
   "execution_count": 118,
   "metadata": {},
   "outputs": [],
   "source": [
    "import pandas as pd\n",
    "import numpy as np"
   ]
  },
  {
   "cell_type": "markdown",
   "metadata": {},
   "source": [
    "## Pandas"
   ]
  },
  {
   "cell_type": "markdown",
   "metadata": {},
   "source": [
    "### Séries"
   ]
  },
  {
   "cell_type": "code",
   "execution_count": 22,
   "metadata": {},
   "outputs": [],
   "source": [
    "lista = pd.Series([10,1012,'312',312,312])\n",
    "lista2 = pd.Series(data=lista.values,index = range(1,len(lista.values)+1)) #ele pega os valores da série de lista e linka aos valores index"
   ]
  },
  {
   "cell_type": "code",
   "execution_count": 23,
   "metadata": {},
   "outputs": [
    {
     "data": {
      "text/plain": [
       "1      10\n",
       "2    1012\n",
       "3     312\n",
       "4     312\n",
       "5     312\n",
       "dtype: object"
      ]
     },
     "execution_count": 23,
     "metadata": {},
     "output_type": "execute_result"
    }
   ],
   "source": [
    "lista2"
   ]
  },
  {
   "cell_type": "code",
   "execution_count": 24,
   "metadata": {},
   "outputs": [
    {
     "data": {
      "text/plain": [
       "RangeIndex(start=0, stop=5, step=1)"
      ]
     },
     "execution_count": 24,
     "metadata": {},
     "output_type": "execute_result"
    }
   ],
   "source": [
    "lista.index"
   ]
  },
  {
   "cell_type": "code",
   "execution_count": 29,
   "metadata": {},
   "outputs": [
    {
     "data": {
      "text/plain": [
       "0      10\n",
       "1    1012\n",
       "dtype: object"
      ]
     },
     "execution_count": 29,
     "metadata": {},
     "output_type": "execute_result"
    }
   ],
   "source": [
    "lista[[all([a, b]) for a, b in zip(lista2 != '312', lista2 != 312)]]"
   ]
  },
  {
   "cell_type": "code",
   "execution_count": 26,
   "metadata": {},
   "outputs": [
    {
     "data": {
      "text/plain": [
       "[(True, True), (True, True), (False, True), (True, False), (True, False)]"
      ]
     },
     "execution_count": 26,
     "metadata": {},
     "output_type": "execute_result"
    }
   ],
   "source": [
    "list(zip(lista2 != '312', lista2 != 312))"
   ]
  },
  {
   "cell_type": "code",
   "execution_count": 69,
   "metadata": {},
   "outputs": [
    {
     "data": {
      "text/plain": [
       "2    4.0\n",
       "3    4.0\n",
       "0    4.0\n",
       "8    4.0\n",
       "dtype: float64"
      ]
     },
     "execution_count": 69,
     "metadata": {},
     "output_type": "execute_result"
    }
   ],
   "source": [
    "lista2.iloc[1]\n",
    "lista2.apply(lambda x: int(x)**2)\n",
    "lista2.append(pd.Series([1,2,3]))\n",
    "lista2.loc[1] = 10.4 #se o index existe, ele  substitui, senão ele cria um novo índice\n",
    "lista2[lista2.between(1,10)] #selecionar dados de um intervalo é melhor por esse método"
   ]
  },
  {
   "cell_type": "markdown",
   "metadata": {},
   "source": [
    "### DataFrames"
   ]
  },
  {
   "cell_type": "code",
   "execution_count": 104,
   "metadata": {},
   "outputs": [
    {
     "data": {
      "text/html": [
       "<div>\n",
       "<style scoped>\n",
       "    .dataframe tbody tr th:only-of-type {\n",
       "        vertical-align: middle;\n",
       "    }\n",
       "\n",
       "    .dataframe tbody tr th {\n",
       "        vertical-align: top;\n",
       "    }\n",
       "\n",
       "    .dataframe thead th {\n",
       "        text-align: right;\n",
       "    }\n",
       "</style>\n",
       "<table border=\"1\" class=\"dataframe\">\n",
       "  <thead>\n",
       "    <tr style=\"text-align: right;\">\n",
       "      <th></th>\n",
       "      <th>pop</th>\n",
       "      <th>state</th>\n",
       "      <th>year</th>\n",
       "    </tr>\n",
       "  </thead>\n",
       "  <tbody>\n",
       "    <tr>\n",
       "      <th>1</th>\n",
       "      <td>1.5</td>\n",
       "      <td>RS</td>\n",
       "      <td>2000</td>\n",
       "    </tr>\n",
       "    <tr>\n",
       "      <th>2</th>\n",
       "      <td>1.7</td>\n",
       "      <td>SC</td>\n",
       "      <td>2001</td>\n",
       "    </tr>\n",
       "    <tr>\n",
       "      <th>3</th>\n",
       "      <td>3.6</td>\n",
       "      <td>PR</td>\n",
       "      <td>2002</td>\n",
       "    </tr>\n",
       "    <tr>\n",
       "      <th>4</th>\n",
       "      <td>2.4</td>\n",
       "      <td>SP</td>\n",
       "      <td>2001</td>\n",
       "    </tr>\n",
       "    <tr>\n",
       "      <th>5</th>\n",
       "      <td>2.9</td>\n",
       "      <td>RJ</td>\n",
       "      <td>2002</td>\n",
       "    </tr>\n",
       "  </tbody>\n",
       "</table>\n",
       "</div>"
      ],
      "text/plain": [
       "   pop state  year\n",
       "1  1.5    RS  2000\n",
       "2  1.7    SC  2001\n",
       "3  3.6    PR  2002\n",
       "4  2.4    SP  2001\n",
       "5  2.9    RJ  2002"
      ]
     },
     "execution_count": 104,
     "metadata": {},
     "output_type": "execute_result"
    }
   ],
   "source": [
    "data2 = {'state': ['RS', 'SC', 'PR', 'SP', 'RJ'],'year': [2000, 2001, 2002, 2001, 2002],'pop': [1.5, 1.7, 3.6, 2.4, 2.9]}\n",
    "frame = pd.DataFrame(data2,index = range(1, len(data2['state'])+1))\n",
    "frame"
   ]
  },
  {
   "cell_type": "code",
   "execution_count": 117,
   "metadata": {},
   "outputs": [
    {
     "data": {
      "text/html": [
       "<div>\n",
       "<style scoped>\n",
       "    .dataframe tbody tr th:only-of-type {\n",
       "        vertical-align: middle;\n",
       "    }\n",
       "\n",
       "    .dataframe tbody tr th {\n",
       "        vertical-align: top;\n",
       "    }\n",
       "\n",
       "    .dataframe thead th {\n",
       "        text-align: right;\n",
       "    }\n",
       "</style>\n",
       "<table border=\"1\" class=\"dataframe\">\n",
       "  <thead>\n",
       "    <tr style=\"text-align: right;\">\n",
       "      <th></th>\n",
       "      <th>pop</th>\n",
       "      <th>state</th>\n",
       "      <th>year</th>\n",
       "      <th>gd</th>\n",
       "    </tr>\n",
       "  </thead>\n",
       "  <tbody>\n",
       "    <tr>\n",
       "      <th>1</th>\n",
       "      <td>1.5</td>\n",
       "      <td>RS</td>\n",
       "      <td>2000</td>\n",
       "      <td>NaN</td>\n",
       "    </tr>\n",
       "    <tr>\n",
       "      <th>2</th>\n",
       "      <td>1.7</td>\n",
       "      <td>SC</td>\n",
       "      <td>2001</td>\n",
       "      <td>NaN</td>\n",
       "    </tr>\n",
       "    <tr>\n",
       "      <th>3</th>\n",
       "      <td>3.6</td>\n",
       "      <td>PR</td>\n",
       "      <td>2002</td>\n",
       "      <td>NaN</td>\n",
       "    </tr>\n",
       "    <tr>\n",
       "      <th>4</th>\n",
       "      <td>2.4</td>\n",
       "      <td>SP</td>\n",
       "      <td>2001</td>\n",
       "      <td>NaN</td>\n",
       "    </tr>\n",
       "    <tr>\n",
       "      <th>5</th>\n",
       "      <td>2.9</td>\n",
       "      <td>RJ</td>\n",
       "      <td>2002</td>\n",
       "      <td>NaN</td>\n",
       "    </tr>\n",
       "  </tbody>\n",
       "</table>\n",
       "</div>"
      ],
      "text/plain": [
       "   pop state  year  gd\n",
       "1  1.5    RS  2000 NaN\n",
       "2  1.7    SC  2001 NaN\n",
       "3  3.6    PR  2002 NaN\n",
       "4  2.4    SP  2001 NaN\n",
       "5  2.9    RJ  2002 NaN"
      ]
     },
     "execution_count": 117,
     "metadata": {},
     "output_type": "execute_result"
    }
   ],
   "source": [
    "frame['gd'] = np.nan\n",
    "frame"
   ]
  },
  {
   "cell_type": "code",
   "execution_count": 112,
   "metadata": {},
   "outputs": [
    {
     "data": {
      "text/plain": [
       "Index(['pop', 'state', 'year', 'gd'], dtype='object')"
      ]
     },
     "execution_count": 112,
     "metadata": {},
     "output_type": "execute_result"
    }
   ],
   "source": [
    "frame.columns"
   ]
  },
  {
   "cell_type": "code",
   "execution_count": 122,
   "metadata": {},
   "outputs": [
    {
     "data": {
      "text/html": [
       "<div>\n",
       "<style scoped>\n",
       "    .dataframe tbody tr th:only-of-type {\n",
       "        vertical-align: middle;\n",
       "    }\n",
       "\n",
       "    .dataframe tbody tr th {\n",
       "        vertical-align: top;\n",
       "    }\n",
       "\n",
       "    .dataframe thead th {\n",
       "        text-align: right;\n",
       "    }\n",
       "</style>\n",
       "<table border=\"1\" class=\"dataframe\">\n",
       "  <thead>\n",
       "    <tr style=\"text-align: right;\">\n",
       "      <th></th>\n",
       "      <th>Nevada</th>\n",
       "      <th>Ohio</th>\n",
       "    </tr>\n",
       "  </thead>\n",
       "  <tbody>\n",
       "    <tr>\n",
       "      <th>2000</th>\n",
       "      <td>NaN</td>\n",
       "      <td>1.5</td>\n",
       "    </tr>\n",
       "    <tr>\n",
       "      <th>2001</th>\n",
       "      <td>2.4</td>\n",
       "      <td>1.7</td>\n",
       "    </tr>\n",
       "    <tr>\n",
       "      <th>2002</th>\n",
       "      <td>2.9</td>\n",
       "      <td>3.6</td>\n",
       "    </tr>\n",
       "    <tr>\n",
       "      <th>2003</th>\n",
       "      <td>NaN</td>\n",
       "      <td>NaN</td>\n",
       "    </tr>\n",
       "  </tbody>\n",
       "</table>\n",
       "</div>"
      ],
      "text/plain": [
       "      Nevada  Ohio\n",
       "2000     NaN   1.5\n",
       "2001     2.4   1.7\n",
       "2002     2.9   3.6\n",
       "2003     NaN   NaN"
      ]
     },
     "execution_count": 122,
     "metadata": {},
     "output_type": "execute_result"
    }
   ],
   "source": [
    "pop = {'Nevada': {2001: 2.4, 2002: 2.9,2003:np.nan},'Ohio': {2000: 1.5, 2001: 1.7, 2002: 3.6}}\n",
    "frame3 = pd.DataFrame(pop)\n",
    "frame3"
   ]
  },
  {
   "cell_type": "code",
   "execution_count": 132,
   "metadata": {},
   "outputs": [],
   "source": [
    "pd.DataFrame.between_time?"
   ]
  },
  {
   "cell_type": "code",
   "execution_count": 6,
   "metadata": {},
   "outputs": [
    {
     "data": {
      "text/plain": [
       "'\\n  /Python/\\n\\nOrigem: Wikipédia, a enciclopédia livre.\\nIr para: navegação <#mw-head>, pesquisa <#p-search>\\nDisambig grey.svg *Nota:* Para outros significados, veja Python\\n(desambiguação) </wiki/Python_(desambigua%C3%A7%C3%A3o)>.\\nPython\\nPython logo and wordmark.svg </wiki/Ficheiro:Python_logo_and_wordmark.svg>\\nParadigma </wiki/Paradigma_de_programa%C3%A7%C3%A3o> \\tMultiparadigma\\n</wiki/Multiparadigma>:\\nOrientação a objetos </wiki/Orienta%C3%A7%C3%A3o_a_objetos>\\nProgramação imperativa </wiki/Programa%C3%A7%C3%A3o_imperativa>\\nProgramação funcional </wiki/Programa%C3%A7%C3%A3o_funcional>\\nSurgido em \\t1991 </wiki/1991>^[1] <#cite_note-svn-hist.C3.B3ria-1>\\nÚltima versão </wiki/Vers%C3%A3o> \\t3.4.1 (18 de maio de 2014^[2]\\n<#cite_note-2> )\\nCriado por \\tGuido van Rossum </wiki/Guido_van_Rossum>^[1]\\n<#cite_note-svn-hist.C3.B3ria-1>\\nEstilo de tipagem </wiki/Tipo_de_dado>: \\tDinâmica, forte\\nDialetos: \\tCPython </wiki/CPython>, IronPython </wiki/IronPython>,\\nJython </wiki/Jython>, PyPy </w/index.php?title'"
      ]
     },
     "execution_count": 6,
     "metadata": {},
     "output_type": "execute_result"
    }
   ],
   "source": [
    "with open('../Python/Dados/texto_python.txt', mode='r', encoding='utf-8') as f:\n",
    "    novo = f.read()\n",
    "novo[0:1000]"
   ]
  },
  {
   "cell_type": "code",
   "execution_count": 7,
   "metadata": {},
   "outputs": [
    {
     "data": {
      "text/plain": [
       "'    Python   Origem  Wikipédia  a enciclopédia livre  Ir para  navegação   mw-head   pesquisa   p-search  Disambig grey svg  Nota   Para outros significados  veja Python  desambiguação    wiki Python  desambigua C3 A7 C3 A3o    Python Python logo and wordmark svg   wiki Ficheiro Python logo and wordmark svg  Paradigma   wiki Paradigma de programa C3 A7 C3 A3o   Multiparadigma   wiki Multiparadigma   Orientação a objetos   wiki Orienta C3 A7 C3 A3o a objetos  Programação imperativa   wiki Programa C3 A7 C3 A3o imperativa  Programação funcional   wiki Programa C3 A7 C3 A3o funcional  Surgido em  1991   wiki 1991   1    cite note-svn-hist C3 B3ria-1   ltima versão   wiki Vers C3 A3o   3 4 1  18 de maio de 2014  2    cite note-2    Criado por  Guido van Rossum   wiki Guido van Rossum   1    cite note-svn-hist C3 B3ria-1  Estilo de tipagem   wiki Tipo de dado    Dinâmica  forte Dialetos   CPython   wiki CPython   IronPython   wiki IronPython   Jython   wiki Jython   PyPy   w index php title'"
      ]
     },
     "execution_count": 7,
     "metadata": {},
     "output_type": "execute_result"
    }
   ],
   "source": [
    "import re\n",
    "novo = re.sub(r'[^A-Za-z0-9áéíóúàâêôãõçü-]',' ',novo)\n",
    "novo[0:1000]"
   ]
  },
  {
   "cell_type": "code",
   "execution_count": null,
   "metadata": {},
   "outputs": [],
   "source": []
  }
 ],
 "metadata": {
  "kernelspec": {
   "display_name": "Python 3",
   "language": "python",
   "name": "python3"
  },
  "language_info": {
   "codemirror_mode": {
    "name": "ipython",
    "version": 3
   },
   "file_extension": ".py",
   "mimetype": "text/x-python",
   "name": "python",
   "nbconvert_exporter": "python",
   "pygments_lexer": "ipython3",
   "version": "3.5.2"
  }
 },
 "nbformat": 4,
 "nbformat_minor": 2
}
