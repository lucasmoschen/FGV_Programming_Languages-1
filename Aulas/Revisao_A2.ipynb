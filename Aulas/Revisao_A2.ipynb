{
 "cells": [
  {
   "cell_type": "markdown",
   "metadata": {},
   "source": [
    "# Revisão A2"
   ]
  },
  {
   "cell_type": "code",
   "execution_count": 1,
   "metadata": {},
   "outputs": [],
   "source": [
    "import pandas as pd\n",
    "import numpy as np\n",
    "import re as re\n",
    "import string\n",
    "import sqlite3"
   ]
  },
  {
   "cell_type": "markdown",
   "metadata": {},
   "source": [
    "## Pandas"
   ]
  },
  {
   "cell_type": "markdown",
   "metadata": {},
   "source": [
    "### Séries"
   ]
  },
  {
   "cell_type": "code",
   "execution_count": 22,
   "metadata": {},
   "outputs": [],
   "source": [
    "lista = pd.Series([10,1012,'312',312,312])\n",
    "lista2 = pd.Series(data=lista.values,index = range(1,len(lista.values)+1)) #ele pega os valores da série de lista e linka aos valores index"
   ]
  },
  {
   "cell_type": "code",
   "execution_count": 23,
   "metadata": {},
   "outputs": [
    {
     "data": {
      "text/plain": [
       "1      10\n",
       "2    1012\n",
       "3     312\n",
       "4     312\n",
       "5     312\n",
       "dtype: object"
      ]
     },
     "execution_count": 23,
     "metadata": {},
     "output_type": "execute_result"
    }
   ],
   "source": [
    "lista2"
   ]
  },
  {
   "cell_type": "code",
   "execution_count": 24,
   "metadata": {},
   "outputs": [
    {
     "data": {
      "text/plain": [
       "RangeIndex(start=0, stop=5, step=1)"
      ]
     },
     "execution_count": 24,
     "metadata": {},
     "output_type": "execute_result"
    }
   ],
   "source": [
    "lista.index"
   ]
  },
  {
   "cell_type": "code",
   "execution_count": 29,
   "metadata": {},
   "outputs": [
    {
     "data": {
      "text/plain": [
       "0      10\n",
       "1    1012\n",
       "dtype: object"
      ]
     },
     "execution_count": 29,
     "metadata": {},
     "output_type": "execute_result"
    }
   ],
   "source": [
    "lista[[all([a, b]) for a, b in zip(lista2 != '312', lista2 != 312)]]"
   ]
  },
  {
   "cell_type": "code",
   "execution_count": 26,
   "metadata": {},
   "outputs": [
    {
     "data": {
      "text/plain": [
       "[(True, True), (True, True), (False, True), (True, False), (True, False)]"
      ]
     },
     "execution_count": 26,
     "metadata": {},
     "output_type": "execute_result"
    }
   ],
   "source": [
    "list(zip(lista2 != '312', lista2 != 312))"
   ]
  },
  {
   "cell_type": "code",
   "execution_count": 69,
   "metadata": {},
   "outputs": [
    {
     "data": {
      "text/plain": [
       "2    4.0\n",
       "3    4.0\n",
       "0    4.0\n",
       "8    4.0\n",
       "dtype: float64"
      ]
     },
     "execution_count": 69,
     "metadata": {},
     "output_type": "execute_result"
    }
   ],
   "source": [
    "lista2.iloc[1]\n",
    "lista2.apply(lambda x: int(x)**2)\n",
    "lista2.append(pd.Series([1,2,3]))\n",
    "lista2.loc[1] = 10.4 #se o index existe, ele  substitui, senão ele cria um novo índice\n",
    "lista2[lista2.between(1,10)] #selecionar dados de um intervalo é melhor por esse método"
   ]
  },
  {
   "cell_type": "markdown",
   "metadata": {},
   "source": [
    "### DataFrames"
   ]
  },
  {
   "cell_type": "code",
   "execution_count": 104,
   "metadata": {},
   "outputs": [
    {
     "data": {
      "text/html": [
       "<div>\n",
       "<style scoped>\n",
       "    .dataframe tbody tr th:only-of-type {\n",
       "        vertical-align: middle;\n",
       "    }\n",
       "\n",
       "    .dataframe tbody tr th {\n",
       "        vertical-align: top;\n",
       "    }\n",
       "\n",
       "    .dataframe thead th {\n",
       "        text-align: right;\n",
       "    }\n",
       "</style>\n",
       "<table border=\"1\" class=\"dataframe\">\n",
       "  <thead>\n",
       "    <tr style=\"text-align: right;\">\n",
       "      <th></th>\n",
       "      <th>pop</th>\n",
       "      <th>state</th>\n",
       "      <th>year</th>\n",
       "    </tr>\n",
       "  </thead>\n",
       "  <tbody>\n",
       "    <tr>\n",
       "      <th>1</th>\n",
       "      <td>1.5</td>\n",
       "      <td>RS</td>\n",
       "      <td>2000</td>\n",
       "    </tr>\n",
       "    <tr>\n",
       "      <th>2</th>\n",
       "      <td>1.7</td>\n",
       "      <td>SC</td>\n",
       "      <td>2001</td>\n",
       "    </tr>\n",
       "    <tr>\n",
       "      <th>3</th>\n",
       "      <td>3.6</td>\n",
       "      <td>PR</td>\n",
       "      <td>2002</td>\n",
       "    </tr>\n",
       "    <tr>\n",
       "      <th>4</th>\n",
       "      <td>2.4</td>\n",
       "      <td>SP</td>\n",
       "      <td>2001</td>\n",
       "    </tr>\n",
       "    <tr>\n",
       "      <th>5</th>\n",
       "      <td>2.9</td>\n",
       "      <td>RJ</td>\n",
       "      <td>2002</td>\n",
       "    </tr>\n",
       "  </tbody>\n",
       "</table>\n",
       "</div>"
      ],
      "text/plain": [
       "   pop state  year\n",
       "1  1.5    RS  2000\n",
       "2  1.7    SC  2001\n",
       "3  3.6    PR  2002\n",
       "4  2.4    SP  2001\n",
       "5  2.9    RJ  2002"
      ]
     },
     "execution_count": 104,
     "metadata": {},
     "output_type": "execute_result"
    }
   ],
   "source": [
    "data2 = {'state': ['RS', 'SC', 'PR', 'SP', 'RJ'],'year': [2000, 2001, 2002, 2001, 2002],'pop': [1.5, 1.7, 3.6, 2.4, 2.9]}\n",
    "frame = pd.DataFrame(data2,index = range(1, len(data2['state'])+1))\n",
    "frame"
   ]
  },
  {
   "cell_type": "code",
   "execution_count": 117,
   "metadata": {},
   "outputs": [
    {
     "data": {
      "text/html": [
       "<div>\n",
       "<style scoped>\n",
       "    .dataframe tbody tr th:only-of-type {\n",
       "        vertical-align: middle;\n",
       "    }\n",
       "\n",
       "    .dataframe tbody tr th {\n",
       "        vertical-align: top;\n",
       "    }\n",
       "\n",
       "    .dataframe thead th {\n",
       "        text-align: right;\n",
       "    }\n",
       "</style>\n",
       "<table border=\"1\" class=\"dataframe\">\n",
       "  <thead>\n",
       "    <tr style=\"text-align: right;\">\n",
       "      <th></th>\n",
       "      <th>pop</th>\n",
       "      <th>state</th>\n",
       "      <th>year</th>\n",
       "      <th>gd</th>\n",
       "    </tr>\n",
       "  </thead>\n",
       "  <tbody>\n",
       "    <tr>\n",
       "      <th>1</th>\n",
       "      <td>1.5</td>\n",
       "      <td>RS</td>\n",
       "      <td>2000</td>\n",
       "      <td>NaN</td>\n",
       "    </tr>\n",
       "    <tr>\n",
       "      <th>2</th>\n",
       "      <td>1.7</td>\n",
       "      <td>SC</td>\n",
       "      <td>2001</td>\n",
       "      <td>NaN</td>\n",
       "    </tr>\n",
       "    <tr>\n",
       "      <th>3</th>\n",
       "      <td>3.6</td>\n",
       "      <td>PR</td>\n",
       "      <td>2002</td>\n",
       "      <td>NaN</td>\n",
       "    </tr>\n",
       "    <tr>\n",
       "      <th>4</th>\n",
       "      <td>2.4</td>\n",
       "      <td>SP</td>\n",
       "      <td>2001</td>\n",
       "      <td>NaN</td>\n",
       "    </tr>\n",
       "    <tr>\n",
       "      <th>5</th>\n",
       "      <td>2.9</td>\n",
       "      <td>RJ</td>\n",
       "      <td>2002</td>\n",
       "      <td>NaN</td>\n",
       "    </tr>\n",
       "  </tbody>\n",
       "</table>\n",
       "</div>"
      ],
      "text/plain": [
       "   pop state  year  gd\n",
       "1  1.5    RS  2000 NaN\n",
       "2  1.7    SC  2001 NaN\n",
       "3  3.6    PR  2002 NaN\n",
       "4  2.4    SP  2001 NaN\n",
       "5  2.9    RJ  2002 NaN"
      ]
     },
     "execution_count": 117,
     "metadata": {},
     "output_type": "execute_result"
    }
   ],
   "source": [
    "frame['gd'] = np.nan\n",
    "frame"
   ]
  },
  {
   "cell_type": "code",
   "execution_count": 112,
   "metadata": {},
   "outputs": [
    {
     "data": {
      "text/plain": [
       "Index(['pop', 'state', 'year', 'gd'], dtype='object')"
      ]
     },
     "execution_count": 112,
     "metadata": {},
     "output_type": "execute_result"
    }
   ],
   "source": [
    "frame.columns"
   ]
  },
  {
   "cell_type": "code",
   "execution_count": 122,
   "metadata": {},
   "outputs": [
    {
     "data": {
      "text/html": [
       "<div>\n",
       "<style scoped>\n",
       "    .dataframe tbody tr th:only-of-type {\n",
       "        vertical-align: middle;\n",
       "    }\n",
       "\n",
       "    .dataframe tbody tr th {\n",
       "        vertical-align: top;\n",
       "    }\n",
       "\n",
       "    .dataframe thead th {\n",
       "        text-align: right;\n",
       "    }\n",
       "</style>\n",
       "<table border=\"1\" class=\"dataframe\">\n",
       "  <thead>\n",
       "    <tr style=\"text-align: right;\">\n",
       "      <th></th>\n",
       "      <th>Nevada</th>\n",
       "      <th>Ohio</th>\n",
       "    </tr>\n",
       "  </thead>\n",
       "  <tbody>\n",
       "    <tr>\n",
       "      <th>2000</th>\n",
       "      <td>NaN</td>\n",
       "      <td>1.5</td>\n",
       "    </tr>\n",
       "    <tr>\n",
       "      <th>2001</th>\n",
       "      <td>2.4</td>\n",
       "      <td>1.7</td>\n",
       "    </tr>\n",
       "    <tr>\n",
       "      <th>2002</th>\n",
       "      <td>2.9</td>\n",
       "      <td>3.6</td>\n",
       "    </tr>\n",
       "    <tr>\n",
       "      <th>2003</th>\n",
       "      <td>NaN</td>\n",
       "      <td>NaN</td>\n",
       "    </tr>\n",
       "  </tbody>\n",
       "</table>\n",
       "</div>"
      ],
      "text/plain": [
       "      Nevada  Ohio\n",
       "2000     NaN   1.5\n",
       "2001     2.4   1.7\n",
       "2002     2.9   3.6\n",
       "2003     NaN   NaN"
      ]
     },
     "execution_count": 122,
     "metadata": {},
     "output_type": "execute_result"
    }
   ],
   "source": [
    "pop = {'Nevada': {2001: 2.4, 2002: 2.9,2003:np.nan},'Ohio': {2000: 1.5, 2001: 1.7, 2002: 3.6}}\n",
    "frame3 = pd.DataFrame(pop)\n",
    "frame3"
   ]
  },
  {
   "cell_type": "markdown",
   "metadata": {},
   "source": [
    "## Regular Expressions"
   ]
  },
  {
   "cell_type": "code",
   "execution_count": 2,
   "metadata": {},
   "outputs": [
    {
     "data": {
      "text/plain": [
       "'\\n  /Python/\\n\\nOrigem: Wikipédia, a enciclopédia livre.\\nIr para: navegação <#mw-head>, pesquisa <#p-search>\\nDisambig grey.svg *Nota:* Para outros significados, veja Python\\n(desambiguação) </wiki/Python_(desambigua%C3%A7%C3%A3o)>.\\nPython\\nPython logo and wordmark.svg </wiki/Ficheiro:Python_logo_and_wordmark.svg>\\nParadigma </wiki/Paradigma_de_programa%C3%A7%C3%A3o> \\tMultiparadigma\\n</wiki/Multiparadigma>:\\nOrientação a objetos </wiki/Orienta%C3%A7%C3%A3o_a_objetos>\\nProgramação imperativa </wiki/Programa%C3%A7%C3%A3o_imperativa>\\nProgramação funcional </wiki/Programa%C3%A7%C3%A3o_funcional>\\nSurgido em \\t1991 </wiki/1991>^[1] <#cite_note-svn-hist.C3.B3ria-1>\\nÚltima versão </wiki/Vers%C3%A3o> \\t3.4.1 (18 de maio de 2014^[2]\\n<#cite_note-2> )\\nCriado por \\tGuido van Rossum </wiki/Guido_van_Rossum>^[1]\\n<#cite_note-svn-hist.C3.B3ria-1>\\nEstilo de tipagem </wiki/Tipo_de_dado>: \\tDinâmica, forte\\nDialetos: \\tCPython </wiki/CPython>, IronPython </wiki/IronPython>,\\nJython </wiki/Jython>, PyPy </w/index.php?title'"
      ]
     },
     "execution_count": 2,
     "metadata": {},
     "output_type": "execute_result"
    }
   ],
   "source": [
    "with open('../Python/Dados/texto_python.txt', mode='r', encoding='utf-8') as f:\n",
    "    novo = f.read()\n",
    "novo[0:1000]"
   ]
  },
  {
   "cell_type": "code",
   "execution_count": 4,
   "metadata": {},
   "outputs": [
    {
     "data": {
      "text/plain": [
       "'    Python   Origem  Wikipédia  a enciclopédia livre  Ir para  navegação   mw-head   pesquisa   p-search  Disambig grey svg  Nota   Para outros significados  veja Python  desambiguação    wiki Python  desambigua C3 A7 C3 A3o    Python Python logo and wordmark svg   wiki Ficheiro Python logo and wordmark svg  Paradigma   wiki Paradigma de programa C3 A7 C3 A3o   Multiparadigma   wiki Multiparadigma   Orientação a objetos   wiki Orienta C3 A7 C3 A3o a objetos  Programação imperativa   wiki Programa C3 A7 C3 A3o imperativa  Programação funcional   wiki Programa C3 A7 C3 A3o funcional  Surgido em  1991   wiki 1991   1    cite note-svn-hist C3 B3ria-1   ltima versão   wiki Vers C3 A3o   3 4 1  18 de maio de 2014  2    cite note-2    Criado por  Guido van Rossum   wiki Guido van Rossum   1    cite note-svn-hist C3 B3ria-1  Estilo de tipagem   wiki Tipo de dado    Dinâmica  forte Dialetos   CPython   wiki CPython   IronPython   wiki IronPython   Jython   wiki Jython   PyPy   w index php title PyPy action edit redlink 1  Influenciada por  ABC   wiki ABC  linguagem de programa C3 A7 C3 A3o     3    cite note-influ C3 AAncias-3  ALGOL 68   wiki ALGOL 68   C   wiki C  linguagem de programa C3 A7 C3 A3o    3    cite note-influ C3 AAncias-3    Haskell   wiki Haskell  linguagem de programa C3 A7 C3 A3o    Icon   wiki Icon  linguagem de programa C3 A7 C3 A3o    Java   wiki Java  linguagem de programa C3 A7 C3 A3o    Lisp   wiki Lisp   Modula-3   wiki Modula-3   3    cite note-influ C3 AAncias-3    Perl   wiki Perl   Smalltalk   wiki Smalltalk  Influenciou  Boo   wiki Boo   D   wiki D  linguagem de programa C3 A7 C3 A3o    Falcon   w index php title Falcon  linguagem de programa C3 A7 C3 A3o  action edit redlink 1   Fantom   wiki Fantom   Groovy   wiki Groovy   JavaScript   wiki JavaScript   Nimrod   wiki Nimrod  linguagem de programa C3 A7 C3 A3o    Py   wiki Py  linguagem de programa C3 A7 C3 A3o    Ruby   wiki Ruby  linguagem de programa C3 A7 C3 A3o    Squirrel   wiki Squirrel '"
      ]
     },
     "execution_count": 4,
     "metadata": {},
     "output_type": "execute_result"
    }
   ],
   "source": [
    "novo = re.sub(r'[^A-Za-z0-9áéíóúàâêôãõçü-]',' ',novo)\n",
    "novo[0:2000]"
   ]
  },
  {
   "cell_type": "code",
   "execution_count": 20,
   "metadata": {},
   "outputs": [
    {
     "data": {
      "text/plain": [
       "False"
      ]
     },
     "execution_count": 20,
     "metadata": {},
     "output_type": "execute_result"
    }
   ],
   "source": [
    "string = 'a'\n",
    "bool(re.search('\\d',string)) #reconhece se tem dígitos"
   ]
  },
  {
   "cell_type": "code",
   "execution_count": 26,
   "metadata": {},
   "outputs": [
    {
     "data": {
      "text/plain": [
       "True"
      ]
     },
     "execution_count": 26,
     "metadata": {},
     "output_type": "execute_result"
    }
   ],
   "source": [
    "string2 = '\\\\'\n",
    "bool(re.search('\\\\\\\\',string2)) #barra sem o raw scring"
   ]
  },
  {
   "cell_type": "code",
   "execution_count": 49,
   "metadata": {},
   "outputs": [
    {
     "data": {
      "text/plain": [
       "True"
      ]
     },
     "execution_count": 49,
     "metadata": {},
     "output_type": "execute_result"
    }
   ],
   "source": [
    "string3 = 'N'\n",
    "bool(re.search(r'\\N',string3)) #procura pela palavra em si"
   ]
  },
  {
   "cell_type": "code",
   "execution_count": 63,
   "metadata": {},
   "outputs": [],
   "source": [
    "def e_matricula (string):\n",
    "    return re.search(r'^\\d{2}-[A-Z]{2}-\\d{2}$',string) != None #função que avalia a string e compara com o padrão"
   ]
  },
  {
   "cell_type": "code",
   "execution_count": 64,
   "metadata": {},
   "outputs": [
    {
     "data": {
      "text/plain": [
       "True"
      ]
     },
     "execution_count": 64,
     "metadata": {},
     "output_type": "execute_result"
    }
   ],
   "source": [
    "e_matricula('11-AA-12')"
   ]
  },
  {
   "cell_type": "code",
   "execution_count": 96,
   "metadata": {},
   "outputs": [],
   "source": [
    "def detalhes_matricula (string):\n",
    "    match = re.search(r'\\d{2}-[A-Z]{2}-\\d{2}', string)\n",
    "    if match == None:\n",
    "        return 0\n",
    "    else: \n",
    "        return (match.group(), match.start(), match.end())"
   ]
  },
  {
   "cell_type": "code",
   "execution_count": 97,
   "metadata": {},
   "outputs": [
    {
     "data": {
      "text/plain": [
       "('12-AF-70', 19, 27)"
      ]
     },
     "execution_count": 97,
     "metadata": {},
     "output_type": "execute_result"
    }
   ],
   "source": [
    "detalhes_matricula('A minha matricula: 12-AF-70')"
   ]
  },
  {
   "cell_type": "code",
   "execution_count": 110,
   "metadata": {},
   "outputs": [],
   "source": [
    "texto = 'A minha casa era feira de cogumelos. Ela se situa na Amazômia. Junto comigo, existe um sapo. Esse sapo tinha uma mania muito engraçada. Nas manhãs, enquanto ele acordava, ele gostava de cantar uma música que se chamava o sol amarelo, mas ninguém sabia o motivo. Eu dormia num quarto e ele noutro, porque eu estava cansado dessa música, mas ele sempre cantava. '"
   ]
  },
  {
   "cell_type": "code",
   "execution_count": 145,
   "metadata": {},
   "outputs": [],
   "source": [
    "re.search(r'^[aeiou]+',texto)"
   ]
  },
  {
   "cell_type": "code",
   "execution_count": 200,
   "metadata": {},
   "outputs": [],
   "source": [
    "with open('../Python/Dados/DomCasmurroMachadoAssis.txt',encoding='utf-8') as h:\n",
    "    texto = h.read()\n",
    "    words = re.split(r'\\s',texto)\n",
    "    words = [p.strip(string.punctuation) for p in words]\n",
    "    vogal1 = [p for p in words if bool(re.search(r'^[^aeiouáàãâéêíóôõú][aeiouáàãâéêíóôõú]{1}[^aeiouáàãâéêíóôõú]$',p)) == True]"
   ]
  },
  {
   "cell_type": "code",
   "execution_count": 169,
   "metadata": {},
   "outputs": [
    {
     "data": {
      "text/plain": [
       "'A feira de decorreu entre 3 de maio e 4 de junho'"
      ]
     },
     "execution_count": 169,
     "metadata": {},
     "output_type": "execute_result"
    }
   ],
   "source": [
    "feira = 'A feira de decorreu entre maio 3 e junho 4'\n",
    "re.sub(r'([a-zA-Z]+) (\\d+)', r'\\2 de \\1', feira)"
   ]
  },
  {
   "cell_type": "code",
   "execution_count": 9,
   "metadata": {},
   "outputs": [],
   "source": [
    "def cpf(codigo):\n",
    "    if re.search('\\d{3}.?\\d{3}.?\\d{3}.?\\d{2}',codigo):\n",
    "        return 'Passe agora sua senha:'\n",
    "    else:\n",
    "        return 'Hey, você escreveu errado! Pode repetir tchonga?'"
   ]
  },
  {
   "cell_type": "code",
   "execution_count": 260,
   "metadata": {},
   "outputs": [],
   "source": [
    "def encontra_o(texto):\n",
    "    words = re.split(r'\\s',texto)\n",
    "    words = [w.strip(string.punctuation) for w in words]\n",
    "    words_o = [w for w in words if re.search(r'.*o',w)]\n",
    "    return words_o"
   ]
  },
  {
   "cell_type": "code",
   "execution_count": 261,
   "metadata": {},
   "outputs": [
    {
     "data": {
      "text/plain": [
       "['o', 'namorado', 'tão', 'bonito', 'fico', 'louco']"
      ]
     },
     "execution_count": 261,
     "metadata": {},
     "output_type": "execute_result"
    }
   ],
   "source": [
    "encontra_o('o meu namorado é tão bonito que eu fico louco')"
   ]
  },
  {
   "cell_type": "code",
   "execution_count": 287,
   "metadata": {},
   "outputs": [],
   "source": [
    "def vogais(texto):\n",
    "    words = re.split(r'\\s',texto)\n",
    "    words = [w.strip(string.punctuation) for w in words]\n",
    "    vowels = [v for v in words if re.search(r'\\w*[aeiou]$',v)] #--> solução 1\n",
    "    #vowels = re.findall(r'^[aeiou]\\w+',texto)\n",
    "    return vowels"
   ]
  },
  {
   "cell_type": "code",
   "execution_count": 288,
   "metadata": {},
   "outputs": [],
   "source": [
    "texto = 'a aranha era tão legal comigo que eu ficava inteiramente apaixonado.'"
   ]
  },
  {
   "cell_type": "code",
   "execution_count": 291,
   "metadata": {},
   "outputs": [
    {
     "name": "stdout",
     "output_type": "stream",
     "text": [
      "Digite uma frase ou pressione enter para sair: Meu nome é Lucas!\n",
      "Palavras contidas na frase: 4\n",
      "Total de vogais nessa frase: 7\n",
      "Total de dígitos nessa frase: 0\n",
      "Palavras com número par de vogais: 3, ['meu', 'nome', 'lucas']\n",
      "Digite uma frase ou pressione enter para sair: \n",
      "Palavras contidas na frase: 0\n",
      "Total de vogais nessa frase: 0\n",
      "Total de dígitos nessa frase: 0\n",
      "Palavras com número par de vogais: 0, []\n"
     ]
    }
   ],
   "source": [
    "f = '.'\n",
    "while f != '':\n",
    "    f = str(input('Digite uma frase ou pressione enter para sair: ')).lower()\n",
    "    print('Palavras contidas na frase: {}'.format(len(re.findall(r'\\b\\w+\\b',f))))\n",
    "    v_br=r'[aáãâàéeiíoóõúu]'\n",
    "    c_br=r'[b-dçf-hj-np-tv-z]'\n",
    "    v2_br = r'(\\b(?:'+c_br+r'*'+v_br+c_br+r'*'+v_br+c_br+r'*)+\\b)'\n",
    "    rv = re.compile(v_br, re.UNICODE)\n",
    "    r2v = re.compile(v2_br, re.UNICODE)\n",
    "    p2v = re.findall(r2v,f)\n",
    "    print('Total de vogais nessa frase: {}'.format(len(re.findall(v_br,f))))\n",
    "    print('Total de dígitos nessa frase: {}'.format(len(re.findall(r'\\d',f))))\n",
    "    print('Palavras com número par de vogais: {}'.format(str(len(p2v))+\", \"+str(p2v)))"
   ]
  },
  {
   "cell_type": "code",
   "execution_count": 304,
   "metadata": {},
   "outputs": [
    {
     "data": {
      "text/plain": [
       "['nome', 'é']"
      ]
     },
     "execution_count": 304,
     "metadata": {},
     "output_type": "execute_result"
    }
   ],
   "source": [
    "f = 'Meu nome é Lucas!'\n",
    "re.findall(r'\\b\\w*[eé]\\b',f) #usar findall coom \\b, que especifica a ausência de espaço"
   ]
  },
  {
   "cell_type": "markdown",
   "metadata": {},
   "source": [
    "## SQL"
   ]
  },
  {
   "cell_type": "code",
   "execution_count": 306,
   "metadata": {},
   "outputs": [
    {
     "name": "stdout",
     "output_type": "stream",
     "text": [
      "2.6.0\n"
     ]
    }
   ],
   "source": [
    "def create_connection(db_file):\n",
    "    \"\"\" create a database connection to a SQLite database \"\"\"\n",
    "    try:\n",
    "        conn = sqlite3.connect(db_file)\n",
    "        print(sqlite3.version)\n",
    "    except Error as e:\n",
    "        print(e)\n",
    "    finally:\n",
    "        conn.close()\n",
    "\n",
    "if __name__ == '__main__':\n",
    "    create_connection(\"C:\\\\sqlite\\db\\pythonsqlite.db\")"
   ]
  },
  {
   "cell_type": "code",
   "execution_count": null,
   "metadata": {},
   "outputs": [],
   "source": []
  }
 ],
 "metadata": {
  "kernelspec": {
   "display_name": "Python 3",
   "language": "python",
   "name": "python3"
  },
  "language_info": {
   "codemirror_mode": {
    "name": "ipython",
    "version": 3
   },
   "file_extension": ".py",
   "mimetype": "text/x-python",
   "name": "python",
   "nbconvert_exporter": "python",
   "pygments_lexer": "ipython3",
   "version": "3.5.2"
  }
 },
 "nbformat": 4,
 "nbformat_minor": 2
}
