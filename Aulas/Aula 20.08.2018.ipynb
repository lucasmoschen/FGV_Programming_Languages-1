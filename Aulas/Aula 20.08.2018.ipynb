{
 "cells": [
  {
   "cell_type": "markdown",
   "metadata": {},
   "source": [
    "# Aula 20.08.2018"
   ]
  },
  {
   "cell_type": "markdown",
   "metadata": {},
   "source": [
    "A aula foi sobre \"break, continue e pass\". Break sai da condicional, continue pula a sequência e pass não faz nada. \n",
    "Também estudamos o while (cuidado com os loops infinitos)"
   ]
  },
  {
   "cell_type": "code",
   "execution_count": 25,
   "metadata": {},
   "outputs": [
    {
     "name": "stdout",
     "output_type": "stream",
     "text": [
      "104743\n",
      "Essa função levou 0.4707157611846924 segundos\n"
     ]
    }
   ],
   "source": [
    "import time\n",
    "t0 = time.time()\n",
    "import math\n",
    "primos = [2,3]\n",
    "multiplo = 3\n",
    "while len(primos) < 10001:\n",
    "    multiplo += 2\n",
    "    for divisor in primos:\n",
    "        if divisor > math.sqrt(multiplo):\n",
    "            break\n",
    "        if multiplo % divisor == 0:\n",
    "            a = 0\n",
    "            break\n",
    "        else:\n",
    "            a = 1\n",
    "    if a == 1:\n",
    "        primos.append(multiplo)\n",
    "print(primos[-1])\n",
    "print('Essa função levou {} segundos'.format(time.time()-t0))"
   ]
  },
  {
   "cell_type": "code",
   "execution_count": null,
   "metadata": {},
   "outputs": [],
   "source": []
  }
 ],
 "metadata": {
  "kernelspec": {
   "display_name": "Python 3",
   "language": "python",
   "name": "python3"
  },
  "language_info": {
   "codemirror_mode": {
    "name": "ipython",
    "version": 3
   },
   "file_extension": ".py",
   "mimetype": "text/x-python",
   "name": "python",
   "nbconvert_exporter": "python",
   "pygments_lexer": "ipython3",
   "version": "3.5.2"
  }
 },
 "nbformat": 4,
 "nbformat_minor": 2
}
