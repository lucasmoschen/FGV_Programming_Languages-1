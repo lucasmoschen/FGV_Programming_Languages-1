{
 "cells": [
  {
   "cell_type": "markdown",
   "metadata": {},
   "source": [
    "## Exercício 1002"
   ]
  },
  {
   "cell_type": "code",
   "execution_count": 36,
   "metadata": {},
   "outputs": [
    {
     "name": "stdout",
     "output_type": "stream",
     "text": [
      "150.00\n",
      "A=70685.7750\n"
     ]
    }
   ],
   "source": [
    "raio = eval(input())\n",
    "A = 3.14159*(raio*raio)\n",
    "print('A={:.4f}'.format(A))"
   ]
  },
  {
   "cell_type": "markdown",
   "metadata": {},
   "source": [
    "## Exercício 1003 e 1004 - Soma e Produto Simples"
   ]
  },
  {
   "cell_type": "code",
   "execution_count": 39,
   "metadata": {},
   "outputs": [
    {
     "name": "stdout",
     "output_type": "stream",
     "text": [
      "1\n",
      "4\n",
      "SOMA = 5\n",
      "PROD = 4\n"
     ]
    }
   ],
   "source": [
    "A = int(input())\n",
    "B = int(input())\n",
    "print('SOMA = {}'.format(A + B))\n",
    "print('PROD = {}'.format(A*B))"
   ]
  },
  {
   "cell_type": "markdown",
   "metadata": {},
   "source": [
    "## Exercício 1005 e 1006 - Média 1 e 2"
   ]
  },
  {
   "cell_type": "code",
   "execution_count": 1,
   "metadata": {},
   "outputs": [
    {
     "name": "stdout",
     "output_type": "stream",
     "text": [
      "2\n",
      "3\n",
      "4\n",
      "MEDIA = 3.3\n",
      "MEDIA = 2.68182\n"
     ]
    }
   ],
   "source": [
    "A = float(input())\n",
    "B = float(input())\n",
    "C = float(input())\n",
    "print('MEDIA = {:.1f}'.format((3*B+2*A+5*C)/10))\n",
    "print('MEDIA = {:.5f}'.format((7.5*B+3.5*A)/11))"
   ]
  },
  {
   "cell_type": "markdown",
   "metadata": {},
   "source": [
    "## 1007 - Exercício Diferença"
   ]
  },
  {
   "cell_type": "code",
   "execution_count": 3,
   "metadata": {},
   "outputs": [
    {
     "name": "stdout",
     "output_type": "stream",
     "text": [
      "1\n",
      "2\n",
      "3\n",
      "4\n",
      "DIFERENCA = -10\n"
     ]
    }
   ],
   "source": [
    "A = int(input())\n",
    "B = int(input())\n",
    "C = int(input())\n",
    "D = int(input())\n",
    "print('DIFERENCA = {}'.format(A*B - C*D))"
   ]
  },
  {
   "cell_type": "markdown",
   "metadata": {},
   "source": [
    "## 1008 e 1009 - Exercício Salário e Salário Bônus"
   ]
  },
  {
   "cell_type": "code",
   "execution_count": 6,
   "metadata": {},
   "outputs": [
    {
     "name": "stdout",
     "output_type": "stream",
     "text": [
      "JOAO\n",
      "500.00\n",
      "1230.30\n",
      "TOTAL = R$ 684.54\n"
     ]
    }
   ],
   "source": [
    "Numero = int(input())\n",
    "Horas = int(input())\n",
    "Valor = float(input())\n",
    "print('NUMBER = {}'.format(Numero))\n",
    "print('SALARY = U$ {:.2f}'.format(Horas*Valor))\n",
    "\n",
    "Nome = input()\n",
    "Salario_Fixo = float(input())\n",
    "Montante = float(input())\n",
    "print('TOTAL = R$ {:.2f}'.format(Montante*0.15 + Salario_Fixo))"
   ]
  },
  {
   "cell_type": "markdown",
   "metadata": {},
   "source": [
    "## 1010 - Cálculo Simples"
   ]
  },
  {
   "cell_type": "code",
   "execution_count": 15,
   "metadata": {},
   "outputs": [
    {
     "name": "stdout",
     "output_type": "stream",
     "text": [
      "13 2 15.30\n",
      "161 4 5.20\n",
      "VALOR A PAGAR: R$ 51.40\n"
     ]
    }
   ],
   "source": [
    "peca1 = input()\n",
    "peca2 = input()\n",
    "lista1 = []\n",
    "passagem = 0\n",
    "while passagem < len(peca1):\n",
    "    if peca1[passagem] == ' ':\n",
    "        lista1.append(passagem)\n",
    "    passagem = passagem + 1\n",
    "lista2 = []\n",
    "passagem = 0\n",
    "while passagem < len(peca2):\n",
    "    if peca2[passagem] == ' ':\n",
    "        lista2.append(passagem)\n",
    "    passagem = passagem + 1\n",
    "print('VALOR A PAGAR: R$ {:.2f}'.format(int(peca1[lista1[0]+1:lista1[1]])*float(peca1[lista1[1]:])+int(peca2[lista2[0]+1:lista2[1]])*float(peca2[lista2[1]:])))"
   ]
  },
  {
   "cell_type": "markdown",
   "metadata": {},
   "source": [
    "## 1011 - Esfera"
   ]
  },
  {
   "cell_type": "code",
   "execution_count": 21,
   "metadata": {},
   "outputs": [
    {
     "name": "stdout",
     "output_type": "stream",
     "text": [
      "3\n",
      "VOLUME = 113.097\n"
     ]
    }
   ],
   "source": [
    "raio = float(input())\n",
    "pi = 3.14159\n",
    "Volume = raio**3*pi*4/3\n",
    "print('VOLUME = {:.3f}'.format(Volume))"
   ]
  },
  {
   "cell_type": "markdown",
   "metadata": {},
   "source": [
    "## 1012 Área"
   ]
  },
  {
   "cell_type": "code",
   "execution_count": 38,
   "metadata": {},
   "outputs": [
    {
     "name": "stdout",
     "output_type": "stream",
     "text": [
      "3.0 4.0 5.2\n",
      "TRIANGULO: 7.800\n",
      "CIRCULO: 84.949\n",
      "TRAPEZIO: 18.200\n",
      "QUADRADO: 16.000\n",
      "RETANGULO: 12.000\n"
     ]
    }
   ],
   "source": [
    "Entrada = input()\n",
    "lista = []\n",
    "passagem = 0\n",
    "while passagem < len(Entrada):\n",
    "    if Entrada[passagem] == ' ':\n",
    "        lista.append(passagem)\n",
    "    passagem = passagem + 1\n",
    "\n",
    "A = float(Entrada[0:lista[0]])\n",
    "B = float(Entrada[lista[0]+1:lista[1]])\n",
    "C = float(Entrada[lista[1]+1:])\n",
    "Tri = (A*C)/2\n",
    "Cir = C*C*3.14159\n",
    "Tra = (A + B)*C/2\n",
    "Qua = B*B\n",
    "Ret = A*B\n",
    "print('TRIANGULO: {:.3f}'.format(Tri))\n",
    "print('CIRCULO: {:.3f}'.format(Cir))\n",
    "print('TRAPEZIO: {:.3f}'.format(Tra))\n",
    "print('QUADRADO: {:.3f}'.format(Qua))\n",
    "print('RETANGULO: {:.3f}'.format(Ret))"
   ]
  },
  {
   "cell_type": "markdown",
   "metadata": {},
   "source": [
    "## 1003 - Maior"
   ]
  },
  {
   "cell_type": "code",
   "execution_count": 39,
   "metadata": {},
   "outputs": [
    {
     "name": "stdout",
     "output_type": "stream",
     "text": [
      "7 14 106\n",
      "106 eh o maior\n"
     ]
    }
   ],
   "source": [
    "Entrada = input()\n",
    "lista = []\n",
    "passagem = 0\n",
    "while passagem < len(Entrada):\n",
    "    if Entrada[passagem] == ' ':\n",
    "        lista.append(passagem)\n",
    "    passagem = passagem + 1\n",
    "A = int(Entrada[0:lista[0]])\n",
    "B = int(Entrada[lista[0]+1:lista[1]])\n",
    "C = int(Entrada[lista[1]+1:])\n",
    "if A > B:\n",
    "    if A > C:\n",
    "        print('{} eh o maior'.format(A))\n",
    "    else:\n",
    "        print('{} eh o maior'.format(C))\n",
    "else:\n",
    "    if B > C:\n",
    "        print('{} eh o maior'.format(B))\n",
    "    else:\n",
    "        print('{} eh o maior'.format(C))"
   ]
  },
  {
   "cell_type": "markdown",
   "metadata": {},
   "source": [
    "## 1014 - Consumo médio"
   ]
  },
  {
   "cell_type": "code",
   "execution_count": 41,
   "metadata": {},
   "outputs": [
    {
     "name": "stdout",
     "output_type": "stream",
     "text": [
      "2254\n",
      "124.4\n",
      "18.119 km/l\n"
     ]
    }
   ],
   "source": [
    "Distancia = int(input())\n",
    "Gasto = float(input())\n",
    "print('{:.3f} km/l'.format(Distancia/Gasto))"
   ]
  },
  {
   "cell_type": "markdown",
   "metadata": {},
   "source": [
    "## 1015 - Distancia"
   ]
  },
  {
   "cell_type": "code",
   "execution_count": 71,
   "metadata": {},
   "outputs": [
    {
     "name": "stdout",
     "output_type": "stream",
     "text": [
      "-2.5 0.4\n",
      "12.1 7.3\n",
      "16.1484\n"
     ]
    }
   ],
   "source": [
    "ponto1 = input()\n",
    "ponto2 = input()\n",
    "x1 = float(ponto1[0:ponto1.find(' ')])\n",
    "x2 = float(ponto2[0:ponto2.find(' ')])\n",
    "y1 = float(ponto1[ponto1.find(' ')+1:])\n",
    "y2 = float(ponto2[ponto2.find(' ')+1:])\n",
    "distancia = ((x2-x1)**2+(y2-y1)**2)**(1/2)\n",
    "print('{:.4f}'.format(distancia))"
   ]
  },
  {
   "cell_type": "markdown",
   "metadata": {},
   "source": [
    "## 1016 e 1017 - Distancia carros e Gasto de Combustível"
   ]
  },
  {
   "cell_type": "code",
   "execution_count": 2,
   "metadata": {},
   "outputs": [
    {
     "name": "stdout",
     "output_type": "stream",
     "text": [
      "2\n",
      "92\n",
      "15.333\n"
     ]
    }
   ],
   "source": [
    "Distancia = int(input())\n",
    "print('{} minutos'.format(2*Distancia))\n",
    "\n",
    "\n",
    "\n",
    "Tempo = int(input())\n",
    "Velocidade = int(input())\n",
    "Distancia = Tempo*Velocidade\n",
    "print('{:.3f}'.format(Distancia/12))"
   ]
  },
  {
   "cell_type": "markdown",
   "metadata": {},
   "source": [
    "## 1018 e 1021 - Cédulas e Notas e Moedas"
   ]
  },
  {
   "cell_type": "code",
   "execution_count": 29,
   "metadata": {},
   "outputs": [
    {
     "name": "stdout",
     "output_type": "stream",
     "text": [
      "134.04\n",
      "NOTAS:\n",
      "1 nota(s) de R$ 100.00\n",
      "0 nota(s) de R$ 50.00\n",
      "1 nota(s) de R$ 20.00\n",
      "1 nota(s) de R$ 10.00\n",
      "0 nota(s) de R$ 5.00\n",
      "2 nota(s) de R$ 2.00\n",
      "MOEDAS:\n",
      "0 moeda(s) de R$ 1.00\n",
      "0 moeda(s) de R$ 0.50\n",
      "0 moeda(s) de R$ 0.25\n",
      "0 moeda(s) de R$ 0.10\n",
      "0 moeda(s) de R$ 0.05\n",
      "4 moeda(s) de R$ 0.01\n"
     ]
    }
   ],
   "source": [
    "Valor = float(input())\n",
    "Valor += 0.0001\n",
    "lista_notas = [100,50,20,10,5,2]\n",
    "lista_moedas = [1.00,0.50,0.25,0.10,0.05,0.01]\n",
    "print('NOTAS:')\n",
    "indice = 0\n",
    "while indice < len(lista_notas):\n",
    "    notas = 0\n",
    "    while Valor >= lista_notas[indice]:\n",
    "        Valor = Valor - lista_notas[indice]\n",
    "        notas = notas + 1\n",
    "    print('{} nota(s) de R$ {}.00'.format(notas,lista_notas[indice]))\n",
    "    indice = indice + 1\n",
    "print('MOEDAS:')\n",
    "indice = 0\n",
    "while indice < len(lista_moedas):\n",
    "    moedas = 0\n",
    "    while Valor >= lista_moedas[indice]:\n",
    "        Valor = Valor - lista_moedas[indice]\n",
    "        moedas = moedas + 1\n",
    "    print('{} moeda(s) de R$ {:.2f}'.format(moedas,lista_moedas[indice]))\n",
    "    indice = indice + 1"
   ]
  },
  {
   "cell_type": "markdown",
   "metadata": {},
   "source": [
    "## 1019 - Conversão de tempo"
   ]
  },
  {
   "cell_type": "code",
   "execution_count": 11,
   "metadata": {},
   "outputs": [
    {
     "name": "stdout",
     "output_type": "stream",
     "text": [
      "140153\n",
      "38:55:53\n"
     ]
    }
   ],
   "source": [
    "N = int(input())\n",
    "Hora = 0\n",
    "Minuto = 0\n",
    "while N >=3600:\n",
    "    Hora = int(N/3600)\n",
    "    N = N%3600\n",
    "while N>=60:\n",
    "    Minuto = int(N/60)\n",
    "    N = N%60\n",
    "Segundo = N\n",
    "print('{}:{}:{}'.format(Hora,Minuto,Segundo))"
   ]
  },
  {
   "cell_type": "code",
   "execution_count": 14,
   "metadata": {},
   "outputs": [
    {
     "name": "stdout",
     "output_type": "stream",
     "text": [
      "800\n",
      "2 ano(s)\n",
      "2 mes(es)\n",
      "10 dia(s)\n"
     ]
    }
   ],
   "source": [
    "D = int(input())\n",
    "Ano = 0\n",
    "Mes = 0\n",
    "while D >= 365:\n",
    "    Ano = int(D/365)\n",
    "    D = D%365\n",
    "while D >= 30:\n",
    "    Mes = int(D/30)\n",
    "    D = D%30\n",
    "Dia = D\n",
    "print('{} ano(s)'.format(Ano))\n",
    "print('{} mes(es)'.format(Mes))\n",
    "print('{} dia(s)'.format(Dia))"
   ]
  },
  {
   "cell_type": "markdown",
   "metadata": {},
   "source": [
    "## 1035 - Teste de Seleção"
   ]
  },
  {
   "cell_type": "code",
   "execution_count": 41,
   "metadata": {},
   "outputs": [
    {
     "name": "stdout",
     "output_type": "stream",
     "text": [
      "-8 3 2 5\n",
      "Valores aceitos\n"
     ]
    }
   ],
   "source": [
    "code = input()\n",
    "A = int(code[0:code.find(' ')])\n",
    "B = int(code[code.find(' ')+1:code.find(' ',code.find(' ')+1)])\n",
    "C = int(code[code.find(' ',code.find(' ')+1):code.rfind(' ')])\n",
    "D = int(code[code.rfind(' ')+1:])\n",
    "if B>C and A<D and (A+B)<(C+D) and C>0 and D>0 and A%2==0:\n",
    "    print('Valores aceitos')\n",
    "else:\n",
    "    print('Valores nao aceitos')"
   ]
  },
  {
   "cell_type": "code",
   "execution_count": 6,
   "metadata": {},
   "outputs": [
    {
     "name": "stdout",
     "output_type": "stream",
     "text": [
      "10 3 5\n",
      "Impossivel calcular\n"
     ]
    }
   ],
   "source": [
    "coeficientes = input()\n",
    "A = float(coeficientes[0:coeficientes.find(' ')])\n",
    "B = float(coeficientes[coeficientes.find(' ')+1:coeficientes.rfind(' ')])\n",
    "C = float(coeficientes[coeficientes.rfind(' '):])\n",
    "if A == 0:\n",
    "    print('Impossivel calcular')\n",
    "else:\n",
    "    delta = B**2 - 4*A*C \n",
    "    if delta < 0:\n",
    "        print('Impossivel calcular')\n",
    "    else:\n",
    "        print('R1 = {:.5f}'.format((-B+(delta)**(1/2))/(2*A)))\n",
    "        print('R2 = {:.5f}'.format((-B-(delta)**(1/2))/(2*A)))"
   ]
  },
  {
   "cell_type": "markdown",
   "metadata": {},
   "source": [
    "## 1037 - Intervalo"
   ]
  },
  {
   "cell_type": "code",
   "execution_count": 18,
   "metadata": {},
   "outputs": [
    {
     "name": "stdout",
     "output_type": "stream",
     "text": [
      "100.00000000001\n",
      "Fora de intervalo\n"
     ]
    }
   ],
   "source": [
    "valor = float(input())\n",
    "intervalos = [0,25,50,75,100]\n",
    "if 0 <= valor and valor <= 25:\n",
    "    print('Intervalo [{},{}]'.format(intervalos[0],intervalos[1]))\n",
    "elif valor < 0 or valor > 100:\n",
    "    print('Fora de intervalo')\n",
    "else:\n",
    "    for i in intervalos:\n",
    "        if valor <= i:\n",
    "            print('Intervalo ({},{}]'.format(i-25,i)) \n",
    "            break"
   ]
  },
  {
   "cell_type": "markdown",
   "metadata": {},
   "source": [
    "## 1038 - Lanche"
   ]
  },
  {
   "cell_type": "code",
   "execution_count": 36,
   "metadata": {},
   "outputs": [
    {
     "name": "stdout",
     "output_type": "stream",
     "text": [
      "2 5\n",
      "Total: R$ 22.50\n"
     ]
    }
   ],
   "source": [
    "Precos= {'1':4.00,'2':4.50,'3':5.00,'4':2.00,'5':1.50}\n",
    "compra = input()\n",
    "codigo = compra[0]\n",
    "quantidade = compra[2:]\n",
    "print('Total: R$ {:.2f}'.format(float(Precos[codigo]*int(quantidade))))"
   ]
  },
  {
   "cell_type": "markdown",
   "metadata": {},
   "source": [
    "## 1040 - Média 3"
   ]
  },
  {
   "cell_type": "code",
   "execution_count": 44,
   "metadata": {},
   "outputs": [
    {
     "name": "stdout",
     "output_type": "stream",
     "text": [
      "2.0 6.5 4.0 9.0\n",
      "Media: 4.8\n",
      "Aluno reprovado.\n"
     ]
    }
   ],
   "source": [
    "notas = input()\n",
    "lista = []\n",
    "passagem = 0\n",
    "while passagem < len(notas):\n",
    "    if notas[passagem] == ' ':\n",
    "        lista.append(passagem)\n",
    "    passagem = passagem + 1\n",
    "N1 = float(notas[0:lista[0]])\n",
    "N2 = float(notas[lista[0]+1:lista[1]])\n",
    "N3 = float(notas[lista[1]+1:lista[2]])\n",
    "N4 = float(notas[lista[2]+1:])\n",
    "Media = (2*N1 + 3*N2 + 4*N3 + 1*N4)/10\n",
    "print('Media: {:.1f}'.format(Media))\n",
    "if Media >= 7.0:\n",
    "    print('Aluno aprovado.')\n",
    "elif Media < 5.0:\n",
    "    print('Aluno reprovado.')\n",
    "else:\n",
    "    print('Aluno em exame.')\n",
    "    exame = float(input())\n",
    "    print('Nota do exame: {}'.format(exame))\n",
    "    Mediafinal = (Media + exame)/2\n",
    "    if Mediafinal >= 5.0:\n",
    "        print('Aluno aprovado.')\n",
    "    else:\n",
    "        print('Aluno reprovado.')\n",
    "    print('Media final: {:.1f}'.format(Mediafinal))\n"
   ]
  },
  {
   "cell_type": "code",
   "execution_count": null,
   "metadata": {},
   "outputs": [],
   "source": []
  }
 ],
 "metadata": {
  "kernelspec": {
   "display_name": "Python 3",
   "language": "python",
   "name": "python3"
  }
 },
 "nbformat": 4,
 "nbformat_minor": 2
}
