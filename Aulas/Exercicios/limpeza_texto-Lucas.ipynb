{
 "cells": [
  {
   "cell_type": "code",
   "execution_count": 3,
   "metadata": {},
   "outputs": [],
   "source": [
    "import string\n",
    "\n",
    "texto = '''\n",
    "Nosso pai era homem cumpridor, ordeiro, positivo; e sido assim desde mocinho e menino, pelo que testemunharam as diversas sensatas pessoas, quando indaguei a informação. Do que eu mesmo me alembro, ele não figurava mais estúrdio nem mais triste do que os outros, conhecidos nossos. Só quieto. Nossa mãe era quem regia, e que ralhava no diário com a gente — minha irmã, meu irmão e eu. Mas se deu que, certo dia, nosso pai mandou fazer para si uma canoa.\n",
    "\n",
    "Era a sério. Encomendou a canoa especial, de pau de vinhático, pequena, mal com a tabuinha da popa, como para caber justo o remador. Mas teve de ser toda fabricada, escolhida forte e arqueada em rijo, própria para dever durar na água por uns vinte ou trinta anos. Nossa mãe jurou muito contra a idéia. Seria que, ele, que nessas artes não vadiava, se ia propor agora para pescarias e caçadas? Nosso pai nada não dizia. Nossa casa, no tempo, ainda era mais próxima do rio, obra de nem quarto de légua: o rio por aí se estendendo grande, fundo, calado que sempre. Largo, de não se poder ver a forma da outra beira. E esquecer não posso, do dia em que a canoa ficou pronta.\n",
    "\n",
    "Sem alegria nem cuidado, nosso pai encalcou o chapéu e decidiu um adeus para a gente. Nem falou outras palavras, não pegou matula e trouxa, não fez a alguma recomendação. Nossa mãe, a gente achou que ela ia esbravejar, mas persistiu somente alva de pálida, mascou o beiço e bramou: — “Cê vai, ocê fique, você nunca volte!” Nosso pai suspendeu a resposta. Espiou manso para mim, me acenando de vir também, por uns passos. Temi a ira de nossa mãe, mas obedeci, de vez de jeito. O rumo daquilo me animava, chega que um propósito perguntei: — “Pai, o senhor me leva junto, nessa sua canoa?” Ele só retornou o olhar em mim, e me botou a bênção, com gesto me mandando para trás. Fiz que vim, mas ainda virei, na grota do mato, para saber. Nosso pai entrou na canoa e desamarrou, pelo remar. E a canoa saiu se indo — a sombra dela por igual, feito um jacaré, comprida longa.\n",
    "\n",
    "Nosso pai não voltou. Ele não tinha ido a nenhuma parte. Só executava a invenção de se permanecer naqueles espaços do rio, de meio a meio, sempre dentro da canoa, para dela não saltar, nunca mais. A estranheza dessa verdade deu para. estarrecer de todo a gente. Aquilo que não havia, acontecia. Os parentes, vizinhos e conhecidos nossos, se reuniram, tomaram juntamente conselho.\n",
    "\n",
    "Nossa mãe, vergonhosa, se portou com muita cordura; por isso, todos pensaram de nosso pai a razão em que não queriam falar: doideira. Só uns achavam o entanto de poder também ser pagamento de promessa; ou que, nosso pai, quem sabe, por escrúpulo de estar com alguma feia doença, que seja, a lepra, se desertava para outra sina de existir, perto e longe de sua família dele. As vozes das notícias se dando pelas certas pessoas — passadores, moradores das beiras, até do afastado da outra banda — descrevendo que nosso pai nunca se surgia a tomar terra, em ponto nem canto, de dia nem de noite, da forma como cursava no rio, solto solitariamente. Então, pois, nossa mãe e os aparentados nossos, assentaram: que o mantimento que tivesse, ocultado na canoa, se gastava; e, ele, ou desembarcava e viajava s’embora, para jamais, o que ao menos se condizia mais correto, ou se arrependia, por uma vez, para casa.\n",
    "\n",
    "No que num engano. Eu mesmo cumpria de trazer para ele, cada dia, um tanto de comida furtada: a idéia que senti, logo na primeira noite, quando o pessoal nosso experimentou de acender fogueiras em beirada do rio, enquanto que, no alumiado delas, se rezava e se chamava. Depois, no seguinte, apareci, com rapadura, broa de pão, cacho de bananas. Enxerguei nosso pai, no enfim de uma hora, tão custosa para sobrevir: só assim, ele no ao-longe, sentado no fundo da canoa, suspendida no liso do rio. Me viu, não remou para cá, não fez sinal. Mostrei o de comer, depositei num oco de pedra do barranco, a salvo de bicho mexer e a seco de chuva e orvalho. Isso, que fiz, e refiz, sempre, tempos a fora. Surpresa que mais tarde tive: que nossa mãe sabia desse meu encargo, só se encobrindo de não saber; ela mesma deixava, facilitado, sobra de coisas, para o meu conseguir. Nossa mãe muito não se demonstrava.\n",
    "\n",
    "Mandou vir o tio nosso, irmão dela, para auxiliar na fazenda e nos negócios. Mandou vir o mestre, para nós, os meninos. Incumbiu ao padre que um dia se revestisse, em praia de margem, para esconjurar e clamar a nosso pai o ‘dever de desistir da tristonha teima. De outra, por arranjo dela, para medo, vieram os dois soldados. Tudo o que não valeu de nada. Nosso pai passava ao largo, avistado ou diluso, cruzando na canoa, sem deixar ninguém se chegar à pega ou à fala. Mesmo quando foi, não faz muito, dos homens do jornal, que trouxeram a lancha e tencionavam tirar retrato dele, não venceram: nosso pai se desaparecia para a outra banda, aproava a canoa no brejão, de léguas, que há, por entre juncos e mato, e só ele conhecesse, a palmos, a escuridão, daquele.\n",
    "\n",
    "A gente teve de se acostumar com aquilo. Às penas, que, com aquilo, a gente mesmo nunca se acostumou, em si, na verdade. Tiro por mim, que, no que queria, e no que não queria, só com nosso pai me achava: assunto que jogava para trás meus pensamentos. O severo que era, de não se entender, de maneira nenhuma, como ele agüentava. De dia e de noite, com sol ou aguaceiros, calor, sereno, e nas friagens terríveis de meio-do-ano, sem arrumo, só com o chapéu velho na cabeça, por todas as semanas, e meses, e os anos — sem fazer conta do se-ir do viver. Não pojava em nenhuma das duas beiras, nem nas ilhas e croas do rio, não pisou mais em chão nem capim. Por certo, ao menos, que, para dormir seu tanto, ele fizesse amarração da canoa, em alguma ponta-de-ilha, no esconso. Mas não armava um foguinho em praia, nem dispunha de sua luz feita, nunca mais riscou um fósforo. O que consumia de comer, era só um quase; mesmo do que a gente depositava, no entre as raízes da gameleira, ou na lapinha de pedra do barranco, ele recolhia pouco, nem o bastável. Não adoecia? E a constante força dos braços, para ter tento na canoa, resistido, mesmo na demasia das enchentes, no subimento, aí quando no lanço da correnteza enorme do rio tudo rola o perigoso, aqueles corpos de bichos mortos e paus-de-árvore descendo — de espanto de esbarro. E nunca falou mais palavra, com pessoa alguma. Nós, também, não falávamos mais nele. Só se pensava. Não, de nosso pai não se podia ter esquecimento; e, se, por um pouco, a gente fazia que esquecia, era só para se despertar de novo, de repente, com a memória, no passo de outros sobressaltos.\n",
    "\n",
    "Minha irmã se casou; nossa mãe não quis festa. A gente imaginava nele, quando se comia uma comida mais gostosa; assim como, no gasalhado da noite, no desamparo dessas noites de muita chuva, fria, forte, nosso pai só com a mão e uma cabaça para ir esvaziando a canoa da água do temporal. Às vezes, algum conhecido nosso achava que eu ia ficando mais parecido com nosso pai. Mas eu sabia que ele agora virara cabeludo, barbudo, de unhas grandes, mal e magro, ficado preto de sol e dos pêlos, com o aspecto de bicho, conforme quase nu, mesmo dispondo das peças de roupas que a gente de tempos em tempos fornecia.\n",
    "\n",
    "Nem queria saber de nós; não tinha afeto? Mas, por afeto mesmo, de respeito, sempre que às vezes me louvavam, por causa de algum meu bom procedimento, eu falava: — “Foi pai que um dia me ensinou a fazer assim…”; o que não era o certo, exato; mas, que era mentira por verdade. Sendo que, se ele não se lembrava mais, nem queria saber da gente, por que, então, não subia ou descia o rio, para outras paragens, longe, no não-encontrável? Só ele soubesse. Mas minha irmã teve menino, ela mesma entestou que queria mostrar para ele o neto. Viemos, todos, no barranco, foi num dia bonito, minha irmã de vestido branco, que tinha sido o do casamento, ela erguia nos braços a criancinha, o marido dela segurou, para defender os dois, o guarda-sol. A gente chamou, esperou. Nosso pai não apareceu. Minha irmã chorou, nós todos aí choramos, abraçados.\n",
    "\n",
    "Minha irmã se mudou, com o marido, para longe daqui. Meu irmão resolveu e se foi, para uma cidade. Os tempos mudavam, no devagar depressa dos tempos. Nossa mãe terminou indo também, de uma vez, residir com minha irmã, ela estava envelhecida. Eu fiquei aqui, de resto. Eu nunca podia querer me casar. Eu permaneci, com as bagagens da vida. Nosso pai carecia de mim, eu sei — na vagação, no rio no ermo — sem dar razão de seu feito. Seja que, quando eu quis mesmo saber, e firme indaguei, me diz-que-disseram: que constava que nosso pai, alguma vez, tivesse revelado a explicação, ao homem que para ele aprontara a canoa. Mas, agora, esse homem já tinha morrido, ninguém soubesse, fizesse recordação, de nada mais. Só as falsas conversas, sem senso, como por ocasião, no começo, na vinda das primeiras cheias do rio, com chuvas que não estiavam, todos temeram o fim-do-mundo, diziam: que nosso pai fosse o avisado que nem Noé, que, por tanto, a canoa ele tinha antecipado; pois agora me entrelembro. Meu pai, eu não podia malsinar. E apontavam já em mim uns primeiros cabelos brancos.\n",
    "\n",
    "Sou homem de tristes palavras. De que era que eu tinha tanta, tanta culpa? Se o meu pai, sempre fazendo ausência: e o rio-rio-rio, o rio — pondo perpétuo. Eu sofria já o começo de velhice — esta vida era só o demoramento. Eu mesmo tinha achaques, ânsias, cá de baixo, cansaços, perrenguice de reumatismo. E ele? Por quê? Devia de padecer demais. De tão idoso, não ia, mais dia menos dia, fraquejar do vigor, deixar que a canoa emborcasse, ou que bubuiasse sem pulso, na levada do rio, para se despenhar horas abaixo, em tororoma e no tombo da cachoeira, brava, com o fervimento e morte. Apertava o coração. Ele estava lá, sem a minha tranqüilidade. Sou o culpado do que nem sei, de dor em aberto, no meu foro. Soubesse — se as coisas fossem outras. E fui tomando idéia.\n",
    "\n",
    "Sem fazer véspera. Sou doido? Não. Na nossa casa, a palavra doido não se falava, nunca mais se falou, os anos todos, não se condenava ninguém de doido. Ninguém é doido. Ou, então, todos. Só fiz, que fui lá. Com um lenço, para o aceno ser mais. Eu estava muito no meu sentido. Esperei. Ao por fim, ele apareceu, aí e lá, o vulto. Estava ali, sentado à popa. Estava ali, de grito. Chamei, umas quantas vezes. E falei, o que me urgia, jurado e declarado, tive que reforçar a voz: — “Pai, o senhor está velho, já fez o seu tanto… Agora, o senhor vem, não carece mais… O senhor vem, e eu, agora mesmo, quando que seja, a ambas vontades, eu tomo o seu lugar, do senhor, na canoa!…” E, assim dizendo, meu coração bateu no compasso do mais certo.\n",
    "\n",
    "Ele me escutou. Ficou em pé. Manejou remo n’água, proava para cá, concordado. E eu tremi, profundo, de repente: porque, antes, ele tinha levantado o braço e feito um saudar de gesto — o primeiro, depois de tamanhos anos decorridos! E eu não podia… Por pavor, arrepiados os cabelos, corri, fugi, me tirei de lá, num procedimento desatinado. Porquanto que ele me pareceu vir: da parte de além. E estou pedindo, pedindo, pedindo um perdão.\n",
    "\n",
    "Sofri o grave frio dos medos, adoeci. Sei que ninguém soube mais dele. Sou homem, depois desse falimento? Sou o que não foi, o que vai ficar calado. Sei que agora é tarde, e temo abreviar com a vida, nos rasos do mundo. Mas, então, ao menos, que, no artigo da morte, peguem em mim, e me depositem também numa canoinha de nada, nessa água que não pára, de longas beiras: e, eu, rio abaixo, rio a fora, rio a dentro — o rio.\n",
    "\n",
    "'''"
   ]
  },
  {
   "cell_type": "code",
   "execution_count": 4,
   "metadata": {},
   "outputs": [
    {
     "data": {
      "text/plain": [
       "'\\nNosso pai era homem cumpridor, ordeiro, positivo; e sido assim desde mocinho e menino, pelo que testemunharam as diversas sensatas pessoas, quando indaguei a informação. Do que eu mesmo me alembro, ele não figurava mais estúrdio nem mais triste do que os outros, conhecidos nossos. Só quieto. Nossa mãe era quem regia, e que ralhava no diário com a gente — minha irmã, meu irmão e eu. Mas se deu que, certo dia, nosso pai mandou fazer para si uma canoa.\\n\\nEra a sério. Encomendou a canoa especial, de pau de vinhático, pequena, mal com a tabuinha da popa, como para caber justo o remador. Mas teve de ser toda fabricada, escolhida forte e arqueada em rijo, própria para dever durar na água por uns vinte ou trinta anos. Nossa mãe jurou muito contra a idéia. Seria que, ele, que nessas artes não vadiava, se ia propor agora para pescarias e caçadas? Nosso pai nada não dizia. Nossa casa, no tempo, ainda era mais próxima do rio, obra de nem quarto de légua: o rio por aí se estendendo grande, fundo, calado que sempre. Largo, de não se poder ver a forma da outra beira. E esquecer não posso, do dia em que a canoa ficou pronta.\\n\\nSem alegria nem cuidado, nosso pai encalcou o chapéu e decidiu um adeus para a gente. Nem falou outras palavras, não pegou matula e trouxa, não fez a alguma recomendação. Nossa mãe, a gente achou que ela ia esbravejar, mas persistiu somente alva de pálida, mascou o beiço e bramou: — “Cê vai, ocê fique, você nunca volte!” Nosso pai suspendeu a resposta. Espiou manso para mim, me acenando de vir também, por uns passos. Temi a ira de nossa mãe, mas obedeci, de vez de jeito. O rumo daquilo me animava, chega que um propósito perguntei: — “Pai, o senhor me leva junto, nessa sua canoa?” Ele só retornou o olhar em mim, e me botou a bênção, com gesto me mandando para trás. Fiz que vim, mas ainda virei, na grota do mato, para saber. Nosso pai entrou na canoa e desamarrou, pelo remar. E a canoa saiu se indo — a sombra dela por igual, feito um jacaré, comprida longa.\\n\\nNosso pai não voltou. Ele não tinha ido a nenhuma parte. Só executava a invenção de se permanecer naqueles espaços do rio, de meio a meio, sempre dentro da canoa, para dela não saltar, nunca mais. A estranheza dessa verdade deu para. estarrecer de todo a gente. Aquilo que não havia, acontecia. Os parentes, vizinhos e conhecidos nossos, se reuniram, tomaram juntamente conselho.\\n\\nNossa mãe, vergonhosa, se portou com muita cordura; por isso, todos pensaram de nosso pai a razão em que não queriam falar: doideira. Só uns achavam o entanto de poder também ser pagamento de promessa; ou que, nosso pai, quem sabe, por escrúpulo de estar com alguma feia doença, que seja, a lepra, se desertava para outra sina de existir, perto e longe de sua família dele. As vozes das notícias se dando pelas certas pessoas — passadores, moradores das beiras, até do afastado da outra banda — descrevendo que nosso pai nunca se surgia a tomar terra, em ponto nem canto, de dia nem de noite, da forma como cursava no rio, solto solitariamente. Então, pois, nossa mãe e os aparentados nossos, assentaram: que o mantimento que tivesse, ocultado na canoa, se gastava; e, ele, ou desembarcava e viajava s’embora, para jamais, o que ao menos se condizia mais correto, ou se arrependia, por uma vez, para casa.\\n\\nNo que num engano. Eu mesmo cumpria de trazer para ele, cada dia, um tanto de comida furtada: a idéia que senti, logo na primeira noite, quando o pessoal nosso experimentou de acender fogueiras em beirada do rio, enquanto que, no alumiado delas, se rezava e se chamava. Depois, no seguinte, apareci, com rapadura, broa de pão, cacho de bananas. Enxerguei nosso pai, no enfim de uma hora, tão custosa para sobrevir: só assim, ele no ao-longe, sentado no fundo da canoa, suspendida no liso do rio. Me viu, não remou para cá, não fez sinal. Mostrei o de comer, depositei num oco de pedra do barranco, a salvo de bicho mexer e a seco de chuva e orvalho. Isso, que fiz, e refiz, sempre, tempos a fora. Surpresa que mais tarde tive: que nossa mãe sabia desse meu encargo, só se encobrindo de não saber; ela mesma deixava, facilitado, sobra de coisas, para o meu conseguir. Nossa mãe muito não se demonstrava.\\n\\nMandou vir o tio nosso, irmão dela, para auxiliar na fazenda e nos negócios. Mandou vir o mestre, para nós, os meninos. Incumbiu ao padre que um dia se revestisse, em praia de margem, para esconjurar e clamar a nosso pai o ‘dever de desistir da tristonha teima. De outra, por arranjo dela, para medo, vieram os dois soldados. Tudo o que não valeu de nada. Nosso pai passava ao largo, avistado ou diluso, cruzando na canoa, sem deixar ninguém se chegar à pega ou à fala. Mesmo quando foi, não faz muito, dos homens do jornal, que trouxeram a lancha e tencionavam tirar retrato dele, não venceram: nosso pai se desaparecia para a outra banda, aproava a canoa no brejão, de léguas, que há, por entre juncos e mato, e só ele conhecesse, a palmos, a escuridão, daquele.\\n\\nA gente teve de se acostumar com aquilo. Às penas, que, com aquilo, a gente mesmo nunca se acostumou, em si, na verdade. Tiro por mim, que, no que queria, e no que não queria, só com nosso pai me achava: assunto que jogava para trás meus pensamentos. O severo que era, de não se entender, de maneira nenhuma, como ele agüentava. De dia e de noite, com sol ou aguaceiros, calor, sereno, e nas friagens terríveis de meio-do-ano, sem arrumo, só com o chapéu velho na cabeça, por todas as semanas, e meses, e os anos — sem fazer conta do se-ir do viver. Não pojava em nenhuma das duas beiras, nem nas ilhas e croas do rio, não pisou mais em chão nem capim. Por certo, ao menos, que, para dormir seu tanto, ele fizesse amarração da canoa, em alguma ponta-de-ilha, no esconso. Mas não armava um foguinho em praia, nem dispunha de sua luz feita, nunca mais riscou um fósforo. O que consumia de comer, era só um quase; mesmo do que a gente depositava, no entre as raízes da gameleira, ou na lapinha de pedra do barranco, ele recolhia pouco, nem o bastável. Não adoecia? E a constante força dos braços, para ter tento na canoa, resistido, mesmo na demasia das enchentes, no subimento, aí quando no lanço da correnteza enorme do rio tudo rola o perigoso, aqueles corpos de bichos mortos e paus-de-árvore descendo — de espanto de esbarro. E nunca falou mais palavra, com pessoa alguma. Nós, também, não falávamos mais nele. Só se pensava. Não, de nosso pai não se podia ter esquecimento; e, se, por um pouco, a gente fazia que esquecia, era só para se despertar de novo, de repente, com a memória, no passo de outros sobressaltos.\\n\\nMinha irmã se casou; nossa mãe não quis festa. A gente imaginava nele, quando se comia uma comida mais gostosa; assim como, no gasalhado da noite, no desamparo dessas noites de muita chuva, fria, forte, nosso pai só com a mão e uma cabaça para ir esvaziando a canoa da água do temporal. Às vezes, algum conhecido nosso achava que eu ia ficando mais parecido com nosso pai. Mas eu sabia que ele agora virara cabeludo, barbudo, de unhas grandes, mal e magro, ficado preto de sol e dos pêlos, com o aspecto de bicho, conforme quase nu, mesmo dispondo das peças de roupas que a gente de tempos em tempos fornecia.\\n\\nNem queria saber de nós; não tinha afeto? Mas, por afeto mesmo, de respeito, sempre que às vezes me louvavam, por causa de algum meu bom procedimento, eu falava: — “Foi pai que um dia me ensinou a fazer assim…”; o que não era o certo, exato; mas, que era mentira por verdade. Sendo que, se ele não se lembrava mais, nem queria saber da gente, por que, então, não subia ou descia o rio, para outras paragens, longe, no não-encontrável? Só ele soubesse. Mas minha irmã teve menino, ela mesma entestou que queria mostrar para ele o neto. Viemos, todos, no barranco, foi num dia bonito, minha irmã de vestido branco, que tinha sido o do casamento, ela erguia nos braços a criancinha, o marido dela segurou, para defender os dois, o guarda-sol. A gente chamou, esperou. Nosso pai não apareceu. Minha irmã chorou, nós todos aí choramos, abraçados.\\n\\nMinha irmã se mudou, com o marido, para longe daqui. Meu irmão resolveu e se foi, para uma cidade. Os tempos mudavam, no devagar depressa dos tempos. Nossa mãe terminou indo também, de uma vez, residir com minha irmã, ela estava envelhecida. Eu fiquei aqui, de resto. Eu nunca podia querer me casar. Eu permaneci, com as bagagens da vida. Nosso pai carecia de mim, eu sei — na vagação, no rio no ermo — sem dar razão de seu feito. Seja que, quando eu quis mesmo saber, e firme indaguei, me diz-que-disseram: que constava que nosso pai, alguma vez, tivesse revelado a explicação, ao homem que para ele aprontara a canoa. Mas, agora, esse homem já tinha morrido, ninguém soubesse, fizesse recordação, de nada mais. Só as falsas conversas, sem senso, como por ocasião, no começo, na vinda das primeiras cheias do rio, com chuvas que não estiavam, todos temeram o fim-do-mundo, diziam: que nosso pai fosse o avisado que nem Noé, que, por tanto, a canoa ele tinha antecipado; pois agora me entrelembro. Meu pai, eu não podia malsinar. E apontavam já em mim uns primeiros cabelos brancos.\\n\\nSou homem de tristes palavras. De que era que eu tinha tanta, tanta culpa? Se o meu pai, sempre fazendo ausência: e o rio-rio-rio, o rio — pondo perpétuo. Eu sofria já o começo de velhice — esta vida era só o demoramento. Eu mesmo tinha achaques, ânsias, cá de baixo, cansaços, perrenguice de reumatismo. E ele? Por quê? Devia de padecer demais. De tão idoso, não ia, mais dia menos dia, fraquejar do vigor, deixar que a canoa emborcasse, ou que bubuiasse sem pulso, na levada do rio, para se despenhar horas abaixo, em tororoma e no tombo da cachoeira, brava, com o fervimento e morte. Apertava o coração. Ele estava lá, sem a minha tranqüilidade. Sou o culpado do que nem sei, de dor em aberto, no meu foro. Soubesse — se as coisas fossem outras. E fui tomando idéia.\\n\\nSem fazer véspera. Sou doido? Não. Na nossa casa, a palavra doido não se falava, nunca mais se falou, os anos todos, não se condenava ninguém de doido. Ninguém é doido. Ou, então, todos. Só fiz, que fui lá. Com um lenço, para o aceno ser mais. Eu estava muito no meu sentido. Esperei. Ao por fim, ele apareceu, aí e lá, o vulto. Estava ali, sentado à popa. Estava ali, de grito. Chamei, umas quantas vezes. E falei, o que me urgia, jurado e declarado, tive que reforçar a voz: — “Pai, o senhor está velho, já fez o seu tanto… Agora, o senhor vem, não carece mais… O senhor vem, e eu, agora mesmo, quando que seja, a ambas vontades, eu tomo o seu lugar, do senhor, na canoa!…” E, assim dizendo, meu coração bateu no compasso do mais certo.\\n\\nEle me escutou. Ficou em pé. Manejou remo n’água, proava para cá, concordado. E eu tremi, profundo, de repente: porque, antes, ele tinha levantado o braço e feito um saudar de gesto — o primeiro, depois de tamanhos anos decorridos! E eu não podia… Por pavor, arrepiados os cabelos, corri, fugi, me tirei de lá, num procedimento desatinado. Porquanto que ele me pareceu vir: da parte de além. E estou pedindo, pedindo, pedindo um perdão.\\n\\nSofri o grave frio dos medos, adoeci. Sei que ninguém soube mais dele. Sou homem, depois desse falimento? Sou o que não foi, o que vai ficar calado. Sei que agora é tarde, e temo abreviar com a vida, nos rasos do mundo. Mas, então, ao menos, que, no artigo da morte, peguem em mim, e me depositem também numa canoinha de nada, nessa água que não pára, de longas beiras: e, eu, rio abaixo, rio a fora, rio a dentro — o rio.\\n\\n'"
      ]
     },
     "execution_count": 4,
     "metadata": {},
     "output_type": "execute_result"
    }
   ],
   "source": [
    "texto"
   ]
  },
  {
   "cell_type": "code",
   "execution_count": 5,
   "metadata": {},
   "outputs": [],
   "source": [
    "palavras = [p.lower().strip(string.punctuation) for p in texto.split()]\n",
    "palavras = [p.replace('‘','') for p in palavras]\n",
    "palavras = [p.replace('“','') for p in palavras]\n",
    "palavras = [p.replace('”','') for p in palavras]"
   ]
  },
  {
   "cell_type": "code",
   "execution_count": 8,
   "metadata": {},
   "outputs": [],
   "source": [
    "frequencia = {p:palavras.count(p) for p in palavras}"
   ]
  },
  {
   "cell_type": "code",
   "execution_count": 37,
   "metadata": {},
   "outputs": [],
   "source": [
    "freq_organizada = [(chave,valor) for chave,valor in sorted(frequencia.items(),key=lambda x: x[1],reverse = True)]"
   ]
  },
  {
   "cell_type": "code",
   "execution_count": 51,
   "metadata": {},
   "outputs": [
    {
     "data": {
      "text/plain": [
       "{'Agora',\n",
       " 'Cê',\n",
       " 'E',\n",
       " 'Ele',\n",
       " 'Era',\n",
       " 'Foi',\n",
       " 'Mandou',\n",
       " 'Minha',\n",
       " 'No',\n",
       " 'Nosso',\n",
       " 'Noé',\n",
       " 'Pai',\n",
       " 'Sem',\n",
       " 'Sofri',\n",
       " 'Sou'}"
      ]
     },
     "execution_count": 51,
     "metadata": {},
     "output_type": "execute_result"
    }
   ],
   "source": [
    "texto2 =texto.replace('‘','')\n",
    "texto2 = texto2.replace('“','')\n",
    "texto2 = texto2.replace('”','')\n",
    "maiusculas = [p.strip(string.punctuation) for p in texto2.split() if p.istitle() and len(p) >= 2]\n",
    "relacao = [(p,texto.find(p)) for p in maiusculas]\n",
    "nomes = {p[0] for p in relacao if texto[p[1]-2] != '.' and texto[p[1]-2] != '!' and texto[p[1]-2] != '?'}\n",
    "nomes"
   ]
  },
  {
   "cell_type": "code",
   "execution_count": null,
   "metadata": {},
   "outputs": [],
   "source": []
  }
 ],
 "metadata": {
  "kernelspec": {
   "display_name": "Python 3",
   "language": "python",
   "name": "python3"
  },
  "language_info": {
   "codemirror_mode": {
    "name": "ipython",
    "version": 3
   },
   "file_extension": ".py",
   "mimetype": "text/x-python",
   "name": "python",
   "nbconvert_exporter": "python",
   "pygments_lexer": "ipython3",
   "version": "3.5.2"
  }
 },
 "nbformat": 4,
 "nbformat_minor": 2
}
