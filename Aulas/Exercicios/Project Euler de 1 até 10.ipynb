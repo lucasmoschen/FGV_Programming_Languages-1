{
 "cells": [
  {
   "cell_type": "markdown",
   "metadata": {},
   "source": [
    "## Exercicio 1: divisores de 3 ou 5 até 1000"
   ]
  },
  {
   "cell_type": "code",
   "execution_count": 19,
   "metadata": {},
   "outputs": [
    {
     "name": "stdout",
     "output_type": "stream",
     "text": [
      "233168\n"
     ]
    }
   ],
   "source": [
    "lista = []\n",
    "for inteiro in range(1000):\n",
    "    if inteiro % 3 == 0:\n",
    "        lista.append(inteiro)\n",
    "    elif inteiro % 5 == 0:\n",
    "        lista.append(inteiro)\n",
    "soma = sum(lista)\n",
    "print(soma)"
   ]
  },
  {
   "cell_type": "markdown",
   "metadata": {},
   "source": [
    "## Exercicio 2: soma dos numeros pares fibonnaci"
   ]
  },
  {
   "cell_type": "code",
   "execution_count": 44,
   "metadata": {},
   "outputs": [
    {
     "name": "stdout",
     "output_type": "stream",
     "text": [
      "4613732\n",
      "[1, 1, 2, 3, 5, 8, 13, 21, 34, 55, 89, 144, 233, 377, 610, 987, 1597, 2584, 4181, 6765, 10946, 17711, 28657, 46368, 75025, 121393, 196418, 317811, 514229, 832040, 1346269, 2178309, 3524578]\n"
     ]
    }
   ],
   "source": [
    "lista = [1,1]\n",
    "inteiro = 0\n",
    "while (lista[-1]+lista[-2]) <= 4000000:\n",
    "    lista.append((lista[-1]+lista[-2]))\n",
    "soma = 0\n",
    "for a in range(len(lista)):\n",
    "    if a % 3 == 2:\n",
    "        soma = soma + lista[a]\n",
    "print(soma)\n",
    "print(lista)   "
   ]
  },
  {
   "cell_type": "markdown",
   "metadata": {},
   "source": [
    "## Exercicio 3: Largest Prime factor"
   ]
  },
  {
   "cell_type": "code",
   "execution_count": 64,
   "metadata": {},
   "outputs": [
    {
     "name": "stdout",
     "output_type": "stream",
     "text": [
      "6857\n"
     ]
    }
   ],
   "source": [
    "numero = 600851475143\n",
    "a = 1\n",
    "while numero != 1:\n",
    "    a = a + 1\n",
    "    if numero % a == 0:\n",
    "        largest = a\n",
    "        while numero % a == 0:\n",
    "            numero = numero/a\n",
    "print(largest)  "
   ]
  },
  {
   "cell_type": "markdown",
   "metadata": {},
   "source": [
    "## Exercicio 4: Largest palindrome product"
   ]
  },
  {
   "cell_type": "code",
   "execution_count": 119,
   "metadata": {},
   "outputs": [
    {
     "name": "stdout",
     "output_type": "stream",
     "text": [
      "Do not exist\n"
     ]
    }
   ],
   "source": [
    "lista = []\n",
    "for numero in range(10000,1000000):\n",
    "    lista.insert(0,numero%10)\n",
    "    numero = int(numero/10)\n",
    "    lista2 = lista\n",
    "    lista.reverse()\n",
    "    if lista == lista2"
   ]
  },
  {
   "cell_type": "code",
   "execution_count": 144,
   "metadata": {},
   "outputs": [
    {
     "data": {
      "text/plain": [
       "True"
      ]
     },
     "execution_count": 144,
     "metadata": {},
     "output_type": "execute_result"
    }
   ],
   "source": [
    "lista = [1,2,1] \n",
    "lista2 = lista\n",
    "lista.reverse() \n",
    "lista == lista2"
   ]
  },
  {
   "cell_type": "code",
   "execution_count": null,
   "metadata": {},
   "outputs": [],
   "source": []
  }
 ],
 "metadata": {
  "kernelspec": {
   "display_name": "Python 3",
   "language": "python",
   "name": "python3"
  },
  "language_info": {
   "codemirror_mode": {
    "name": "ipython",
    "version": 3
   },
   "file_extension": ".py",
   "mimetype": "text/x-python",
   "name": "python",
   "nbconvert_exporter": "python",
   "pygments_lexer": "ipython3",
   "version": "3.5.2"
  }
 },
 "nbformat": 4,
 "nbformat_minor": 2
}
