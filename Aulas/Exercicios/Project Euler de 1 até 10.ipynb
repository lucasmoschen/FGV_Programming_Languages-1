{
 "cells": [
  {
   "cell_type": "markdown",
   "metadata": {},
   "source": [
    "## Exercicio 1: divisores de 3 ou 5 até 1000"
   ]
  },
  {
   "cell_type": "code",
   "execution_count": 19,
   "metadata": {},
   "outputs": [
    {
     "name": "stdout",
     "output_type": "stream",
     "text": [
      "233168\n"
     ]
    }
   ],
   "source": [
    "lista = []\n",
    "for inteiro in range(1000):\n",
    "    if inteiro % 3 == 0:\n",
    "        lista.append(inteiro)\n",
    "    elif inteiro % 5 == 0:\n",
    "        lista.append(inteiro)\n",
    "soma = sum(lista)\n",
    "print(soma)"
   ]
  },
  {
   "cell_type": "markdown",
   "metadata": {},
   "source": [
    "## Exercicio 2: soma dos numeros pares fibonnaci"
   ]
  },
  {
   "cell_type": "code",
   "execution_count": 44,
   "metadata": {},
   "outputs": [
    {
     "name": "stdout",
     "output_type": "stream",
     "text": [
      "4613732\n",
      "[1, 1, 2, 3, 5, 8, 13, 21, 34, 55, 89, 144, 233, 377, 610, 987, 1597, 2584, 4181, 6765, 10946, 17711, 28657, 46368, 75025, 121393, 196418, 317811, 514229, 832040, 1346269, 2178309, 3524578]\n"
     ]
    }
   ],
   "source": [
    "lista = [1,1]\n",
    "inteiro = 0\n",
    "while (lista[-1]+lista[-2]) <= 4000000:\n",
    "    lista.append((lista[-1]+lista[-2]))\n",
    "soma = 0\n",
    "for a in range(len(lista)):\n",
    "    if a % 3 == 2:\n",
    "        soma = soma + lista[a]\n",
    "print(soma)\n",
    "print(lista)   "
   ]
  },
  {
   "cell_type": "markdown",
   "metadata": {},
   "source": [
    "## Exercicio 3: Largest Prime factor"
   ]
  },
  {
   "cell_type": "code",
   "execution_count": 64,
   "metadata": {},
   "outputs": [
    {
     "name": "stdout",
     "output_type": "stream",
     "text": [
      "6857\n"
     ]
    }
   ],
   "source": [
    "numero = 600851475143\n",
    "a = 1\n",
    "while numero != 1:\n",
    "    a = a + 1\n",
    "    if numero % a == 0:\n",
    "        largest = a\n",
    "        while numero % a == 0:\n",
    "            numero = numero/a\n",
    "print(largest)  "
   ]
  },
  {
   "cell_type": "markdown",
   "metadata": {},
   "source": [
    "## Exercicio 4: Largest palindrome product"
   ]
  },
  {
   "cell_type": "code",
   "execution_count": 201,
   "metadata": {},
   "outputs": [
    {
     "name": "stdout",
     "output_type": "stream",
     "text": [
      "906609\n"
     ]
    }
   ],
   "source": [
    "sumpalin = 0\n",
    "numero1 = 100 \n",
    "while numero1 < 999:\n",
    "    numero1 = numero1 + 1\n",
    "    if numero1 % 10 != 0:\n",
    "        for numero2 in range(numero1,1000):\n",
    "            if numero2 % 10 != 0:\n",
    "                numero = numero1*numero2\n",
    "                aver = numero\n",
    "                numero = str(numero)\n",
    "                if numero[0] == numero[-1] and numero[1] == numero[-2] and numero[2] == numero[-3] and numero1 + numero2 > sumpalin:\n",
    "                    MaxPalindrome = aver\n",
    "                    sumpalin = numero1 + numero2\n",
    "print(MaxPalindrome)"
   ]
  },
  {
   "cell_type": "markdown",
   "metadata": {},
   "source": [
    "## Exercicio 5: Smallest Multiple"
   ]
  },
  {
   "cell_type": "code",
   "execution_count": 19,
   "metadata": {},
   "outputs": [
    {
     "name": "stdout",
     "output_type": "stream",
     "text": [
      "232792560\n"
     ]
    }
   ],
   "source": [
    "lista = [2]\n",
    "for multiplo in range(3,21):\n",
    "    for divisor in lista:\n",
    "        if multiplo % divisor == 0:\n",
    "            a = 0\n",
    "            break\n",
    "        else:\n",
    "            a = 1\n",
    "    if a == 1:\n",
    "        lista.append(multiplo)\n",
    "lista2 = tuple(lista)\n",
    "lista = [1]\n",
    "for posicao in range(0,len(lista2)):\n",
    "    n = 1\n",
    "    while (lista2[posicao])**(n+1) <= 20:\n",
    "        n=n+1\n",
    "    lista.append((lista2[posicao])**(n))\n",
    "    lista[0] = lista[0]*lista[1]\n",
    "    lista.pop()\n",
    "    minmult = lista[0]\n",
    "print(minmult)"
   ]
  },
  {
   "cell_type": "markdown",
   "metadata": {},
   "source": [
    "## Exercicio 6: Diferença de quadrados"
   ]
  },
  {
   "cell_type": "code",
   "execution_count": 28,
   "metadata": {},
   "outputs": [
    {
     "name": "stdout",
     "output_type": "stream",
     "text": [
      "25164150\n",
      "25164150.0\n"
     ]
    }
   ],
   "source": [
    "somatorio1 = 0\n",
    "somatorio2 = 0\n",
    "for soma in range(1,101):\n",
    "    somatorio1 = somatorio1 + soma**2\n",
    "    somatorio2 = somatorio2 + soma\n",
    "diferenca = (somatorio2)**2 - somatorio1\n",
    "print(diferenca)\n",
    "\n",
    "\n",
    "#OU\n",
    "\n",
    "n = 100\n",
    "diferenca2 = (n*(n+1)/2)*((n*(n+1)/2)-(2*n+1)/3)\n",
    "print(diferenca2)"
   ]
  },
  {
   "cell_type": "markdown",
   "metadata": {},
   "source": [
    "## Exercicio 7: 10001st prime"
   ]
  },
  {
   "cell_type": "code",
   "execution_count": 44,
   "metadata": {},
   "outputs": [
    {
     "name": "stdout",
     "output_type": "stream",
     "text": [
      "7927\n"
     ]
    }
   ],
   "source": [
    "lista = [2,3]\n",
    "multiplo = 3\n",
    "while len(lista) < 10001:\n",
    "    multiplo = multiplo + 2\n",
    "    for divisor in lista:\n",
    "        if multiplo % divisor == 0:\n",
    "            a = 0\n",
    "            break\n",
    "        else:\n",
    "            a = 1\n",
    "    if a == 1:\n",
    "        lista.append(multiplo)\n",
    "print(lista[len(lista)-1])"
   ]
  },
  {
   "cell_type": "code",
   "execution_count": null,
   "metadata": {},
   "outputs": [],
   "source": []
  }
 ],
 "metadata": {
  "kernelspec": {
   "display_name": "Python 3",
   "language": "python",
   "name": "python3"
  },
  "language_info": {
   "codemirror_mode": {
    "name": "ipython",
    "version": 3
   },
   "file_extension": ".py",
   "mimetype": "text/x-python",
   "name": "python",
   "nbconvert_exporter": "python",
   "pygments_lexer": "ipython3",
   "version": "3.5.2"
  }
 },
 "nbformat": 4,
 "nbformat_minor": 2
}
