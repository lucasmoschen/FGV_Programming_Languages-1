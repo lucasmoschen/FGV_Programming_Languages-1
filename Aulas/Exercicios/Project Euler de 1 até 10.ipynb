{
 "cells": [
  {
   "cell_type": "markdown",
   "metadata": {},
   "source": [
    "## Exercicio 1: divisores de 3 ou 5 até 1000"
   ]
  },
  {
   "cell_type": "code",
   "execution_count": 19,
   "metadata": {},
   "outputs": [
    {
     "name": "stdout",
     "output_type": "stream",
     "text": [
      "233168\n"
     ]
    }
   ],
   "source": [
    "lista = []\n",
    "for inteiro in range(1000):\n",
    "    if inteiro % 3 == 0:\n",
    "        lista.append(inteiro)\n",
    "    elif inteiro % 5 == 0:\n",
    "        lista.append(inteiro)\n",
    "soma = sum(lista)\n",
    "print(soma)"
   ]
  },
  {
   "cell_type": "markdown",
   "metadata": {},
   "source": [
    "## Exercicio 2: soma dos numeros pares fibonnaci"
   ]
  },
  {
   "cell_type": "code",
   "execution_count": 44,
   "metadata": {},
   "outputs": [
    {
     "name": "stdout",
     "output_type": "stream",
     "text": [
      "4613732\n",
      "[1, 1, 2, 3, 5, 8, 13, 21, 34, 55, 89, 144, 233, 377, 610, 987, 1597, 2584, 4181, 6765, 10946, 17711, 28657, 46368, 75025, 121393, 196418, 317811, 514229, 832040, 1346269, 2178309, 3524578]\n"
     ]
    }
   ],
   "source": [
    "lista = [1,1]\n",
    "inteiro = 0\n",
    "while (lista[-1]+lista[-2]) <= 4000000:\n",
    "    lista.append((lista[-1]+lista[-2]))\n",
    "soma = 0\n",
    "for a in range(len(lista)):\n",
    "    if a % 3 == 2:\n",
    "        soma = soma + lista[a]\n",
    "print(soma)\n",
    "print(lista)   "
   ]
  },
  {
   "cell_type": "markdown",
   "metadata": {},
   "source": [
    "## Exercicio 3: Largest Prime factor"
   ]
  },
  {
   "cell_type": "code",
   "execution_count": 114,
   "metadata": {},
   "outputs": [
    {
     "name": "stdout",
     "output_type": "stream",
     "text": [
      "6857\n"
     ]
    }
   ],
   "source": [
    "numero = 600851475143\n",
    "a = 1\n",
    "while numero != 1:\n",
    "    a = a + 1\n",
    "    if numero % a == 0:\n",
    "        largest = a\n",
    "        while numero % a == 0:\n",
    "            numero = numero/a\n",
    "print(largest)  "
   ]
  },
  {
   "cell_type": "markdown",
   "metadata": {},
   "source": [
    "## Exercicio 4: Largest palindrome product"
   ]
  },
  {
   "cell_type": "code",
   "execution_count": 201,
   "metadata": {},
   "outputs": [
    {
     "name": "stdout",
     "output_type": "stream",
     "text": [
      "906609\n"
     ]
    }
   ],
   "source": [
    "sumpalin = 0\n",
    "numero1 = 100 \n",
    "while numero1 < 999:\n",
    "    numero1 = numero1 + 1\n",
    "    if numero1 % 10 != 0:\n",
    "        for numero2 in range(numero1,1000):\n",
    "            if numero2 % 10 != 0:\n",
    "                numero = numero1*numero2\n",
    "                aver = numero\n",
    "                numero = str(numero)\n",
    "                if numero[0] == numero[-1] and numero[1] == numero[-2] and numero[2] == numero[-3] and numero1 + numero2 > sumpalin:\n",
    "                    MaxPalindrome = aver\n",
    "                    sumpalin = numero1 + numero2\n",
    "print(MaxPalindrome)"
   ]
  },
  {
   "cell_type": "markdown",
   "metadata": {},
   "source": [
    "## Exercicio 5: Smallest Multiple"
   ]
  },
  {
   "cell_type": "code",
   "execution_count": 19,
   "metadata": {},
   "outputs": [
    {
     "name": "stdout",
     "output_type": "stream",
     "text": [
      "232792560\n"
     ]
    }
   ],
   "source": [
    "lista = [2]\n",
    "for multiplo in range(3,21):\n",
    "    for divisor in lista:\n",
    "        if multiplo % divisor == 0:\n",
    "            a = 0\n",
    "            break\n",
    "        else:\n",
    "            a = 1\n",
    "    if a == 1:\n",
    "        lista.append(multiplo)\n",
    "lista2 = tuple(lista)\n",
    "lista = [1]\n",
    "for posicao in range(0,len(lista2)):\n",
    "    n = 1\n",
    "    while (lista2[posicao])**(n+1) <= 20:\n",
    "        n=n+1\n",
    "    lista.append((lista2[posicao])**(n))\n",
    "    lista[0] = lista[0]*lista[1]\n",
    "    lista.pop()\n",
    "    minmult = lista[0]\n",
    "print(minmult)"
   ]
  },
  {
   "cell_type": "markdown",
   "metadata": {},
   "source": [
    "## Exercicio 6: Diferença de quadrados"
   ]
  },
  {
   "cell_type": "code",
   "execution_count": 28,
   "metadata": {},
   "outputs": [
    {
     "name": "stdout",
     "output_type": "stream",
     "text": [
      "25164150\n",
      "25164150.0\n"
     ]
    }
   ],
   "source": [
    "somatorio1 = 0\n",
    "somatorio2 = 0\n",
    "for soma in range(1,101):\n",
    "    somatorio1 = somatorio1 + soma**2\n",
    "    somatorio2 = somatorio2 + soma\n",
    "diferenca = (somatorio2)**2 - somatorio1\n",
    "print(diferenca)\n",
    "\n",
    "\n",
    "#OU\n",
    "\n",
    "n = 100\n",
    "diferenca2 = (n*(n+1)/2)*((n*(n+1)/2)-(2*n+1)/3)\n",
    "print(diferenca2)"
   ]
  },
  {
   "cell_type": "markdown",
   "metadata": {},
   "source": [
    "## Exercicio 7: 10001st prime"
   ]
  },
  {
   "cell_type": "code",
   "execution_count": 110,
   "metadata": {},
   "outputs": [
    {
     "name": "stdout",
     "output_type": "stream",
     "text": [
      "1299721\n",
      "Essa função levou 11.66884994506836 segundos\n"
     ]
    }
   ],
   "source": [
    "import time\n",
    "t0 = time.time()\n",
    "import math\n",
    "primos = [2,3]\n",
    "multiplo = 3\n",
    "while len(primos) < 100001:\n",
    "    multiplo += 2\n",
    "    for divisor in primos:\n",
    "        if divisor > math.sqrt(multiplo):\n",
    "            break\n",
    "        if multiplo % divisor == 0:\n",
    "            a = 0\n",
    "            break\n",
    "        else:\n",
    "            a = 1\n",
    "    if a == 1:\n",
    "        primos.append(multiplo)\n",
    "print(primos[-1])\n",
    "print('Essa função levou {} segundos'.format(time.time()-t0))"
   ]
  },
  {
   "cell_type": "markdown",
   "metadata": {},
   "source": [
    "## Exercicio 8: Largest product in a series"
   ]
  },
  {
   "cell_type": "code",
   "execution_count": 81,
   "metadata": {},
   "outputs": [
    {
     "name": "stdout",
     "output_type": "stream",
     "text": [
      "23514624000\n"
     ]
    }
   ],
   "source": [
    "A = '7316717653133062491922511967442657474235534919493496983520312774506326239578318016984801869478851843858615607891129494954595017379583319528532088055111254069874715852386305071569329096329522744304355766896648950445244523161731856403098711121722383113622298934233803081353362766142828064444866452387493035890729629049156044077239071381051585930796086670172427121883998797908792274921901699720888093776657273330010533678812202354218097512545405947522435258490771167055601360483958644670632441572215539753697817977846174064955149290862569321978468622482839722413756570560574902614079729686524145351004748216637048440319989000889524345065854122758866688116427171479924442928230863465674813919123162824586178664583591245665294765456828489128831426076900422421902267105562632111110937054421750694165896040807198403850962455444362981230987879927244284909188845801561660979191338754992005240636899125607176060588611646710940507754100225698315520005593572972571636269561882670428252483600823257530420752963450'\n",
    "numero2 = 1\n",
    "for valores in range(988):\n",
    "    adj = A[valores:valores+13]\n",
    "    numero = 1\n",
    "    for posicao in range(13):\n",
    "        numero = int(adj[posicao])*numero\n",
    "    if numero > numero2:\n",
    "        numero2 = numero\n",
    "print(numero2)"
   ]
  },
  {
   "cell_type": "markdown",
   "metadata": {},
   "source": [
    "## Exercicio 9: Special Pythagorean triplet"
   ]
  },
  {
   "cell_type": "code",
   "execution_count": 111,
   "metadata": {},
   "outputs": [
    {
     "name": "stdout",
     "output_type": "stream",
     "text": [
      "31875000.0\n"
     ]
    }
   ],
   "source": [
    "a = 1\n",
    "b = 1\n",
    "N = 0\n",
    "while N == 0:\n",
    "    for b in range(a,1000):\n",
    "        c = (a**2 + b**2)**(1/2)\n",
    "        if a + b + c == 1000:\n",
    "            N = a*b*c\n",
    "            print(N)\n",
    "            break\n",
    "    a += 1"
   ]
  },
  {
   "cell_type": "markdown",
   "metadata": {},
   "source": [
    "## Exercício 10: Summation of primes"
   ]
  },
  {
   "cell_type": "code",
   "execution_count": 143,
   "metadata": {},
   "outputs": [
    {
     "name": "stdout",
     "output_type": "stream",
     "text": [
      "142913828922\n",
      "43.454251527786255\n"
     ]
    }
   ],
   "source": [
    "import time\n",
    "t0 = time.time()\n",
    "import math\n",
    "soma_primos = 2 + 3\n",
    "numero = 5\n",
    "while numero < 2000000:\n",
    "    for i in range(2,int(math.sqrt(numero)+1)):\n",
    "        if numero % i == 0:\n",
    "            k = 0\n",
    "            break\n",
    "        else:\n",
    "            k = 1\n",
    "    if k == 1:\n",
    "        soma_primos = soma_primos + numero\n",
    "    numero += 2\n",
    "print(soma_primos)\n",
    "print(time.time()-t0)"
   ]
  },
  {
   "cell_type": "code",
   "execution_count": null,
   "metadata": {},
   "outputs": [],
   "source": []
  }
 ],
 "metadata": {
  "kernelspec": {
   "display_name": "Python 3",
   "language": "python",
   "name": "python3"
  },
  "language_info": {
   "codemirror_mode": {
    "name": "ipython",
    "version": 3
   },
   "file_extension": ".py",
   "mimetype": "text/x-python",
   "name": "python",
   "nbconvert_exporter": "python",
   "pygments_lexer": "ipython3",
   "version": "3.5.2"
  }
 },
 "nbformat": 4,
 "nbformat_minor": 2
}
