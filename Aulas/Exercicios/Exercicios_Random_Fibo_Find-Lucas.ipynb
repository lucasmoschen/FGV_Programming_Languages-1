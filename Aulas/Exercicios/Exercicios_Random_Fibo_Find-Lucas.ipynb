{
 "cells": [
  {
   "cell_type": "code",
   "execution_count": 1,
   "metadata": {},
   "outputs": [],
   "source": [
    "import random"
   ]
  },
  {
   "cell_type": "code",
   "execution_count": 7,
   "metadata": {},
   "outputs": [
    {
     "data": {
      "text/plain": [
       "17"
      ]
     },
     "execution_count": 7,
     "metadata": {},
     "output_type": "execute_result"
    }
   ],
   "source": [
    "random.randrange(30)"
   ]
  },
  {
   "cell_type": "code",
   "execution_count": 9,
   "metadata": {},
   "outputs": [
    {
     "data": {
      "text/plain": [
       "'cachorro'"
      ]
     },
     "execution_count": 9,
     "metadata": {},
     "output_type": "execute_result"
    }
   ],
   "source": [
    "random.choice(['gato', 'cachorro', 'papagaio'])"
   ]
  },
  {
   "cell_type": "code",
   "execution_count": 11,
   "metadata": {},
   "outputs": [
    {
     "name": "stdout",
     "output_type": "stream",
     "text": [
      "22\n",
      "46\n",
      "48\n",
      "41\n",
      "53\n",
      "31\n"
     ]
    }
   ],
   "source": [
    "for i in range(6):\n",
    "    print(random.randrange(1,61))"
   ]
  },
  {
   "cell_type": "code",
   "execution_count": 13,
   "metadata": {},
   "outputs": [
    {
     "name": "stdout",
     "output_type": "stream",
     "text": [
      "[35, 12, 45, 48, 16, 26]\n"
     ]
    }
   ],
   "source": [
    "aposta = set()\n",
    "while len(aposta) < 6:\n",
    "    aposta.add(random.randrange(1,61))\n",
    "print(list(aposta))"
   ]
  },
  {
   "cell_type": "code",
   "execution_count": 15,
   "metadata": {},
   "outputs": [
    {
     "name": "stdout",
     "output_type": "stream",
     "text": [
      "[14, 10, 38, 13, 29, 8]\n"
     ]
    }
   ],
   "source": [
    "aposta = []\n",
    "while len(aposta) < 6:\n",
    "    numero = random.randrange(1,61)\n",
    "    if not numero in aposta:\n",
    "        aposta.append(numero)\n",
    "print(aposta)"
   ]
  },
  {
   "cell_type": "code",
   "execution_count": 80,
   "metadata": {
    "collapsed": true
   },
   "outputs": [],
   "source": [
    "def fibo(n):\n",
    "    if n == 1:\n",
    "        return 1\n",
    "    elif n == 2:\n",
    "        return 2\n",
    "    else:\n",
    "        return(fibo(n-1)+fibo(n-2))"
   ]
  },
  {
   "cell_type": "code",
   "execution_count": 82,
   "metadata": {},
   "outputs": [],
   "source": [
    "#fibo(100)"
   ]
  },
  {
   "cell_type": "code",
   "execution_count": 16,
   "metadata": {},
   "outputs": [
    {
     "name": "stdout",
     "output_type": "stream",
     "text": [
      "[0, 1, 1, 2, 3, 5, 8, 13, 21, 34, 55, 89, 144, 233, 377, 610, 987, 1597, 2584, 4181, 6765, 10946, 17711, 28657, 46368, 75025, 121393, 196418, 317811, 514229, 832040, 1346269, 2178309, 3524578, 5702887, 9227465, 14930352, 24157817, 39088169, 63245986, 102334155, 165580141, 267914296, 433494437, 701408733, 1134903170, 1836311903, 2971215073, 4807526976, 7778742049, 12586269025, 20365011074, 32951280099, 53316291173, 86267571272, 139583862445, 225851433717, 365435296162, 591286729879, 956722026041, 1548008755920, 2504730781961, 4052739537881, 6557470319842, 10610209857723, 17167680177565, 27777890035288, 44945570212853, 72723460248141, 117669030460994, 190392490709135, 308061521170129, 498454011879264, 806515533049393, 1304969544928657, 2111485077978050, 3416454622906707, 5527939700884757, 8944394323791464, 14472334024676221, 23416728348467685, 37889062373143906, 61305790721611591, 99194853094755497, 160500643816367088, 259695496911122585, 420196140727489673, 679891637638612258, 1100087778366101931, 1779979416004714189, 2880067194370816120, 4660046610375530309, 7540113804746346429, 12200160415121876738, 19740274219868223167, 31940434634990099905, 51680708854858323072, 83621143489848422977, 135301852344706746049, 218922995834555169026, 354224848179261915075]\n"
     ]
    }
   ],
   "source": [
    "fibo = [0,1]\n",
    "for i in range(99):\n",
    "    fibo.append(fibo[-1]+fibo[-2])\n",
    "print(fibo)"
   ]
  },
  {
   "cell_type": "code",
   "execution_count": 103,
   "metadata": {},
   "outputs": [],
   "source": [
    "texto = \"um texto legal como sempre ommmmm renato escreve\""
   ]
  },
  {
   "cell_type": "code",
   "execution_count": 122,
   "metadata": {},
   "outputs": [],
   "source": [
    "def encontra(texto,letra,variavel=0):\n",
    "    texto2 = texto\n",
    "    posicoes = []\n",
    "    posicao = texto.find(letra)\n",
    "    if posicao >= 0:\n",
    "        posicoes.append(posicao)\n",
    "        if posicao < len(texto) - 1:\n",
    "            posicao2 = encontra(texto[posicao+1:],letra,1)\n",
    "            posicoes.extend(posicao2)\n",
    "    if variavel == 0:\n",
    "        for i in range(1,len(posicoes)):\n",
    "            posicoes[i] += posicoes[i-1] \n",
    "        for i in range(1,len(posicoes)):\n",
    "            posicoes[i] += i\n",
    "    return posicoes"
   ]
  },
  {
   "cell_type": "code",
   "execution_count": 123,
   "metadata": {},
   "outputs": [
    {
     "data": {
      "text/plain": [
       "[1, 17, 22, 28, 29, 30, 31, 32]"
      ]
     },
     "execution_count": 123,
     "metadata": {},
     "output_type": "execute_result"
    }
   ],
   "source": [
    "encontra( \"um texto legal como sempre ommmmm renato escreve\",'m')"
   ]
  },
  {
   "cell_type": "code",
   "execution_count": 87,
   "metadata": {},
   "outputs": [],
   "source": [
    "def acha_posicoes(texto,letra):\n",
    "    posicoes = []\n",
    "    atual = 0\n",
    "    while not texto.find(letra) == -1:\n",
    "        posicao = texto.find(letra)\n",
    "        posicoes.append(posicao+atual)\n",
    "        atual += posicao + 1\n",
    "        texto = texto[posicao+1:]       \n",
    "    print(posicoes)"
   ]
  },
  {
   "cell_type": "code",
   "execution_count": 88,
   "metadata": {},
   "outputs": [
    {
     "name": "stdout",
     "output_type": "stream",
     "text": [
      "[]\n"
     ]
    }
   ],
   "source": [
    "acha_posicoes(texto,'m')"
   ]
  },
  {
   "cell_type": "code",
   "execution_count": 21,
   "metadata": {
    "collapsed": true
   },
   "outputs": [],
   "source": [
    "def acha_posicoes2(texto,letra):\n",
    "    posicoes = []\n",
    "    atual = 0\n",
    "    while not texto.find(letra, atual) == -1:\n",
    "        posicao = texto.find(letra, atual)\n",
    "        posicoes.append(posicao)\n",
    "        atual = posicao + 1      \n",
    "    print(posicoes)"
   ]
  },
  {
   "cell_type": "code",
   "execution_count": 22,
   "metadata": {},
   "outputs": [
    {
     "name": "stdout",
     "output_type": "stream",
     "text": [
      "[1, 17, 22, 28, 29, 30, 31, 32]\n"
     ]
    }
   ],
   "source": [
    "acha_posicoes2(texto,'m')"
   ]
  },
  {
   "cell_type": "markdown",
   "metadata": {},
   "source": [
    "Imprima o antecessor e o sucessor de cada elemento de uma lista caso este elemento seja inteiro ou uma string que represente um inteiro"
   ]
  },
  {
   "cell_type": "code",
   "execution_count": 12,
   "metadata": {},
   "outputs": [],
   "source": [
    "def imprime_ant_suc(lista):\n",
    "    for elemento in lista:\n",
    "        if type(elemento) == int:\n",
    "            print(elemento - 1, elemento + 1)\n",
    "        elif type(elemento) == str and elemento.isdigit():\n",
    "            print(int(elemento) - 1, int(elemento) + 1)\n",
    "        else:\n",
    "            print('Não é um inteiro')"
   ]
  },
  {
   "cell_type": "code",
   "execution_count": 14,
   "metadata": {},
   "outputs": [
    {
     "name": "stdout",
     "output_type": "stream",
     "text": [
      "0 2\n",
      "1 3\n",
      "Não é um inteiro\n",
      "Não é um inteiro\n",
      "2 4\n",
      "33 35\n",
      "22 24\n",
      "Não é um inteiro\n"
     ]
    }
   ],
   "source": [
    "lista = ['1',2,'1.4',1.5,'3','34',23,'outra coisa']\n",
    "imprime_ant_suc(lista)"
   ]
  },
  {
   "cell_type": "code",
   "execution_count": null,
   "metadata": {},
   "outputs": [],
   "source": []
  }
 ],
 "metadata": {
  "kernelspec": {
   "display_name": "Python 3",
   "language": "python",
   "name": "python3"
  },
  "language_info": {
   "codemirror_mode": {
    "name": "ipython",
    "version": 3
   },
   "file_extension": ".py",
   "mimetype": "text/x-python",
   "name": "python",
   "nbconvert_exporter": "python",
   "pygments_lexer": "ipython3",
   "version": "3.5.2"
  }
 },
 "nbformat": 4,
 "nbformat_minor": 2
}
