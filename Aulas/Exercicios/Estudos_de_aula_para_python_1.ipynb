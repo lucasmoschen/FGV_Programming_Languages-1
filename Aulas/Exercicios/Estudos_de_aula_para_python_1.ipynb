{
 "cells": [
  {
   "cell_type": "markdown",
   "metadata": {},
   "source": [
    "1 - Dada a lista:"
   ]
  },
  {
   "cell_type": "code",
   "execution_count": 1,
   "metadata": {},
   "outputs": [],
   "source": [
    "lista = [1,2,3,'4',5,6.3,7.4 + 2j,\"123\",[1,2,3], 93, \"98\"]"
   ]
  },
  {
   "cell_type": "markdown",
   "metadata": {},
   "source": [
    "Crie um código para imprimir o antecessor e o sucessor de cada elemento de uma lista:\n",
    "+ Caso este elemento seja inteiro, imprimir o valor;  \n",
    "+ Caso seja uma string, imprimir o inteiro correspondente;  \n",
    "+ Caso seja um real, imprima a parte inteira;\n",
    "+ Caso seja um imaginário, imprima a parte inteira e real;\n",
    "+ Caso seja uma sequência, aplique as regras acima para cada elemento da sequência.  "
   ]
  },
  {
   "cell_type": "code",
   "execution_count": 113,
   "metadata": {},
   "outputs": [],
   "source": [
    "def changetype(sequencia,elemento):\n",
    "    if type(sequencia) != tuple and type(sequencia) != list:\n",
    "        return \"A variável deve ser uma sequência numérica, isto é, uma tupla ou uma lista\"\n",
    "    for posicao in range(len(sequencia)):\n",
    "        if type(sequencia[posicao]) == str:\n",
    "            sequencia[posicao] = int(sequencia[posicao])\n",
    "        elif type(sequencia[posicao]) == float:\n",
    "            sequencia[posicao] = int(sequencia[posicao])\n",
    "        elif type(sequencia[posicao]) == complex:\n",
    "            sequencia[posicao] = int(sequencia[posicao].real)\n",
    "        elif type(lista[posicao]) == tuple or type(sequencia[posicao]) == list:\n",
    "            sequencia[posicao] = changetype(sequencia[posicao],-1)\n",
    "    if elemento > 0:\n",
    "        antecessor = 'O seu antecessor é {}'.format(sequencia[elemento-1])\n",
    "    if elemento < (len(sequencia)-1) and elemento > -1:\n",
    "        sucessor = 'O seu sucessor é {}'.format(sequencia[elemento+1])\n",
    "    if elemento < 0: \n",
    "        return sequencia\n",
    "    if  elemento >= len(sequencia):\n",
    "        return \"Não existe antecessor ou sucessor desse índice, logo segue a sequência toda: {}\".format(sequencia)        \n",
    "    if elemento == 0:\n",
    "        return sucessor\n",
    "    elif elemento == len(sequencia)-1:\n",
    "        return antecessor\n",
    "    else: \n",
    "        return (antecessor, sucessor)"
   ]
  },
  {
   "cell_type": "code",
   "execution_count": 120,
   "metadata": {},
   "outputs": [
    {
     "data": {
      "text/plain": [
       "('O seu antecessor é [1, 2, [12, 32, [2, 3], 3]]', 'O seu sucessor é 98')"
      ]
     },
     "execution_count": 120,
     "metadata": {},
     "output_type": "execute_result"
    }
   ],
   "source": [
    "listinha = [1,2,3,'4',5,6.3,7.4 + 2j,\"123\",[1,2,['12',32,[2,3],3]], 93, \"98\"]\n",
    "changetype(listinha,9)"
   ]
  },
  {
   "cell_type": "markdown",
   "metadata": {},
   "source": [
    "2 - Os fatores primos de 13195 são 5, 7, 13 e 29. Qual o maior fator primo de 600851475143?  \n",
    "https://projecteuler.net/problem=3  "
   ]
  },
  {
   "cell_type": "code",
   "execution_count": 134,
   "metadata": {},
   "outputs": [
    {
     "name": "stdout",
     "output_type": "stream",
     "text": [
      "6857\n",
      "0.006308794021606445\n"
     ]
    }
   ],
   "source": [
    "numero = 600851475143\n",
    "div = 1\n",
    "while numero != 1:\n",
    "    div = div + 1\n",
    "    if numero % div == 0:\n",
    "        largest = div\n",
    "        while numero % div == 0:\n",
    "            numero = numero/div\n",
    "print(largest)"
   ]
  },
  {
   "cell_type": "markdown",
   "metadata": {},
   "source": [
    "3- Crie um programa que imprima os números de 1 a 100, mas nos múltiplos de 3 imprima “Fizz” em vez do  número e nos múltiplos de 5 imprima “Buzz”. Para os números que são múltiplos de tanto 3 como 5, imprima “FizzBuzz”.  "
   ]
  },
  {
   "cell_type": "code",
   "execution_count": 27,
   "metadata": {},
   "outputs": [
    {
     "name": "stdout",
     "output_type": "stream",
     "text": [
      "[1, 2, 'Fizz', 4, 'Buzz', 'Fizz', 7, 8, 'Fizz', 'Buzz', 11, 'Fizz', 13, 14, 'FizzBuzz', 16, 17, 'Fizz', 19, 'Buzz', 'Fizz', 22, 23, 'Fizz', 'Buzz', 26, 'Fizz', 28, 29, 'FizzBuzz', 31, 32, 'Fizz', 34, 'Buzz', 'Fizz', 37, 38, 'Fizz', 'Buzz', 41, 'Fizz', 43, 44, 'FizzBuzz', 46, 47, 'Fizz', 49, 'Buzz', 'Fizz', 52, 53, 'Fizz', 'Buzz', 56, 'Fizz', 58, 59, 'FizzBuzz', 61, 62, 'Fizz', 64, 'Buzz', 'Fizz', 67, 68, 'Fizz', 'Buzz', 71, 'Fizz', 73, 74, 'FizzBuzz', 76, 77, 'Fizz', 79, 'Buzz', 'Fizz', 82, 83, 'Fizz', 'Buzz', 86, 'Fizz', 88, 89, 'FizzBuzz', 91, 92, 'Fizz', 94, 'Buzz', 'Fizz', 97, 98, 'Fizz', 'Buzz']\n"
     ]
    }
   ],
   "source": [
    "lista = list(range(1,100+1))\n",
    "for olhada in range(1,len(lista)+1):\n",
    "    if olhada % 3 == 0 and olhada % 5 != 0:\n",
    "        lista[olhada-1] = 'Fizz'\n",
    "    elif olhada % 5 == 0 and olhada % 3 != 0:\n",
    "        lista[olhada-1] = 'Buzz'\n",
    "    elif olhada % 5 == 0 and olhada % 3 == 0:\n",
    "        lista[olhada-1] = 'FizzBuzz'\n",
    "print(lista)"
   ]
  },
  {
   "cell_type": "markdown",
   "metadata": {},
   "source": [
    "4- Usando a biblioteca \"random\", crie um programa para calcular a média da soma de dois dados de 6 faces (D6) em 10000 lançamentos."
   ]
  },
  {
   "cell_type": "code",
   "execution_count": 3,
   "metadata": {},
   "outputs": [],
   "source": [
    "import random"
   ]
  },
  {
   "cell_type": "code",
   "execution_count": 18,
   "metadata": {},
   "outputs": [
    {
     "name": "stdout",
     "output_type": "stream",
     "text": [
      "6.025\n"
     ]
    }
   ],
   "source": [
    "dado = list(range(1,6))\n",
    "soma = 0\n",
    "for lancamento in range(1,10000):\n",
    "    soma = soma + random.choice(dado) + random.choice(dado)\n",
    "media = soma/10000\n",
    "print(media)"
   ]
  }
 ],
 "metadata": {
  "kernelspec": {
   "display_name": "Python 3",
   "language": "python",
   "name": "python3"
  },
  "language_info": {
   "codemirror_mode": {
    "name": "ipython",
    "version": 3
   },
   "file_extension": ".py",
   "mimetype": "text/x-python",
   "name": "python",
   "nbconvert_exporter": "python",
   "pygments_lexer": "ipython3",
   "version": "3.5.2"
  }
 },
 "nbformat": 4,
 "nbformat_minor": 2
}
