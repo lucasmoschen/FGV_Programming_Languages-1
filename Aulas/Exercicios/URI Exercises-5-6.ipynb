{
 "cells": [
  {
   "cell_type": "markdown",
   "metadata": {},
   "source": [
    "## 1183 ao 1190- Acima da Diagonal Principal"
   ]
  },
  {
   "cell_type": "code",
   "execution_count": null,
   "metadata": {},
   "outputs": [],
   "source": [
    "Operacao = input()\n",
    "Matriz = []\n",
    "ListaOperacao = []\n",
    "for k in range(12):\n",
    "    linhazeros = []\n",
    "    for i in range(12):\n",
    "        novo = float(input())\n",
    "        linhazeros.append(novo)\n",
    "    Matriz.append(linhazeros)\n",
    "for i in range(len(Matriz)):\n",
    "    for j in range(len(linhazeros)):\n",
    "        if j>i and j + i > 11:\n",
    "            ListaOperacao.append(Matriz[i][j])\n",
    "if Operacao == 'S':\n",
    "    print('{:.1f}'.format(sum(ListaOperacao)))\n",
    "elif Operacao == 'M':\n",
    "    print('{:.1f}'.format(sum(ListaOperacao)/len(ListaOperacao)))"
   ]
  },
  {
   "cell_type": "markdown",
   "metadata": {},
   "source": [
    "## 1435 - Matriz Quadrada I"
   ]
  },
  {
   "cell_type": "code",
   "execution_count": null,
   "metadata": {},
   "outputs": [],
   "source": [
    "N = int(input())\n",
    "while N != 0:\n",
    "    Matriz = []\n",
    "    for i in range(N):\n",
    "        Matriz.append([0]*N)\n",
    "for i in Matriz:\n",
    "    for j in i:\n",
    "        if Matriz.index(i) == i.index(j):\n",
    "            Matriz[Matriz.index(i)][i.index(j)] = 1\n",
    "        elif i.index(j) != 0 and \n",
    "        if i.index(j) == 0 and Matriz.index[i] != 0:\n",
    "            Matriz[Matriz.index(i)][0] = Matriz[Matriz.index(i)-1][0] + 1:\n",
    "        \n",
    "    for i in range(N):\n",
    "        for j in range(N):\n",
    "            Matriz[i][j] = str(Matriz[i][j])\n",
    "            if len(Matriz[i][j]) == 2:\n",
    "                Matriz[i][j] = ' '+Matriz[i][j]\n",
    "            elif len(Matriz[i][j]) == 1:\n",
    "                Matriz[i][j] = '  '+Matriz[i][j]\n",
    "        M = ' '.join(Matriz[i])\n",
    "        print(M)\n",
    "    print('')\n",
    "    N = int(input())"
   ]
  },
  {
   "cell_type": "markdown",
   "metadata": {},
   "source": [
    "## 1478 - Matriz Quadrada II"
   ]
  },
  {
   "cell_type": "code",
   "execution_count": null,
   "metadata": {},
   "outputs": [],
   "source": [
    "N = int(input())\n",
    "while N != 0:\n",
    "    Matriz = []\n",
    "    for i in range(N):\n",
    "        Matriz.append([0]*N)\n",
    "\n",
    "    Matriz[0][0] = 1\n",
    "    for i in range(N):\n",
    "        if i != 0: \n",
    "            Matriz[i][0] = Matriz[i-1][0]+1\n",
    "        for j in range(N):\n",
    "            if j != 0:\n",
    "                if i == j:\n",
    "                    Matriz[i][j] = 1\n",
    "                elif i > j:\n",
    "                    Matriz[i][j] = Matriz[i][j-1] - 1\n",
    "                else:\n",
    "                    Matriz[i][j] = Matriz[i][j-1] + 1\n",
    "\n",
    "    for i in range(N):\n",
    "        for j in range(N):\n",
    "            Matriz[i][j] = str(Matriz[i][j])\n",
    "            if len(Matriz[i][j]) == 2:\n",
    "                Matriz[i][j] = ' '+Matriz[i][j]\n",
    "            elif len(Matriz[i][j]) == 1:\n",
    "                Matriz[i][j] = '  '+Matriz[i][j]\n",
    "        M = ' '.join(Matriz[i])\n",
    "        print(M)\n",
    "    print('')\n",
    "    N = int(input())"
   ]
  },
  {
   "cell_type": "markdown",
   "metadata": {},
   "source": [
    "## 1534 - Matriz 123"
   ]
  },
  {
   "cell_type": "code",
   "execution_count": null,
   "metadata": {},
   "outputs": [],
   "source": [
    "while True:\n",
    "    try:\n",
    "        N = int(input())\n",
    "        Matriz = []\n",
    "        for i in range(N):\n",
    "            Matriz.append([0]*N)\n",
    "\n",
    "        for i in range(N):\n",
    "            for j in range(N):\n",
    "                    if i == j:\n",
    "                        Matriz[i][j] = 1\n",
    "                    elif i+j == N-1:\n",
    "                        Matriz[i][j] = 2\n",
    "                    else:\n",
    "                        Matriz[i][j] = 3\n",
    "        if N%2 == 1: Matriz[N//2][N//2] = 2         \n",
    "\n",
    "        for i in range(N):\n",
    "            for j in range(N):\n",
    "                Matriz[i][j] = str(Matriz[i][j])\n",
    "            M = ''.join(Matriz[i])\n",
    "            print(M)\n",
    "    except EOFError:\n",
    "        break"
   ]
  },
  {
   "cell_type": "markdown",
   "metadata": {},
   "source": [
    "## 1541 - Construindo casas"
   ]
  },
  {
   "cell_type": "code",
   "execution_count": null,
   "metadata": {},
   "outputs": [],
   "source": [
    "while True:\n",
    "    A = [int(k) for k in input().split()]\n",
    "    if len(A)>1:\n",
    "        Terreno = A[0]*A[1]\n",
    "        Aumento = 100/A[2]\n",
    "        Real = Terreno*Aumento\n",
    "        Lado = int(Real**(1/2))\n",
    "        print(Lado)\n",
    "    else:\n",
    "        break"
   ]
  },
  {
   "cell_type": "markdown",
   "metadata": {},
   "source": [
    "## 1557 - Matriz Quadrada III"
   ]
  },
  {
   "cell_type": "code",
   "execution_count": null,
   "metadata": {},
   "outputs": [],
   "source": [
    "N = int(input())\n",
    "while N != 0:\n",
    "    Matriz = []\n",
    "    for i in range(N):\n",
    "        Matriz.append([0]*N)\n",
    "\n",
    "    maior = 0\n",
    "    for i in range(N):\n",
    "        for j in range(N):\n",
    "            Matriz[i][j] = 2**(i+j)\n",
    "            if Matriz[i][j] > maior:\n",
    "                maior = Matriz[i][j]\n",
    "    T = len(str(maior))\n",
    "\n",
    "    for i in range(N):\n",
    "        for j in range(N):\n",
    "            Matriz[i][j] = str(Matriz[i][j])\n",
    "            Matriz[i][j] = '{}'.format(' '*(T - len(Matriz[i][j])))+Matriz[i][j]\n",
    "        M = ' '.join(Matriz[i])\n",
    "        print(M)\n",
    "    print('')\n",
    "    N = int(input())"
   ]
  },
  {
   "cell_type": "markdown",
   "metadata": {},
   "source": [
    "## 1564 - Vai ter Copa?"
   ]
  },
  {
   "cell_type": "code",
   "execution_count": null,
   "metadata": {},
   "outputs": [],
   "source": [
    "while True:\n",
    "    try:\n",
    "        N = int(input())\n",
    "        if N != 0:\n",
    "            print('vai ter duas!')\n",
    "        else:\n",
    "            print('vai ter copa!')\n",
    "    except EOFError:\n",
    "        break"
   ]
  },
  {
   "cell_type": "markdown",
   "metadata": {},
   "source": [
    "## 1589 - Bob Conduite"
   ]
  },
  {
   "cell_type": "code",
   "execution_count": null,
   "metadata": {},
   "outputs": [],
   "source": [
    "T = int(input())\n",
    "for t in range(T):\n",
    "    raio1,raio2 = map(int,input().split())\n",
    "    print(raio1+raio2)"
   ]
  },
  {
   "cell_type": "markdown",
   "metadata": {},
   "source": [
    "## 1759 - Ho Ho Ho "
   ]
  },
  {
   "cell_type": "code",
   "execution_count": null,
   "metadata": {},
   "outputs": [],
   "source": [
    "N = int(input())\n",
    "string = 'Ho '*N \n",
    "print(string[:-1]+'!')"
   ]
  },
  {
   "cell_type": "markdown",
   "metadata": {},
   "source": [
    "## 1789 - A corrida das lesmas"
   ]
  },
  {
   "cell_type": "code",
   "execution_count": null,
   "metadata": {},
   "outputs": [],
   "source": [
    "from functools import reduce\n",
    "while True:\n",
    "    try:\n",
    "        N = int(input())\n",
    "        lesmas = [int(k) for k in input().split()]\n",
    "        maior = reduce(lambda x,y: x if x>=y else y,lesmas)\n",
    "        if maior >= 20:\n",
    "            print(3)\n",
    "        elif maior >= 10:\n",
    "            print(2)\n",
    "        else:\n",
    "            print(1)\n",
    "    except EOFError:\n",
    "        break"
   ]
  },
  {
   "cell_type": "markdown",
   "metadata": {},
   "source": [
    "## 1827 - Matriz Quadrada IV"
   ]
  },
  {
   "cell_type": "code",
   "execution_count": null,
   "metadata": {},
   "outputs": [],
   "source": [
    "while True:\n",
    "    try:\n",
    "        N = int(input())\n",
    "        Matriz = []\n",
    "        for i in range(N):\n",
    "            Matriz.append([0]*N)\n",
    "\n",
    "        for i in range(N):\n",
    "            for j in range(N):\n",
    "                    if i == j:\n",
    "                        Matriz[i][j] = 2\n",
    "                    elif i+j == N-1:\n",
    "                        Matriz[i][j] = 3\n",
    "                    if j >= int(N/3) and j< N-int(N/3) and i >= int(N/3) and i< N-int(N/3):\n",
    "                        Matriz[i][j] = 1\n",
    "        Matriz[int(N/2)][int(N/2)] = 4\n",
    "       \n",
    "        for i in range(N):\n",
    "            for j in range(N):\n",
    "                Matriz[i][j] = str(Matriz[i][j])\n",
    "            M = ''.join(Matriz[i])\n",
    "            print(M)\n",
    "        print('')\n",
    "    except EOFError:\n",
    "        break"
   ]
  },
  {
   "cell_type": "markdown",
   "metadata": {},
   "source": [
    "## 1828 - Bazinga"
   ]
  },
  {
   "cell_type": "code",
   "execution_count": null,
   "metadata": {},
   "outputs": [],
   "source": [
    "vence = ['tesoura','papel','pedra','lagarto','Spock','tesoura','lagarto','papel','Spock','pedra']\n",
    "perde = ['papel','pedra', 'lagarto','Spock','tesoura','lagarto','papel','Spock','pedra','tesoura']\n",
    "casos = list(zip(vence,perde))\n",
    "T = int(input())\n",
    "for t in range(T):\n",
    "    sheldom,raj = input().split()\n",
    "    if sheldom == raj:\n",
    "        print('Caso #{}: De novo!'.format(t+1))\n",
    "    else:\n",
    "        for k in casos:\n",
    "            if sheldom in k and raj in k:\n",
    "                if k.index(sheldom) == 0:\n",
    "                    print('Caso #{}: Bazinga!'.format(t+1))\n",
    "                else:\n",
    "                    print('Caso #{}: Raj trapaceou!'.format(t+1))"
   ]
  },
  {
   "cell_type": "markdown",
   "metadata": {},
   "source": [
    "## 1837 - Prefácio"
   ]
  },
  {
   "cell_type": "code",
   "execution_count": null,
   "metadata": {},
   "outputs": [],
   "source": [
    "a,b = map(int,input().split())\n",
    "r = 0\n",
    "while (a - r)%b != 0:\n",
    "    r +=1\n",
    "q = int((a-r)/b)\n",
    "print('{} {}'.format(q,r))"
   ]
  },
  {
   "cell_type": "markdown",
   "metadata": {},
   "source": [
    "## 1847 - Bem vindxs ao Inverno"
   ]
  },
  {
   "cell_type": "code",
   "execution_count": null,
   "metadata": {},
   "outputs": [],
   "source": [
    "A,B,C = map(int,input().split())\n",
    "feliz = 0\n",
    "if C - B >= B - A:\n",
    "    feliz = 1\n",
    "else:\n",
    "    feliz = 0\n",
    "if C - B == B -A:\n",
    "    if C-B == 0:\n",
    "        feliz = 0\n",
    "    elif C - A < 0:\n",
    "        feliz = 0\n",
    "if feliz == 0:\n",
    "    print(':(')\n",
    "else:\n",
    "    print(':)')"
   ]
  },
  {
   "cell_type": "markdown",
   "metadata": {},
   "source": [
    "## 1848 - Corvo Contador"
   ]
  },
  {
   "cell_type": "code",
   "execution_count": null,
   "metadata": {},
   "outputs": [],
   "source": [
    "cont = 0\n",
    "while cont < 3:\n",
    "    corvo = input()\n",
    "    loteria = 0\n",
    "    while corvo != 'caw caw':\n",
    "        numero =[]\n",
    "        for i in corvo:\n",
    "            if i == '-':\n",
    "                numero.append(0)\n",
    "            else:\n",
    "                numero.append(1)\n",
    "        numero = sum([(2**k)*(numero[2-k]) for k in range(3)])\n",
    "        loteria += numero\n",
    "        corvo = input()\n",
    "    print(loteria)\n",
    "    cont += 1"
   ]
  },
  {
   "cell_type": "markdown",
   "metadata": {},
   "source": [
    "## 1858 - A melhor resposta"
   ]
  },
  {
   "cell_type": "code",
   "execution_count": 3,
   "metadata": {},
   "outputs": [
    {
     "name": "stdout",
     "output_type": "stream",
     "text": [
      "2\n",
      "1 1\n",
      "1\n"
     ]
    }
   ],
   "source": [
    "N = int(input())\n",
    "Atingido = [int(k) for k in input().split()]\n",
    "Menor = 21\n",
    "for i in Atingido:\n",
    "    if i < Menor:\n",
    "        Menor = i\n",
    "print(Atingido.index(Menor)+1)"
   ]
  },
  {
   "cell_type": "markdown",
   "metadata": {},
   "source": [
    "## 1864 - Nossos Dias Nunca Voltarao"
   ]
  },
  {
   "cell_type": "code",
   "execution_count": 7,
   "metadata": {},
   "outputs": [
    {
     "name": "stdout",
     "output_type": "stream",
     "text": [
      "7\n",
      "LIFE IS\n"
     ]
    }
   ],
   "source": [
    "frase = 'LIFE IS NOT A PROBLEM TO BE SOLVED'\n",
    "N = int(input())\n",
    "print(frase[:N])"
   ]
  },
  {
   "cell_type": "markdown",
   "metadata": {},
   "source": [
    "## 1865 - Mjolnir"
   ]
  },
  {
   "cell_type": "code",
   "execution_count": 15,
   "metadata": {},
   "outputs": [
    {
     "name": "stdout",
     "output_type": "stream",
     "text": [
      "0\n"
     ]
    }
   ],
   "source": [
    "n = int(input())\n",
    "for i in range(n):\n",
    "    levantar,forca = input().split()\n",
    "    if levantar.lower()=='thor':\n",
    "        print('Y')\n",
    "    else:\n",
    "        print('N')"
   ]
  },
  {
   "cell_type": "markdown",
   "metadata": {},
   "source": [
    "## 1866 - Conta"
   ]
  },
  {
   "cell_type": "code",
   "execution_count": null,
   "metadata": {},
   "outputs": [],
   "source": [
    "N=int(input())\n",
    "for i in range(N):\n",
    "    C = int(input())\n",
    "    if C%2==0:\n",
    "        print(0)\n",
    "    else:\n",
    "        print(1)"
   ]
  },
  {
   "cell_type": "markdown",
   "metadata": {},
   "source": [
    "## 1914 - De quem é a vez?"
   ]
  },
  {
   "cell_type": "code",
   "execution_count": 68,
   "metadata": {},
   "outputs": [
    {
     "name": "stdout",
     "output_type": "stream",
     "text": [
      "1\n",
      "A  PAR B IMPAR\n",
      "1 1\n",
      "A\n"
     ]
    }
   ],
   "source": [
    "Q = int(input())\n",
    "for q in range(Q):\n",
    "    Nomes = input().split()\n",
    "    Nome1 = Nomes[0]\n",
    "    Nomes.pop(0)\n",
    "    while Nomes[0] != 'PAR' and Nomes[0] != 'IMPAR':\n",
    "        Nome1 = Nome1 + ' ' + Nomes[0]\n",
    "        Nomes.pop(0)\n",
    "    Escolha1 = Nomes[0]\n",
    "    Nomes.pop(0)\n",
    "    Nome2 = Nomes[0]\n",
    "    Nomes.pop(0)\n",
    "    while Nomes[0] != 'PAR' and Nomes[0] != 'IMPAR':\n",
    "        Nome2 = Nome2 + ' ' + Nomes[0]\n",
    "        Nomes.pop(0)\n",
    "    Escolha2 = Nomes[0]    \n",
    "    \n",
    "    Valor1,Valor2 = map(int,input().split())\n",
    "    if (Valor1+Valor2) % 2 == 0:\n",
    "        if Escolha1 == 'PAR':\n",
    "            print(Nome1)\n",
    "        else:\n",
    "            print(Nome2)\n",
    "    else:\n",
    "        if Escolha1 == 'PAR':\n",
    "            print(Nome2)\n",
    "        else:\n",
    "            print(Nome1)"
   ]
  },
  {
   "cell_type": "markdown",
   "metadata": {},
   "source": [
    "## 1921 - Guilherme e suas pipas"
   ]
  },
  {
   "cell_type": "code",
   "execution_count": 72,
   "metadata": {},
   "outputs": [
    {
     "name": "stdout",
     "output_type": "stream",
     "text": [
      "100000\n",
      "4999850000\n"
     ]
    }
   ],
   "source": [
    "N = int(input())\n",
    "print(int(N*(N-3)/2))"
   ]
  },
  {
   "cell_type": "markdown",
   "metadata": {},
   "source": [
    "## 1924 - Vitória e a indecisão"
   ]
  },
  {
   "cell_type": "code",
   "execution_count": 73,
   "metadata": {},
   "outputs": [
    {
     "name": "stdout",
     "output_type": "stream",
     "text": [
      "1\n",
      "A\n",
      "Ciencia da Computacao\n"
     ]
    }
   ],
   "source": [
    "N = int(input())\n",
    "for n in range(N):\n",
    "    K = input()\n",
    "print('Ciencia da Computacao')"
   ]
  },
  {
   "cell_type": "markdown",
   "metadata": {},
   "source": [
    "## 1929 - Triângulo"
   ]
  },
  {
   "cell_type": "code",
   "execution_count": 76,
   "metadata": {},
   "outputs": [
    {
     "name": "stdout",
     "output_type": "stream",
     "text": [
      "14 40 12 60\n",
      "N\n"
     ]
    }
   ],
   "source": [
    "V = [int(k) for k in input().split()]\n",
    "Varetinhas = tuple(V)\n",
    "t=0\n",
    "for a in Varetinhas:\n",
    "    V.remove(a)\n",
    "    if V[0]+V[1]>V[2] and V[0]+V[2]>V[1] and V[1]+V[2]>V[0]:\n",
    "        print('S')\n",
    "        t = 1\n",
    "        break\n",
    "    V = list(Varetinhas)\n",
    "if t == 0:\n",
    "    print('N')\n"
   ]
  },
  {
   "cell_type": "markdown",
   "metadata": {},
   "source": [
    "## 1930 - Tomadas"
   ]
  },
  {
   "cell_type": "code",
   "execution_count": 78,
   "metadata": {},
   "outputs": [
    {
     "name": "stdout",
     "output_type": "stream",
     "text": [
      "2 2 2 2\n",
      "5\n"
     ]
    }
   ],
   "source": [
    "N = [int(k) for k in input().split()]\n",
    "print(sum(N)-3)"
   ]
  },
  {
   "cell_type": "markdown",
   "metadata": {},
   "source": [
    "## 1933 - Tri-du"
   ]
  },
  {
   "cell_type": "code",
   "execution_count": 86,
   "metadata": {},
   "outputs": [
    {
     "name": "stdout",
     "output_type": "stream",
     "text": [
      "13 13\n",
      "13\n"
     ]
    }
   ],
   "source": [
    "C1,C2 = map(int,input().split())\n",
    "if C1 > C2:\n",
    "    C = C2\n",
    "    C2 = C1\n",
    "    C1 = C \n",
    "print(C2)"
   ]
  },
  {
   "cell_type": "markdown",
   "metadata": {},
   "source": [
    "## 1957 - Converter para Hexadecimal"
   ]
  },
  {
   "cell_type": "code",
   "execution_count": 91,
   "metadata": {},
   "outputs": [
    {
     "name": "stdout",
     "output_type": "stream",
     "text": [
      "123\n",
      "7B\n"
     ]
    }
   ],
   "source": [
    "N = int(input())\n",
    "n = hex(N)\n",
    "n = str(n)[2:].upper()\n",
    "print(n)"
   ]
  },
  {
   "cell_type": "markdown",
   "metadata": {},
   "source": [
    "## 1958 - Notação Cientifica"
   ]
  },
  {
   "cell_type": "code",
   "execution_count": null,
   "metadata": {},
   "outputs": [],
   "source": [
    "N = input()\n",
    "if N[0] != '-':\n",
    "    N = '+' + N\n",
    "N = N[0:2] + '.' + \n"
   ]
  }
 ],
 "metadata": {
  "kernelspec": {
   "display_name": "Python 3",
   "language": "python",
   "name": "python3"
  },
  "language_info": {
   "codemirror_mode": {
    "name": "ipython",
    "version": 3
   },
   "file_extension": ".py",
   "mimetype": "text/x-python",
   "name": "python",
   "nbconvert_exporter": "python",
   "pygments_lexer": "ipython3",
   "version": "3.6.5"
  }
 },
 "nbformat": 4,
 "nbformat_minor": 2
}
