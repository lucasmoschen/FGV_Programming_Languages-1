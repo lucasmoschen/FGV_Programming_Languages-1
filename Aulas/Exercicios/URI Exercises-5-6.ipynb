{
 "cells": [
  {
   "cell_type": "markdown",
   "metadata": {},
   "source": [
    "## 1183 ao 1190- Acima da Diagonal Principal"
   ]
  },
  {
   "cell_type": "code",
   "execution_count": null,
   "metadata": {},
   "outputs": [],
   "source": [
    "Operacao = input()\n",
    "Matriz = []\n",
    "ListaOperacao = []\n",
    "for k in range(12):\n",
    "    linhazeros = []\n",
    "    for i in range(12):\n",
    "        novo = float(input())\n",
    "        linhazeros.append(novo)\n",
    "    Matriz.append(linhazeros)\n",
    "for i in range(len(Matriz)):\n",
    "    for j in range(len(linhazeros)):\n",
    "        if j>i and j + i > 11:\n",
    "            ListaOperacao.append(Matriz[i][j])\n",
    "if Operacao == 'S':\n",
    "    print('{:.1f}'.format(sum(ListaOperacao)))\n",
    "elif Operacao == 'M':\n",
    "    print('{:.1f}'.format(sum(ListaOperacao)/len(ListaOperacao)))"
   ]
  },
  {
   "cell_type": "markdown",
   "metadata": {},
   "source": [
    "## 1435 - Matriz Quadrada I"
   ]
  },
  {
   "cell_type": "code",
   "execution_count": null,
   "metadata": {},
   "outputs": [],
   "source": [
    "N = int(input())\n",
    "while N != 0:\n",
    "    Matriz = []\n",
    "    for i in range(N):\n",
    "        Matriz.append([0]*N)\n",
    "for i in Matriz:\n",
    "    for j in i:\n",
    "        if Matriz.index(i) == i.index(j):\n",
    "            Matriz[Matriz.index(i)][i.index(j)] = 1\n",
    "        elif i.index(j) != 0 and \n",
    "        if i.index(j) == 0 and Matriz.index[i] != 0:\n",
    "            Matriz[Matriz.index(i)][0] = Matriz[Matriz.index(i)-1][0] + 1:\n",
    "        \n",
    "    for i in range(N):\n",
    "        for j in range(N):\n",
    "            Matriz[i][j] = str(Matriz[i][j])\n",
    "            if len(Matriz[i][j]) == 2:\n",
    "                Matriz[i][j] = ' '+Matriz[i][j]\n",
    "            elif len(Matriz[i][j]) == 1:\n",
    "                Matriz[i][j] = '  '+Matriz[i][j]\n",
    "        M = ' '.join(Matriz[i])\n",
    "        print(M)\n",
    "    print('')\n",
    "    N = int(input())"
   ]
  },
  {
   "cell_type": "markdown",
   "metadata": {},
   "source": [
    "## 1478 - Matriz Quadrada II"
   ]
  },
  {
   "cell_type": "code",
   "execution_count": null,
   "metadata": {},
   "outputs": [],
   "source": [
    "N = int(input())\n",
    "while N != 0:\n",
    "    Matriz = []\n",
    "    for i in range(N):\n",
    "        Matriz.append([0]*N)\n",
    "\n",
    "    Matriz[0][0] = 1\n",
    "    for i in range(N):\n",
    "        if i != 0: \n",
    "            Matriz[i][0] = Matriz[i-1][0]+1\n",
    "        for j in range(N):\n",
    "            if j != 0:\n",
    "                if i == j:\n",
    "                    Matriz[i][j] = 1\n",
    "                elif i > j:\n",
    "                    Matriz[i][j] = Matriz[i][j-1] - 1\n",
    "                else:\n",
    "                    Matriz[i][j] = Matriz[i][j-1] + 1\n",
    "\n",
    "    for i in range(N):\n",
    "        for j in range(N):\n",
    "            Matriz[i][j] = str(Matriz[i][j])\n",
    "            if len(Matriz[i][j]) == 2:\n",
    "                Matriz[i][j] = ' '+Matriz[i][j]\n",
    "            elif len(Matriz[i][j]) == 1:\n",
    "                Matriz[i][j] = '  '+Matriz[i][j]\n",
    "        M = ' '.join(Matriz[i])\n",
    "        print(M)\n",
    "    print('')\n",
    "    N = int(input())"
   ]
  },
  {
   "cell_type": "code",
   "execution_count": null,
   "metadata": {},
   "outputs": [],
   "source": []
  }
 ],
 "metadata": {
  "kernelspec": {
   "display_name": "Python 3",
   "language": "python",
   "name": "python3"
  },
  "language_info": {
   "codemirror_mode": {
    "name": "ipython",
    "version": 3
   },
   "file_extension": ".py",
   "mimetype": "text/x-python",
   "name": "python",
   "nbconvert_exporter": "python",
   "pygments_lexer": "ipython3",
   "version": "3.6.5"
  }
 },
 "nbformat": 4,
 "nbformat_minor": 2
}
