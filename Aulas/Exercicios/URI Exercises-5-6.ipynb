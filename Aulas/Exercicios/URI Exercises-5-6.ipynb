{
 "cells": [
  {
   "cell_type": "markdown",
   "metadata": {},
   "source": [
    "## 1183 ao 1190- Acima da Diagonal Principal"
   ]
  },
  {
   "cell_type": "code",
   "execution_count": null,
   "metadata": {},
   "outputs": [],
   "source": [
    "Operacao = input()\n",
    "Matriz = []\n",
    "ListaOperacao = []\n",
    "for k in range(12):\n",
    "    linhazeros = []\n",
    "    for i in range(12):\n",
    "        novo = float(input())\n",
    "        linhazeros.append(novo)\n",
    "    Matriz.append(linhazeros)\n",
    "for i in range(len(Matriz)):\n",
    "    for j in range(len(linhazeros)):\n",
    "        if j>i and j + i > 11:\n",
    "            ListaOperacao.append(Matriz[i][j])\n",
    "if Operacao == 'S':\n",
    "    print('{:.1f}'.format(sum(ListaOperacao)))\n",
    "elif Operacao == 'M':\n",
    "    print('{:.1f}'.format(sum(ListaOperacao)/len(ListaOperacao)))"
   ]
  },
  {
   "cell_type": "markdown",
   "metadata": {},
   "source": [
    "## 1435 - Matriz Quadrada I"
   ]
  },
  {
   "cell_type": "code",
   "execution_count": null,
   "metadata": {},
   "outputs": [],
   "source": [
    "N = int(input())\n",
    "while N != 0:\n",
    "    Matriz = []\n",
    "    for i in range(N):\n",
    "        Matriz.append([0]*N)\n",
    "    if N % 2 == 0:\n",
    "        t = int(N/2) \n",
    "    else:\n",
    "        t = 1 +  int(N/2) \n",
    "        \n",
    "    min = 0\n",
    "    max = N\n",
    "    cont = 0\n",
    "    for k in range(t):\n",
    "        cont += 1\n",
    "        for i in range(min,max):\n",
    "            for j in range(min,max):\n",
    "                Matriz[i][j] = cont\n",
    "        min += 1\n",
    "        max -= 1\n",
    "\n",
    "    for i in range(N):\n",
    "        for j in range(N):\n",
    "            Matriz[i][j] = str(Matriz[i][j])\n",
    "            if len(Matriz[i][j]) == 2:\n",
    "                Matriz[i][j] = ' '+Matriz[i][j]\n",
    "            elif len(Matriz[i][j]) == 1:\n",
    "                Matriz[i][j] = '  '+Matriz[i][j]\n",
    "        M = ' '.join(Matriz[i])\n",
    "        print(M)\n",
    "    print('')\n",
    "    N = int(input())"
   ]
  },
  {
   "cell_type": "markdown",
   "metadata": {},
   "source": [
    "## 1478 - Matriz Quadrada II"
   ]
  },
  {
   "cell_type": "code",
   "execution_count": null,
   "metadata": {},
   "outputs": [],
   "source": [
    "N = int(input())\n",
    "while N != 0:\n",
    "    Matriz = []\n",
    "    for i in range(N):\n",
    "        Matriz.append([0]*N)\n",
    "    if N % 2 == 0:\n",
    "        t = int(N/2) \n",
    "    else:\n",
    "        t = 1 +  int(N/2) \n",
    "        \n",
    "    min = 0\n",
    "    max = N\n",
    "    cont = 0\n",
    "    for k in range(t):\n",
    "        cont += 1\n",
    "        for i in range(min,max):\n",
    "            for j in range(min,max):\n",
    "                Matriz[i][j] = cont\n",
    "        min += 1\n",
    "        max -= 1\n",
    "\n",
    "    for i in range(N):\n",
    "        for j in range(N):\n",
    "            Matriz[i][j] = str(Matriz[i][j])\n",
    "            if len(Matriz[i][j]) == 2:\n",
    "                Matriz[i][j] = ' '+Matriz[i][j]\n",
    "            elif len(Matriz[i][j]) == 1:\n",
    "                Matriz[i][j] = '  '+Matriz[i][j]\n",
    "        M = ' '.join(Matriz[i])\n",
    "        print(M)\n",
    "    print('')\n",
    "    N = int(input())"
   ]
  }
 ],
 "metadata": {
  "kernelspec": {
   "display_name": "Python 3",
   "language": "python",
   "name": "python3"
  },
  "language_info": {
   "codemirror_mode": {
    "name": "ipython",
    "version": 3
   },
   "file_extension": ".py",
   "mimetype": "text/x-python",
   "name": "python",
   "nbconvert_exporter": "python",
   "pygments_lexer": "ipython3",
   "version": "3.5.2"
  }
 },
 "nbformat": 4,
 "nbformat_minor": 2
}
