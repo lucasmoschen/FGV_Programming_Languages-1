{
 "cells": [
  {
   "cell_type": "markdown",
   "metadata": {},
   "source": [
    "## 1183 ao 1190- Acima da Diagonal Principal"
   ]
  },
  {
   "cell_type": "code",
   "execution_count": null,
   "metadata": {},
   "outputs": [],
   "source": [
    "Operacao = input()\n",
    "Matriz = []\n",
    "ListaOperacao = []\n",
    "for k in range(12):\n",
    "    linhazeros = []\n",
    "    for i in range(12):\n",
    "        novo = float(input())\n",
    "        linhazeros.append(novo)\n",
    "    Matriz.append(linhazeros)\n",
    "for i in range(len(Matriz)):\n",
    "    for j in range(len(linhazeros)):\n",
    "        if j>i and j + i > 11:\n",
    "            ListaOperacao.append(Matriz[i][j])\n",
    "if Operacao == 'S':\n",
    "    print('{:.1f}'.format(sum(ListaOperacao)))\n",
    "elif Operacao == 'M':\n",
    "    print('{:.1f}'.format(sum(ListaOperacao)/len(ListaOperacao)))"
   ]
  },
  {
   "cell_type": "markdown",
   "metadata": {},
   "source": [
    "## 1435 - Matriz Quadrada I"
   ]
  },
  {
   "cell_type": "code",
   "execution_count": null,
   "metadata": {},
   "outputs": [],
   "source": [
    "N = int(input())\n",
    "while N != 0:\n",
    "    Matriz = []\n",
    "    for i in range(N):\n",
    "        Matriz.append([0]*N)\n",
    "for i in Matriz:\n",
    "    for j in i:\n",
    "        if Matriz.index(i) == i.index(j):\n",
    "            Matriz[Matriz.index(i)][i.index(j)] = 1\n",
    "        elif i.index(j) != 0 and \n",
    "        if i.index(j) == 0 and Matriz.index[i] != 0:\n",
    "            Matriz[Matriz.index(i)][0] = Matriz[Matriz.index(i)-1][0] + 1:\n",
    "        \n",
    "    for i in range(N):\n",
    "        for j in range(N):\n",
    "            Matriz[i][j] = str(Matriz[i][j])\n",
    "            if len(Matriz[i][j]) == 2:\n",
    "                Matriz[i][j] = ' '+Matriz[i][j]\n",
    "            elif len(Matriz[i][j]) == 1:\n",
    "                Matriz[i][j] = '  '+Matriz[i][j]\n",
    "        M = ' '.join(Matriz[i])\n",
    "        print(M)\n",
    "    print('')\n",
    "    N = int(input())"
   ]
  },
  {
   "cell_type": "markdown",
   "metadata": {},
   "source": [
    "## 1478 - Matriz Quadrada II"
   ]
  },
  {
   "cell_type": "code",
   "execution_count": null,
   "metadata": {},
   "outputs": [],
   "source": [
    "N = int(input())\n",
    "while N != 0:\n",
    "    Matriz = []\n",
    "    for i in range(N):\n",
    "        Matriz.append([0]*N)\n",
    "\n",
    "    Matriz[0][0] = 1\n",
    "    for i in range(N):\n",
    "        if i != 0: \n",
    "            Matriz[i][0] = Matriz[i-1][0]+1\n",
    "        for j in range(N):\n",
    "            if j != 0:\n",
    "                if i == j:\n",
    "                    Matriz[i][j] = 1\n",
    "                elif i > j:\n",
    "                    Matriz[i][j] = Matriz[i][j-1] - 1\n",
    "                else:\n",
    "                    Matriz[i][j] = Matriz[i][j-1] + 1\n",
    "\n",
    "    for i in range(N):\n",
    "        for j in range(N):\n",
    "            Matriz[i][j] = str(Matriz[i][j])\n",
    "            if len(Matriz[i][j]) == 2:\n",
    "                Matriz[i][j] = ' '+Matriz[i][j]\n",
    "            elif len(Matriz[i][j]) == 1:\n",
    "                Matriz[i][j] = '  '+Matriz[i][j]\n",
    "        M = ' '.join(Matriz[i])\n",
    "        print(M)\n",
    "    print('')\n",
    "    N = int(input())"
   ]
  },
  {
   "cell_type": "markdown",
   "metadata": {},
   "source": [
    "## 1534 - Matriz 123"
   ]
  },
  {
   "cell_type": "code",
   "execution_count": 3,
   "metadata": {},
   "outputs": [
    {
     "name": "stdout",
     "output_type": "stream",
     "text": [
      "5\n",
      "13332\n",
      "31323\n",
      "33233\n",
      "32313\n",
      "23331\n",
      "4\n",
      "1332\n",
      "3123\n",
      "3213\n",
      "2331\n",
      "3\n",
      "132\n",
      "323\n",
      "231\n",
      "7\n",
      "1333332\n",
      "3133323\n",
      "3313233\n",
      "3332333\n",
      "3323133\n",
      "3233313\n",
      "2333331\n",
      "EOF\n"
     ]
    },
    {
     "ename": "ValueError",
     "evalue": "invalid literal for int() with base 10: 'EOF'",
     "output_type": "error",
     "traceback": [
      "\u001b[1;31m---------------------------------------------------------------------------\u001b[0m",
      "\u001b[1;31mValueError\u001b[0m                                Traceback (most recent call last)",
      "\u001b[1;32m<ipython-input-3-a92ef1b1cb02>\u001b[0m in \u001b[0;36m<module>\u001b[1;34m()\u001b[0m\n\u001b[0;32m      1\u001b[0m \u001b[1;32mwhile\u001b[0m \u001b[1;32mTrue\u001b[0m\u001b[1;33m:\u001b[0m\u001b[1;33m\u001b[0m\u001b[0m\n\u001b[0;32m      2\u001b[0m     \u001b[1;32mtry\u001b[0m\u001b[1;33m:\u001b[0m\u001b[1;33m\u001b[0m\u001b[0m\n\u001b[1;32m----> 3\u001b[1;33m         \u001b[0mN\u001b[0m \u001b[1;33m=\u001b[0m \u001b[0mint\u001b[0m\u001b[1;33m(\u001b[0m\u001b[0minput\u001b[0m\u001b[1;33m(\u001b[0m\u001b[1;33m)\u001b[0m\u001b[1;33m)\u001b[0m\u001b[1;33m\u001b[0m\u001b[0m\n\u001b[0m\u001b[0;32m      4\u001b[0m         \u001b[0mMatriz\u001b[0m \u001b[1;33m=\u001b[0m \u001b[1;33m[\u001b[0m\u001b[1;33m]\u001b[0m\u001b[1;33m\u001b[0m\u001b[0m\n\u001b[0;32m      5\u001b[0m         \u001b[1;32mfor\u001b[0m \u001b[0mi\u001b[0m \u001b[1;32min\u001b[0m \u001b[0mrange\u001b[0m\u001b[1;33m(\u001b[0m\u001b[0mN\u001b[0m\u001b[1;33m)\u001b[0m\u001b[1;33m:\u001b[0m\u001b[1;33m\u001b[0m\u001b[0m\n",
      "\u001b[1;31mValueError\u001b[0m: invalid literal for int() with base 10: 'EOF'"
     ]
    }
   ],
   "source": [
    "while True:\n",
    "    try:\n",
    "        N = int(input())\n",
    "        Matriz = []\n",
    "        for i in range(N):\n",
    "            Matriz.append([0]*N)\n",
    "\n",
    "        for i in range(N):\n",
    "            for j in range(N):\n",
    "                    if i == j:\n",
    "                        Matriz[i][j] = 1\n",
    "                    elif i+j == N-1:\n",
    "                        Matriz[i][j] = 2\n",
    "                    else:\n",
    "                        Matriz[i][j] = 3\n",
    "        if N%2 == 1: Matriz[N//2][N//2] = 2         \n",
    "\n",
    "        for i in range(N):\n",
    "            for j in range(N):\n",
    "                Matriz[i][j] = str(Matriz[i][j])\n",
    "            M = ''.join(Matriz[i])\n",
    "            print(M)\n",
    "    except EOFError:\n",
    "        break"
   ]
  },
  {
   "cell_type": "markdown",
   "metadata": {},
   "source": [
    "## 1541 - Construindo casas"
   ]
  },
  {
   "cell_type": "code",
   "execution_count": 12,
   "metadata": {},
   "outputs": [
    {
     "name": "stdout",
     "output_type": "stream",
     "text": [
      "8 10 20\n",
      "20\n",
      "1 10 100\n",
      "3\n",
      "10 3 100\n",
      "5\n",
      "0\n"
     ]
    }
   ],
   "source": [
    "while True:\n",
    "    A = [int(k) for k in input().split()]\n",
    "    if len(A)>1:\n",
    "        Terreno = A[0]*A[1]\n",
    "        Aumento = 100/A[2]\n",
    "        Real = Terreno*Aumento\n",
    "        Lado = int(Real**(1/2))\n",
    "        print(Lado)\n",
    "    else:\n",
    "        break"
   ]
  },
  {
   "cell_type": "markdown",
   "metadata": {},
   "source": [
    "## 1557 - Matriz Quadrada III"
   ]
  },
  {
   "cell_type": "code",
   "execution_count": 18,
   "metadata": {},
   "outputs": [
    {
     "name": "stdout",
     "output_type": "stream",
     "text": [
      "5\n",
      "  1   2   4   8  16\n",
      "  2   4   8  16  32\n",
      "  4   8  16  32  64\n",
      "  8  16  32  64 128\n",
      " 16  32  64 128 256\n",
      "\n",
      "10\n",
      "     1      2      4      8     16     32     64    128    256    512\n",
      "     2      4      8     16     32     64    128    256    512   1024\n",
      "     4      8     16     32     64    128    256    512   1024   2048\n",
      "     8     16     32     64    128    256    512   1024   2048   4096\n",
      "    16     32     64    128    256    512   1024   2048   4096   8192\n",
      "    32     64    128    256    512   1024   2048   4096   8192  16384\n",
      "    64    128    256    512   1024   2048   4096   8192  16384  32768\n",
      "   128    256    512   1024   2048   4096   8192  16384  32768  65536\n",
      "   256    512   1024   2048   4096   8192  16384  32768  65536 131072\n",
      "   512   1024   2048   4096   8192  16384  32768  65536 131072 262144\n",
      "\n",
      "15\n",
      "        1         2         4         8        16        32        64       128       256       512      1024      2048      4096      8192     16384\n",
      "        2         4         8        16        32        64       128       256       512      1024      2048      4096      8192     16384     32768\n",
      "        4         8        16        32        64       128       256       512      1024      2048      4096      8192     16384     32768     65536\n",
      "        8        16        32        64       128       256       512      1024      2048      4096      8192     16384     32768     65536    131072\n",
      "       16        32        64       128       256       512      1024      2048      4096      8192     16384     32768     65536    131072    262144\n",
      "       32        64       128       256       512      1024      2048      4096      8192     16384     32768     65536    131072    262144    524288\n",
      "       64       128       256       512      1024      2048      4096      8192     16384     32768     65536    131072    262144    524288   1048576\n",
      "      128       256       512      1024      2048      4096      8192     16384     32768     65536    131072    262144    524288   1048576   2097152\n",
      "      256       512      1024      2048      4096      8192     16384     32768     65536    131072    262144    524288   1048576   2097152   4194304\n",
      "      512      1024      2048      4096      8192     16384     32768     65536    131072    262144    524288   1048576   2097152   4194304   8388608\n",
      "     1024      2048      4096      8192     16384     32768     65536    131072    262144    524288   1048576   2097152   4194304   8388608  16777216\n",
      "     2048      4096      8192     16384     32768     65536    131072    262144    524288   1048576   2097152   4194304   8388608  16777216  33554432\n",
      "     4096      8192     16384     32768     65536    131072    262144    524288   1048576   2097152   4194304   8388608  16777216  33554432  67108864\n",
      "     8192     16384     32768     65536    131072    262144    524288   1048576   2097152   4194304   8388608  16777216  33554432  67108864 134217728\n",
      "    16384     32768     65536    131072    262144    524288   1048576   2097152   4194304   8388608  16777216  33554432  67108864 134217728 268435456\n",
      "\n",
      "12\n",
      "      1       2       4       8      16      32      64     128     256     512    1024    2048\n",
      "      2       4       8      16      32      64     128     256     512    1024    2048    4096\n",
      "      4       8      16      32      64     128     256     512    1024    2048    4096    8192\n",
      "      8      16      32      64     128     256     512    1024    2048    4096    8192   16384\n",
      "     16      32      64     128     256     512    1024    2048    4096    8192   16384   32768\n",
      "     32      64     128     256     512    1024    2048    4096    8192   16384   32768   65536\n",
      "     64     128     256     512    1024    2048    4096    8192   16384   32768   65536  131072\n",
      "    128     256     512    1024    2048    4096    8192   16384   32768   65536  131072  262144\n",
      "    256     512    1024    2048    4096    8192   16384   32768   65536  131072  262144  524288\n",
      "    512    1024    2048    4096    8192   16384   32768   65536  131072  262144  524288 1048576\n",
      "   1024    2048    4096    8192   16384   32768   65536  131072  262144  524288 1048576 2097152\n",
      "   2048    4096    8192   16384   32768   65536  131072  262144  524288 1048576 2097152 4194304\n",
      "\n",
      "0\n"
     ]
    }
   ],
   "source": [
    "N = int(input())\n",
    "while N != 0:\n",
    "    Matriz = []\n",
    "    for i in range(N):\n",
    "        Matriz.append([0]*N)\n",
    "\n",
    "    maior = 0\n",
    "    for i in range(N):\n",
    "        for j in range(N):\n",
    "            Matriz[i][j] = 2**(i+j)\n",
    "            if Matriz[i][j] > maior:\n",
    "                maior = Matriz[i][j]\n",
    "    T = len(str(maior))\n",
    "\n",
    "    for i in range(N):\n",
    "        for j in range(N):\n",
    "            Matriz[i][j] = str(Matriz[i][j])\n",
    "            Matriz[i][j] = '{}'.format(' '*(T - len(Matriz[i][j])))+Matriz[i][j]\n",
    "        M = ' '.join(Matriz[i])\n",
    "        print(M)\n",
    "    print('')\n",
    "    N = int(input())"
   ]
  },
  {
   "cell_type": "markdown",
   "metadata": {},
   "source": [
    "## 1564 - Vai ter Copa?"
   ]
  },
  {
   "cell_type": "code",
   "execution_count": 8,
   "metadata": {},
   "outputs": [
    {
     "name": "stdout",
     "output_type": "stream",
     "text": [
      "5\n",
      "vai ter duas!\n",
      "100000000\n",
      "vai ter duas!\n",
      "0\n",
      "vai ter copa!\n",
      "EOF\n"
     ]
    },
    {
     "ename": "ValueError",
     "evalue": "invalid literal for int() with base 10: 'EOF'",
     "output_type": "error",
     "traceback": [
      "\u001b[0;31m---------------------------------------------------------------------------\u001b[0m",
      "\u001b[0;31mValueError\u001b[0m                                Traceback (most recent call last)",
      "\u001b[0;32m<ipython-input-8-47bf7a3a4267>\u001b[0m in \u001b[0;36m<module>\u001b[0;34m()\u001b[0m\n\u001b[1;32m      1\u001b[0m \u001b[0;32mwhile\u001b[0m \u001b[0;32mTrue\u001b[0m\u001b[0;34m:\u001b[0m\u001b[0;34m\u001b[0m\u001b[0m\n\u001b[1;32m      2\u001b[0m     \u001b[0;32mtry\u001b[0m\u001b[0;34m:\u001b[0m\u001b[0;34m\u001b[0m\u001b[0m\n\u001b[0;32m----> 3\u001b[0;31m         \u001b[0mN\u001b[0m \u001b[0;34m=\u001b[0m \u001b[0mint\u001b[0m\u001b[0;34m(\u001b[0m\u001b[0minput\u001b[0m\u001b[0;34m(\u001b[0m\u001b[0;34m)\u001b[0m\u001b[0;34m)\u001b[0m\u001b[0;34m\u001b[0m\u001b[0m\n\u001b[0m\u001b[1;32m      4\u001b[0m         \u001b[0;32mif\u001b[0m \u001b[0mN\u001b[0m \u001b[0;34m!=\u001b[0m \u001b[0;36m0\u001b[0m\u001b[0;34m:\u001b[0m\u001b[0;34m\u001b[0m\u001b[0m\n\u001b[1;32m      5\u001b[0m             \u001b[0mprint\u001b[0m\u001b[0;34m(\u001b[0m\u001b[0;34m'vai ter duas!'\u001b[0m\u001b[0;34m)\u001b[0m\u001b[0;34m\u001b[0m\u001b[0m\n",
      "\u001b[0;31mValueError\u001b[0m: invalid literal for int() with base 10: 'EOF'"
     ]
    }
   ],
   "source": [
    "while True:\n",
    "    try:\n",
    "        N = int(input())\n",
    "        if N != 0:\n",
    "            print('vai ter duas!')\n",
    "        else:\n",
    "            print('vai ter copa!')\n",
    "    except EOFError:\n",
    "        break"
   ]
  },
  {
   "cell_type": "code",
   "execution_count": null,
   "metadata": {},
   "outputs": [],
   "source": []
  }
 ],
 "metadata": {
  "kernelspec": {
   "display_name": "Python 3",
   "language": "python",
   "name": "python3"
  },
  "language_info": {
   "codemirror_mode": {
    "name": "ipython",
    "version": 3
   },
   "file_extension": ".py",
   "mimetype": "text/x-python",
   "name": "python",
   "nbconvert_exporter": "python",
   "pygments_lexer": "ipython3",
   "version": "3.5.2"
  }
 },
 "nbformat": 4,
 "nbformat_minor": 2
}
