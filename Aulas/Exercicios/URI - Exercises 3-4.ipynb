{
 "cells": [
  {
   "cell_type": "markdown",
   "metadata": {},
   "source": [
    "## 1075 - Resto 2"
   ]
  },
  {
   "cell_type": "code",
   "execution_count": null,
   "metadata": {},
   "outputs": [],
   "source": [
    "N = int(input())\n",
    "for i in range(1,10001):\n",
    "    if i % N == 2:\n",
    "        print(i)\n"
   ]
  },
  {
   "cell_type": "markdown",
   "metadata": {},
   "source": [
    "## 1078 - Tabuada"
   ]
  },
  {
   "cell_type": "code",
   "execution_count": null,
   "metadata": {},
   "outputs": [],
   "source": [
    "N = int(input())\n",
    "for i in range(1,11):\n",
    "    print('{} x {} = {}'.format(i,N,N*i))"
   ]
  },
  {
   "cell_type": "markdown",
   "metadata": {},
   "source": [
    "## 1079 - Médias Ponderadas"
   ]
  },
  {
   "cell_type": "code",
   "execution_count": null,
   "metadata": {},
   "outputs": [],
   "source": [
    "N = int(input())\n",
    "for i in range(N):\n",
    "    n1,n2,n3 = input().split()\n",
    "    n1 = float(n1)\n",
    "    n2 = float(n2)\n",
    "    n3 = float(n3)\n",
    "    M = (2*n1+3*n2+5*n3)/10\n",
    "    print('{:.1f}'.format(M))"
   ]
  },
  {
   "cell_type": "markdown",
   "metadata": {},
   "source": [
    "## 1080 - Maior e Posição"
   ]
  },
  {
   "cell_type": "code",
   "execution_count": null,
   "metadata": {},
   "outputs": [],
   "source": [
    "maior = 0\n",
    "#for i in range(100):\n",
    " #   a = int(input())\n",
    "  #  if a > maior:\n",
    "   #     maior = a\n",
    "    #    posicao = i + 1\n",
    "#print(maior)\n",
    "#print(posicao)"
   ]
  },
  {
   "cell_type": "markdown",
   "metadata": {},
   "source": [
    "## 1094 - Experiencias"
   ]
  },
  {
   "cell_type": "code",
   "execution_count": null,
   "metadata": {},
   "outputs": [],
   "source": [
    "Nexp = int(input())\n",
    "coelhos = 0\n",
    "ratos = 0\n",
    "sapos = 0\n",
    "for i in range(Nexp):\n",
    "    quant,cobaia = input().split()\n",
    "    if cobaia == 'C':\n",
    "        coelhos = coelhos + int(quant)\n",
    "    elif cobaia == 'R':\n",
    "        ratos = ratos + int(quant)\n",
    "    else:\n",
    "        sapos = sapos + int(quant)\n",
    "print('Total: {} cobaias'.format(sapos+coelhos+ratos))\n",
    "print('Total de coelhos: {}'.format(coelhos))\n",
    "print('Total de ratos: {}'.format(ratos))\n",
    "print('Total de sapos: {}'.format(sapos))\n",
    "print('Percentual de coelhos: {:.2f} %'.format(coelhos*100/(coelhos+sapos+ratos)))\n",
    "print('Percentual de ratos: {:.2f} %'.format(ratos*100/(coelhos+sapos+ratos)))\n",
    "print('Percentual de sapos: {:.2f} %'.format(sapos*100/(coelhos+sapos+ratos)))"
   ]
  },
  {
   "cell_type": "markdown",
   "metadata": {},
   "source": [
    "## 1095 e 1096 - Sequencia IJ 1 e IJ 2"
   ]
  },
  {
   "cell_type": "code",
   "execution_count": null,
   "metadata": {},
   "outputs": [],
   "source": [
    "#i = 1\n",
    "#for j in range(60,-1,-5):\n",
    "#    print('I={} J={}'.format(i,j))\n",
    "#    i = i + 3\n",
    "i = 1\n",
    "while i < 10:\n",
    "    print('I={} J=7'.format(i))\n",
    "    print('I={} J=6'.format(i))\n",
    "    print('I={} J=5'.format(i))\n",
    "    i += 2"
   ]
  },
  {
   "cell_type": "markdown",
   "metadata": {},
   "source": [
    "## 1097 e 1098 - Sequencia IJ 3 e 4"
   ]
  },
  {
   "cell_type": "code",
   "execution_count": null,
   "metadata": {},
   "outputs": [],
   "source": [
    "lista = [k/10 for k in range(0,21,2)]\n",
    "print(lista)\n",
    "for p in range(len(lista)):\n",
    "    if lista[p]%1 == 0.0:\n",
    "        lista[p] = int(lista[p])\n",
    "print(lista)\n",
    "for i in lista:\n",
    "    print('I={} J={}\\nI={} J={}\\nI={} J={}'.format(i,i+1,i,i+2,i,i+3))"
   ]
  },
  {
   "cell_type": "markdown",
   "metadata": {},
   "source": [
    "## 1099 - Soma dos ímpares "
   ]
  },
  {
   "cell_type": "code",
   "execution_count": null,
   "metadata": {},
   "outputs": [],
   "source": [
    "N = int(input())\n",
    "for i in range(N):\n",
    "    n1,n2=input().split()\n",
    "    n1 = int(n1)\n",
    "    n2 = int(n2)\n",
    "    if n1 > n2:\n",
    "        n = n1\n",
    "        n1 = n2\n",
    "        n2 = n\n",
    "    lista = [k for k in range(n1+1,n2) if k%2==1]\n",
    "    print(sum(lista))"
   ]
  },
  {
   "cell_type": "code",
   "execution_count": null,
   "metadata": {},
   "outputs": [],
   "source": [
    "a = True\n",
    "while a == True:\n",
    "    N,M = input().split()\n",
    "    if int(N) <= 0 or int(M)<=0:\n",
    "        break\n",
    "    if int(N)>int(M):\n",
    "        n = N\n",
    "        N = M\n",
    "        M = n\n",
    "    n0 = int(N)\n",
    "    m0 = int(M)\n",
    "    sequencia = N\n",
    "    while int(N) < int(M):\n",
    "        N = int(N)+1\n",
    "        N = str(N)\n",
    "        sequencia = sequencia + ' ' + N\n",
    "    print('{} Sum={}'.format(sequencia,int((n0+m0)*(m0-n0+1)/2)))"
   ]
  },
  {
   "cell_type": "markdown",
   "metadata": {},
   "source": [
    "## 1113 - Crescente e descrescente"
   ]
  },
  {
   "cell_type": "code",
   "execution_count": null,
   "metadata": {},
   "outputs": [],
   "source": [
    "a = True\n",
    "while a == True:\n",
    "    n1,n2 = input().split()\n",
    "    n2 = int(n2)\n",
    "    n1 = int(n1)\n",
    "    if n1>n2:\n",
    "        print('Decrescente')\n",
    "    elif n2>n1:\n",
    "        print('Crescente')\n",
    "    else:\n",
    "        a = False\n",
    "        break\n"
   ]
  },
  {
   "cell_type": "markdown",
   "metadata": {},
   "source": [
    "## 1114 - Senha Fixa"
   ]
  },
  {
   "cell_type": "code",
   "execution_count": null,
   "metadata": {},
   "outputs": [],
   "source": [
    "senha = 0\n",
    "while senha != 2002:\n",
    "    senha = int(input())\n",
    "    if senha == 2002:\n",
    "        print('Acesso Permitido')\n",
    "    else:\n",
    "        print('Senha Invalida')"
   ]
  },
  {
   "cell_type": "markdown",
   "metadata": {},
   "source": [
    "## 1115 - Quadrante"
   ]
  },
  {
   "cell_type": "code",
   "execution_count": null,
   "metadata": {},
   "outputs": [],
   "source": [
    "x = 1\n",
    "y = 1\n",
    "while x != 0 and y != 0:\n",
    "    x,y = input().split()\n",
    "    x = int(x)\n",
    "    y = int(y)\n",
    "    if x>0 and y>0: print('primeiro')\n",
    "    elif x<0 and y>0:print('segundo')\n",
    "    elif x<0 and y<0:print('terceiro')\n",
    "    elif x>0 and y<0:print('quarto')\n"
   ]
  },
  {
   "cell_type": "markdown",
   "metadata": {},
   "source": [
    "## 1116 - Dividindo X po Y"
   ]
  },
  {
   "cell_type": "code",
   "execution_count": null,
   "metadata": {},
   "outputs": [],
   "source": [
    "N = int(input())\n",
    "for i in range(N):\n",
    "    n1,n2 = input().split()\n",
    "    n1 = int(n1)\n",
    "    n2 = int(n2)\n",
    "    if n2 == 0:\n",
    "        print('divisao impossivel')\n",
    "    else:\n",
    "        print(round(n1/n2,1))"
   ]
  },
  {
   "cell_type": "markdown",
   "metadata": {},
   "source": [
    "## 1117 e 1118 - Validação de Notas e Várias Notas"
   ]
  },
  {
   "cell_type": "code",
   "execution_count": 21,
   "metadata": {},
   "outputs": [
    {
     "name": "stdout",
     "output_type": "stream",
     "text": [
      "-1\n",
      "nota invalida\n",
      "-2\n",
      "nota invalida\n",
      "0\n",
      "10\n",
      "media = 5.00\n",
      "novo calculo (1-sim 2-nao)\n",
      "1\n",
      "4\n",
      "-4\n",
      "nota invalida\n",
      "3\n",
      "media = 3.50\n",
      "novo calculo (1-sim 2-nao)\n",
      "5\n",
      "5\n",
      "5\n",
      "5\n",
      "5\n",
      "5\n",
      "1\n",
      "-9\n",
      "nota invalida\n",
      "10\n",
      "2\n",
      "media = 6.00\n",
      "novo calculo (1-sim 2-nao)\n",
      "2\n"
     ]
    }
   ],
   "source": [
    "X = 1\n",
    "while X == 1:\n",
    "    notas = ['sem','sem']\n",
    "    while 'sem' in notas:\n",
    "        nota = float(input())\n",
    "        if nota <0 or nota>10:\n",
    "            print('nota invalida')\n",
    "        else:\n",
    "            notas.pop(0)\n",
    "            notas.append(nota)\n",
    "    print('media = {:.2f}'.format((notas[0]+notas[1])/2))\n",
    "    print('novo calculo (1-sim 2-nao)')\n",
    "    X = int(input())\n",
    "    while X != 1 and X != 2:\n",
    "        print('novo calculo (1-sim 2-nao)')\n",
    "        X = int(input())        "
   ]
  },
  {
   "cell_type": "markdown",
   "metadata": {},
   "source": [
    "## 1131 - Grenais"
   ]
  },
  {
   "cell_type": "code",
   "execution_count": 22,
   "metadata": {},
   "outputs": [
    {
     "name": "stdout",
     "output_type": "stream",
     "text": [
      "3 2\n",
      "Novo grenal (1-sim 2-nao)\n",
      "1\n",
      "4 2\n",
      "Novo grenal (1-sim 2-nao)\n",
      "1\n",
      "3 4\n",
      "Novo grenal (1-sim 2-nao)\n",
      "1\n",
      "4 6\n",
      "Novo grenal (1-sim 2-nao)\n",
      "1\n",
      "3 2\n",
      "Novo grenal (1-sim 2-nao)\n",
      "2\n",
      "5 grenais\n",
      "Inter:3\n",
      "Gremio:2\n",
      "Empates:0\n",
      "Inter venceu mais\n"
     ]
    }
   ],
   "source": [
    "resposta = 1\n",
    "vit_inter = 0\n",
    "vit_gremio = 0\n",
    "empates = 0 \n",
    "while resposta == 1:\n",
    "    inter,gremio = input().split()\n",
    "    inter = int(inter)\n",
    "    gremio = int(gremio)\n",
    "    if inter>gremio:\n",
    "        vit_inter += 1\n",
    "    elif gremio>inter:\n",
    "        vit_gremio += 1\n",
    "    else:\n",
    "        empates += 1\n",
    "    print('Novo grenal (1-sim 2-nao)')\n",
    "    resposta = int(input())\n",
    "print('{} grenais'.format(vit_inter+vit_gremio+empates))\n",
    "print('Inter:{}'.format(vit_inter))\n",
    "print('Gremio:{}'.format(vit_gremio))\n",
    "print('Empates:{}'.format(empates))\n",
    "if vit_inter > vit_gremio:\n",
    "    vencedor = 'Inter'\n",
    "else:\n",
    "    vencedor = 'Gremio'\n",
    "print('{} venceu mais'.format(vencedor))    "
   ]
  },
  {
   "cell_type": "code",
   "execution_count": null,
   "metadata": {},
   "outputs": [],
   "source": []
  }
 ],
 "metadata": {
  "kernelspec": {
   "display_name": "Python 3",
   "language": "python",
   "name": "python3"
  },
  "language_info": {
   "codemirror_mode": {
    "name": "ipython",
    "version": 3
   },
   "file_extension": ".py",
   "mimetype": "text/x-python",
   "name": "python",
   "nbconvert_exporter": "python",
   "pygments_lexer": "ipython3",
   "version": "3.5.2"
  }
 },
 "nbformat": 4,
 "nbformat_minor": 2
}
