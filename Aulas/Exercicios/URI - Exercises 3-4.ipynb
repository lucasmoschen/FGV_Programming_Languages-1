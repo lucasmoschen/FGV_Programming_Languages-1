{
 "cells": [
  {
   "cell_type": "markdown",
   "metadata": {},
   "source": [
    "## 1075 - Resto 2"
   ]
  },
  {
   "cell_type": "code",
   "execution_count": null,
   "metadata": {},
   "outputs": [],
   "source": [
    "N = int(input())\n",
    "for i in range(1,10001):\n",
    "    if i % N == 2:\n",
    "        print(i)\n"
   ]
  },
  {
   "cell_type": "markdown",
   "metadata": {},
   "source": [
    "## 1078 - Tabuada"
   ]
  },
  {
   "cell_type": "code",
   "execution_count": null,
   "metadata": {},
   "outputs": [],
   "source": [
    "N = int(input())\n",
    "for i in range(1,11):\n",
    "    print('{} x {} = {}'.format(i,N,N*i))"
   ]
  },
  {
   "cell_type": "markdown",
   "metadata": {},
   "source": [
    "## 1079 - Médias Ponderadas"
   ]
  },
  {
   "cell_type": "code",
   "execution_count": null,
   "metadata": {},
   "outputs": [],
   "source": [
    "N = int(input())\n",
    "for i in range(N):\n",
    "    n1,n2,n3 = input().split()\n",
    "    n1 = float(n1)\n",
    "    n2 = float(n2)\n",
    "    n3 = float(n3)\n",
    "    M = (2*n1+3*n2+5*n3)/10\n",
    "    print('{:.1f}'.format(M))"
   ]
  },
  {
   "cell_type": "markdown",
   "metadata": {},
   "source": [
    "## 1080 - Maior e Posição"
   ]
  },
  {
   "cell_type": "code",
   "execution_count": null,
   "metadata": {},
   "outputs": [],
   "source": [
    "maior = 0\n",
    "#for i in range(100):\n",
    " #   a = int(input())\n",
    "  #  if a > maior:\n",
    "   #     maior = a\n",
    "    #    posicao = i + 1\n",
    "#print(maior)\n",
    "#print(posicao)"
   ]
  },
  {
   "cell_type": "markdown",
   "metadata": {},
   "source": [
    "## 1094 - Experiencias"
   ]
  },
  {
   "cell_type": "code",
   "execution_count": null,
   "metadata": {},
   "outputs": [],
   "source": [
    "Nexp = int(input())\n",
    "coelhos = 0\n",
    "ratos = 0\n",
    "sapos = 0\n",
    "for i in range(Nexp):\n",
    "    quant,cobaia = input().split()\n",
    "    if cobaia == 'C':\n",
    "        coelhos = coelhos + int(quant)\n",
    "    elif cobaia == 'R':\n",
    "        ratos = ratos + int(quant)\n",
    "    else:\n",
    "        sapos = sapos + int(quant)\n",
    "print('Total: {} cobaias'.format(sapos+coelhos+ratos))\n",
    "print('Total de coelhos: {}'.format(coelhos))\n",
    "print('Total de ratos: {}'.format(ratos))\n",
    "print('Total de sapos: {}'.format(sapos))\n",
    "print('Percentual de coelhos: {:.2f} %'.format(coelhos*100/(coelhos+sapos+ratos)))\n",
    "print('Percentual de ratos: {:.2f} %'.format(ratos*100/(coelhos+sapos+ratos)))\n",
    "print('Percentual de sapos: {:.2f} %'.format(sapos*100/(coelhos+sapos+ratos)))"
   ]
  },
  {
   "cell_type": "markdown",
   "metadata": {},
   "source": [
    "## 1095 e 1096 - Sequencia IJ 1 e IJ 2"
   ]
  },
  {
   "cell_type": "code",
   "execution_count": null,
   "metadata": {},
   "outputs": [],
   "source": [
    "#i = 1\n",
    "#for j in range(60,-1,-5):\n",
    "#    print('I={} J={}'.format(i,j))\n",
    "#    i = i + 3\n",
    "i = 1\n",
    "while i < 10:\n",
    "    print('I={} J=7'.format(i))\n",
    "    print('I={} J=6'.format(i))\n",
    "    print('I={} J=5'.format(i))\n",
    "    i += 2"
   ]
  },
  {
   "cell_type": "markdown",
   "metadata": {},
   "source": [
    "## 1097 e 1098 - Sequencia IJ 3 e 4"
   ]
  },
  {
   "cell_type": "code",
   "execution_count": null,
   "metadata": {},
   "outputs": [],
   "source": [
    "lista = [k/10 for k in range(0,21,2)]\n",
    "print(lista)\n",
    "for p in range(len(lista)):\n",
    "    if lista[p]%1 == 0.0:\n",
    "        lista[p] = int(lista[p])\n",
    "print(lista)\n",
    "for i in lista:\n",
    "    print('I={} J={}\\nI={} J={}\\nI={} J={}'.format(i,i+1,i,i+2,i,i+3))"
   ]
  },
  {
   "cell_type": "markdown",
   "metadata": {},
   "source": [
    "## 1099 - Soma dos ímpares "
   ]
  },
  {
   "cell_type": "code",
   "execution_count": null,
   "metadata": {},
   "outputs": [],
   "source": [
    "N = int(input())\n",
    "for i in range(N):\n",
    "    n1,n2=input().split()\n",
    "    n1 = int(n1)\n",
    "    n2 = int(n2)\n",
    "    if n1 > n2:\n",
    "        n = n1\n",
    "        n1 = n2\n",
    "        n2 = n\n",
    "    lista = [k for k in range(n1+1,n2) if k%2==1]\n",
    "    print(sum(lista))"
   ]
  },
  {
   "cell_type": "code",
   "execution_count": null,
   "metadata": {},
   "outputs": [],
   "source": [
    "a = True\n",
    "while a == True:\n",
    "    N,M = input().split()\n",
    "    if int(N) <= 0 or int(M)<=0:\n",
    "        break\n",
    "    if int(N)>int(M):\n",
    "        n = N\n",
    "        N = M\n",
    "        M = n\n",
    "    n0 = int(N)\n",
    "    m0 = int(M)\n",
    "    sequencia = N\n",
    "    while int(N) < int(M):\n",
    "        N = int(N)+1\n",
    "        N = str(N)\n",
    "        sequencia = sequencia + ' ' + N\n",
    "    print('{} Sum={}'.format(sequencia,int((n0+m0)*(m0-n0+1)/2)))"
   ]
  },
  {
   "cell_type": "markdown",
   "metadata": {},
   "source": [
    "## 1113 - Crescente e descrescente"
   ]
  },
  {
   "cell_type": "code",
   "execution_count": null,
   "metadata": {},
   "outputs": [],
   "source": [
    "a = True\n",
    "while a == True:\n",
    "    n1,n2 = input().split()\n",
    "    n2 = int(n2)\n",
    "    n1 = int(n1)\n",
    "    if n1>n2:\n",
    "        print('Decrescente')\n",
    "    elif n2>n1:\n",
    "        print('Crescente')\n",
    "    else:\n",
    "        a = False\n",
    "        break\n"
   ]
  },
  {
   "cell_type": "markdown",
   "metadata": {},
   "source": [
    "## 1114 - Senha Fixa"
   ]
  },
  {
   "cell_type": "code",
   "execution_count": null,
   "metadata": {},
   "outputs": [],
   "source": [
    "senha = 0\n",
    "while senha != 2002:\n",
    "    senha = int(input())\n",
    "    if senha == 2002:\n",
    "        print('Acesso Permitido')\n",
    "    else:\n",
    "        print('Senha Invalida')"
   ]
  },
  {
   "cell_type": "markdown",
   "metadata": {},
   "source": [
    "## 1115 - Quadrante"
   ]
  },
  {
   "cell_type": "code",
   "execution_count": null,
   "metadata": {},
   "outputs": [],
   "source": [
    "x = 1\n",
    "y = 1\n",
    "while x != 0 and y != 0:\n",
    "    x,y = input().split()\n",
    "    x = int(x)\n",
    "    y = int(y)\n",
    "    if x>0 and y>0: print('primeiro')\n",
    "    elif x<0 and y>0:print('segundo')\n",
    "    elif x<0 and y<0:print('terceiro')\n",
    "    elif x>0 and y<0:print('quarto')\n"
   ]
  },
  {
   "cell_type": "markdown",
   "metadata": {},
   "source": [
    "## 1116 - Dividindo X po Y"
   ]
  },
  {
   "cell_type": "code",
   "execution_count": null,
   "metadata": {},
   "outputs": [],
   "source": [
    "N = int(input())\n",
    "for i in range(N):\n",
    "    n1,n2 = input().split()\n",
    "    n1 = int(n1)\n",
    "    n2 = int(n2)\n",
    "    if n2 == 0:\n",
    "        print('divisao impossivel')\n",
    "    else:\n",
    "        print(round(n1/n2,1))"
   ]
  },
  {
   "cell_type": "markdown",
   "metadata": {},
   "source": [
    "## 1117 e 1118 - Validação de Notas e Várias Notas"
   ]
  },
  {
   "cell_type": "code",
   "execution_count": null,
   "metadata": {},
   "outputs": [],
   "source": [
    "X = 1\n",
    "while X == 1:\n",
    "    notas = ['sem','sem']\n",
    "    while 'sem' in notas:\n",
    "        nota = float(input())\n",
    "        if nota <0 or nota>10:\n",
    "            print('nota invalida')\n",
    "        else:\n",
    "            notas.pop(0)\n",
    "            notas.append(nota)\n",
    "    print('media = {:.2f}'.format((notas[0]+notas[1])/2))\n",
    "    print('novo calculo (1-sim 2-nao)')\n",
    "    X = int(input())\n",
    "    while X != 1 and X != 2:\n",
    "        print('novo calculo (1-sim 2-nao)')\n",
    "        X = int(input())        "
   ]
  },
  {
   "cell_type": "markdown",
   "metadata": {},
   "source": [
    "## 1131 - Grenais"
   ]
  },
  {
   "cell_type": "code",
   "execution_count": null,
   "metadata": {},
   "outputs": [],
   "source": [
    "resposta = 1\n",
    "vit_inter = 0\n",
    "vit_gremio = 0\n",
    "empates = 0 \n",
    "while resposta == 1:\n",
    "    inter,gremio = input().split()\n",
    "    inter = int(inter)\n",
    "    gremio = int(gremio)\n",
    "    if inter>gremio:\n",
    "        vit_inter += 1\n",
    "    elif gremio>inter:\n",
    "        vit_gremio += 1\n",
    "    else:\n",
    "        empates += 1\n",
    "    print('Novo grenal (1-sim 2-nao)')\n",
    "    resposta = int(input())\n",
    "print('{} grenais'.format(vit_inter+vit_gremio+empates))\n",
    "print('Inter:{}'.format(vit_inter))\n",
    "print('Gremio:{}'.format(vit_gremio))\n",
    "print('Empates:{}'.format(empates))\n",
    "if vit_inter > vit_gremio:\n",
    "    vencedor = 'Inter'\n",
    "else:\n",
    "    vencedor = 'Gremio'\n",
    "print('{} venceu mais'.format(vencedor))    "
   ]
  },
  {
   "cell_type": "markdown",
   "metadata": {},
   "source": [
    "## - 1132 - Multiplos de 13"
   ]
  },
  {
   "cell_type": "code",
   "execution_count": null,
   "metadata": {},
   "outputs": [],
   "source": [
    "n1 = int(input())\n",
    "n2 = int(input())\n",
    "if n1>n2:\n",
    "    n = n1\n",
    "    n1 = n2\n",
    "    n2 = n\n",
    "lista = [k for k in range(n1,n2+1) if k%13 != 0]\n",
    "print(sum(lista))"
   ]
  },
  {
   "cell_type": "markdown",
   "metadata": {},
   "source": [
    "## 1133 - Resto da Divisão"
   ]
  },
  {
   "cell_type": "code",
   "execution_count": null,
   "metadata": {},
   "outputs": [],
   "source": [
    "n1 = int(input())\n",
    "n2 = int(input())\n",
    "if n1>n2:\n",
    "    n = n1\n",
    "    n1 = n2\n",
    "    n2 = n\n",
    "for k in range(n1+1,n2):\n",
    "    if k%5 == 2 or k%5 == 3:\n",
    "        print(k)"
   ]
  },
  {
   "cell_type": "markdown",
   "metadata": {},
   "source": [
    "## 1134 - Tipo de combustível"
   ]
  },
  {
   "cell_type": "code",
   "execution_count": null,
   "metadata": {},
   "outputs": [],
   "source": [
    "favorito = 0\n",
    "alcool = 0\n",
    "gasolina = 0\n",
    "diesel = 0\n",
    "while favorito != 4:\n",
    "    favorito = int(input())\n",
    "    if favorito == 1:\n",
    "        alcool += 1\n",
    "    elif favorito == 2:\n",
    "        gasolina += 1\n",
    "    elif favorito == 3:\n",
    "        diesel += 1\n",
    "    elif favorito == 4:\n",
    "        break\n",
    "    else:\n",
    "        favorito = 0\n",
    "print('MUITO OBRIGADO')\n",
    "print('Alcool: {}\\nGasolina: {}\\nDiesel: {}'.format(alcool,gasolina,diesel))"
   ]
  },
  {
   "cell_type": "markdown",
   "metadata": {},
   "source": [
    "## 1142 - PUM"
   ]
  },
  {
   "cell_type": "code",
   "execution_count": null,
   "metadata": {},
   "outputs": [],
   "source": [
    "N = int(input())\n",
    "for i in range(N):\n",
    "    print('{} {} {} PUM'.format((i)*4+1,(i)*4+2,(i)*4+3))"
   ]
  },
  {
   "cell_type": "markdown",
   "metadata": {},
   "source": [
    "## 1143 Quadrado e ao cubo"
   ]
  },
  {
   "cell_type": "code",
   "execution_count": null,
   "metadata": {},
   "outputs": [],
   "source": [
    "N = int(input())\n",
    "for i in range(1,N+1):\n",
    "    print('{} {} {}'.format(i,i*i,i*i*i))"
   ]
  },
  {
   "cell_type": "markdown",
   "metadata": {},
   "source": [
    "## 1044 Sequencia Lógica"
   ]
  },
  {
   "cell_type": "code",
   "execution_count": null,
   "metadata": {},
   "outputs": [],
   "source": [
    "N = int(input())\n",
    "for i in range(1,N+1):\n",
    "    print('{} {} {}'.format(i,i*i,i*i*i))\n",
    "    print('{} {} {}'.format(i,i*i+1,i*i*i+1))"
   ]
  },
  {
   "cell_type": "markdown",
   "metadata": {},
   "source": [
    "## 1045 Sequencia Logica 2"
   ]
  },
  {
   "cell_type": "code",
   "execution_count": null,
   "metadata": {},
   "outputs": [],
   "source": [
    "n1,n2 = map(int, input().split())\n",
    "saida = ''\n",
    "cont = 0\n",
    "while cont < n2:\n",
    "    cont += 1\n",
    "    saida = saida + str(cont) + ' '\n",
    "    if(cont % n1 == 0):\n",
    "        print(saida[:-1])\n",
    "        saida = ''"
   ]
  },
  {
   "cell_type": "markdown",
   "metadata": {},
   "source": [
    "## 1146 - Sequências Continuas"
   ]
  },
  {
   "cell_type": "code",
   "execution_count": null,
   "metadata": {},
   "outputs": [],
   "source": [
    "N = int(input())\n",
    "while N != 0:\n",
    "    string = ''\n",
    "    for i in range(1,N+1):\n",
    "        string = string + str(i) + ' '\n",
    "    print(string[:-1])\n",
    "    N = int(input())\n",
    "        "
   ]
  },
  {
   "cell_type": "markdown",
   "metadata": {},
   "source": [
    "## 1149 - Somando Inteiros Consecutivos"
   ]
  },
  {
   "cell_type": "code",
   "execution_count": null,
   "metadata": {},
   "outputs": [],
   "source": [
    "A,*N = map(int,input().split())\n",
    "soma = 0\n",
    "N.sort()\n",
    "N = int(N[-1])\n",
    "for i in range(N):\n",
    "    soma = A+i+soma\n",
    "print(soma)"
   ]
  },
  {
   "cell_type": "markdown",
   "metadata": {},
   "source": [
    "## 1150 - Ultrapassando Z"
   ]
  },
  {
   "cell_type": "code",
   "execution_count": null,
   "metadata": {},
   "outputs": [],
   "source": [
    "X = int(input())\n",
    "Z = int(input())\n",
    "while Z<=X:\n",
    "    Z = int(input())\n",
    "Y = X\n",
    "cont = 1\n",
    "while Y < Z:\n",
    "    Y = Y + X + cont\n",
    "    cont += 1\n",
    "print(cont)    "
   ]
  },
  {
   "cell_type": "markdown",
   "metadata": {},
   "source": [
    "## 1151 - Fibonacci Fácil"
   ]
  },
  {
   "cell_type": "code",
   "execution_count": null,
   "metadata": {},
   "outputs": [],
   "source": [
    "N = int(input())\n",
    "if N == 1:\n",
    "    print('0')\n",
    "elif N == 2:\n",
    "    (print('0 1'))\n",
    "else:\n",
    "    string = '0 1'\n",
    "    n1,n2 = 0,1\n",
    "    for i in range(N-2):\n",
    "        n = n2\n",
    "        n2 = n1 + n2 \n",
    "        n1 = n\n",
    "        string = string + ' ' + str(n2) \n",
    "    print(string)        "
   ]
  },
  {
   "cell_type": "markdown",
   "metadata": {},
   "source": [
    "## 1153 - Fatorial Simples"
   ]
  },
  {
   "cell_type": "code",
   "execution_count": null,
   "metadata": {},
   "outputs": [],
   "source": [
    "N = int(input())\n",
    "if N == 0:\n",
    "    print(1)\n",
    "else:\n",
    "    N2 = N\n",
    "    while N != 1:\n",
    "        N2 = N2*(N-1)\n",
    "        N -= 1\n",
    "    print(N2)"
   ]
  },
  {
   "cell_type": "markdown",
   "metadata": {},
   "source": [
    "## 1154 - Idades"
   ]
  },
  {
   "cell_type": "code",
   "execution_count": null,
   "metadata": {},
   "outputs": [],
   "source": [
    "I = int(input())\n",
    "soma = 0\n",
    "count = 0\n",
    "while I >= 0:\n",
    "    soma += I\n",
    "    count += 1\n",
    "    I = int(input())\n",
    "print('{:.2f}'.format(soma/count))\n",
    "    \n",
    "    \n",
    "    "
   ]
  },
  {
   "cell_type": "markdown",
   "metadata": {},
   "source": [
    "## 1155 e 1056 - Sequencia S e S II"
   ]
  },
  {
   "cell_type": "code",
   "execution_count": null,
   "metadata": {},
   "outputs": [],
   "source": [
    "#S = 0\n",
    "#for i in range(1,101):\n",
    " #   S = S + 1/i\n",
    "#print('{:.2f}'.format(S))\n",
    "\n",
    "S = 0\n",
    "for i in range(18):\n",
    "    S = S + (2*i+1)/(2**(i))\n",
    "print('{}'.format(S))    "
   ]
  },
  {
   "cell_type": "markdown",
   "metadata": {},
   "source": [
    "## 1157 - Divisores I"
   ]
  },
  {
   "cell_type": "code",
   "execution_count": null,
   "metadata": {},
   "outputs": [],
   "source": [
    "N = int(input())\n",
    "for i in range(1,N+1):\n",
    "    if N%i == 0:\n",
    "        print(i)   "
   ]
  },
  {
   "cell_type": "markdown",
   "metadata": {},
   "source": [
    "## 1158 - Soma de Impares Consecutivos III"
   ]
  },
  {
   "cell_type": "code",
   "execution_count": null,
   "metadata": {},
   "outputs": [],
   "source": [
    "N = int(input())\n",
    "for k in range(N):\n",
    "    X,Y = map(int,input().split())\n",
    "    Soma = 0\n",
    "    for i in range(Y):\n",
    "        if X%2 == 0:\n",
    "            X = X+1\n",
    "        Soma = X + Soma\n",
    "        X = X + 2\n",
    "    print(Soma)\n",
    "\n",
    "        "
   ]
  },
  {
   "cell_type": "markdown",
   "metadata": {},
   "source": [
    "## 1159 - Soma de Pares Consecutivos"
   ]
  },
  {
   "cell_type": "code",
   "execution_count": null,
   "metadata": {},
   "outputs": [],
   "source": [
    "N = int(input())\n",
    "while N != 0:\n",
    "    Soma = 5*N + 20\n",
    "    if N%2 == 1:\n",
    "        Soma += 5\n",
    "    print(Soma)\n",
    "    N = int(input())"
   ]
  },
  {
   "cell_type": "markdown",
   "metadata": {},
   "source": [
    "## 1160 - Crescimento exponencial"
   ]
  },
  {
   "cell_type": "code",
   "execution_count": null,
   "metadata": {},
   "outputs": [],
   "source": [
    "T = int(input())\n",
    "for t in range(T):\n",
    "    PA,PB,G1,G2 = map(float,input().split())\n",
    "    n = 0\n",
    "    while PA <= PB and n <=100:\n",
    "        n += 1\n",
    "        PA = int(PA*(1+(G1/100)))\n",
    "        PB = int(PB*(1+(G2/100)))\n",
    "    if n > 100:\n",
    "        print('Mais de 1 seculo.')\n",
    "    else:\n",
    "        print('{} anos.'.format(n))"
   ]
  },
  {
   "cell_type": "markdown",
   "metadata": {},
   "source": [
    "## 1164 - Número Perfeito"
   ]
  },
  {
   "cell_type": "code",
   "execution_count": null,
   "metadata": {},
   "outputs": [
    {
     "name": "stdout",
     "output_type": "stream",
     "text": [
      "8\n",
      "6\n",
      "6 eh perfeito\n",
      "28\n",
      "28 eh perfeito\n",
      "496\n",
      "496 eh perfeito\n",
      "8128\n",
      "8128 eh perfeito\n",
      "33550336\n",
      "33550336 eh perfeito\n"
     ]
    }
   ],
   "source": [
    "X = int(input())\n",
    "for k in range(X):\n",
    "    N = int(input())\n",
    "    soma = 1\n",
    "    for i in range(2,N):\n",
    "        if N%i == 0:\n",
    "            soma = soma + i\n",
    "    if N == soma and N != 1:\n",
    "        print('{} eh perfeito'.format(N))\n",
    "    else:\n",
    "        print('{} nao eh perfeito'.format(N))"
   ]
  },
  {
   "cell_type": "markdown",
   "metadata": {},
   "source": [
    "#### 1065 - Número primo"
   ]
  },
  {
   "cell_type": "code",
   "execution_count": null,
   "metadata": {},
   "outputs": [],
   "source": [
    "X = int(input())\n",
    "for k in range(X):\n",
    "    N = int(input())\n",
    "    if N == 1:\n",
    "        print('{} nao eh primo'.format(N))\n",
    "    else:\n",
    "        a = True\n",
    "        for i in range(2,int(N**(1/2))+1):\n",
    "            if N%i == 0:\n",
    "                print('{} nao eh primo'.format(N))\n",
    "                a = False\n",
    "                break\n",
    "        if a != False:\n",
    "            print('{} eh primo'.format(N))"
   ]
  },
  {
   "cell_type": "markdown",
   "metadata": {},
   "source": [
    "## 1172 - Substituição por Vetor I"
   ]
  },
  {
   "cell_type": "code",
   "execution_count": null,
   "metadata": {},
   "outputs": [],
   "source": [
    "for i in range(10):\n",
    "    Vetor = int(input())\n",
    "    if Vetor<=0:Vetor = 1\n",
    "    print('X[{}] = {}'.format(i,Vetor))"
   ]
  },
  {
   "cell_type": "markdown",
   "metadata": {},
   "source": [
    "## 1173 - Preenchimento de Vetor: "
   ]
  },
  {
   "cell_type": "code",
   "execution_count": null,
   "metadata": {},
   "outputs": [],
   "source": [
    "N = int(input())\n",
    "for i in range(10):\n",
    "    print('N[{}] = {}'.format(i,N*2**(i)))"
   ]
  },
  {
   "cell_type": "markdown",
   "metadata": {},
   "source": [
    "## 1174 - Seleção em vetor I"
   ]
  },
  {
   "cell_type": "code",
   "execution_count": null,
   "metadata": {},
   "outputs": [],
   "source": [
    "for i in range(100):\n",
    "    Vetor = float(input())\n",
    "    if Vetor<=10:\n",
    "        print('A[{}] = {}'.format(i,Vetor))"
   ]
  },
  {
   "cell_type": "markdown",
   "metadata": {},
   "source": [
    "## 1175 - Troca em Vetor I "
   ]
  },
  {
   "cell_type": "code",
   "execution_count": null,
   "metadata": {},
   "outputs": [],
   "source": [
    "lista = []\n",
    "for i in range(20):\n",
    "    Y = int(input())\n",
    "    lista.append('N[{}] = {}'.format(19-i,Y))\n",
    "lista.reverse()\n",
    "for k in lista:\n",
    "    print(k)"
   ]
  },
  {
   "cell_type": "markdown",
   "metadata": {},
   "source": [
    "## 1076 - Fibonnaci"
   ]
  },
  {
   "cell_type": "code",
   "execution_count": null,
   "metadata": {},
   "outputs": [],
   "source": [
    "K = int(input())\n",
    "for k in range(K):\n",
    "    N = int(input())\n",
    "    cont = 0\n",
    "    n1 = 0\n",
    "    n2 = 1\n",
    "    while cont != N:\n",
    "        cont += 1\n",
    "        n = n2\n",
    "        n2 = n1 + n2\n",
    "        n1 = n\n",
    "    print('Fib({}) = {}'.format(N,n1))"
   ]
  },
  {
   "cell_type": "markdown",
   "metadata": {},
   "source": [
    "## 1177 - Preenchimento do Vetor II"
   ]
  },
  {
   "cell_type": "code",
   "execution_count": null,
   "metadata": {},
   "outputs": [],
   "source": [
    "T = int(input())\n",
    "for i in range(1000):\n",
    "    print('N[{}] = {}'.format(i,i%T))"
   ]
  },
  {
   "cell_type": "markdown",
   "metadata": {},
   "source": [
    "## 1178  - Preenchimento do Vetor III"
   ]
  },
  {
   "cell_type": "code",
   "execution_count": null,
   "metadata": {},
   "outputs": [],
   "source": [
    "X = float(input())\n",
    "for i in range(100):\n",
    "    print('N[{}] = {:.4f}'.format(i,X/2**(i)))"
   ]
  },
  {
   "cell_type": "markdown",
   "metadata": {},
   "source": [
    "## 1179 - Preenchimento de Vetor IV"
   ]
  },
  {
   "cell_type": "code",
   "execution_count": null,
   "metadata": {},
   "outputs": [],
   "source": [
    "par =[]\n",
    "impar =[]\n",
    "for k in range(15):\n",
    "    N = int(input())\n",
    "    if N%2==0:\n",
    "        par.append(N)\n",
    "    else:\n",
    "        impar.append(N)\n",
    "    if len(par) == 5:\n",
    "        for i in range(len(par)):\n",
    "            print('par[{}] = {}'.format(i,par[i]))\n",
    "        par = []\n",
    "    if len(impar) == 5:\n",
    "        for i in range(len(impar)):\n",
    "            print('impar[{}] = {}'.format(i,impar[i]))\n",
    "        impar = []\n",
    "for i in range(len(impar)):\n",
    "    print('impar[{}] = {}'.format(i,impar[i]))\n",
    "for i in range(len(par)):\n",
    "    print('par[{}] = {}'.format(i,par[i]))        "
   ]
  },
  {
   "cell_type": "markdown",
   "metadata": {},
   "source": [
    "## 1180 - Menor e Posição"
   ]
  },
  {
   "cell_type": "code",
   "execution_count": null,
   "metadata": {},
   "outputs": [],
   "source": [
    "N = int(input())\n",
    "X = input()\n",
    "X = [int(x) for x in X.split()]\n",
    "Y = tuple(X)\n",
    "X.sort()\n",
    "print('Menor valor: {}'.format(X[0]))\n",
    "print('Posicao: {}'.format(Y.index(X[0])))"
   ]
  },
  {
   "cell_type": "markdown",
   "metadata": {},
   "source": [
    "## 1181 - Linha na Matriz"
   ]
  },
  {
   "cell_type": "code",
   "execution_count": null,
   "metadata": {},
   "outputs": [],
   "source": [
    "N = int(input())\n",
    "Operacao = input()\n",
    "Linha = []\n",
    "for i in range(144):\n",
    "    a = float(input())\n",
    "    if int(i/12) == N:\n",
    "        Linha.append(a)\n",
    "if Operacao == 'S':\n",
    "    print('{:.1f}'.format(sum(Linha)))\n",
    "elif Operacao == 'M':\n",
    "    print('{:.1f}'.format(sum(Linha)/len(Linha)))\n",
    "        "
   ]
  },
  {
   "cell_type": "markdown",
   "metadata": {},
   "source": [
    "## 1182 - Coluna na Matriz"
   ]
  },
  {
   "cell_type": "code",
   "execution_count": null,
   "metadata": {},
   "outputs": [],
   "source": [
    "N = int(input())\n",
    "Operacao = input()\n",
    "Coluna = []\n",
    "for i in range(144):\n",
    "    a = float(input())\n",
    "    if i%12 == N:\n",
    "        Coluna.append(a)\n",
    "if Operacao == 'S':\n",
    "    print('{:.1f}'.format(sum(Coluna)))\n",
    "elif Operacao == 'M':\n",
    "    print('{:.1f}'.format(sum(Coluna)/len(Coluna)))"
   ]
  }
 ],
 "metadata": {
  "kernelspec": {
   "display_name": "Python 3",
   "language": "python",
   "name": "python3"
  },
  "language_info": {
   "codemirror_mode": {
    "name": "ipython",
    "version": 3
   },
   "file_extension": ".py",
   "mimetype": "text/x-python",
   "name": "python",
   "nbconvert_exporter": "python",
   "pygments_lexer": "ipython3",
   "version": "3.6.5"
  }
 },
 "nbformat": 4,
 "nbformat_minor": 2
}
