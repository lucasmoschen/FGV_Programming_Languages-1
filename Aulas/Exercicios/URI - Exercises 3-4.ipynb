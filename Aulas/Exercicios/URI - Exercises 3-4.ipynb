{
 "cells": [
  {
   "cell_type": "markdown",
   "metadata": {},
   "source": [
    "## 1075 - Resto 2"
   ]
  },
  {
   "cell_type": "code",
   "execution_count": 3,
   "metadata": {},
   "outputs": [
    {
     "name": "stdout",
     "output_type": "stream",
     "text": [
      "10000\n",
      "2\n"
     ]
    }
   ],
   "source": [
    "N = int(input())\n",
    "for i in range(1,10001):\n",
    "    if i % N == 2:\n",
    "        print(i)\n"
   ]
  },
  {
   "cell_type": "markdown",
   "metadata": {},
   "source": [
    "## 1078 - Tabuada"
   ]
  },
  {
   "cell_type": "code",
   "execution_count": 5,
   "metadata": {},
   "outputs": [
    {
     "name": "stdout",
     "output_type": "stream",
     "text": [
      "140\n",
      "1 x 140 = 140\n",
      "2 x 140 = 280\n",
      "3 x 140 = 420\n",
      "4 x 140 = 560\n",
      "5 x 140 = 700\n",
      "6 x 140 = 840\n",
      "7 x 140 = 980\n",
      "8 x 140 = 1120\n",
      "9 x 140 = 1260\n",
      "10 x 140 = 1400\n"
     ]
    }
   ],
   "source": [
    "N = int(input())\n",
    "for i in range(1,11):\n",
    "    print('{} x {} = {}'.format(i,N,N*i))"
   ]
  },
  {
   "cell_type": "markdown",
   "metadata": {},
   "source": [
    "## 1079 - Médias Ponderadas"
   ]
  },
  {
   "cell_type": "code",
   "execution_count": 6,
   "metadata": {},
   "outputs": [
    {
     "name": "stdout",
     "output_type": "stream",
     "text": [
      "3\n",
      "6.5 4.3 6.2\n",
      "5.7\n",
      "5.1 4.2 8.1\n",
      "6.3\n",
      "8.0 9.0 10.0\n",
      "9.3\n"
     ]
    }
   ],
   "source": [
    "N = int(input())\n",
    "for i in range(N):\n",
    "    n1,n2,n3 = input().split()\n",
    "    n1 = float(n1)\n",
    "    n2 = float(n2)\n",
    "    n3 = float(n3)\n",
    "    M = (2*n1+3*n2+5*n3)/10\n",
    "    print('{:.1f}'.format(M))"
   ]
  },
  {
   "cell_type": "markdown",
   "metadata": {},
   "source": [
    "## 1080 - Maior e Posição"
   ]
  },
  {
   "cell_type": "code",
   "execution_count": 8,
   "metadata": {},
   "outputs": [],
   "source": [
    "maior = 0\n",
    "#for i in range(100):\n",
    " #   a = int(input())\n",
    "  #  if a > maior:\n",
    "   #     maior = a\n",
    "    #    posicao = i + 1\n",
    "#print(maior)\n",
    "#print(posicao)"
   ]
  },
  {
   "cell_type": "markdown",
   "metadata": {},
   "source": [
    "## 1094 - Experiencias"
   ]
  },
  {
   "cell_type": "code",
   "execution_count": 12,
   "metadata": {},
   "outputs": [
    {
     "name": "stdout",
     "output_type": "stream",
     "text": [
      "10\n",
      "10 C\n",
      "6 R\n",
      "15 S\n",
      "5 C\n",
      "14 R\n",
      "9 C\n",
      "6 R\n",
      "8 S\n",
      "5 C\n",
      "14 R\n",
      "Total: 92 cobaias\n",
      "Total de coelhos: 29\n",
      "Total de ratos: 40\n",
      "Total de sapos: 23\n",
      "Percentual de coelhos: 0.32 %\n",
      "Percentual de ratos: 0.43 %\n",
      "Percentual de sapos: 0.25 %\n"
     ]
    }
   ],
   "source": [
    "Nexp = int(input())\n",
    "coelhos = 0\n",
    "ratos = 0\n",
    "sapos = 0\n",
    "for i in range(Nexp):\n",
    "    quant,cobaia = input().split()\n",
    "    if cobaia == 'C':\n",
    "        coelhos = coelhos + int(quant)\n",
    "    elif cobaia == 'R':\n",
    "        ratos = ratos + int(quant)\n",
    "    else:\n",
    "        sapos = sapos + int(quant)\n",
    "print('Total: {} cobaias'.format(sapos+coelhos+ratos))\n",
    "print('Total de coelhos: {}'.format(coelhos))\n",
    "print('Total de ratos: {}'.format(ratos))\n",
    "print('Total de sapos: {}'.format(sapos))\n",
    "print('Percentual de coelhos: {:.2f} %'.format(coelhos*100/(coelhos+sapos+ratos)))\n",
    "print('Percentual de ratos: {:.2f} %'.format(ratos*100/(coelhos+sapos+ratos)))\n",
    "print('Percentual de sapos: {:.2f} %'.format(sapos*100/(coelhos+sapos+ratos)))"
   ]
  },
  {
   "cell_type": "markdown",
   "metadata": {},
   "source": [
    "## 1095 e 1096 - Sequencia IJ 1 e IJ 2"
   ]
  },
  {
   "cell_type": "code",
   "execution_count": 15,
   "metadata": {},
   "outputs": [
    {
     "name": "stdout",
     "output_type": "stream",
     "text": [
      "I=1 J=7\n",
      "I=1 J=6\n",
      "I=1 J=5\n",
      "I=3 J=7\n",
      "I=3 J=6\n",
      "I=3 J=5\n",
      "I=5 J=7\n",
      "I=5 J=6\n",
      "I=5 J=5\n",
      "I=7 J=7\n",
      "I=7 J=6\n",
      "I=7 J=5\n",
      "I=9 J=7\n",
      "I=9 J=6\n",
      "I=9 J=5\n"
     ]
    }
   ],
   "source": [
    "#i = 1\n",
    "#for j in range(60,-1,-5):\n",
    "#    print('I={} J={}'.format(i,j))\n",
    "#    i = i + 3\n",
    "i = 1\n",
    "while i < 10:\n",
    "    print('I={} J=7'.format(i))\n",
    "    print('I={} J=6'.format(i))\n",
    "    print('I={} J=5'.format(i))\n",
    "    i += 2"
   ]
  },
  {
   "cell_type": "markdown",
   "metadata": {},
   "source": [
    "## 1097 e 1098 - Sequencia IJ 3 e 4"
   ]
  },
  {
   "cell_type": "code",
   "execution_count": 60,
   "metadata": {},
   "outputs": [
    {
     "name": "stdout",
     "output_type": "stream",
     "text": [
      "[0.0, 0.2, 0.4, 0.6, 0.8, 1.0, 1.2, 1.4, 1.6, 1.8, 2.0]\n",
      "[0, 0.2, 0.4, 0.6, 0.8, 1, 1.2, 1.4, 1.6, 1.8, 2]\n",
      "I=0 J=1\n",
      "I=0 J=2\n",
      "I=0 J=3\n",
      "I=0.2 J=1.2\n",
      "I=0.2 J=2.2\n",
      "I=0.2 J=3.2\n",
      "I=0.4 J=1.4\n",
      "I=0.4 J=2.4\n",
      "I=0.4 J=3.4\n",
      "I=0.6 J=1.6\n",
      "I=0.6 J=2.6\n",
      "I=0.6 J=3.6\n",
      "I=0.8 J=1.8\n",
      "I=0.8 J=2.8\n",
      "I=0.8 J=3.8\n",
      "I=1 J=2\n",
      "I=1 J=3\n",
      "I=1 J=4\n",
      "I=1.2 J=2.2\n",
      "I=1.2 J=3.2\n",
      "I=1.2 J=4.2\n",
      "I=1.4 J=2.4\n",
      "I=1.4 J=3.4\n",
      "I=1.4 J=4.4\n",
      "I=1.6 J=2.6\n",
      "I=1.6 J=3.6\n",
      "I=1.6 J=4.6\n",
      "I=1.8 J=2.8\n",
      "I=1.8 J=3.8\n",
      "I=1.8 J=4.8\n",
      "I=2 J=3\n",
      "I=2 J=4\n",
      "I=2 J=5\n"
     ]
    }
   ],
   "source": [
    "lista = [k/10 for k in range(0,21,2)]\n",
    "print(lista)\n",
    "for p in range(len(lista)):\n",
    "    if lista[p]%1 == 0.0:\n",
    "        lista[p] = int(lista[p])\n",
    "print(lista)\n",
    "for i in lista:\n",
    "    print('I={} J={}\\nI={} J={}\\nI={} J={}'.format(i,i+1,i,i+2,i,i+3))"
   ]
  },
  {
   "cell_type": "markdown",
   "metadata": {},
   "source": [
    "## 1099 - Soma dos ímpares "
   ]
  },
  {
   "cell_type": "code",
   "execution_count": 1,
   "metadata": {},
   "outputs": [
    {
     "name": "stdout",
     "output_type": "stream",
     "text": [
      "4\n",
      "3 5\n",
      "0\n",
      "7 10\n",
      "9\n",
      "11 16\n",
      "28\n",
      "5 5\n",
      "0\n"
     ]
    }
   ],
   "source": [
    "N = int(input())\n",
    "for i in range(N):\n",
    "    n1,n2=input().split()\n",
    "    n1 = int(n1)\n",
    "    n2 = int(n2)\n",
    "    if n1 > n2:\n",
    "        n = n1\n",
    "        n1 = n2\n",
    "        n2 = n\n",
    "    lista = [k for k in range(n1+1,n2) if k%2==1]\n",
    "    print(sum(lista))"
   ]
  },
  {
   "cell_type": "code",
   "execution_count": null,
   "metadata": {},
   "outputs": [],
   "source": [
    "a = True\n",
    "while a == True:\n",
    "    N,M = input().split()\n",
    "    if int(N) <= 0 or int(M)<=0:\n",
    "        break\n",
    "    if int(N)>int(M):\n",
    "        n = N\n",
    "        N = M\n",
    "        M = n\n",
    "    n0 = int(N)\n",
    "    m0 = int(M)\n",
    "    sequencia = N\n",
    "    while int(N) < int(M):\n",
    "        N = int(N)+1\n",
    "        N = str(N)\n",
    "        sequencia = sequencia + ' ' + N\n",
    "    print('{} Sum={}'.format(sequencia,int((n0+m0)*(m0-n0+1)/2)))"
   ]
  },
  {
   "cell_type": "code",
   "execution_count": null,
   "metadata": {},
   "outputs": [],
   "source": []
  }
 ],
 "metadata": {
  "kernelspec": {
   "display_name": "Python 3",
   "language": "python",
   "name": "python3"
  },
  "language_info": {
   "codemirror_mode": {
    "name": "ipython",
    "version": 3
   },
   "file_extension": ".py",
   "mimetype": "text/x-python",
   "name": "python",
   "nbconvert_exporter": "python",
   "pygments_lexer": "ipython3",
   "version": "3.6.5"
  }
 },
 "nbformat": 4,
 "nbformat_minor": 2
}
