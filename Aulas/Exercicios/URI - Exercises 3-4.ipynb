{
 "cells": [
  {
   "cell_type": "markdown",
   "metadata": {},
   "source": [
    "## 1075 - Resto 2"
   ]
  },
  {
   "cell_type": "code",
   "execution_count": 3,
   "metadata": {},
   "outputs": [
    {
     "name": "stdout",
     "output_type": "stream",
     "text": [
      "10000\n",
      "2\n"
     ]
    }
   ],
   "source": [
    "N = int(input())\n",
    "for i in range(1,10001):\n",
    "    if i % N == 2:\n",
    "        print(i)\n"
   ]
  },
  {
   "cell_type": "markdown",
   "metadata": {},
   "source": [
    "## 1078 - Tabuada"
   ]
  },
  {
   "cell_type": "code",
   "execution_count": 5,
   "metadata": {},
   "outputs": [
    {
     "name": "stdout",
     "output_type": "stream",
     "text": [
      "140\n",
      "1 x 140 = 140\n",
      "2 x 140 = 280\n",
      "3 x 140 = 420\n",
      "4 x 140 = 560\n",
      "5 x 140 = 700\n",
      "6 x 140 = 840\n",
      "7 x 140 = 980\n",
      "8 x 140 = 1120\n",
      "9 x 140 = 1260\n",
      "10 x 140 = 1400\n"
     ]
    }
   ],
   "source": [
    "N = int(input())\n",
    "for i in range(1,11):\n",
    "    print('{} x {} = {}'.format(i,N,N*i))"
   ]
  },
  {
   "cell_type": "markdown",
   "metadata": {},
   "source": [
    "## 1079 - Médias Ponderadas"
   ]
  },
  {
   "cell_type": "code",
   "execution_count": 6,
   "metadata": {},
   "outputs": [
    {
     "name": "stdout",
     "output_type": "stream",
     "text": [
      "3\n",
      "6.5 4.3 6.2\n",
      "5.7\n",
      "5.1 4.2 8.1\n",
      "6.3\n",
      "8.0 9.0 10.0\n",
      "9.3\n"
     ]
    }
   ],
   "source": [
    "N = int(input())\n",
    "for i in range(N):\n",
    "    n1,n2,n3 = input().split()\n",
    "    n1 = float(n1)\n",
    "    n2 = float(n2)\n",
    "    n3 = float(n3)\n",
    "    M = (2*n1+3*n2+5*n3)/10\n",
    "    print('{:.1f}'.format(M))"
   ]
  },
  {
   "cell_type": "markdown",
   "metadata": {},
   "source": [
    "## 1080 - Maior e Posição"
   ]
  },
  {
   "cell_type": "code",
   "execution_count": 8,
   "metadata": {},
   "outputs": [],
   "source": [
    "maior = 0\n",
    "#for i in range(100):\n",
    " #   a = int(input())\n",
    "  #  if a > maior:\n",
    "   #     maior = a\n",
    "    #    posicao = i + 1\n",
    "#print(maior)\n",
    "#print(posicao)"
   ]
  },
  {
   "cell_type": "markdown",
   "metadata": {},
   "source": [
    "## 1094 - Experiencias"
   ]
  },
  {
   "cell_type": "code",
   "execution_count": 12,
   "metadata": {},
   "outputs": [
    {
     "name": "stdout",
     "output_type": "stream",
     "text": [
      "10\n",
      "10 C\n",
      "6 R\n",
      "15 S\n",
      "5 C\n",
      "14 R\n",
      "9 C\n",
      "6 R\n",
      "8 S\n",
      "5 C\n",
      "14 R\n",
      "Total: 92 cobaias\n",
      "Total de coelhos: 29\n",
      "Total de ratos: 40\n",
      "Total de sapos: 23\n",
      "Percentual de coelhos: 0.32 %\n",
      "Percentual de ratos: 0.43 %\n",
      "Percentual de sapos: 0.25 %\n"
     ]
    }
   ],
   "source": [
    "Nexp = int(input())\n",
    "coelhos = 0\n",
    "ratos = 0\n",
    "sapos = 0\n",
    "for i in range(Nexp):\n",
    "    quant,cobaia = input().split()\n",
    "    if cobaia == 'C':\n",
    "        coelhos = coelhos + int(quant)\n",
    "    elif cobaia == 'R':\n",
    "        ratos = ratos + int(quant)\n",
    "    else:\n",
    "        sapos = sapos + int(quant)\n",
    "print('Total: {} cobaias'.format(sapos+coelhos+ratos))\n",
    "print('Total de coelhos: {}'.format(coelhos))\n",
    "print('Total de ratos: {}'.format(ratos))\n",
    "print('Total de sapos: {}'.format(sapos))\n",
    "print('Percentual de coelhos: {:.2f} %'.format(coelhos*100/(coelhos+sapos+ratos)))\n",
    "print('Percentual de ratos: {:.2f} %'.format(ratos*100/(coelhos+sapos+ratos)))\n",
    "print('Percentual de sapos: {:.2f} %'.format(sapos*100/(coelhos+sapos+ratos)))"
   ]
  },
  {
   "cell_type": "code",
   "execution_count": null,
   "metadata": {},
   "outputs": [],
   "source": []
  }
 ],
 "metadata": {
  "kernelspec": {
   "display_name": "Python 3",
   "language": "python",
   "name": "python3"
  },
  "language_info": {
   "codemirror_mode": {
    "name": "ipython",
    "version": 3
   },
   "file_extension": ".py",
   "mimetype": "text/x-python",
   "name": "python",
   "nbconvert_exporter": "python",
   "pygments_lexer": "ipython3",
   "version": "3.5.2"
  }
 },
 "nbformat": 4,
 "nbformat_minor": 2
}
