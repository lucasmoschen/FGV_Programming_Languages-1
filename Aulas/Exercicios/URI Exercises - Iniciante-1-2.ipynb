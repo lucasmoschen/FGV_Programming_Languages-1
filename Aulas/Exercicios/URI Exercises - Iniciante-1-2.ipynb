{
 "cells": [
  {
   "cell_type": "markdown",
   "metadata": {},
   "source": [
    "## Exercício 1002"
   ]
  },
  {
   "cell_type": "code",
   "execution_count": null,
   "metadata": {},
   "outputs": [],
   "source": [
    "raio = eval(input())\n",
    "A = 3.14159*(raio*raio)\n",
    "print('A={:.4f}'.format(A))"
   ]
  },
  {
   "cell_type": "markdown",
   "metadata": {},
   "source": [
    "## Exercício 1003 e 1004 - Soma e Produto Simples"
   ]
  },
  {
   "cell_type": "code",
   "execution_count": null,
   "metadata": {},
   "outputs": [],
   "source": [
    "A = int(input())\n",
    "B = int(input())\n",
    "print('SOMA = {}'.format(A + B))\n",
    "print('PROD = {}'.format(A*B))"
   ]
  },
  {
   "cell_type": "markdown",
   "metadata": {},
   "source": [
    "## Exercício 1005 e 1006 - Média 1 e 2"
   ]
  },
  {
   "cell_type": "code",
   "execution_count": null,
   "metadata": {},
   "outputs": [],
   "source": [
    "A = float(input())\n",
    "B = float(input())\n",
    "C = float(input())\n",
    "print('MEDIA = {:.1f}'.format((3*B+2*A+5*C)/10))\n",
    "print('MEDIA = {:.5f}'.format((7.5*B+3.5*A)/11))"
   ]
  },
  {
   "cell_type": "markdown",
   "metadata": {},
   "source": [
    "## 1007 - Exercício Diferença"
   ]
  },
  {
   "cell_type": "code",
   "execution_count": null,
   "metadata": {},
   "outputs": [],
   "source": [
    "A = int(input())\n",
    "B = int(input())\n",
    "C = int(input())\n",
    "D = int(input())\n",
    "print('DIFERENCA = {}'.format(A*B - C*D))"
   ]
  },
  {
   "cell_type": "markdown",
   "metadata": {},
   "source": [
    "## 1008 e 1009 - Exercício Salário e Salário Bônus"
   ]
  },
  {
   "cell_type": "code",
   "execution_count": null,
   "metadata": {},
   "outputs": [],
   "source": [
    "Numero = int(input())\n",
    "Horas = int(input())\n",
    "Valor = float(input())\n",
    "print('NUMBER = {}'.format(Numero))\n",
    "print('SALARY = U$ {:.2f}'.format(Horas*Valor))\n",
    "\n",
    "Nome = input()\n",
    "Salario_Fixo = float(input())\n",
    "Montante = float(input())\n",
    "print('TOTAL = R$ {:.2f}'.format(Montante*0.15 + Salario_Fixo))"
   ]
  },
  {
   "cell_type": "markdown",
   "metadata": {},
   "source": [
    "## 1010 - Cálculo Simples"
   ]
  },
  {
   "cell_type": "code",
   "execution_count": null,
   "metadata": {},
   "outputs": [],
   "source": [
    "peca1 = input()\n",
    "peca2 = input()\n",
    "lista1 = []\n",
    "passagem = 0\n",
    "while passagem < len(peca1):\n",
    "    if peca1[passagem] == ' ':\n",
    "        lista1.append(passagem)\n",
    "    passagem = passagem + 1\n",
    "lista2 = []\n",
    "passagem = 0\n",
    "while passagem < len(peca2):\n",
    "    if peca2[passagem] == ' ':\n",
    "        lista2.append(passagem)\n",
    "    passagem = passagem + 1\n",
    "print('VALOR A PAGAR: R$ {:.2f}'.format(int(peca1[lista1[0]+1:lista1[1]])*float(peca1[lista1[1]:])+int(peca2[lista2[0]+1:lista2[1]])*float(peca2[lista2[1]:])))"
   ]
  },
  {
   "cell_type": "markdown",
   "metadata": {},
   "source": [
    "## 1011 - Esfera"
   ]
  },
  {
   "cell_type": "code",
   "execution_count": null,
   "metadata": {},
   "outputs": [],
   "source": [
    "raio = float(input())\n",
    "pi = 3.14159\n",
    "Volume = raio**3*pi*4/3\n",
    "print('VOLUME = {:.3f}'.format(Volume))"
   ]
  },
  {
   "cell_type": "markdown",
   "metadata": {},
   "source": [
    "## 1012 Área"
   ]
  },
  {
   "cell_type": "code",
   "execution_count": null,
   "metadata": {},
   "outputs": [],
   "source": [
    "Entrada = input()\n",
    "lista = []\n",
    "passagem = 0\n",
    "while passagem < len(Entrada):\n",
    "    if Entrada[passagem] == ' ':\n",
    "        lista.append(passagem)\n",
    "    passagem = passagem + 1\n",
    "\n",
    "A = float(Entrada[0:lista[0]])\n",
    "B = float(Entrada[lista[0]+1:lista[1]])\n",
    "C = float(Entrada[lista[1]+1:])\n",
    "Tri = (A*C)/2\n",
    "Cir = C*C*3.14159\n",
    "Tra = (A + B)*C/2\n",
    "Qua = B*B\n",
    "Ret = A*B\n",
    "print('TRIANGULO: {:.3f}'.format(Tri))\n",
    "print('CIRCULO: {:.3f}'.format(Cir))\n",
    "print('TRAPEZIO: {:.3f}'.format(Tra))\n",
    "print('QUADRADO: {:.3f}'.format(Qua))\n",
    "print('RETANGULO: {:.3f}'.format(Ret))"
   ]
  },
  {
   "cell_type": "markdown",
   "metadata": {},
   "source": [
    "## 1003 - Maior"
   ]
  },
  {
   "cell_type": "code",
   "execution_count": null,
   "metadata": {},
   "outputs": [],
   "source": [
    "Entrada = input()\n",
    "lista = []\n",
    "passagem = 0\n",
    "while passagem < len(Entrada):\n",
    "    if Entrada[passagem] == ' ':\n",
    "        lista.append(passagem)\n",
    "    passagem = passagem + 1\n",
    "A = int(Entrada[0:lista[0]])\n",
    "B = int(Entrada[lista[0]+1:lista[1]])\n",
    "C = int(Entrada[lista[1]+1:])\n",
    "if A > B:\n",
    "    if A > C:\n",
    "        print('{} eh o maior'.format(A))\n",
    "    else:\n",
    "        print('{} eh o maior'.format(C))\n",
    "else:\n",
    "    if B > C:\n",
    "        print('{} eh o maior'.format(B))\n",
    "    else:\n",
    "        print('{} eh o maior'.format(C))"
   ]
  },
  {
   "cell_type": "markdown",
   "metadata": {},
   "source": [
    "## 1014 - Consumo médio"
   ]
  },
  {
   "cell_type": "code",
   "execution_count": null,
   "metadata": {},
   "outputs": [],
   "source": [
    "Distancia = int(input())\n",
    "Gasto = float(input())\n",
    "print('{:.3f} km/l'.format(Distancia/Gasto))"
   ]
  },
  {
   "cell_type": "markdown",
   "metadata": {},
   "source": [
    "## 1015 - Distancia"
   ]
  },
  {
   "cell_type": "code",
   "execution_count": null,
   "metadata": {},
   "outputs": [],
   "source": [
    "ponto1 = input()\n",
    "ponto2 = input()\n",
    "x1 = float(ponto1[0:ponto1.find(' ')])\n",
    "x2 = float(ponto2[0:ponto2.find(' ')])\n",
    "y1 = float(ponto1[ponto1.find(' ')+1:])\n",
    "y2 = float(ponto2[ponto2.find(' ')+1:])\n",
    "distancia = ((x2-x1)**2+(y2-y1)**2)**(1/2)\n",
    "print('{:.4f}'.format(distancia))"
   ]
  },
  {
   "cell_type": "markdown",
   "metadata": {},
   "source": [
    "## 1016 e 1017 - Distancia carros e Gasto de Combustível"
   ]
  },
  {
   "cell_type": "code",
   "execution_count": null,
   "metadata": {},
   "outputs": [],
   "source": [
    "Distancia = int(input())\n",
    "print('{} minutos'.format(2*Distancia))\n",
    "\n",
    "\n",
    "\n",
    "Tempo = int(input())\n",
    "Velocidade = int(input())\n",
    "Distancia = Tempo*Velocidade\n",
    "print('{:.3f}'.format(Distancia/12))"
   ]
  },
  {
   "cell_type": "markdown",
   "metadata": {},
   "source": [
    "## 1018 e 1021 - Cédulas e Notas e Moedas"
   ]
  },
  {
   "cell_type": "code",
   "execution_count": 5,
   "metadata": {},
   "outputs": [
    {
     "name": "stdout",
     "output_type": "stream",
     "text": [
      "0.04\n",
      "NOTAS:\n",
      "0 nota(s) de R$ 100.00\n",
      "0 nota(s) de R$ 50.00\n",
      "0 nota(s) de R$ 20.00\n",
      "0 nota(s) de R$ 10.00\n",
      "0 nota(s) de R$ 5.00\n",
      "0 nota(s) de R$ 2.00\n",
      "MOEDAS:\n",
      "0 moeda(s) de R$ 1.00\n",
      "0 moeda(s) de R$ 0.50\n",
      "0 moeda(s) de R$ 0.25\n",
      "0 moeda(s) de R$ 0.10\n",
      "0 moeda(s) de R$ 0.05\n",
      "4 moeda(s) de R$ 0.01\n"
     ]
    }
   ],
   "source": [
    "Valor = float(input())\n",
    "Valor += 0.0001\n",
    "lista_notas = [100,50,20,10,5,2]\n",
    "lista_moedas = [1.00,0.50,0.25,0.10,0.05,0.01]\n",
    "print('NOTAS:')\n",
    "indice = 0\n",
    "while indice < len(lista_notas):\n",
    "    notas = 0\n",
    "    while Valor >= lista_notas[indice]:\n",
    "        Valor = Valor - lista_notas[indice]\n",
    "        notas = notas + 1\n",
    "    print('{} nota(s) de R$ {}.00'.format(notas,lista_notas[indice]))\n",
    "    indice = indice + 1\n",
    "print('MOEDAS:')\n",
    "indice = 0\n",
    "while indice < len(lista_moedas):\n",
    "    moedas = 0\n",
    "    while Valor >= lista_moedas[indice]:\n",
    "        Valor = Valor - lista_moedas[indice]\n",
    "        moedas = moedas + 1\n",
    "    print('{} moeda(s) de R$ {:.2f}'.format(moedas,lista_moedas[indice]))\n",
    "    indice = indice + 1"
   ]
  },
  {
   "cell_type": "markdown",
   "metadata": {},
   "source": [
    "## 1019 - Conversão de tempo"
   ]
  },
  {
   "cell_type": "code",
   "execution_count": null,
   "metadata": {},
   "outputs": [],
   "source": [
    "N = int(input())\n",
    "Hora = 0\n",
    "Minuto = 0\n",
    "while N >=3600:\n",
    "    Hora = int(N/3600)\n",
    "    N = N%3600\n",
    "while N>=60:\n",
    "    Minuto = int(N/60)\n",
    "    N = N%60\n",
    "Segundo = N\n",
    "print('{}:{}:{}'.format(Hora,Minuto,Segundo))"
   ]
  },
  {
   "cell_type": "code",
   "execution_count": null,
   "metadata": {},
   "outputs": [],
   "source": [
    "D = int(input())\n",
    "Ano = 0\n",
    "Mes = 0\n",
    "while D >= 365:\n",
    "    Ano = int(D/365)\n",
    "    D = D%365\n",
    "while D >= 30:\n",
    "    Mes = int(D/30)\n",
    "    D = D%30\n",
    "Dia = D\n",
    "print('{} ano(s)'.format(Ano))\n",
    "print('{} mes(es)'.format(Mes))\n",
    "print('{} dia(s)'.format(Dia))"
   ]
  },
  {
   "cell_type": "markdown",
   "metadata": {},
   "source": [
    "## 1035 - Teste de Seleção"
   ]
  },
  {
   "cell_type": "code",
   "execution_count": null,
   "metadata": {},
   "outputs": [],
   "source": [
    "code = input()\n",
    "A = int(code[0:code.find(' ')])\n",
    "B = int(code[code.find(' ')+1:code.find(' ',code.find(' ')+1)])\n",
    "C = int(code[code.find(' ',code.find(' ')+1):code.rfind(' ')])\n",
    "D = int(code[code.rfind(' ')+1:])\n",
    "if B>C and A<D and (A+B)<(C+D) and C>0 and D>0 and A%2==0:\n",
    "    print('Valores aceitos')\n",
    "else:\n",
    "    print('Valores nao aceitos')"
   ]
  },
  {
   "cell_type": "code",
   "execution_count": null,
   "metadata": {},
   "outputs": [],
   "source": [
    "coeficientes = input()\n",
    "A = float(coeficientes[0:coeficientes.find(' ')])\n",
    "B = float(coeficientes[coeficientes.find(' ')+1:coeficientes.rfind(' ')])\n",
    "C = float(coeficientes[coeficientes.rfind(' '):])\n",
    "if A == 0:\n",
    "    print('Impossivel calcular')\n",
    "else:\n",
    "    delta = B**2 - 4*A*C \n",
    "    if delta < 0:\n",
    "        print('Impossivel calcular')\n",
    "    else:\n",
    "        print('R1 = {:.5f}'.format((-B+(delta)**(1/2))/(2*A)))\n",
    "        print('R2 = {:.5f}'.format((-B-(delta)**(1/2))/(2*A)))"
   ]
  },
  {
   "cell_type": "markdown",
   "metadata": {},
   "source": [
    "## 1037 - Intervalo"
   ]
  },
  {
   "cell_type": "code",
   "execution_count": null,
   "metadata": {},
   "outputs": [],
   "source": [
    "valor = float(input())\n",
    "intervalos = [0,25,50,75,100]\n",
    "if 0 <= valor and valor <= 25:\n",
    "    print('Intervalo [{},{}]'.format(intervalos[0],intervalos[1]))\n",
    "elif valor < 0 or valor > 100:\n",
    "    print('Fora de intervalo')\n",
    "else:\n",
    "    for i in intervalos:\n",
    "        if valor <= i:\n",
    "            print('Intervalo ({},{}]'.format(i-25,i)) \n",
    "            break"
   ]
  },
  {
   "cell_type": "markdown",
   "metadata": {},
   "source": [
    "## 1038 - Lanche"
   ]
  },
  {
   "cell_type": "code",
   "execution_count": null,
   "metadata": {},
   "outputs": [],
   "source": [
    "Precos= {'1':4.00,'2':4.50,'3':5.00,'4':2.00,'5':1.50}\n",
    "compra = input()\n",
    "codigo = compra[0]\n",
    "quantidade = compra[2:]\n",
    "print('Total: R$ {:.2f}'.format(float(Precos[codigo]*int(quantidade))))"
   ]
  },
  {
   "cell_type": "markdown",
   "metadata": {},
   "source": [
    "## 1040 - Média 3"
   ]
  },
  {
   "cell_type": "code",
   "execution_count": null,
   "metadata": {},
   "outputs": [],
   "source": [
    "notas = input()\n",
    "lista = []\n",
    "passagem = 0\n",
    "while passagem < len(notas):\n",
    "    if notas[passagem] == ' ':\n",
    "        lista.append(passagem)\n",
    "    passagem = passagem + 1\n",
    "N1 = float(notas[0:lista[0]])\n",
    "N2 = float(notas[lista[0]+1:lista[1]])\n",
    "N3 = float(notas[lista[1]+1:lista[2]])\n",
    "N4 = float(notas[lista[2]+1:])\n",
    "Media = (2*N1 + 3*N2 + 4*N3 + 1*N4)/10\n",
    "print('Media: {:.1f}'.format(Media))\n",
    "if Media >= 7.0:\n",
    "    print('Aluno aprovado.')\n",
    "elif Media < 5.0:\n",
    "    print('Aluno reprovado.')\n",
    "else:\n",
    "    print('Aluno em exame.')\n",
    "    exame = float(input())\n",
    "    print('Nota do exame: {}'.format(exame))\n",
    "    Mediafinal = (Media + exame)/2\n",
    "    if Mediafinal >= 5.0:\n",
    "        print('Aluno aprovado.')\n",
    "    else:\n",
    "        print('Aluno reprovado.')\n",
    "    print('Media final: {:.1f}'.format(Mediafinal))\n"
   ]
  },
  {
   "cell_type": "markdown",
   "metadata": {},
   "source": [
    "## 1041 - Coordenadas de um ponto"
   ]
  },
  {
   "cell_type": "code",
   "execution_count": null,
   "metadata": {},
   "outputs": [],
   "source": [
    "coordenadas = input()\n",
    "lista = []\n",
    "passagem = 0\n",
    "while passagem < len(coordenadas):\n",
    "    if coordenadas[passagem] == ' ':\n",
    "        lista.append(passagem)\n",
    "    passagem = passagem + 1\n",
    "X = float(coordenadas[0:lista[0]])\n",
    "Y = float(coordenadas[lista[0]+1:])\n",
    "if X == 0 and Y == 0:\n",
    "    print('Origem')\n",
    "elif X == 0 and Y != 0:\n",
    "    print('Eixo Y')\n",
    "elif Y == 0 and X != 0:\n",
    "    print('Eixo X')\n",
    "else:\n",
    "    if X > 0 and Y>0:\n",
    "        print('Q1')\n",
    "    elif X >0 and Y<0:\n",
    "        print('Q4')\n",
    "    elif X<0 and Y>0:\n",
    "        print('Q2')\n",
    "    else:\n",
    "        print('Q3')"
   ]
  },
  {
   "cell_type": "markdown",
   "metadata": {},
   "source": [
    "## 1042 - Sort Simples"
   ]
  },
  {
   "cell_type": "code",
   "execution_count": 10,
   "metadata": {},
   "outputs": [
    {
     "name": "stdout",
     "output_type": "stream",
     "text": [
      "7 -14 21\n",
      "-14\n",
      "7\n",
      "21\n",
      "\n",
      "7\n",
      "-14\n",
      "21\n"
     ]
    }
   ],
   "source": [
    "n1,n2,n3 = input().split()\n",
    "n1 = int(n1)\n",
    "n2 = int(n2)\n",
    "n3 = int(n3)\n",
    "numeros = [n1, n2, n3]\n",
    "numeros.sort()\n",
    "print('{}'.format(numeros[0]))\n",
    "print('{}'.format(numeros[1]))\n",
    "print('{}'.format(numeros[2]))\n",
    "print('')\n",
    "print('{}'.format(n1))\n",
    "print('{}'.format(n2))\n",
    "print('{}'.format(n3))\n",
    "      "
   ]
  },
  {
   "cell_type": "markdown",
   "metadata": {},
   "source": [
    "## 1043 - Triângulo"
   ]
  },
  {
   "cell_type": "code",
   "execution_count": 4,
   "metadata": {},
   "outputs": [
    {
     "name": "stdout",
     "output_type": "stream",
     "text": [
      "6.0 4.0 2.0\n",
      "Area = 10.0\n"
     ]
    }
   ],
   "source": [
    "A,B,C = input().split()\n",
    "A = float(A)\n",
    "B = float(B)\n",
    "C = float(C)\n",
    "if A+B>C and A+C>B and B+C>A and C>abs(A-B) and B>abs(A-C) and A>abs(C-B):\n",
    "    print('Perimetro = {:.1f}'.format(A+B+C))\n",
    "else:\n",
    "    print('Area = {:.1f}'.format((A+B)*C/2))"
   ]
  },
  {
   "cell_type": "markdown",
   "metadata": {},
   "source": [
    "## 1044 - Múltiplos\n"
   ]
  },
  {
   "cell_type": "code",
   "execution_count": 6,
   "metadata": {},
   "outputs": [
    {
     "name": "stdout",
     "output_type": "stream",
     "text": [
      "6 25\n",
      "Não sao Multiplos\n"
     ]
    }
   ],
   "source": [
    "A,B = input().split()\n",
    "A = int(A)\n",
    "B = int(B)\n",
    "if A%B == 0 or B%A == 0:\n",
    "    print('Sao Multiplos')\n",
    "else:\n",
    "    print('Nao sao Multiplos')"
   ]
  },
  {
   "cell_type": "markdown",
   "metadata": {},
   "source": [
    "## Tipos de Triangulo"
   ]
  },
  {
   "cell_type": "code",
   "execution_count": 23,
   "metadata": {},
   "outputs": [
    {
     "name": "stdout",
     "output_type": "stream",
     "text": [
      "5 7 2\n",
      "NAO FORMA TRIANGULO\n"
     ]
    }
   ],
   "source": [
    "A,B,C = input().split()\n",
    "A = float(A)\n",
    "B = float(B)\n",
    "C = float(C)\n",
    "if A>=B:\n",
    "    if C>=A:\n",
    "        A2 = A\n",
    "        A = C\n",
    "        C = A2\n",
    "elif A>=C:\n",
    "    if B>=A:\n",
    "        A2 = A\n",
    "        A = B\n",
    "        B = A2\n",
    "else:\n",
    "    if B>=C:\n",
    "        A2 = A\n",
    "        A = B\n",
    "        B = A2\n",
    "    else:\n",
    "        A2 = A\n",
    "        A = C\n",
    "        C = A2\n",
    "if A>=B+C:\n",
    "    print('NAO FORMA TRIANGULO')\n",
    "else: \n",
    "    if A*A == B*B + C*C:\n",
    "        print('TRIANGULO RETANGULO')\n",
    "    if A*A > B*B + C*C:\n",
    "        print('TRIANGULO OBTUSANGULO')\n",
    "    if A*A < B*B + C*C:\n",
    "        print('TRIANGULO ACUTANGULO')\n",
    "    if A == C and A == B:\n",
    "        print('TRIANGULO EQUILATERO')\n",
    "    if (A == B and A != C) or (A == C and A != B) or (B == C and A != B):\n",
    "        print('TRIANGULO ISOSCELES')"
   ]
  },
  {
   "cell_type": "markdown",
   "metadata": {},
   "source": [
    "## 1046 - Tempo de Jogo"
   ]
  },
  {
   "cell_type": "code",
   "execution_count": 6,
   "metadata": {},
   "outputs": [
    {
     "name": "stdout",
     "output_type": "stream",
     "text": [
      "0 0\n",
      "O JOGO DUROU 24 HORA(S)\n"
     ]
    }
   ],
   "source": [
    "I,F = input().split()\n",
    "I = int(I)\n",
    "F = int(F)\n",
    "Duracao = (F - I) % 24\n",
    "if Duracao == 0:\n",
    "    Duracao = 24\n",
    "print('O JOGO DUROU {} HORA(S)'.format(Duracao))"
   ]
  },
  {
   "cell_type": "markdown",
   "metadata": {},
   "source": [
    "## 1047 - Tempo de Jogo 2"
   ]
  },
  {
   "cell_type": "code",
   "execution_count": 17,
   "metadata": {},
   "outputs": [
    {
     "name": "stdout",
     "output_type": "stream",
     "text": [
      "7 8 9 10\n",
      "O JOGO DUROU 2 HORA(S) E 2 MINUTO(S)\n"
     ]
    }
   ],
   "source": [
    "Hi,Mi,Hf,Mf = input().split()\n",
    "Hi = int(Hi)\n",
    "Mi = int(Mi)\n",
    "Hf = int(Hf)\n",
    "Mf = int(Mf)\n",
    "Hora = (Hf - Hi) % 24\n",
    "Minuto = (Mf - Mi) % 60\n",
    "if Mf - Mi < 0:\n",
    "    Hora = Hora - 1\n",
    "if Hora == 0 and Minuto == 0:\n",
    "    Hora = 24\n",
    "print('O JOGO DUROU {} HORA(S) E {} MINUTO(S)'.format(Hora,Minuto))"
   ]
  },
  {
   "cell_type": "markdown",
   "metadata": {},
   "source": [
    "## 1048 - Aumento de Salário"
   ]
  },
  {
   "cell_type": "code",
   "execution_count": 24,
   "metadata": {},
   "outputs": [
    {
     "name": "stdout",
     "output_type": "stream",
     "text": [
      "2000.01\n",
      "Novo salario: 2080.01\n",
      "Reajuste ganho: 80.00\n",
      "Em percentual: 4 %\n"
     ]
    }
   ],
   "source": [
    "salario = float(input())\n",
    "lista = (400,800,1200,2000)\n",
    "aumentos = (15,12,10,7,4)\n",
    "c = 0\n",
    "aumento = 0\n",
    "for i in lista:\n",
    "    if salario <= i:\n",
    "        aumento = aumentos[c]\n",
    "        break\n",
    "    c = c+1\n",
    "if aumento == 0:\n",
    "    aumento = 4\n",
    "print('Novo salario: {:.2f}'.format(salario + salario*aumento/100))\n",
    "print('Reajuste ganho: {:.2f}'.format(salario*aumento/100))\n",
    "print('Em percentual: {} %'.format(aumento))"
   ]
  },
  {
   "cell_type": "markdown",
   "metadata": {},
   "source": [
    "## 1049 - Animal "
   ]
  },
  {
   "cell_type": "code",
   "execution_count": 26,
   "metadata": {},
   "outputs": [
    {
     "name": "stdout",
     "output_type": "stream",
     "text": [
      "vertebrado\n",
      "ave\n",
      "carnivoro\n",
      "aguia\n"
     ]
    }
   ],
   "source": [
    "vert = input()\n",
    "tipo = input()\n",
    "alim = input()   \n",
    "if vert == \"vertebrado\":\n",
    "    if tipo == 'ave':\n",
    "        if alim == 'carnivoro':\n",
    "            print('aguia')\n",
    "        else:\n",
    "            print('pomba')\n",
    "    else: \n",
    "        if alim == 'onivoro':\n",
    "            print('homem')\n",
    "        else:\n",
    "            print('vaca')\n",
    "else:\n",
    "    if tipo == 'inseto':\n",
    "        if alim == 'hematofago':\n",
    "            print('pulga')\n",
    "        else:\n",
    "            print('lagarta')\n",
    "    else:\n",
    "        if alim == 'hematofago':\n",
    "            print('sanguessuga')\n",
    "        else:\n",
    "            print('minhoca')"
   ]
  },
  {
   "cell_type": "markdown",
   "metadata": {},
   "source": [
    "## 1050 - DDD"
   ]
  },
  {
   "cell_type": "code",
   "execution_count": 63,
   "metadata": {},
   "outputs": [
    {
     "name": "stdout",
     "output_type": "stream",
     "text": [
      "11\n",
      "Sao Paulo\n"
     ]
    }
   ],
   "source": [
    "ddd = input()\n",
    "Dicionario = {'61': 'Brasilia','71':'Salvador','11':'Sao Paulo','21':'Rio de Janeiro','32':'Juiz de Fora','19':'Campinas','27':'Vitoria','31':'Belo Horizonte'}\n",
    "if ddd in Dicionario:\n",
    "    print(Dicionario[ddd])\n",
    "else:\n",
    "    print('DDD nao cadastrado')"
   ]
  },
  {
   "cell_type": "markdown",
   "metadata": {},
   "source": [
    "## 1051 - Imposto de Renda"
   ]
  },
  {
   "cell_type": "code",
   "execution_count": 71,
   "metadata": {},
   "outputs": [
    {
     "name": "stdout",
     "output_type": "stream",
     "text": [
      "2001\n",
      "R$ 0.08\n"
     ]
    }
   ],
   "source": [
    "salario = float(input())\n",
    "faixa = (4500,3000,2000)\n",
    "taxas = (28,18,8,0)\n",
    "imposto = 0\n",
    "t = 0\n",
    "for i in faixa:\n",
    "    if salario > i:\n",
    "        salario = salario - i\n",
    "        imposto = imposto + salario*taxas[t]/100\n",
    "        salario = i\n",
    "    t = t + 1\n",
    "if imposto == 0:\n",
    "    print('Isento')\n",
    "else:\n",
    "    print('R$ {:.2f}'.format(imposto))            "
   ]
  },
  {
   "cell_type": "markdown",
   "metadata": {},
   "source": [
    "## 1052 - Mês"
   ]
  },
  {
   "cell_type": "code",
   "execution_count": 73,
   "metadata": {},
   "outputs": [
    {
     "name": "stdout",
     "output_type": "stream",
     "text": [
      "12\n",
      "December\n"
     ]
    }
   ],
   "source": [
    "mes = int(input())\n",
    "meses = ['January','February','March','April','May','June','July','August','September','October','November','December']\n",
    "print(meses[mes-1])"
   ]
  },
  {
   "cell_type": "markdown",
   "metadata": {},
   "source": [
    "## 1059 - Números pares"
   ]
  },
  {
   "cell_type": "code",
   "execution_count": 78,
   "metadata": {},
   "outputs": [],
   "source": [
    "for i in range(2,101,2):\n",
    "    i\n",
    "    #print(i)"
   ]
  },
  {
   "cell_type": "markdown",
   "metadata": {},
   "source": [
    "## 1060 e 1064 - Números Positivos"
   ]
  },
  {
   "cell_type": "code",
   "execution_count": 6,
   "metadata": {},
   "outputs": [
    {
     "name": "stdout",
     "output_type": "stream",
     "text": [
      "1\n",
      "2\n",
      "3\n",
      "4\n",
      "5\n",
      "6\n",
      "6 valores positivos\n",
      "3.5\n"
     ]
    }
   ],
   "source": [
    "A = [float(input()), float(input()), float(input()), float(input()), float(input()), float(input())]\n",
    "cont = 0\n",
    "soma = 0 \n",
    "for i in A:\n",
    "    if i>0:\n",
    "        cont = cont+1\n",
    "        soma += i\n",
    "M = soma/cont\n",
    "print('{} valores positivos'.format(cont))\n",
    "print('{:.1f}'.format(M))"
   ]
  },
  {
   "cell_type": "markdown",
   "metadata": {},
   "source": [
    "## 1061 - Tempo de um evento"
   ]
  },
  {
   "cell_type": "code",
   "execution_count": 1,
   "metadata": {
    "scrolled": true
   },
   "outputs": [
    {
     "name": "stdout",
     "output_type": "stream",
     "text": [
      "Dia 5\n",
      "08:23:15\n",
      "Dia 6\n",
      "01:05:12\n",
      "0 dia(s)\n",
      "16 hora(s)\n",
      "41 minuto(s)\n",
      "57 segundo(s)\n"
     ]
    }
   ],
   "source": [
    "lixo,Di = input().split()\n",
    "hora = input().replace(':',' ')\n",
    "lixo,Df = input().split()\n",
    "hora2 = input().replace(':',' ')\n",
    "Hi,Mi,Si = hora.split()\n",
    "Hf,Mf,Sf = hora2.split()\n",
    "dias = int(Df) - int(Di) \n",
    "horas = (int(Hf) - int(Hi))%24\n",
    "minutos = (int(Mf)-int(Mi))%60\n",
    "segundos = (int(Sf)-int(Si))%60\n",
    "if int(Si)>int(Sf):\n",
    "    minutos -= 1\n",
    "if int(Mi) > int(Mf):\n",
    "    horas -= 1\n",
    "if int(Hi)>int(Hf):\n",
    "    dias -=1\n",
    "print('{} dia(s)'.format(dias))\n",
    "print('{} hora(s)'.format(horas))\n",
    "print('{} minuto(s)'.format(minutos))\n",
    "print('{} segundo(s)'.format(segundos))"
   ]
  },
  {
   "cell_type": "markdown",
   "metadata": {},
   "source": [
    "## 1065 - Pares entre 5"
   ]
  },
  {
   "cell_type": "code",
   "execution_count": 14,
   "metadata": {},
   "outputs": [
    {
     "name": "stdout",
     "output_type": "stream",
     "text": [
      "1\n",
      "2\n",
      "3\n",
      "4\n",
      "5\n",
      "2 valor(es) par(es)\n",
      "3 valor(es) impar(es)\n",
      "5 valor(es) positivo(s)\n",
      "0 valor(es) negativo(s)\n"
     ]
    }
   ],
   "source": [
    "A = [int(input()), int(input()), int(input()), int(input()), int(input())]\n",
    "cont_pos = 0\n",
    "cont_par = 0\n",
    "cont_neg = 0\n",
    "for i in A:\n",
    "    if i%2==0:\n",
    "        cont_par += 1\n",
    "    if i > 0:\n",
    "        cont_pos += 1\n",
    "    elif i<0:\n",
    "        cont_neg += 1\n",
    "print('{} valor(es) par(es)'.format(cont_par))\n",
    "print('{} valor(es) impar(es)'.format(5 - cont_par))\n",
    "print('{} valor(es) positivo(s)'.format(cont_pos))\n",
    "print('{} valor(es) negativo(s)'.format(cont_neg))"
   ]
  },
  {
   "cell_type": "markdown",
   "metadata": {},
   "source": [
    "## 1067 e 1070 - Números ímpares"
   ]
  },
  {
   "cell_type": "code",
   "execution_count": 21,
   "metadata": {},
   "outputs": [
    {
     "name": "stdout",
     "output_type": "stream",
     "text": [
      "1\n",
      "1\n",
      "11\n",
      "11\n",
      "13\n",
      "15\n",
      "17\n",
      "19\n",
      "21\n"
     ]
    }
   ],
   "source": [
    "extremo = int(input())\n",
    "for i in range(1,extremo+1,2):\n",
    "    print(i)\n",
    "\n",
    "infimo = int(input())\n",
    "if infimo%2==0:\n",
    "    infimo -= 1\n",
    "else:\n",
    "    infimo -= 2\n",
    "for i in range(1,7):\n",
    "    print(infimo+2)\n",
    "    infimo += 2"
   ]
  },
  {
   "cell_type": "markdown",
   "metadata": {},
   "source": [
    "## 1071 - Soma de Impares"
   ]
  },
  {
   "cell_type": "code",
   "execution_count": 25,
   "metadata": {},
   "outputs": [
    {
     "name": "stdout",
     "output_type": "stream",
     "text": [
      "12\n",
      "12\n",
      "0\n"
     ]
    }
   ],
   "source": [
    "n1 = int(input())\n",
    "n2 = int(input())\n",
    "if n2 > n1:\n",
    "    n = n1\n",
    "    n1 = n2\n",
    "    n2 = n\n",
    "soma = 0\n",
    "for i in range(n2+1,n1):\n",
    "    if i%2 == 1:\n",
    "        soma += i\n",
    "print(soma)"
   ]
  },
  {
   "cell_type": "markdown",
   "metadata": {},
   "source": [
    "## Intervalo 2"
   ]
  },
  {
   "cell_type": "code",
   "execution_count": 28,
   "metadata": {},
   "outputs": [
    {
     "name": "stdout",
     "output_type": "stream",
     "text": [
      "10\n",
      "1\n",
      "2\n",
      "3\n",
      "4\n",
      "45\n",
      "6\n",
      "90\n",
      "2\n",
      "13\n",
      "12\n",
      "2 in\n",
      "8 out\n"
     ]
    }
   ],
   "source": [
    "quant = int(input())\n",
    "dentro = 0\n",
    "for i in range(quant):\n",
    "    a = int(input())\n",
    "    if a >= 10 and a <= 20:\n",
    "        dentro +=1\n",
    "print('{} in'.format(dentro))\n",
    "print('{} out'.format(quant-dentro))\n",
    "    \n",
    "    "
   ]
  },
  {
   "cell_type": "markdown",
   "metadata": {},
   "source": [
    "## 1073 - Quadrado de Pares"
   ]
  },
  {
   "cell_type": "code",
   "execution_count": 30,
   "metadata": {},
   "outputs": [
    {
     "name": "stdout",
     "output_type": "stream",
     "text": [
      "6\n",
      "2^2 = 4\n",
      "4^2 = 16\n",
      "6^2 = 36\n"
     ]
    }
   ],
   "source": [
    "N = int(input())\n",
    "for i in range(2,N+1,2):\n",
    "    print('{}^2 = {}'.format(i,i*i))"
   ]
  },
  {
   "cell_type": "markdown",
   "metadata": {},
   "source": [
    "## 1073 - Par ou impar"
   ]
  },
  {
   "cell_type": "code",
   "execution_count": 31,
   "metadata": {},
   "outputs": [
    {
     "name": "stdout",
     "output_type": "stream",
     "text": [
      "4\n",
      "1\n",
      "ODD POSITIVE\n",
      "3\n",
      "ODD POSITIVE\n",
      "-4\n",
      "EVEN NEGATIVE\n",
      "0\n",
      "NULL\n"
     ]
    }
   ],
   "source": [
    "N = int(input())\n",
    "for i in range(N):\n",
    "    a = int(input())\n",
    "    if a%2 == 0:\n",
    "        if a>0:\n",
    "            print('EVEN POSITIVE')\n",
    "        elif a<0:\n",
    "            print('EVEN NEGATIVE')\n",
    "        else:\n",
    "            print('NULL')\n",
    "    else:\n",
    "        if a>0:\n",
    "            print('ODD POSITIVE')\n",
    "        else:\n",
    "            print('ODD NEGATIVE')"
   ]
  },
  {
   "cell_type": "code",
   "execution_count": null,
   "metadata": {},
   "outputs": [],
   "source": []
  }
 ],
 "metadata": {
  "kernelspec": {
   "display_name": "Python 3",
   "language": "python",
   "name": "python3"
  },
  "language_info": {
   "codemirror_mode": {
    "name": "ipython",
    "version": 3
   },
   "file_extension": ".py",
   "mimetype": "text/x-python",
   "name": "python",
   "nbconvert_exporter": "python",
   "pygments_lexer": "ipython3",
   "version": "3.6.5"
  }
 },
 "nbformat": 4,
 "nbformat_minor": 2
}
