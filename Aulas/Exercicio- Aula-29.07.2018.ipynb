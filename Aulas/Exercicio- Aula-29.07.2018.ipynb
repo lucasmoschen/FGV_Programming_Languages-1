{
 "cells": [
  {
   "cell_type": "code",
   "execution_count": 4,
   "metadata": {},
   "outputs": [],
   "source": [
    "texto = '''\n",
    "O romance inicia-se numa situação posterior a todos os seus acontecimentos. Bento Santiago, já um homem de idade, conta ao leitor como recebeu a alcunha de Dom Casmurro. A expressão fora inventada por um jovem poeta, que tentara ler para ele no trem alguns de seus versos. Como Bento cochilara durante a leitura, o rapaz ficou chateado e começou a chamá-lo daquela forma.\n",
    "\n",
    "O narrador inicia então o projeto de rememorar sua existência, o que ele chama de “atar as duas pontas da vida”. O leitor é apresentado à infância de Bentinho, quando ele vivia com a família num casarão da rua de Matacavalos.\n",
    "\n",
    "O primeiro fato relevante narrado é também seu primeiro motivo de preocupação. Bentinho escuta uma conversa entre José Dias e dona Glória: ela pretende mandá-lo ao seminário no cumprimento de uma promessa feita pouco antes de seu nascimento. A mãe, que já havia perdido um filho, prometera que, se o segundo filho nascesse “varão”, ela faria dele padre. Na conversa, dona Glória soubera da amizade estreita entre o menino e a filha de Pádua, Capitolina.\n",
    "\n",
    "Bentinho fica furioso com José Dias, que o denunciara, e expõe a situação a Capitu. A menina ouve tudo com atenção e começa a arquitetar uma maneira de Bentinho escapar do seminário, mas todos os seus planos fracassam. O garoto segue para o seminário, mas, antes de partir, sela, com um beijo em Capitu, a promessa de que se casaria com ela.\n",
    "\n",
    "No seminário, Bentinho conhece Ezequiel de Souza Escobar, que se torna seu melhor amigo. Em uma visita a sua família, Bentinho leva Escobar e Capitu o conhece.\n",
    "\n",
    "Enquanto Bentinho estuda para se tornar padre, Capitu estreita relações com dona Glória, que passa a ver com bons olhos a relação do filho com a garota. Dona Glória ainda não sabe, contudo, como resolver o problema da promessa e pensa em consultar o papa. Escobar é quem encontra a solução: a mãe, em desespero, prometera a Deus um sacerdote que não precisava, necessariamente, ser Bentinho. Por isso, no lugar dele, um escravo é enviado ao seminário e ordena-se padre.\n",
    "\n",
    "Bentinho vai estudar direito no Largo de São Francisco, em São Paulo. Quando conclui os estudos, torna-se o doutor Bento de Albuquerque Santiago. Ocorre então o casamento tão esperado entre Bento e Capitu. Escobar, por seu lado, casara-se com Sancha, uma antiga amiga de colégio de Capitu. Capitu e Bentinho formam um “duo afinadíssimo”.\n",
    "\n",
    "Essa felicidade, entretanto, começa a ser ameaçada com a demora do casal em ter um filho. Escobar e Sancha não encontram a mesma dificuldade: têm uma bela menina, a quem colocam o nome de Capitolina.\n",
    "\n",
    "Depois de alguns anos, Capitu finalmente tem um filho, e o casal pode retribuir a homenagem que Escobar e Sancha lhe haviam prestado: o filho é batizado com o nome de Ezequiel.\n",
    "\n",
    "Os casais passam a conviver intensamente. Bento vê uma semelhança terrível entre o pequeno Ezequiel e seu amigo Escobar, que, numa de suas aventuras na praia – o personagem era excelente nadador -, morre afogado.\n",
    "\n",
    "Bento enxerga no filho a figura do amigo falecido e fica convencido de que fora traído pela mulher. Resolve suicidar-se bebendo uma xícara de café envenenado. Quando Ezequiel entra em seu escritório, decide matar a criança, mas desiste no último momento. Diz ao garoto, então, que não é seu pai. Capitu escuta tudo e lamenta-se pelo ciúme de Bentinho, que, segundo ela, fora despertado pela casualidade da semelhança.\n",
    "\n",
    "Após inúmeras discussões, o casal decide separar-se. Arruma-se uma viagem para a Europa com o intuito de encobrir a nova situação, que levantaria muita polêmica. O protagonista retorna sozinho ao Brasil e se torna, pouco a pouco, o amargo Dom Casmurro. Capitu morre no exterior e Ezequiel tenta reatar relações com ele, mas a semelhança extrema com Escobar faz com que Bento Santiago o rejeite novamente. O destino de Ezequiel é infeliz: ele morre de febre tifóide durante uma pesquisa arqueológica em Jerusalém.\n",
    "\n",
    "Triste e nostálgico, o narrador constrói uma casa que imita sua casa de infância, na rua de Matacavalos. O próprio livro é também uma tentativa de recuperar o sentido de sua vida. No fim, o narrador parece menosprezar um pouco a própria criação. Convence-se de que o melhor a fazer agora é escrever outra obra sobre “a história dos subúrbios”.\n",
    "'''"
   ]
  },
  {
   "cell_type": "code",
   "execution_count": 5,
   "metadata": {},
   "outputs": [],
   "source": [
    "import string "
   ]
  },
  {
   "cell_type": "code",
   "execution_count": 51,
   "metadata": {},
   "outputs": [
    {
     "name": "stdout",
     "output_type": "stream",
     "text": [
      "{'nova': 1, 'mãe': 2, 'feita': 1, 'entre': 4, 'pesquisa': 1, 'arqueológica': 1, 'contudo': 1, 'situação': 3, 'forma': 1, 'suas': 1, 'necessariamente': 1, 'melhor': 2, 'garoto': 2, 'sabe': 1, 'apresentado': 1, 'semelhança': 3, 'no': 9, 'leitura': 1, 'dos': 1, 'amiga': 1, 'ainda': 1, 'momento': 1, 'intuito': 1, 'encontra': 1, 'havia': 1, 'furioso': 1, 'tentara': 1, 'bela': 1, 'também': 2, 'mesma': 1, 'daquela': 1, 'falecido': 1, 'sozinho': 1, 'imita': 1, 'dificuldade': 1, 'lugar': 1, 'rua': 2, 'santiago': 3, 'seu': 7, 'começa': 2, 'atar': 1, 'posterior': 1, 'todos': 2, 'pai': 1, 'motivo': 1, 'esperado': 1, 'escobar': 8, 'capitolina': 2, 'se': 5, 'uma': 12, 'decide': 2, 'bentinho': 11, 'extrema': 1, 'francisco': 1, 'escrever': 1, 'estudos': 1, 'café': 1, 'planos': 1, 'homem': 1, 'nadador': 1, 'lado': 1, 'casmurro': 2, 'recuperar': 1, 'é': 9, 'matar': 1, 'à': 1, 'tifóide': 1, 'afinadíssimo': 1, 'constrói': 1, 'pretende': 1, 'batizado': 1, 'primeiro': 2, 'promessa': 3, 'aventuras': 1, 'estudar': 1, 'numa': 2, 'homenagem': 1, 'enviado': 1, 'pela': 2, 'começou': 1, 'desespero': 1, 'formam': 1, 'o': 34, 'pontas': 1, 'estuda': 1, 'problema': 1, 'antiga': 1, 'cochilara': 1, 'colocam': 1, 'faz': 1, 'papa': 1, 'triste': 1, 'conviver': 1, 'amargo': 1, 'conhece': 2, 'protagonista': 1, 'largo': 1, 'europa': 1, 'envenenado': 1, 'terrível': 1, 'rapaz': 1, 'jerusalém': 1, 'tão': 1, 'chama': 1, 'casara-se': 1, 'num': 1, 'após': 1, 'cumprimento': 1, 'ela': 4, 'ver': 1, 'escritório': 1, 'poeta': 1, 'nascesse': 1, 'diz': 1, 'fora': 3, 'destino': 1, 'vai': 1, 'pequeno': 1, 'levantaria': 1, 'beijo': 1, 'josé': 2, 'projeto': 1, 'intensamente': 1, 'conclui': 1, 'lamenta-se': 1, 'muita': 1, 'seus': 3, 'polêmica': 1, 'arquitetar': 1, 'dom': 2, 'duas': 1, 'quando': 3, 'relação': 1, 'do': 4, 'encontram': 1, '–': 1, 'parece': 1, 'ter': 1, 'varão': 1, 'faria': 1, 'relevante': 1, 'personagem': 1, 'retribuir': 1, 'ele': 5, 'capitu': 10, 'pelo': 1, 'torna': 2, 'trem': 1, 'agora': 1, 'torna-se': 1, 'alcunha': 1, 'casal': 3, 'dias': 2, 'infeliz': 1, 'outra': 1, 'obra': 1, 'e': 19, 'estreita': 2, 'menina': 2, 'inicia': 1, 'morre': 3, 'resolver': 1, 'com': 15, 'novamente': 1, 'glória': 4, 'fim': 1, 'própria': 1, 'consultar': 1, 'escravo': 1, 'um': 10, 'encobrir': 1, 'quem': 2, 'entra': 1, 'ciúme': 1, 'próprio': 1, 'nome': 2, 'preocupação': 1, 'isso': 1, 'casa': 2, 'vida': 2, 'bons': 1, 'pádua': 1, 'então': 3, 'na': 3, 'albuquerque': 1, 'casaria': 1, 'dona': 4, 'nascimento': 1, 'solução': 1, 'narrador': 3, 'infância': 2, 'ao': 5, 'tornar': 1, 'fica': 2, 'arruma-se': 1, 'desiste': 1, 'ocorre': 1, 'dele': 2, 'pode': 1, 'de': 34, 'criação': 1, 'conta': 1, 'xícara': 1, 'que': 18, 'são': 2, 'convence-se': 1, 'romance': 1, 'fato': 1, 'as': 1, 'sentido': 1, 'brasil': 1, 'seminário': 5, 'lhe': 1, 'último': 1, 'denunciara': 1, 'febre': 1, 'durante': 2, 'partir': 1, 'jovem': 1, 'existência': 1, 'vivia': 1, 'atenção': 1, 'garota': 1, 'bebendo': 1, 'separar-se': 1, 'pouco': 4, 'casais': 1, 'criança': 1, 'narrado': 1, 'enxerga': 1, 'leitor': 2, 'ficou': 1, 'recebeu': 1, 'em': 8, 'escuta': 2, 'subúrbios': 1, 'a': 35, 'amizade': 1, 'doutor': 1, 'haviam': 1, 'convencido': 1, 'menosprezar': 1, 'sacerdote': 1, 'ser': 2, 'suicidar-se': 1, 'amigo': 3, 'não': 4, 'livro': 1, 'filho': 7, 'padre': 3, 'demora': 1, 'família': 2, 'ordena-se': 1, 'nostálgico': 1, 'sua': 4, 'colégio': 1, 'já': 2, 'ouve': 1, 'maneira': 1, 'precisava': 1, 'figura': 1, 'resolve': 1, 'inúmeras': 1, 'conversa': 2, 'excelente': 1, 'discussões': 1, 'depois': 1, 'inventada': 1, 'entretanto': 1, 'segue': 1, 'deus': 1, 'felicidade': 1, 'passam': 1, 'relações': 2, 'têm': 1, 'tentativa': 1, 'versos': 1, 'passa': 1, 'acontecimentos': 1, 'afogado': 1, 'por': 3, 'tem': 1, 'chateado': 1, 'soubera': 1, 'tudo': 2, 'retorna': 1, 'ezequiel': 6, 'viagem': 1, 'filha': 1, 'prestado': 1, 'segundo': 2, 'casualidade': 1, 'tenta': 1, 'mas': 4, 'reatar': 1, 'história': 1, 'ler': 1, 'era': 1, 'rejeite': 1, 'inicia-se': 1, 'duo': 1, 'sobre': 1, 'anos': 1, 'enquanto': 1, 'menino': 1, 'praia': 1, 'traído': 1, 'expressão': 1, 'mandá-lo': 1, 'souza': 1, 'paulo': 1, 'rememorar': 1, 'ameaçada': 1, 'finalmente': 1, 'antes': 2, 'chamá-lo': 1, 'prometera': 2, 'olhos': 1, 'sela': 1, 'para': 4, 'alguns': 2, 'como': 3, 'mulher': 1, 'matacavalos': 2, 'bento': 7, 'fracassam': 1, 'vê': 1, 'fazer': 1, 'casamento': 1, 'exterior': 1, 'idade': 1, 'leva': 1, 'pensa': 1, 'direito': 1, 'escapar': 1, 'os': 4, 'sancha': 3, 'essa': 1, 'despertado': 1, 'casarão': 1, 'visita': 1, 'perdido': 1, 'expõe': 1, 'da': 5}\n"
     ]
    }
   ],
   "source": [
    "texto2 = texto\n",
    "lista = [p.lower().strip(string.punctuation+'“'+'”') for p in texto2.split()]\n",
    "dicionario = {word:lista.count(word) for word in lista}\n",
    "dicionario.pop('')\n",
    "print(dicionario)"
   ]
  },
  {
   "cell_type": "code",
   "execution_count": 81,
   "metadata": {},
   "outputs": [
    {
     "name": "stdout",
     "output_type": "stream",
     "text": [
      "set()\n"
     ]
    }
   ],
   "source": [
    "Maiusculas = {p.strip(string.punctuation) for p in texto.split() if p!=p.lower()}\n",
    "Maiusculas2 = tuple(Maiusculas)\n",
    "for i in Maiusculas2:\n",
    "    if texto2.find('. '+i):\n",
    "        Maiusculas.remove(i)\n",
    "print(Maiusculas)"
   ]
  },
  {
   "cell_type": "code",
   "execution_count": null,
   "metadata": {},
   "outputs": [],
   "source": []
  }
 ],
 "metadata": {
  "kernelspec": {
   "display_name": "Python 3",
   "language": "python",
   "name": "python3"
  },
  "language_info": {
   "codemirror_mode": {
    "name": "ipython",
    "version": 3
   },
   "file_extension": ".py",
   "mimetype": "text/x-python",
   "name": "python",
   "nbconvert_exporter": "python",
   "pygments_lexer": "ipython3",
   "version": "3.5.2"
  }
 },
 "nbformat": 4,
 "nbformat_minor": 2
}
