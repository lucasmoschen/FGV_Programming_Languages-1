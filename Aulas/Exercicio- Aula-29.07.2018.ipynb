{
 "cells": [
  {
   "cell_type": "code",
   "execution_count": 11,
   "metadata": {},
   "outputs": [],
   "source": [
    "texto = '''\n",
    "O romance inicia-se numa situação posterior a todos os seus acontecimentos. Bento Santiago, já um homem de idade, conta ao leitor como recebeu a alcunha de Dom Casmurro. A expressão fora inventada por um jovem poeta, que tentara ler para ele no trem alguns de seus versos. Como Bento cochilara durante a leitura, o rapaz ficou chateado e começou a chamá-lo daquela forma. O narrador inicia então o projeto de rememorar sua existência, o que ele chama de “atar as duas pontas da vida”. O leitor é apresentado à infância de Bentinho, quando ele vivia com a família num casarão da rua de Matacavalos. O primeiro fato relevante narrado é também seu primeiro motivo de preocupação. Bentinho escuta uma conversa entre José Dias e dona Glória: ela pretende mandá-lo ao seminário no cumprimento de uma promessa feita pouco antes de seu nascimento. A mãe, que já havia perdido um filho, prometera que, se o segundo filho nascesse “varão”, ela faria dele padre. Na conversa, dona Glória soubera da amizade estreita entre o menino e a filha de Pádua, Capitolina. Bentinho fica furioso com José Dias, que o denunciara, e expõe a situação a Capitu. A menina ouve tudo com atenção e começa a arquitetar uma maneira de Bentinho escapar do seminário, mas todos os seus planos fracassam. O garoto segue para o seminário, mas, antes de partir, sela, com um beijo em Capitu, a promessa de que se casaria com ela. No seminário, Bentinho conhece Ezequiel de Souza Escobar, que se torna seu melhor amigo. Em uma visita a sua família, Bentinho leva Escobar e Capitu o conhece. Enquanto Bentinho estuda para se tornar padre, Capitu estreita relações com dona Glória, que passa a ver com bons olhos a relação do filho com a garota. Dona Glória ainda não sabe, contudo, como resolver o problema da promessa e pensa em consultar o papa. Escobar é quem encontra a solução: a mãe, em desespero, prometera a Deus um sacerdote que não precisava, necessariamente, ser Bentinho. Por isso, no lugar dele, um escravo é enviado ao seminário e ordena-se padre. Bentinho vai estudar direito no Largo de São Francisco, em São Paulo. Quando conclui os estudos, torna-se o doutor Bento de Albuquerque Santiago. Ocorre então o casamento tão esperado entre Bento e Capitu. Escobar, por seu lado, casara-se com Sancha, uma antiga amiga de colégio de Capitu. Capitu e Bentinho formam um “duo afinadíssimo”. Essa felicidade, entretanto, começa a ser ameaçada com a demora do casal em ter um filho. Escobar e Sancha não encontram a mesma dificuldade: têm uma bela menina, a quem colocam o nome de Capitolina. Depois de alguns anos, Capitu finalmente tem um filho, e o casal pode retribuir a homenagem que Escobar e Sancha lhe haviam prestado: o filho é batizado com o nome de Ezequiel. Os casais passam a conviver intensamente. Bento vê uma semelhança terrível entre o pequeno Ezequiel e seu amigo Escobar, que, numa de suas aventuras na praia – o personagem era excelente nadador -, morre afogado. Bento enxerga no filho a figura do amigo falecido e fica convencido de que fora traído pela mulher. Resolve suicidar-se bebendo uma xícara de café envenenado. Quando Ezequiel entra em seu escritório, decide matar a criança, mas desiste no último momento. Diz ao garoto, então, que não é seu pai. Capitu escuta tudo e lamenta-se pelo ciúme de Bentinho, que, segundo ela, fora despertado pela casualidade da semelhança. Após inúmeras discussões, o casal decide separar-se. Arruma-se uma viagem para a Europa com o intuito de encobrir a nova situação, que levantaria muita polêmica. O protagonista retorna sozinho ao Brasil e se torna, pouco a pouco, o amargo Dom Casmurro. Capitu morre no exterior e Ezequiel tenta reatar relações com ele, mas a semelhança extrema com Escobar faz com que Bento Santiago o rejeite novamente. O destino de Ezequiel é infeliz: ele morre de febre tifóide durante uma pesquisa arqueológica em Jerusalém. Triste e nostálgico, o narrador constrói uma casa que imita sua casa de infância, na rua de Matacavalos. O próprio livro é também uma tentativa de recuperar o sentido de sua vida. No fim, o narrador parece menosprezar um pouco a própria criação. Convence-se de que o melhor a fazer agora é escrever outra obra sobre “a história dos subúrbios”.\n",
    "'''"
   ]
  },
  {
   "cell_type": "code",
   "execution_count": 12,
   "metadata": {},
   "outputs": [],
   "source": [
    "import string"
   ]
  },
  {
   "cell_type": "code",
   "execution_count": 13,
   "metadata": {},
   "outputs": [
    {
     "name": "stdout",
     "output_type": "stream",
     "text": [
      "{'o': 34, 'romance': 1, 'inicia-se': 1, 'numa': 2, 'situação': 3, 'posterior': 1, 'a': 35, 'todos': 2, 'os': 4, 'seus': 3, 'acontecimentos': 1, 'bento': 7, 'santiago': 3, 'já': 2, 'um': 10, 'homem': 1, 'de': 34, 'idade': 1, 'conta': 1, 'ao': 5, 'leitor': 2, 'como': 3, 'recebeu': 1, 'alcunha': 1, 'dom': 2, 'casmurro': 2, 'expressão': 1, 'fora': 3, 'inventada': 1, 'por': 3, 'jovem': 1, 'poeta': 1, 'que': 18, 'tentara': 1, 'ler': 1, 'para': 4, 'ele': 5, 'no': 9, 'trem': 1, 'alguns': 2, 'versos': 1, 'cochilara': 1, 'durante': 2, 'leitura': 1, 'rapaz': 1, 'ficou': 1, 'chateado': 1, 'e': 19, 'começou': 1, 'chamá-lo': 1, 'daquela': 1, 'forma': 1, 'narrador': 3, 'inicia': 1, 'então': 3, 'projeto': 1, 'rememorar': 1, 'sua': 4, 'existência': 1, 'chama': 1, 'atar': 1, 'as': 1, 'duas': 1, 'pontas': 1, 'da': 5, 'vida': 2, 'é': 9, 'apresentado': 1, 'à': 1, 'infância': 2, 'bentinho': 11, 'quando': 3, 'vivia': 1, 'com': 15, 'família': 2, 'num': 1, 'casarão': 1, 'rua': 2, 'matacavalos': 2, 'primeiro': 2, 'fato': 1, 'relevante': 1, 'narrado': 1, 'também': 2, 'seu': 7, 'motivo': 1, 'preocupação': 1, 'escuta': 2, 'uma': 12, 'conversa': 2, 'entre': 4, 'josé': 2, 'dias': 2, 'dona': 4, 'glória': 4, 'ela': 4, 'pretende': 1, 'mandá-lo': 1, 'seminário': 5, 'cumprimento': 1, 'promessa': 3, 'feita': 1, 'pouco': 4, 'antes': 2, 'nascimento': 1, 'mãe': 2, 'havia': 1, 'perdido': 1, 'filho': 7, 'prometera': 2, 'se': 5, 'segundo': 2, 'nascesse': 1, 'varão': 1, 'faria': 1, 'dele': 2, 'padre': 3, 'na': 3, 'soubera': 1, 'amizade': 1, 'estreita': 2, 'menino': 1, 'filha': 1, 'pádua': 1, 'capitolina': 2, 'fica': 2, 'furioso': 1, 'denunciara': 1, 'expõe': 1, 'capitu': 10, 'menina': 2, 'ouve': 1, 'tudo': 2, 'atenção': 1, 'começa': 2, 'arquitetar': 1, 'maneira': 1, 'escapar': 1, 'do': 4, 'mas': 4, 'planos': 1, 'fracassam': 1, 'garoto': 2, 'segue': 1, 'partir': 1, 'sela': 1, 'beijo': 1, 'em': 8, 'casaria': 1, 'conhece': 2, 'ezequiel': 6, 'souza': 1, 'escobar': 8, 'torna': 2, 'melhor': 2, 'amigo': 3, 'visita': 1, 'leva': 1, 'enquanto': 1, 'estuda': 1, 'tornar': 1, 'relações': 2, 'passa': 1, 'ver': 1, 'bons': 1, 'olhos': 1, 'relação': 1, 'garota': 1, 'ainda': 1, 'não': 4, 'sabe': 1, 'contudo': 1, 'resolver': 1, 'problema': 1, 'pensa': 1, 'consultar': 1, 'papa': 1, 'quem': 2, 'encontra': 1, 'solução': 1, 'desespero': 1, 'deus': 1, 'sacerdote': 1, 'precisava': 1, 'necessariamente': 1, 'ser': 2, 'isso': 1, 'lugar': 1, 'escravo': 1, 'enviado': 1, 'ordena-se': 1, 'vai': 1, 'estudar': 1, 'direito': 1, 'largo': 1, 'são': 2, 'francisco': 1, 'paulo': 1, 'conclui': 1, 'estudos': 1, 'torna-se': 1, 'doutor': 1, 'albuquerque': 1, 'ocorre': 1, 'casamento': 1, 'tão': 1, 'esperado': 1, 'lado': 1, 'casara-se': 1, 'sancha': 3, 'antiga': 1, 'amiga': 1, 'colégio': 1, 'formam': 1, 'duo': 1, 'afinadíssimo': 1, 'essa': 1, 'felicidade': 1, 'entretanto': 1, 'ameaçada': 1, 'demora': 1, 'casal': 3, 'ter': 1, 'encontram': 1, 'mesma': 1, 'dificuldade': 1, 'têm': 1, 'bela': 1, 'colocam': 1, 'nome': 2, 'depois': 1, 'anos': 1, 'finalmente': 1, 'tem': 1, 'pode': 1, 'retribuir': 1, 'homenagem': 1, 'lhe': 1, 'haviam': 1, 'prestado': 1, 'batizado': 1, 'casais': 1, 'passam': 1, 'conviver': 1, 'intensamente': 1, 'vê': 1, 'semelhança': 3, 'terrível': 1, 'pequeno': 1, 'suas': 1, 'aventuras': 1, 'praia': 1, '–': 1, 'personagem': 1, 'era': 1, 'excelente': 1, 'nadador': 1, 'morre': 3, 'afogado': 1, 'enxerga': 1, 'figura': 1, 'falecido': 1, 'convencido': 1, 'traído': 1, 'pela': 2, 'mulher': 1, 'resolve': 1, 'suicidar-se': 1, 'bebendo': 1, 'xícara': 1, 'café': 1, 'envenenado': 1, 'entra': 1, 'escritório': 1, 'decide': 2, 'matar': 1, 'criança': 1, 'desiste': 1, 'último': 1, 'momento': 1, 'diz': 1, 'pai': 1, 'lamenta-se': 1, 'pelo': 1, 'ciúme': 1, 'despertado': 1, 'casualidade': 1, 'após': 1, 'inúmeras': 1, 'discussões': 1, 'separar-se': 1, 'arruma-se': 1, 'viagem': 1, 'europa': 1, 'intuito': 1, 'encobrir': 1, 'nova': 1, 'levantaria': 1, 'muita': 1, 'polêmica': 1, 'protagonista': 1, 'retorna': 1, 'sozinho': 1, 'brasil': 1, 'amargo': 1, 'exterior': 1, 'tenta': 1, 'reatar': 1, 'extrema': 1, 'faz': 1, 'rejeite': 1, 'novamente': 1, 'destino': 1, 'infeliz': 1, 'febre': 1, 'tifóide': 1, 'pesquisa': 1, 'arqueológica': 1, 'jerusalém': 1, 'triste': 1, 'nostálgico': 1, 'constrói': 1, 'casa': 2, 'imita': 1, 'próprio': 1, 'livro': 1, 'tentativa': 1, 'recuperar': 1, 'sentido': 1, 'fim': 1, 'parece': 1, 'menosprezar': 1, 'própria': 1, 'criação': 1, 'convence-se': 1, 'fazer': 1, 'agora': 1, 'escrever': 1, 'outra': 1, 'obra': 1, 'sobre': 1, 'história': 1, 'dos': 1, 'subúrbios': 1}\n"
     ]
    }
   ],
   "source": [
    "texto2 = texto\n",
    "lista = [p.lower().strip(string.punctuation+'“'+'”') for p in texto2.split()]\n",
    "dicionario = {word:lista.count(word) for word in lista}\n",
    "dicionario.pop('')\n",
    "print(dicionario)"
   ]
  },
  {
   "cell_type": "code",
   "execution_count": 16,
   "metadata": {},
   "outputs": [
    {
     "name": "stdout",
     "output_type": "stream",
     "text": [
      "{'Bentinho', 'Albuquerque', 'Sancha', 'Bento', 'Deus', 'Largo', 'Pádua', 'Paulo', 'Brasil', 'Ezequiel', 'Capitolina', 'Capitu', 'Europa', 'Matacavalos', 'Santiago', 'Escobar', 'Souza', 'Dom', 'Jerusalém', 'José', 'Glória', 'Casmurro', 'Francisco', 'Dias'}\n"
     ]
    }
   ],
   "source": [
    "Maiusculas = {p.strip(string.punctuation) for p in texto.split() if p!=p.lower()}\n",
    "Maiusculas2 = tuple(Maiusculas)\n",
    "for nome in Maiusculas2:\n",
    "    if nome.lower() in texto:\n",
    "        Maiusculas.remove(nome)\n",
    "Maiusculas2 = tuple(Maiusculas)\n",
    "for nome in Maiusculas2:\n",
    "    if '. '+nome in texto and texto.count(nome) == 1:\n",
    "        Maiusculas.remove(nome)\n",
    "print(Maiusculas)"
   ]
  },
  {
   "cell_type": "code",
   "execution_count": null,
   "metadata": {},
   "outputs": [],
   "source": []
  }
 ],
 "metadata": {
  "kernelspec": {
   "display_name": "Python 3",
   "language": "python",
   "name": "python3"
  },
  "language_info": {
   "codemirror_mode": {
    "name": "ipython",
    "version": 3
   },
   "file_extension": ".py",
   "mimetype": "text/x-python",
   "name": "python",
   "nbconvert_exporter": "python",
   "pygments_lexer": "ipython3",
   "version": "3.5.2"
  }
 },
 "nbformat": 4,
 "nbformat_minor": 2
}
