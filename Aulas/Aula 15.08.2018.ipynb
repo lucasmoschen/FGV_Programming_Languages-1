{
 "cells": [
  {
   "cell_type": "markdown",
   "metadata": {},
   "source": [
    "# Aula 15.08.2018"
   ]
  },
  {
   "cell_type": "markdown",
   "metadata": {},
   "source": [
    "Configurando upstring\n",
    "- git remote -v\n",
    "- git remote add \"upstream\" \"site\"\n",
    "- git fetch \"upstrem\" : nesse ponto, git remote -v aparece o upstream\n"
   ]
  },
  {
   "cell_type": "markdown",
   "metadata": {},
   "source": [
    "## Turing Complete: \n",
    "Contém todas as instruções necessárias. \n",
    "Linguagens exotéricas: Brainfuck, Shekespeare e Pikachu.\n",
    "Tem suficiencia par aprogramar qualquer máquina.\n",
    "Toda linguagem completa contém loops e condicionais"
   ]
  },
  {
   "cell_type": "markdown",
   "metadata": {},
   "source": [
    "### Condicionais e loops\n",
    "Hoje aprendemos o if e else if e o loop for.\n",
    "Quando se coloca dois pontos depois da condição, cria-se um bloco. "
   ]
  },
  {
   "cell_type": "markdown",
   "metadata": {},
   "source": [
    "### Range: \n",
    "util para usar uma série, pois aloca o primeiro, o último e a recorrência. "
   ]
  },
  {
   "cell_type": "code",
   "execution_count": null,
   "metadata": {},
   "outputs": [],
   "source": []
  }
 ],
 "metadata": {
  "kernelspec": {
   "display_name": "Python 3",
   "language": "python",
   "name": "python3"
  },
  "language_info": {
   "codemirror_mode": {
    "name": "ipython",
    "version": 3
   },
   "file_extension": ".py",
   "mimetype": "text/x-python",
   "name": "python",
   "nbconvert_exporter": "python",
   "pygments_lexer": "ipython3",
   "version": "3.5.2"
  }
 },
 "nbformat": 4,
 "nbformat_minor": 2
}
