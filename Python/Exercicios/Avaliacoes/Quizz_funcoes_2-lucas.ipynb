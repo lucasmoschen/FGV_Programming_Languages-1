{
 "cells": [
  {
   "cell_type": "markdown",
   "metadata": {},
   "source": [
    "1 - Dadas uma lista qualquer, como a do exemplo abaixo:"
   ]
  },
  {
   "cell_type": "code",
   "execution_count": 49,
   "metadata": {},
   "outputs": [],
   "source": [
    "lista = [1,2,3,'4',5,6.3,7.4 + 2j,\"123\",[1,2,3], 93, \"98\", (1,2,3,'4')]"
   ]
  },
  {
   "cell_type": "markdown",
   "metadata": {},
   "source": [
    "Crie uma função recursiva para imprimir o antecessor e o sucessor de cada elemento de uma lista:\n",
    "+ Caso este elemento seja inteiro, imprimir o valor;  \n",
    "+ Caso seja uma string, imprimir o inteiro correspondente;  \n",
    "+ Caso seja um real, imprima a parte inteira;\n",
    "+ Caso seja um imaginário, imprima a parte inteira e real;\n",
    "+ Caso seja uma sequência, aplique as regras acima para cada elemento da sequência.  "
   ]
  },
  {
   "cell_type": "code",
   "execution_count": 87,
   "metadata": {},
   "outputs": [],
   "source": [
    "def changetype(sequencia):\n",
    "    for i in range(len(sequencia)):\n",
    "        if type(sequencia[i]) == int or type(sequencia[i]) == float or type(sequencia[i]) == str:\n",
    "            sequencia[i] = int(sequencia[i])\n",
    "        elif type(sequencia[i]) == complex:\n",
    "            sequencia[i] = int(sequencia[i].real)\n",
    "        elif type(sequencia[i]) == list:\n",
    "            changetype(sequencia[i]) #faz a recursividade\n",
    "        else:\n",
    "            sequencia[i] = list(sequencia[i])\n",
    "            changetype(sequencia[i]) #faz a recursividade\n",
    "            sequencia[i] = tuple(sequencia[i]) #transforma qualquer coisa diferente de lista em tupla\n",
    "    return sequencia "
   ]
  },
  {
   "cell_type": "code",
   "execution_count": 88,
   "metadata": {},
   "outputs": [
    {
     "name": "stdout",
     "output_type": "stream",
     "text": [
      "[1, 12, 4, 5, 5, 4, [1, 2, 3], (1, 2)]\n"
     ]
    }
   ],
   "source": [
    "a = changetype(['1',12,'4',5.4,5+4j,4,['1',2 + 5j,3.4],(1,2)])"
   ]
  },
  {
   "cell_type": "markdown",
   "metadata": {},
   "source": [
    "2 - Crie uma função, ou conjunto de funções, para exibir por extenso o valor de qualquer número inteiro até 1000.  \n",
    "Exemplo:  \n",
    "\n",
    "    print(imprime_extenso(234))  \n",
    "    > 'duzentos e trinta e quatro'  "
   ]
  },
  {
   "cell_type": "code",
   "execution_count": 94,
   "metadata": {},
   "outputs": [],
   "source": [
    "def imprime_extenso(n):\n",
    "    unidades = ['zero','um','dois','tres','quatro','cinco','seis','sete','oito','nove']\n",
    "    dezenas = ['dez','vinte','trinta','quarenta','cinquenta','sessenta','setenta','oitenta','noventa']\n",
    "    centenas = ['cem','duzentos','trezentos','quatrocentos','quinhentos','seiscentos','setecentos','oitocentos','novecentos']\n",
    "    diferentes = ['onze','doze','treze','quatorze','quinze']\n",
    "    if n > 10 and n<16:\n",
    "        print(diferentes[n-11])\n",
    "    else:\n",
    "        lista = [int(k) for k in str(n)]\n",
    "        if len(lista) == 1:\n",
    "            print(unidades[lista[0]])\n",
    "        elif len(lista) == 2:\n",
    "            dezena = dezenas[lista[0]-1]\n",
    "            if lista[1] != 0:\n",
    "                unidade = unidades[lista[1]]\n",
    "                print(dezena+' e '+unidade)\n",
    "            else:\n",
    "                print(dezena)\n",
    "        elif len(lista) == 3:\n",
    "            centena = centenas[lista[0]-1]\n",
    "            if lista[1] != 0:\n",
    "                dezena = dezenas[lista[1]-1]\n",
    "                if lista[2] != 0:\n",
    "                    unidade = unidades[lista[2]]\n",
    "                    print(centena+' e '+dezena+' e '+unidade)\n",
    "                else:\n",
    "                    print(centena+' e '+dezena)\n",
    "            else:\n",
    "                print(centena)\n",
    "        else:\n",
    "            print('mil')"
   ]
  },
  {
   "cell_type": "code",
   "execution_count": 102,
   "metadata": {},
   "outputs": [
    {
     "name": "stdout",
     "output_type": "stream",
     "text": [
      "quatrocentos\n"
     ]
    }
   ],
   "source": [
    "imprime_extenso(400)"
   ]
  },
  {
   "cell_type": "markdown",
   "metadata": {},
   "source": [
    "3- Em alguns lugares é comum lembrar um número do telefone associando seus dígitos a letras. Dessa maneira a expressão MY LOVE significa 69 5683. Claro que existem alguns problemas, uma vez que alguns números de telefone não formam uma palavra ou uma frase e os dígitos 1 e 0 não estão associados a nenhuma letra.  \n",
    "\n",
    "Sua tarefa é ler uma expressão e encontrar o número de telefone correspondente baseado na tabela abaixo. Uma expressão é composta por letras maiúsculas (A-Z), hifens (-) e os números 1 e 0.  \n",
    "\n",
    "Letras  ->  Número  \n",
    "ABC    ->  2   \n",
    "DEF    ->  3   \n",
    "GHI    ->  4   \n",
    "JKL    ->  5   \n",
    "MNO    ->  6   \n",
    "PQRS    ->  7   \n",
    "TUV    ->  8   \n",
    "WXYZ   ->  9   \n",
    "\n",
    "Entrada  \n",
    "\n",
    "A entrada consiste de um conjunto de expressões. Cada expressão está sozinha em uma linha e possui C caracteres, onde 1 ≤ C ≤ 30. A entrada é terminada por fim de arquivo (EOF).  \n",
    "\n",
    "Saída  \n",
    "\n",
    "Para cada expressão você deve imprimir o número de telefone correspondente.  \n",
    "\n",
    "Exemplo de entrada:  \n",
    "\n",
    "1-HOME-SWEET-HOME  \n",
    "MY-MISERABLE-JOB  \n",
    "\n",
    "Saída correspondente:\n",
    "\n",
    "1-4663-79338-4663  \n",
    "69-647372253-562  "
   ]
  },
  {
   "cell_type": "code",
   "execution_count": 41,
   "metadata": {},
   "outputs": [
    {
     "name": "stdout",
     "output_type": "stream",
     "text": [
      "1-HOME-SWEET-HOME\n",
      "1-4663-79338-4663\n"
     ]
    }
   ],
   "source": [
    "numero = input()\n",
    "lista = ['ABC','DEF','GHI','JKL','MNO','PQRS','TUV','WXYZ']\n",
    "string = ''\n",
    "for i in numero:\n",
    "    a = False\n",
    "    for k in range(8):\n",
    "        if i in lista[k]:\n",
    "            string = string+str(k+2)\n",
    "            a = True\n",
    "            break\n",
    "    if a == False:\n",
    "        string = string+i\n",
    "print(string)"
   ]
  },
  {
   "cell_type": "markdown",
   "metadata": {},
   "source": [
    "4- Dada um texto em formato string, encontre todas as palavras pertencentes a esta string que contenham uma determinada letra, passada como parâmetro. "
   ]
  },
  {
   "cell_type": "code",
   "execution_count": 10,
   "metadata": {},
   "outputs": [],
   "source": [
    "import string"
   ]
  },
  {
   "cell_type": "code",
   "execution_count": 19,
   "metadata": {},
   "outputs": [],
   "source": [
    "def encontrar(texto,letra):\n",
    "    palavras = [p.strip(string.punctuation) for p in texto.split()]\n",
    "    for palavra in palavras:\n",
    "        if letra in palavra:\n",
    "            print(palavra)"
   ]
  },
  {
   "cell_type": "code",
   "execution_count": 31,
   "metadata": {},
   "outputs": [
    {
     "name": "stdout",
     "output_type": "stream",
     "text": [
      "[4, 2, 3, 4]\n"
     ]
    }
   ],
   "source": [
    "sequencia = [1,2,3,4]\n",
    "sequencia2 = list(sequencia)\n",
    "sequencia.pop(0)\n",
    "sequencia2[0] = 4\n",
    "print(sequencia2)"
   ]
  }
 ],
 "metadata": {
  "kernelspec": {
   "display_name": "Python 3",
   "language": "python",
   "name": "python3"
  },
  "language_info": {
   "codemirror_mode": {
    "name": "ipython",
    "version": 3
   },
   "file_extension": ".py",
   "mimetype": "text/x-python",
   "name": "python",
   "nbconvert_exporter": "python",
   "pygments_lexer": "ipython3",
   "version": "3.6.5"
  }
 },
 "nbformat": 4,
 "nbformat_minor": 2
}
