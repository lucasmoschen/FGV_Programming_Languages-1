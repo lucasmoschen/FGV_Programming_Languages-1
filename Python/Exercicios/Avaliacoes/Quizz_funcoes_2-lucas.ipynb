{
 "cells": [
  {
   "cell_type": "markdown",
   "metadata": {},
   "source": [
    "1 - Dadas uma lista qualquer, como a do exemplo abaixo:"
   ]
  },
  {
   "cell_type": "code",
   "execution_count": 49,
   "metadata": {},
   "outputs": [],
   "source": [
    "lista = [1,2,3,'4',5,6.3,7.4 + 2j,\"123\",[1,2,3], 93, \"98\", (1,2,3,'4')]"
   ]
  },
  {
   "cell_type": "markdown",
   "metadata": {},
   "source": [
    "Crie uma função recursiva para imprimir o antecessor e o sucessor de cada elemento de uma lista:\n",
    "+ Caso este elemento seja inteiro, imprimir o valor;  \n",
    "+ Caso seja uma string, imprimir o inteiro correspondente;  \n",
    "+ Caso seja um real, imprima a parte inteira;\n",
    "+ Caso seja um imaginário, imprima a parte inteira e real;\n",
    "+ Caso seja uma sequência, aplique as regras acima para cada elemento da sequência.  "
   ]
  },
  {
   "cell_type": "code",
   "execution_count": 94,
   "metadata": {},
   "outputs": [],
   "source": [
    "def changetype(sequencia):\n",
    "    if type(sequencia[1]) == int or type(sequencia[1]) == str or type(sequencia[1]) == float:\n",
    "        sequencia[1] = int(sequencia[1])\n",
    "        print('O sucessor de {} é {}'.format(sequencia[0],sequencia[1]))\n",
    "    elif type(sequencia[1]) == complex\n",
    "        sequencia[1] = int(sequencia[1].real)\n",
    "        print('O sucessor de {} é {}'.format(sequencia[0],sequencia[1]))\n",
    "    else:\n",
    "        changetype(sequencia)\n",
    "    if type(sequencia[-1]) == int or type(sequencia[-1]) == str or type(sequencia[-1]) == float:\n",
    "        sequencia[1] = int(sequencia[1])\n",
    "        print('O sucessor de {} é {}'.format(sequencia[0],sequencia[-1]))\n",
    "    elif type(sequencia[-1]) == complex\n",
    "        sequencia[1] = int(sequencia[1].real)\n",
    "        print('O sucessor de {} é {}'.format(sequencia[0],sequencia[-1]))\n",
    "    else:\n",
    "        changetype(sequencia)\n",
    "    n = sequencia[0]\n",
    "    sequencia[0] = sequencia[-1]\n",
    "    sequencia[-1] = n\n",
    "    \n",
    "        "
   ]
  },
  {
   "cell_type": "markdown",
   "metadata": {},
   "source": [
    "2 - Crie uma função, ou conjunto de funções, para exibir por extenso o valor de qualquer número inteiro até 1000.  \n",
    "Exemplo:  \n",
    "\n",
    "    print(imprime_extenso(234))  \n",
    "    > 'duzentos e trinta e quatro'  "
   ]
  },
  {
   "cell_type": "code",
   "execution_count": 107,
   "metadata": {},
   "outputs": [],
   "source": [
    "def imprime_extenso(n):\n",
    "    unidade = ['um','dois','tres','quatro','cinco','seis','sete','oito','nove']\n",
    "    dezena = ['dez','vinte','trinta','quarenta','cinquenta','sessenta','setenta','oitenta','noventa']\n",
    "    centena = ['cem','duzentos','trezentos','quatrocentos','quinhentos','seiscentos','setecentos','oitocentos','novecentos']\n",
    "    if n==0:print('zero')\n",
    "    elif n == 11:print('onze')\n",
    "    elif n ==12:print('doze')\n",
    "    elif n == 13:print('treze')\n",
    "    elif n == 14:print('quatorze')\n",
    "    elif n==15:print('quinze')\n",
    "    else:\n",
    "        if n > 10 and n <100:\n",
    "            n1 = int(n/10)\n",
    "            n2 = n%10\n",
    "            if n2 != 0:\n",
    "                print(str(dezena[n1-1]) + ' e ' + str(unidade[n2-1]))\n",
    "            else:\n",
    "                print(str(dezena[n1-1]))\n",
    "        elif n <= 10:\n",
    "            print(unidade[n-1])\n",
    "        if n >= 10\n",
    "            n = str(n)\n",
    "            print()"
   ]
  },
  {
   "cell_type": "code",
   "execution_count": 108,
   "metadata": {},
   "outputs": [
    {
     "name": "stdout",
     "output_type": "stream",
     "text": [
      "oito\n"
     ]
    }
   ],
   "source": [
    "imprime_extenso(8)"
   ]
  },
  {
   "cell_type": "markdown",
   "metadata": {},
   "source": [
    "3- Em alguns lugares é comum lembrar um número do telefone associando seus dígitos a letras. Dessa maneira a expressão MY LOVE significa 69 5683. Claro que existem alguns problemas, uma vez que alguns números de telefone não formam uma palavra ou uma frase e os dígitos 1 e 0 não estão associados a nenhuma letra.  \n",
    "\n",
    "Sua tarefa é ler uma expressão e encontrar o número de telefone correspondente baseado na tabela abaixo. Uma expressão é composta por letras maiúsculas (A-Z), hifens (-) e os números 1 e 0.  \n",
    "\n",
    "Letras  ->  Número  \n",
    "ABC    ->  2   \n",
    "DEF    ->  3   \n",
    "GHI    ->  4   \n",
    "JKL    ->  5   \n",
    "MNO    ->  6   \n",
    "PQRS    ->  7   \n",
    "TUV    ->  8   \n",
    "WXYZ   ->  9   \n",
    "\n",
    "Entrada  \n",
    "\n",
    "A entrada consiste de um conjunto de expressões. Cada expressão está sozinha em uma linha e possui C caracteres, onde 1 ≤ C ≤ 30. A entrada é terminada por fim de arquivo (EOF).  \n",
    "\n",
    "Saída  \n",
    "\n",
    "Para cada expressão você deve imprimir o número de telefone correspondente.  \n",
    "\n",
    "Exemplo de entrada:  \n",
    "\n",
    "1-HOME-SWEET-HOME  \n",
    "MY-MISERABLE-JOB  \n",
    "\n",
    "Saída correspondente:\n",
    "\n",
    "1-4663-79338-4663  \n",
    "69-647372253-562  "
   ]
  },
  {
   "cell_type": "code",
   "execution_count": 41,
   "metadata": {},
   "outputs": [
    {
     "name": "stdout",
     "output_type": "stream",
     "text": [
      "1-HOME-SWEET-HOME\n",
      "1-4663-79338-4663\n"
     ]
    }
   ],
   "source": [
    "numero = input()\n",
    "lista = ['ABC','DEF','GHI','JKL','MNO','PQRS','TUV','WXYZ']\n",
    "string = ''\n",
    "for i in numero:\n",
    "    a = False\n",
    "    for k in range(8):\n",
    "        if i in lista[k]:\n",
    "            string = string+str(k+2)\n",
    "            a = True\n",
    "            break\n",
    "    if a == False:\n",
    "        string = string+i\n",
    "print(string)"
   ]
  },
  {
   "cell_type": "markdown",
   "metadata": {},
   "source": [
    "4- Dada um texto em formato string, encontre todas as palavras pertencentes a esta string que contenham uma determinada letra, passada como parâmetro. "
   ]
  },
  {
   "cell_type": "code",
   "execution_count": 10,
   "metadata": {},
   "outputs": [],
   "source": [
    "import string"
   ]
  },
  {
   "cell_type": "code",
   "execution_count": 19,
   "metadata": {},
   "outputs": [],
   "source": [
    "def encontrar(texto,letra):\n",
    "    palavras = [p.strip(string.punctuation) for p in texto.split()]\n",
    "    for palavra in palavras:\n",
    "        if letra in palavra:\n",
    "            print(palavra)"
   ]
  },
  {
   "cell_type": "code",
   "execution_count": null,
   "metadata": {},
   "outputs": [],
   "source": []
  }
 ],
 "metadata": {
  "kernelspec": {
   "display_name": "Python 3",
   "language": "python",
   "name": "python3"
  },
  "language_info": {
   "codemirror_mode": {
    "name": "ipython",
    "version": 3
   },
   "file_extension": ".py",
   "mimetype": "text/x-python",
   "name": "python",
   "nbconvert_exporter": "python",
   "pygments_lexer": "ipython3",
   "version": "3.5.2"
  }
 },
 "nbformat": 4,
 "nbformat_minor": 2
}
