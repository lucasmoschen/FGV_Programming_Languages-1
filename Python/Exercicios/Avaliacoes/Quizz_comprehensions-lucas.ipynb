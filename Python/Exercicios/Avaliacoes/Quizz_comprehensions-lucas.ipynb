{
 "cells": [
  {
   "cell_type": "code",
   "execution_count": 5,
   "metadata": {},
   "outputs": [],
   "source": [
    "import string"
   ]
  },
  {
   "cell_type": "markdown",
   "metadata": {},
   "source": [
    "1 - Dada a string abaixo:"
   ]
  },
  {
   "cell_type": "code",
   "execution_count": 6,
   "metadata": {},
   "outputs": [],
   "source": [
    "jgr = 'Só se pode viver perto de outro, e conhecer outra pessoa, \\\n",
    "sem perigo de ódio, se a gente tem amor. Qualquer amor já é um pouquinho \\\n",
    "de saúde, um descanso na loucura.'"
   ]
  },
  {
   "cell_type": "markdown",
   "metadata": {},
   "source": [
    "Use uma list comprehension para criar uma lista de tuplas na forma:\n",
    "(palavra em maiúscula, palavra em minúscula, tamanho da palavra)"
   ]
  },
  {
   "cell_type": "code",
   "execution_count": 13,
   "metadata": {},
   "outputs": [
    {
     "name": "stdout",
     "output_type": "stream",
     "text": [
      "[('SÓ', 'só', 2), ('SE', 'se', 2), ('PODE', 'pode', 4), ('VIVER', 'viver', 5), ('PERTO', 'perto', 5), ('DE', 'de', 2), ('OUTRO', 'outro', 5), ('E', 'e', 1), ('CONHECER', 'conhecer', 8), ('OUTRA', 'outra', 5), ('PESSOA', 'pessoa', 6), ('SEM', 'sem', 3), ('PERIGO', 'perigo', 6), ('DE', 'de', 2), ('ÓDIO', 'ódio', 4), ('SE', 'se', 2), ('A', 'a', 1), ('GENTE', 'gente', 5), ('TEM', 'tem', 3), ('AMOR', 'amor', 4), ('QUALQUER', 'qualquer', 8), ('AMOR', 'amor', 4), ('JÁ', 'já', 2), ('É', 'é', 1), ('UM', 'um', 2), ('POUQUINHO', 'pouquinho', 9), ('DE', 'de', 2), ('SAÚDE', 'saúde', 5), ('UM', 'um', 2), ('DESCANSO', 'descanso', 8), ('NA', 'na', 2), ('LOUCURA', 'loucura', 7)]\n"
     ]
    }
   ],
   "source": [
    "palavras = [palavra.strip(string.punctuation) for palavra in jgr.split()]\n",
    "maiusculas = [palavra.upper() for palavra in palavras]\n",
    "minusculas = [palavra.lower() for palavra in palavras]\n",
    "tamanho = [len(palavra) for palavra in palavras]\n",
    "tuplas = list(zip(maiusculas,minusculas,tamanho))\n",
    "print(tuplas)"
   ]
  },
  {
   "cell_type": "markdown",
   "metadata": {},
   "source": [
    "2 - Extraia, do texto abaixo, um dicionário de frequências de palavras na forma {palavra: frequência}. Limpe as palavras no quanto for possível."
   ]
  },
  {
   "cell_type": "code",
   "execution_count": 17,
   "metadata": {},
   "outputs": [],
   "source": [
    "texto = '''\n",
    "Cansaço\n",
    "O que há em mim é sobretudo cansaço —\n",
    "Não disto nem daquilo,\n",
    "Nem sequer de tudo ou de nada:\n",
    "Cansaço assim mesmo, ele mesmo,\n",
    "Cansaço.\n",
    "\n",
    "A subtileza das sensações inúteis,\n",
    "As paixões violentas por coisa nenhuma,\n",
    "Os amores intensos por o suposto em alguém,\n",
    "Essas coisas todas —\n",
    "Essas e o que falta nelas eternamente —;\n",
    "Tudo isso faz um cansaço,\n",
    "Este cansaço,\n",
    "Cansaço. \n",
    "\n",
    "'''"
   ]
  },
  {
   "cell_type": "code",
   "execution_count": 32,
   "metadata": {},
   "outputs": [
    {
     "name": "stdout",
     "output_type": "stream",
     "text": [
      "{'faz': 1, 'sobretudo': 1, 'nenhuma': 1, 'essas': 2, 'alguém': 1, 'subtileza': 1, 'nem': 2, 'amores': 1, 'os': 1, 'não': 1, 'ou': 1, 'um': 1, 'ele': 1, 'falta': 1, 'mim': 1, 'todas': 1, 'que': 2, 'cansaço': 7, 'e': 1, 'coisa': 1, 'intensos': 1, 'daquilo': 1, 'em': 2, 'disto': 1, 'sensações': 1, 'é': 1, 'por': 2, 'paixões': 1, 'inúteis': 1, 'nelas': 1, 'isso': 1, 'as': 1, 'de': 2, 'assim': 1, 'mesmo': 2, 'sequer': 1, 'coisas': 1, 'a': 1, 'eternamente': 1, 'das': 1, 'tudo': 2, 'há': 1, 'este': 1, 'nada': 1, 'o': 3, 'suposto': 1, 'violentas': 1}\n"
     ]
    }
   ],
   "source": [
    "palavras = [palavra.strip() for palavra in texto.split()]\n",
    "palavras = [palavra.strip(string.punctuation).lower() for palavra in palavras]\n",
    "while '—' in palavras:\n",
    "    palavras.remove('—')\n",
    "dicionario = {palavra:palavras.count(palavra) for palavra in palavras}\n",
    "print(dicionario)"
   ]
  },
  {
   "cell_type": "markdown",
   "metadata": {},
   "source": [
    "3- Dadas as características do Calendário Gregoriano:  \n",
    "\n",
    " + Janeiro, Março, Maio, Julho, Agosto, Outubro e Dezembro têm trinta e um dias;\n",
    " + Abril, Junho, Setembro e Novembro têm trinta dias;\n",
    " + Fevereiro tem 28 dias, exceto em anos bissextos, quando tem 29.\n",
    " + Anos bissextos ocorrem quando o ano for divisível por 4, mas não quando for divisível por 100, exceto quando for divisível também por 400.\n",
    " \n",
    " + 1o de Janeiro de 1900 caiu em uma segunda-feira.\n",
    "\n",
    "Responda: Quantos sábados cairam no dia primeiro do mês durante o século XX? (1o de Janeiro de 1901 até 31 Dezembro de 2000)?\n"
   ]
  },
  {
   "cell_type": "code",
   "execution_count": 239,
   "metadata": {},
   "outputs": [
    {
     "name": "stdout",
     "output_type": "stream",
     "text": [
      "171\n"
     ]
    }
   ],
   "source": [
    "sabado = 0\n",
    "bissestos = [x for x in range(1901,2001) if x%4 == 0 and x%100!=0 or x%400 == 0]\n",
    "meses = [31,28,31,30,31,30,31,31,30,31,30,31]\n",
    "janeiro_1_1901 = 3\n",
    "a = janeiro_1_1901\n",
    "for ano in range(1901,2001):\n",
    "    if ano in bissestos:\n",
    "        for mes in meses:\n",
    "            if mes == 28:\n",
    "                mes = 29\n",
    "            a = a + mes-28\n",
    "            if a%7 == 0:\n",
    "                sabado +=1\n",
    "    else:\n",
    "        for mes in meses:\n",
    "            a = a + mes-28\n",
    "            if a%7 == 0:\n",
    "                sabado += 1   \n",
    "print(sabado)"
   ]
  },
  {
   "cell_type": "markdown",
   "metadata": {},
   "source": [
    "4- Procure gerar um número (pseudo-)aleatório entre 0 e 9 de forma criativa, usando funções geradoras e o módulo time. \n",
    "Não utilize o módulo random."
   ]
  },
  {
   "cell_type": "code",
   "execution_count": 188,
   "metadata": {},
   "outputs": [],
   "source": [
    "## exemplo para inspirar vocês. Há que se verificar se os números gerados parecem ser aleatórios.\n",
    "import time\n",
    "\n",
    "def numero_aleatorio():\n",
    "    x = time.time()\n",
    "    while True:\n",
    "        num = time.time() - x\n",
    "        #print(num)\n",
    "        num = [n for n in str(num) if n.isdigit()]\n",
    "        num = num[6]\n",
    "        yield int(num)\n",
    "\n",
    "gen = numero_aleatorio()"
   ]
  },
  {
   "cell_type": "code",
   "execution_count": 192,
   "metadata": {},
   "outputs": [],
   "source": [
    "import time\n",
    "\n",
    "def aleatorio():\n",
    "    while True:\n",
    "        n = str(time.time())\n",
    "        if n[-3].isdigit():\n",
    "            yield int(n[-3])\n",
    "        else:\n",
    "            yield int(n[-2])"
   ]
  }
 ],
 "metadata": {
  "kernelspec": {
   "display_name": "Python 3",
   "language": "python",
   "name": "python3"
  },
  "language_info": {
   "codemirror_mode": {
    "name": "ipython",
    "version": 3
   },
   "file_extension": ".py",
   "mimetype": "text/x-python",
   "name": "python",
   "nbconvert_exporter": "python",
   "pygments_lexer": "ipython3",
   "version": "3.5.2"
  }
 },
 "nbformat": 4,
 "nbformat_minor": 2
}
