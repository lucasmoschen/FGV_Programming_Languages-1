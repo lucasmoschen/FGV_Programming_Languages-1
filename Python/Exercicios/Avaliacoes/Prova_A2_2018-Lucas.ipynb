{
 "cells": [
  {
   "cell_type": "markdown",
   "metadata": {},
   "source": [
    "A2 de Linguagens de Programação – 26/11/2018\n",
    "--\n",
    "Professor: Renato Rocha Souza  \n",
    "--"
   ]
  },
  {
   "cell_type": "markdown",
   "metadata": {},
   "source": [
    "Nome do Aluno(a): Lucas Machado Moschen"
   ]
  },
  {
   "cell_type": "code",
   "execution_count": 2,
   "metadata": {},
   "outputs": [
    {
     "name": "stdout",
     "output_type": "stream",
     "text": [
      "Entre com o seu nome completo: Lucas Machado Moschen\n",
      "Olá, Lucas Machado Moschen!\n",
      "Bom trabalho!\n"
     ]
    }
   ],
   "source": [
    "meu_nome = input('Entre com o seu nome completo: ')\n",
    "print('Olá, {}!'.format(meu_nome))\n",
    "print('Bom trabalho!')"
   ]
  },
  {
   "cell_type": "code",
   "execution_count": 3,
   "metadata": {},
   "outputs": [],
   "source": [
    "import numpy as np\n",
    "import pandas as pd\n",
    "import matplotlib.pyplot as plt\n",
    "import requests\n",
    "import random\n",
    "import re\n",
    "import string\n",
    "import time\n",
    "import pymysql\n",
    "import sqlite3\n",
    "import getpass\n",
    "import pandas.io.sql as psql\n",
    "import networkx as nx\n",
    "from IPython.display import clear_output\n",
    "%matplotlib inline"
   ]
  },
  {
   "cell_type": "code",
   "execution_count": 122,
   "metadata": {},
   "outputs": [],
   "source": [
    "def execute(action): #função básica que retorna o print para as questões que podem ser nesse sentido\n",
    "    cur.execute(action)\n",
    "    for r in cur.fetchall():\n",
    "        print(r)"
   ]
  },
  {
   "cell_type": "markdown",
   "metadata": {},
   "source": [
    "Questão 1 (1,0 ponto):  \n",
    "\n",
    "Utilizando Python + SQL, crie uma tabela \"aluno\" em banco de dados no sqlite que tenha os seguintes campos:\n",
    "\n",
    "+ id \n",
    "+ nome\n",
    "+ data_nascimento\n",
    "+ matricula\n",
    "\n",
    "Escolha os tipos de dados apropriados. O campo id é chave primária, e deve ser autoincrementável. \n",
    "\n",
    "Veja:  \n",
    "https://sqlite.org/datatype3.html    \n",
    "https://sqlite.org/autoinc.html  \n",
    "https://www.tutorialspoint.com/sqlite/sqlite_update_query.htm  "
   ]
  },
  {
   "cell_type": "code",
   "execution_count": 57,
   "metadata": {},
   "outputs": [],
   "source": [
    "conn = sqlite3.connect('../../Dados/meudatabase.sqlite')\n",
    "cur = conn.cursor()"
   ]
  },
  {
   "cell_type": "code",
   "execution_count": 58,
   "metadata": {},
   "outputs": [],
   "source": [
    "action = '''CREATE TABLE IF NOT EXISTS aluno\n",
    "(id INTEGER PRIMARY KEY AUTOINCREMENT,\n",
    "nome VARCHAR(255),\n",
    "data_nascimento VARCHAR(10), \n",
    "matricula VARCHAR(255))'''\n",
    "\n",
    "#data não tem tipo específico no sqlite.\n",
    "\n",
    "conf = 'pragma table_info(aluno)'\n",
    "\n",
    "exemplo = '''insert into aluno \n",
    "values (1,\"Lucas Moschen\", \"28/04/2000\",\"000-000-01\")'''\n",
    "\n",
    "conf2 = 'select * from aluno '"
   ]
  },
  {
   "cell_type": "code",
   "execution_count": 59,
   "metadata": {},
   "outputs": [],
   "source": [
    "execute(action) #nome deve ser um varchar. Data_nascimento um varchar. Matricula, um varchar, já que não é bem definido."
   ]
  },
  {
   "cell_type": "code",
   "execution_count": 60,
   "metadata": {},
   "outputs": [
    {
     "name": "stdout",
     "output_type": "stream",
     "text": [
      "(0, 'id', 'INTEGER', 0, None, 1)\n",
      "(1, 'nome', 'VARCHAR(255)', 0, None, 0)\n",
      "(2, 'data_nascimento', 'VARCHAR(10)', 0, None, 0)\n",
      "(3, 'matricula', 'VARCHAR(255)', 0, None, 0)\n"
     ]
    }
   ],
   "source": [
    "execute(conf)"
   ]
  },
  {
   "cell_type": "code",
   "execution_count": 61,
   "metadata": {},
   "outputs": [],
   "source": [
    "execute(exemplo)"
   ]
  },
  {
   "cell_type": "code",
   "execution_count": 62,
   "metadata": {},
   "outputs": [
    {
     "name": "stdout",
     "output_type": "stream",
     "text": [
      "(1, 'Lucas Moschen', '28/04/2000', '000-000-01')\n"
     ]
    }
   ],
   "source": [
    "execute(conf2)"
   ]
  },
  {
   "cell_type": "markdown",
   "metadata": {},
   "source": [
    "Questão 2 (1.5 ponto):  \n",
    "\n",
    "Conecte ao banco SQLite \"iris_database.sqlite\"e responda, demonstrando os comandos Python + SQL apropriados:  \n",
    "\n",
    "a) Há quantas \"Species\" diferentes na tabela \"iris\"?  \n",
    "b) Quantos registros totais há na tabela \"iris\"?  \n",
    "\n",
    "Considerando a superfície das pétalas e sépalas como retangular, responda:  \n",
    "\n",
    "c) Qual espécie (\"Species\") contém, em média, a maior área de pétalas?  \n",
    "d) Qual espécie (\"Species\") contém, em média, a maior área total (pétalas e sépalas)?  \n",
    "\n",
    "(Por curiosidade, as espécies de Iris contém 3 pétalas e 3 sépalas)  "
   ]
  },
  {
   "cell_type": "code",
   "execution_count": 63,
   "metadata": {},
   "outputs": [],
   "source": [
    "conn = sqlite3.connect('../../Dados/iris_database.sqlite')\n",
    "cur = conn.cursor()"
   ]
  },
  {
   "cell_type": "code",
   "execution_count": 64,
   "metadata": {},
   "outputs": [
    {
     "name": "stdout",
     "output_type": "stream",
     "text": [
      "(3,)\n"
     ]
    }
   ],
   "source": [
    "#a) \n",
    "spec_dif = '''select count(*) from (select Species from iris group by Species)'''\n",
    "execute(spec_dif)"
   ]
  },
  {
   "cell_type": "code",
   "execution_count": 65,
   "metadata": {},
   "outputs": [
    {
     "name": "stdout",
     "output_type": "stream",
     "text": [
      "(150,)\n"
     ]
    }
   ],
   "source": [
    "#b)\n",
    "reg_totais = 'select count(*) from iris'\n",
    "execute(reg_totais)"
   ]
  },
  {
   "cell_type": "code",
   "execution_count": 66,
   "metadata": {},
   "outputs": [
    {
     "name": "stdout",
     "output_type": "stream",
     "text": [
      "('Iris-virginica', 11.296199999999994)\n"
     ]
    }
   ],
   "source": [
    "#c)\n",
    "petala = '''SELECT Species, avg(PetalLengthCm*PetalWidthCm)\n",
    "FROM iris \n",
    "GROUP BY Species \n",
    "ORDER BY avg(PetalLengthCm*PetalWidthCm) DESC \n",
    "LIMIT 1\n",
    "'''\n",
    "\n",
    "execute(petala)"
   ]
  },
  {
   "cell_type": "code",
   "execution_count": 69,
   "metadata": {},
   "outputs": [
    {
     "name": "stdout",
     "output_type": "stream",
     "text": [
      "('Iris-virginica', 30.9808)\n"
     ]
    }
   ],
   "source": [
    "#d)\n",
    "area_total = '''SELECT Species, avg(PetalLengthCm*PetalWidthCm + SepalLengthCm*SepalWidthCm)\n",
    "FROM iris \n",
    "GROUP BY Species \n",
    "ORDER BY avg(PetalLengthCm*PetalWidthCm) DESC \n",
    "LIMIT 1\n",
    "'''\n",
    "\n",
    "execute(area_total)"
   ]
  },
  {
   "cell_type": "markdown",
   "metadata": {},
   "source": [
    "Questão 3 (1.5 pontos):  \n",
    "\n",
    "Importe o arquivo ../../Dados/votesurvey.xls para um dataframe do Python usando o método apropriado, e responda às questões:  \n",
    "\n",
    "a) Exiba as 15 primeiras linhas (essa é muito fácil!).  \n",
    "b) Qual a média de salário desejado, dentre os eleitores de cada presidente?  \n",
    "c) Qual fator tem maior influência sobre o salário atual? Sexo ou Idade?  \n",
    "d) Crie uma nova coluna no dataframe original que exiba o salário atual dividido pela idade.  "
   ]
  },
  {
   "cell_type": "code",
   "execution_count": 70,
   "metadata": {},
   "outputs": [],
   "source": [
    "votes = pd.read_excel('../../Dados/votesurvey.xls') #importo para um DataFrame"
   ]
  },
  {
   "cell_type": "code",
   "execution_count": 71,
   "metadata": {},
   "outputs": [
    {
     "data": {
      "text/html": [
       "<div>\n",
       "<style scoped>\n",
       "    .dataframe tbody tr th:only-of-type {\n",
       "        vertical-align: middle;\n",
       "    }\n",
       "\n",
       "    .dataframe tbody tr th {\n",
       "        vertical-align: top;\n",
       "    }\n",
       "\n",
       "    .dataframe thead th {\n",
       "        text-align: right;\n",
       "    }\n",
       "</style>\n",
       "<table border=\"1\" class=\"dataframe\">\n",
       "  <thead>\n",
       "    <tr style=\"text-align: right;\">\n",
       "      <th></th>\n",
       "      <th>Gender</th>\n",
       "      <th>Age</th>\n",
       "      <th>Salary before Stern</th>\n",
       "      <th>Expected salary</th>\n",
       "      <th>Candidate</th>\n",
       "    </tr>\n",
       "  </thead>\n",
       "  <tbody>\n",
       "    <tr>\n",
       "      <th>0</th>\n",
       "      <td>Male</td>\n",
       "      <td>27</td>\n",
       "      <td>60000</td>\n",
       "      <td>110000</td>\n",
       "      <td>Bush</td>\n",
       "    </tr>\n",
       "    <tr>\n",
       "      <th>1</th>\n",
       "      <td>Male</td>\n",
       "      <td>30</td>\n",
       "      <td>125000</td>\n",
       "      <td>125000</td>\n",
       "      <td>Bush</td>\n",
       "    </tr>\n",
       "    <tr>\n",
       "      <th>2</th>\n",
       "      <td>Male</td>\n",
       "      <td>27</td>\n",
       "      <td>50000</td>\n",
       "      <td>120000</td>\n",
       "      <td>Bush</td>\n",
       "    </tr>\n",
       "    <tr>\n",
       "      <th>3</th>\n",
       "      <td>Male</td>\n",
       "      <td>26</td>\n",
       "      <td>56000</td>\n",
       "      <td>100000</td>\n",
       "      <td>Bush</td>\n",
       "    </tr>\n",
       "    <tr>\n",
       "      <th>4</th>\n",
       "      <td>Male</td>\n",
       "      <td>27</td>\n",
       "      <td>82000</td>\n",
       "      <td>100000</td>\n",
       "      <td>Bush</td>\n",
       "    </tr>\n",
       "    <tr>\n",
       "      <th>5</th>\n",
       "      <td>Male</td>\n",
       "      <td>32</td>\n",
       "      <td>150000</td>\n",
       "      <td>150000</td>\n",
       "      <td>Bush</td>\n",
       "    </tr>\n",
       "    <tr>\n",
       "      <th>6</th>\n",
       "      <td>Female</td>\n",
       "      <td>24</td>\n",
       "      <td>55000</td>\n",
       "      <td>100000</td>\n",
       "      <td>Bush</td>\n",
       "    </tr>\n",
       "    <tr>\n",
       "      <th>7</th>\n",
       "      <td>Male</td>\n",
       "      <td>30</td>\n",
       "      <td>110000</td>\n",
       "      <td>150000</td>\n",
       "      <td>Bush</td>\n",
       "    </tr>\n",
       "    <tr>\n",
       "      <th>8</th>\n",
       "      <td>Male</td>\n",
       "      <td>26</td>\n",
       "      <td>48000</td>\n",
       "      <td>80000</td>\n",
       "      <td>Bush</td>\n",
       "    </tr>\n",
       "    <tr>\n",
       "      <th>9</th>\n",
       "      <td>Male</td>\n",
       "      <td>26</td>\n",
       "      <td>120000</td>\n",
       "      <td>80000</td>\n",
       "      <td>Bush</td>\n",
       "    </tr>\n",
       "    <tr>\n",
       "      <th>10</th>\n",
       "      <td>Female</td>\n",
       "      <td>24</td>\n",
       "      <td>59000</td>\n",
       "      <td>90000</td>\n",
       "      <td>Bush</td>\n",
       "    </tr>\n",
       "    <tr>\n",
       "      <th>11</th>\n",
       "      <td>Male</td>\n",
       "      <td>27</td>\n",
       "      <td>65000</td>\n",
       "      <td>125000</td>\n",
       "      <td>Bush</td>\n",
       "    </tr>\n",
       "    <tr>\n",
       "      <th>12</th>\n",
       "      <td>Male</td>\n",
       "      <td>26</td>\n",
       "      <td>55000</td>\n",
       "      <td>120000</td>\n",
       "      <td>Bush</td>\n",
       "    </tr>\n",
       "    <tr>\n",
       "      <th>13</th>\n",
       "      <td>Male</td>\n",
       "      <td>28</td>\n",
       "      <td>70000</td>\n",
       "      <td>125000</td>\n",
       "      <td>Bush</td>\n",
       "    </tr>\n",
       "    <tr>\n",
       "      <th>14</th>\n",
       "      <td>Male</td>\n",
       "      <td>25</td>\n",
       "      <td>80000</td>\n",
       "      <td>100000</td>\n",
       "      <td>Bush</td>\n",
       "    </tr>\n",
       "  </tbody>\n",
       "</table>\n",
       "</div>"
      ],
      "text/plain": [
       "    Gender  Age  Salary before Stern  Expected salary Candidate\n",
       "0     Male   27                60000           110000      Bush\n",
       "1     Male   30               125000           125000      Bush\n",
       "2     Male   27                50000           120000      Bush\n",
       "3     Male   26                56000           100000      Bush\n",
       "4     Male   27                82000           100000      Bush\n",
       "5     Male   32               150000           150000      Bush\n",
       "6   Female   24                55000           100000      Bush\n",
       "7     Male   30               110000           150000      Bush\n",
       "8     Male   26                48000            80000      Bush\n",
       "9     Male   26               120000            80000      Bush\n",
       "10  Female   24                59000            90000      Bush\n",
       "11    Male   27                65000           125000      Bush\n",
       "12    Male   26                55000           120000      Bush\n",
       "13    Male   28                70000           125000      Bush\n",
       "14    Male   25                80000           100000      Bush"
      ]
     },
     "execution_count": 71,
     "metadata": {},
     "output_type": "execute_result"
    }
   ],
   "source": [
    "#a)\n",
    "votes[0:15]"
   ]
  },
  {
   "cell_type": "code",
   "execution_count": 73,
   "metadata": {},
   "outputs": [
    {
     "name": "stdout",
     "output_type": "stream",
     "text": [
      "A média desejada por eleitores de Gore é 103055.55555555556\n",
      "A média desejada por eleitores de Bush é 111666.66666666667\n"
     ]
    }
   ],
   "source": [
    "#b)\n",
    "Candidatos = set(votes.Candidate)\n",
    "for c in Candidatos:\n",
    "    eleitores = votes[votes.Candidate == c]\n",
    "    media = np.mean(eleitores.iloc[:,3])\n",
    "    if c == 'Bush' or c == 'Gore': #restrinjo para aparecer somente os presidentes.\n",
    "        print('A média desejada por eleitores de {} é {}'.format(c, str(media)))"
   ]
  },
  {
   "cell_type": "code",
   "execution_count": 76,
   "metadata": {},
   "outputs": [
    {
     "name": "stdout",
     "output_type": "stream",
     "text": [
      "A idade é mais influente\n",
      "Mínimos quadrados da idade: 53682604365.079384, Mínimos quadrados do gênero: 65986558823.5294\n"
     ]
    }
   ],
   "source": [
    "#c) #inicialmente criarei as médias de ambas as informações. Depois calacularei os mínimos quadrados. \n",
    "# o  menos resultado é o que \"mais infleuencia\"\n",
    "\n",
    "#Primeiro para idade, calculo a média\n",
    "Idade = set(votes.Age)\n",
    "dicio_idades = {}\n",
    "for i in Idade:\n",
    "    nessa_idade = votes[votes.Age == i]\n",
    "    media = np.mean(nessa_idade.iloc[:,2])\n",
    "    dicio_idades[i] = media\n",
    "    \n",
    "\n",
    "#depois os mínimos quadrados\n",
    "minimos_idade = 0\n",
    "for a in range(len(votes.Age)):\n",
    "    q = (dicio_idades[votes.iloc[a,1]]  - votes.iloc[a,2])**2\n",
    "    minimos_idade += q\n",
    "    \n",
    "#agora a média para os gênero\n",
    "Genero = set(votes.Gender)\n",
    "dicio_gender = {}\n",
    "for g in Genero:\n",
    "    esse_genero = votes[votes.Gender == g]\n",
    "    media = np.mean(esse_genero.iloc[:,2])\n",
    "    dicio_gender[g] = media\n",
    "\n",
    "#depois os mínimos quadrados\n",
    "minimos_gender = 0\n",
    "for a in range(len(votes.Gender)):\n",
    "    q = (dicio_gender[votes.iloc[a,0]]  - votes.iloc[a,2])**2 #mínimos quadrados de modo discreto\n",
    "    minimos_gender += q\n",
    "    \n",
    "if minimos_gender < minimos_idade:\n",
    "    print('O gênero é mais influente')\n",
    "elif minimos_gender == minimos_idade:\n",
    "    print('Ambos são igualmente influentes')\n",
    "else:\n",
    "    print('A idade é mais influente')\n",
    "print('Mínimos quadrados da idade: {}, Mínimos quadrados do gênero: {}'.format(minimos_idade,minimos_gender))"
   ]
  },
  {
   "cell_type": "code",
   "execution_count": 77,
   "metadata": {},
   "outputs": [
    {
     "data": {
      "text/html": [
       "<div>\n",
       "<style scoped>\n",
       "    .dataframe tbody tr th:only-of-type {\n",
       "        vertical-align: middle;\n",
       "    }\n",
       "\n",
       "    .dataframe tbody tr th {\n",
       "        vertical-align: top;\n",
       "    }\n",
       "\n",
       "    .dataframe thead th {\n",
       "        text-align: right;\n",
       "    }\n",
       "</style>\n",
       "<table border=\"1\" class=\"dataframe\">\n",
       "  <thead>\n",
       "    <tr style=\"text-align: right;\">\n",
       "      <th></th>\n",
       "      <th>Gender</th>\n",
       "      <th>Age</th>\n",
       "      <th>Salary before Stern</th>\n",
       "      <th>Expected salary</th>\n",
       "      <th>Candidate</th>\n",
       "      <th>Salary per age</th>\n",
       "    </tr>\n",
       "  </thead>\n",
       "  <tbody>\n",
       "    <tr>\n",
       "      <th>0</th>\n",
       "      <td>Male</td>\n",
       "      <td>27</td>\n",
       "      <td>60000</td>\n",
       "      <td>110000</td>\n",
       "      <td>Bush</td>\n",
       "      <td>2222.222222</td>\n",
       "    </tr>\n",
       "    <tr>\n",
       "      <th>1</th>\n",
       "      <td>Male</td>\n",
       "      <td>30</td>\n",
       "      <td>125000</td>\n",
       "      <td>125000</td>\n",
       "      <td>Bush</td>\n",
       "      <td>4166.666667</td>\n",
       "    </tr>\n",
       "    <tr>\n",
       "      <th>2</th>\n",
       "      <td>Male</td>\n",
       "      <td>27</td>\n",
       "      <td>50000</td>\n",
       "      <td>120000</td>\n",
       "      <td>Bush</td>\n",
       "      <td>1851.851852</td>\n",
       "    </tr>\n",
       "    <tr>\n",
       "      <th>3</th>\n",
       "      <td>Male</td>\n",
       "      <td>26</td>\n",
       "      <td>56000</td>\n",
       "      <td>100000</td>\n",
       "      <td>Bush</td>\n",
       "      <td>2153.846154</td>\n",
       "    </tr>\n",
       "    <tr>\n",
       "      <th>4</th>\n",
       "      <td>Male</td>\n",
       "      <td>27</td>\n",
       "      <td>82000</td>\n",
       "      <td>100000</td>\n",
       "      <td>Bush</td>\n",
       "      <td>3037.037037</td>\n",
       "    </tr>\n",
       "    <tr>\n",
       "      <th>5</th>\n",
       "      <td>Male</td>\n",
       "      <td>32</td>\n",
       "      <td>150000</td>\n",
       "      <td>150000</td>\n",
       "      <td>Bush</td>\n",
       "      <td>4687.500000</td>\n",
       "    </tr>\n",
       "    <tr>\n",
       "      <th>6</th>\n",
       "      <td>Female</td>\n",
       "      <td>24</td>\n",
       "      <td>55000</td>\n",
       "      <td>100000</td>\n",
       "      <td>Bush</td>\n",
       "      <td>2291.666667</td>\n",
       "    </tr>\n",
       "    <tr>\n",
       "      <th>7</th>\n",
       "      <td>Male</td>\n",
       "      <td>30</td>\n",
       "      <td>110000</td>\n",
       "      <td>150000</td>\n",
       "      <td>Bush</td>\n",
       "      <td>3666.666667</td>\n",
       "    </tr>\n",
       "    <tr>\n",
       "      <th>8</th>\n",
       "      <td>Male</td>\n",
       "      <td>26</td>\n",
       "      <td>48000</td>\n",
       "      <td>80000</td>\n",
       "      <td>Bush</td>\n",
       "      <td>1846.153846</td>\n",
       "    </tr>\n",
       "    <tr>\n",
       "      <th>9</th>\n",
       "      <td>Male</td>\n",
       "      <td>26</td>\n",
       "      <td>120000</td>\n",
       "      <td>80000</td>\n",
       "      <td>Bush</td>\n",
       "      <td>4615.384615</td>\n",
       "    </tr>\n",
       "    <tr>\n",
       "      <th>10</th>\n",
       "      <td>Female</td>\n",
       "      <td>24</td>\n",
       "      <td>59000</td>\n",
       "      <td>90000</td>\n",
       "      <td>Bush</td>\n",
       "      <td>2458.333333</td>\n",
       "    </tr>\n",
       "    <tr>\n",
       "      <th>11</th>\n",
       "      <td>Male</td>\n",
       "      <td>27</td>\n",
       "      <td>65000</td>\n",
       "      <td>125000</td>\n",
       "      <td>Bush</td>\n",
       "      <td>2407.407407</td>\n",
       "    </tr>\n",
       "    <tr>\n",
       "      <th>12</th>\n",
       "      <td>Male</td>\n",
       "      <td>26</td>\n",
       "      <td>55000</td>\n",
       "      <td>120000</td>\n",
       "      <td>Bush</td>\n",
       "      <td>2115.384615</td>\n",
       "    </tr>\n",
       "    <tr>\n",
       "      <th>13</th>\n",
       "      <td>Male</td>\n",
       "      <td>28</td>\n",
       "      <td>70000</td>\n",
       "      <td>125000</td>\n",
       "      <td>Bush</td>\n",
       "      <td>2500.000000</td>\n",
       "    </tr>\n",
       "    <tr>\n",
       "      <th>14</th>\n",
       "      <td>Male</td>\n",
       "      <td>25</td>\n",
       "      <td>80000</td>\n",
       "      <td>100000</td>\n",
       "      <td>Bush</td>\n",
       "      <td>3200.000000</td>\n",
       "    </tr>\n",
       "  </tbody>\n",
       "</table>\n",
       "</div>"
      ],
      "text/plain": [
       "    Gender  Age  Salary before Stern  Expected salary Candidate  \\\n",
       "0     Male   27                60000           110000      Bush   \n",
       "1     Male   30               125000           125000      Bush   \n",
       "2     Male   27                50000           120000      Bush   \n",
       "3     Male   26                56000           100000      Bush   \n",
       "4     Male   27                82000           100000      Bush   \n",
       "5     Male   32               150000           150000      Bush   \n",
       "6   Female   24                55000           100000      Bush   \n",
       "7     Male   30               110000           150000      Bush   \n",
       "8     Male   26                48000            80000      Bush   \n",
       "9     Male   26               120000            80000      Bush   \n",
       "10  Female   24                59000            90000      Bush   \n",
       "11    Male   27                65000           125000      Bush   \n",
       "12    Male   26                55000           120000      Bush   \n",
       "13    Male   28                70000           125000      Bush   \n",
       "14    Male   25                80000           100000      Bush   \n",
       "\n",
       "    Salary per age  \n",
       "0      2222.222222  \n",
       "1      4166.666667  \n",
       "2      1851.851852  \n",
       "3      2153.846154  \n",
       "4      3037.037037  \n",
       "5      4687.500000  \n",
       "6      2291.666667  \n",
       "7      3666.666667  \n",
       "8      1846.153846  \n",
       "9      4615.384615  \n",
       "10     2458.333333  \n",
       "11     2407.407407  \n",
       "12     2115.384615  \n",
       "13     2500.000000  \n",
       "14     3200.000000  "
      ]
     },
     "execution_count": 77,
     "metadata": {},
     "output_type": "execute_result"
    }
   ],
   "source": [
    "#d)\n",
    "votes['Salary per age'] = pd.Series(votes.iloc[:,2]/votes.iloc[:,1])\n",
    "votes[0:15]"
   ]
  },
  {
   "cell_type": "markdown",
   "metadata": {},
   "source": [
    "Questão 4 (1.5 pontos): \n",
    "\n",
    "Transforme o arquivo ../../Dados/DomCasmurroMachadoAssis.txt em uma string no Python e responda, usando, quando possível, expressões regulares:  \n",
    "\n",
    "a) Quais as 10 palavras mais frequentes que _começam_ com \"a\" ou \"A\"?  \n",
    "b) Quantas palavras distintas que começam com letras _maiúsculas_ há no texto?  \n",
    "c) Quantas palavras há no texto com apenas uma; com apenas duas; e com apenas 3 vogais?  "
   ]
  },
  {
   "cell_type": "code",
   "execution_count": 109,
   "metadata": {},
   "outputs": [],
   "source": [
    "with open('../../Dados/DomCasmurroMachadoAssis.txt','r',encoding = 'utf-8') as f:\n",
    "    texto = f.read()\n",
    "texto_limpo = re.sub(r'[^a-zA-Z0-9ÁÂÃÀÉÊÈÍÌÎÓÔÕÚÙÛÇáàãâêéèíìîóôõúùûç\\-\\']',' ',texto) #limpa o texto com caracteres desconhecidos\n",
    "words = re.split(r'\\s',texto_limpo)\n",
    "words = [w.strip(string.punctuation) for w in words]"
   ]
  },
  {
   "cell_type": "code",
   "execution_count": 110,
   "metadata": {},
   "outputs": [
    {
     "name": "stdout",
     "output_type": "stream",
     "text": [
      "('a', 2318)\n",
      "('as', 498)\n",
      "('ao', 330)\n",
      "('á', 262)\n",
      "('A', 257)\n",
      "('ainda', 130)\n",
      "('assim', 120)\n",
      "('agora', 118)\n",
      "('até', 97)\n",
      "('aos', 85)\n"
     ]
    }
   ],
   "source": [
    "#a)\n",
    "words_with_a = [w for w in words if re.search(r'^[aàáâãAàÁÂÃ]',w) and len(w)>0] #procurar em words, aquelas que inciam com a\n",
    "dicio_a = {}\n",
    "for w in words_with_a:\n",
    "    if w in dicio_a:\n",
    "        dicio_a[w] += 1\n",
    "    else:\n",
    "        dicio_a[w] = 1\n",
    "mais_frequentes = sorted(dicio_a.items(), key=lambda x: x[1],reverse = True)\n",
    "for i in range(10):\n",
    "    print(mais_frequentes[i])"
   ]
  },
  {
   "cell_type": "code",
   "execution_count": 112,
   "metadata": {},
   "outputs": [
    {
     "name": "stdout",
     "output_type": "stream",
     "text": [
      "Existem aproximadamente, 1600 palavras com inicial maiúscula. \n"
     ]
    }
   ],
   "source": [
    "#b)\n",
    "maiusculas = {m for m in words if re.search(r'^[A-ZÁÂÃÀÉÊÈÍÌÎÓÔÕÚÙÛÇ]',m)} #procura por maisuculas na lista words acima descrita\n",
    "print('Existem aproximadamente, {} palavras com inicial maiúscula. '.format(len(maiusculas)))"
   ]
  },
  {
   "cell_type": "code",
   "execution_count": 113,
   "metadata": {},
   "outputs": [],
   "source": [
    "#c)\n",
    "vogal1 = [p for p in words if re.search(r'^[^AEIOUaeiouÁÂÃÀÉÊÈÍÌÎÓÔÕÚÙÛáàãâêéèíìîóôõúùû]*[AEIOUaeiouÁÂÃÀÉÊÈÍÌÎÓÔÕÚÙÛáàãâêéèíìîóôõúùû]{1}[^AEIOUaeiouÁÂÃÀÉÊÈÍÌÎÓÔÕÚÙÛáàãâêéèíìîóôõúùû]*$',p)]\n",
    "vogal2 = [p for p in words if re.search(r'^[^AEIOUaeiouÁÂÃÀÉÊÈÍÌÎÓÔÕÚÙÛáàãâêéèíìîóôõúùû]*[AEIOUaeiouÁÂÃÀÉÊÈÍÌÎÓÔÕÚÙÛáàãâêéèíìîóôõúùû][^AEIOUaeiouÁÂÃÀÉÊÈÍÌÎÓÔÕÚÙÛáàãâêéèíìîóôõúùû]*[AEIOUaeiouÁÂÃÀÉÊÈÍÌÎÓÔÕÚÙÛáàãâêéèíìîóôõúùû][^AEIOUaeiouÁÂÃÀÉÊÈÍÌÎÓÔÕÚÙÛáàãâêéèíìîóôõúùû]*$',p)]\n",
    "vogal3 = [p for p in words if re.search(r'^[^AEIOUaeiouÁÂÃÀÉÊÈÍÌÎÓÔÕÚÙÛáàãâêéèíìîóôõúùû]*[AEIOUaeiouÁÂÃÀÉÊÈÍÌÎÓÔÕÚÙÛáàãâêéèíìîóôõúùû][^AEIOUaeiouÁÂÃÀÉÊÈÍÌÎÓÔÕÚÙÛáàãâêéèíìîóôõúùû]*[AEIOUaeiouÁÂÃÀÉÊÈÍÌÎÓÔÕÚÙÛáàãâêéèíìîóôõúùû][^AEIOUaeiouÁÂÃÀÉÊÈÍÌÎÓÔÕÚÙÛáàãâêéèíìîóôõúùû]*[AEIOUaeiouÁÂÃÀÉÊÈÍÌÎÓÔÕÚÙÛáàãâêéèíìîóôõúùû][^AEIOUaeiouÁÂÃÀÉÊÈÍÌÎÓÔÕÚÙÛáàãâêéèíìîóôõúùû]*$',p)]"
   ]
  },
  {
   "cell_type": "code",
   "execution_count": 114,
   "metadata": {},
   "outputs": [
    {
     "name": "stdout",
     "output_type": "stream",
     "text": [
      "Com uma vogal: 21858, com duas vogais: 24433 e com três vogais: 13230\n"
     ]
    }
   ],
   "source": [
    "tam1 = len(vogal1)\n",
    "tam2 = len(vogal2)\n",
    "tam3 = len(vogal3)\n",
    "print('Com uma vogal: {}, com duas vogais: {} e com três vogais: {}'.format(tam1,tam2,tam3))"
   ]
  },
  {
   "cell_type": "markdown",
   "metadata": {},
   "source": [
    "Questão 5 (1.5 pontos):    \n",
    "\n",
    "Utilizando apenas o Shell Linux, e utilizando o arquivo ../../Dados/DomCasmurroMachadoAssis.txt, diga os comandos para responder às seguintes perguntas:  \n",
    "\n",
    "a) Quais as 10 palavras mais frequentes que _terminam_ com \"a\" ou \"A\"?  \n",
    "b) Quantas palavras distintas que começam com _minúsculas_ há no texto?   \n",
    "c) Como ordenar as palavras distintas por ordem de \"rima\"?  "
   ]
  },
  {
   "cell_type": "code",
   "execution_count": 91,
   "metadata": {},
   "outputs": [
    {
     "name": "stdout",
     "output_type": "stream",
     "text": [
      "   2321 a\r\n",
      "    500 as\r\n",
      "    330 ao\r\n",
      "    262 á\r\n",
      "    242 A\r\n",
      "    129 ainda\r\n",
      "    120 assim\r\n",
      "    118 agora\r\n",
      "     97 até\r\n",
      "     85 aos\r\n"
     ]
    }
   ],
   "source": [
    "#a)\n",
    "!cat ../../Dados/DomCasmurroMachadoAssis.txt | tr -sc '[A-Za-zÁÂÃÀÉÊÈÍÌÎÓÔÕÚÙÛÇáàãâêéèíìîóôõúùûç0-9\\-]' '\\n' | grep '^[aàáâãAàÁÂÃ]' | sort | uniq -c | sort -nr | head "
   ]
  },
  {
   "cell_type": "code",
   "execution_count": 94,
   "metadata": {},
   "outputs": [
    {
     "name": "stdout",
     "output_type": "stream",
     "text": [
      "1492\r\n"
     ]
    }
   ],
   "source": [
    "#b)\n",
    "!cat ../../Dados/DomCasmurroMachadoAssis.txt | tr -sc '[A-Za-zÁÂÃÀÉÊÈÍÌÎÓÔÕÚÙÛÇáàãâêéèíìîóôõúùç0-9\\-]' '\\n' | grep '^[A-ZÁÂÃÀÉÊÈÍÌÎÓÔÕÚÙÇ]' | sort | uniq | grep -c '^[A-ZÁÂÃÀÉÊÈÍÌÎÓÔÕÚÙÇ]'"
   ]
  },
  {
   "cell_type": "code",
   "execution_count": 95,
   "metadata": {},
   "outputs": [
    {
     "name": "stdout",
     "output_type": "stream",
     "text": [
      "rev: stdin: Invalid or incomplete multibyte or wide character\r\n",
      "a\r\n",
      "á\r\n",
      "acaba\r\n",
      "barba\r\n",
      "ameaça\r\n",
      "bocca\r\n",
      "bibliotheca\r\n",
      "boneca\r\n",
      "aconteça\r\n",
      "astronomica\r\n",
      "uniq: write error: Broken pipe\r\n"
     ]
    }
   ],
   "source": [
    "#c) Nesse exercicio não considerarei maiúsculas, pois elas não tem objetivo bem definido\n",
    "!cat ../../Dados/DomCasmurroMachadoAssis.txt | tr -sc '[A-Za-zÁÂÃÀÉÊÈÍÌÎÓÔÕÚÙÇáàãâêéèíìîóôõúùç]' '\\n' | tr '[A-ZÁÂÃÀÉÊÈÍÌÎÓÔÕÚÙÇ]' '[a-záâãàéêèíìîóôõúùç]'| sort | uniq | rev | sort | rev | sed -n '3,12p'"
   ]
  },
  {
   "cell_type": "markdown",
   "metadata": {},
   "source": [
    "Questão 6 (2.0 ponto):  \n",
    "\n",
    "Conecte ao banco Python/Dados/chinook.sqlite e responda:\n",
    "\n",
    "a) Leia para dataframes do Pandas as tabelas \"invoices\", \"invoice_items\", \"customers\" e \"tracks\"; e mostre quais as faixas compradas por clientes que têm o primeiro nome começando com a letra \"M\".  \n",
    "b) Crie um histograma de faixas (\"tracks\") mais compradas.  \n",
    "c) Escreva um script em Python + SQL para construir um dicionário tendo os nomes dos artistas (\"artists\") como chaves e uma lista dos álbuns (\"albuns\") respectivos como valores."
   ]
  },
  {
   "cell_type": "code",
   "execution_count": 124,
   "metadata": {},
   "outputs": [],
   "source": [
    "conn = sqlite3.connect('../../Dados/chinook.sqlite')\n",
    "cur = conn.cursor()"
   ]
  },
  {
   "cell_type": "raw",
   "metadata": {},
   "source": [
    "tabelas = 'select name from sqlite_master where type = \"table\"'\n",
    "table1 = 'pragma table_info(invoices)'\n",
    "table2 = 'pragma table_info(invoice_items)'\n",
    "table3 = 'pragma table_info(customers)'\n",
    "table4 = 'pragma table_info(tracks)'\n",
    "table5 = 'pragma table_info(artists)'\n",
    "table6 = 'pragma table_info(albums)'\n",
    "table2_desc = 'select * from invoices'\n",
    "execute(table1)"
   ]
  },
  {
   "cell_type": "code",
   "execution_count": 118,
   "metadata": {},
   "outputs": [
    {
     "name": "stdout",
     "output_type": "stream",
     "text": [
      "(14, 'Mark', 'Believe')\n",
      "(14, 'Mark', 'As We Sleep')\n",
      "(18, 'Michelle', 'Diga Lá, Coração')\n",
      "(18, 'Michelle', 'Comportamento Geral')\n",
      "(18, 'Michelle', 'Podres Poderes')\n",
      "(18, 'Michelle', 'Queixa')\n",
      "(18, 'Michelle', 'Ando Meio Desligado')\n",
      "(18, 'Michelle', 'Vida De Cachorro')\n",
      "(18, 'Michelle', 'Meu Refrigerador Não Funciona')\n",
      "(18, 'Michelle', 'Smoke On The Water')\n",
      "(18, 'Michelle', 'Trampled Under Foot')\n",
      "(31, 'Martha', 'A Small Victory')\n",
      "(31, 'Martha', 'Easy')\n",
      "(31, 'Martha', 'The Gentle Art Of Making Enemies')\n",
      "(31, 'Martha', 'Ugly In The Morning')\n",
      "(31, 'Martha', 'What A Day')\n",
      "(31, 'Martha', 'From Out Of Nowhere')\n",
      "(35, 'Madalena', \"Dust N' Bones\")\n",
      "(35, 'Madalena', 'Live and Let Die')\n",
      "(41, 'Marc', 'Hallowed Be Thy Name')\n",
      "(55, 'Mark', 'Master Of Puppets')\n",
      "(58, 'Manoj', 'The Memory Remains')\n",
      "(58, 'Manoj', 'The Unforgiven II')\n",
      "(58, 'Manoj', 'Slither')\n",
      "(58, 'Manoj', 'Bad Seed')\n"
     ]
    }
   ],
   "source": [
    "#a) \n",
    "inicial = '''select c.CustomerId, c.FirstName,  t.Name\n",
    "from customers as c \n",
    "join invoices as i\n",
    "on c.CustomerId = i.InvoiceId\n",
    "join invoice_items as it\n",
    "on i.InvoiceId = it.InvoiceId\n",
    "join tracks as t\n",
    "on it.TrackId = t.TrackId\n",
    "where c.FirstName like \"M%\"\n",
    "'''\n",
    "execute(inicial)"
   ]
  },
  {
   "cell_type": "code",
   "execution_count": 170,
   "metadata": {},
   "outputs": [
    {
     "data": {
      "image/png": "[encoded data removed]",
      "text/plain": [
       "<Figure size 432x288 with 1 Axes>"
      ]
     },
     "metadata": {},
     "output_type": "display_data"
    },
    {
     "name": "stdout",
     "output_type": "stream",
     "text": [
      "2240\n",
      "(2240,)\n",
      "1984\n"
     ]
    }
   ],
   "source": [
    "#b)\n",
    "top_track = '''select it.TrackId, count(it.TrackId)*it.Quantity\n",
    "from invoice_items as it\n",
    "group by it.TrackId\n",
    "order by count(it.TrackId)*it.Quantity desc\n",
    "'''\n",
    "\n",
    "#executa o código\n",
    "cur.execute(top_track)\n",
    "nomes = []\n",
    "quant = []\n",
    "for r in cur.fetchall():\n",
    "    nomes.append(r[0])\n",
    "    quant.append(r[1])\n",
    "    \n",
    "\n",
    "#monta histograma decrescente\n",
    "\n",
    "def quantidade(x): #atribua uma quantidade de valores desejados\n",
    "    if not type(x) == int:\n",
    "        return 'O valor deve ser inteiro'\n",
    "    elif x <= 0:\n",
    "        return 'O valor deve ser pelo menos 1, né!'\n",
    "    else:\n",
    "        n = np.arange(x)\n",
    "        plt.bar(n, height= quant[0:x])\n",
    "        plt.xticks(n,nomes[0:x])\n",
    "        plt.show()\n",
    "quantidade(15)\n",
    "\n",
    "print(sum(quant))\n",
    "execute('select count(*) from invoice_items') #observe que os valores são iguais\n",
    "#veja que existem:\n",
    "print(len(set(nomes)))"
   ]
  },
  {
   "cell_type": "code",
   "execution_count": 130,
   "metadata": {},
   "outputs": [
    {
     "name": "stdout",
     "output_type": "stream",
     "text": [
      "{'Equale Brass Ensemble, John Eliot Gardiner & Munich Monteverdi Orchestra and Choir': ['Purcell: Music for the Queen Mary'], 'Otto Klemperer & Philharmonia Orchestra': [\"Beethoven: Symphony No. 6 'Pastoral' Etc.\"], 'Queen': ['Greatest Hits II', 'Greatest Hits I', 'News Of The World'], 'Leonard Bernstein & New York Philharmonic': [\"Great Performances - Barber's Adagio and Other Romantic Favorites for Strings\"], 'Chor der Wiener Staatsoper, Herbert Von Karajan & Wiener Philharmoniker': ['Bizet: Carmen Highlights'], 'Michael Tilson Thomas & San Francisco Symphony': ['Prokofiev: Romeo & Juliet', 'Berlioz: Symphonie Fantastique'], 'Spyro Gyra': ['Heart of the Night', 'Morning Dance'], 'Dennis Chambers': ['Outbreak'], 'João Suplicy': ['Cafezinho'], 'Marillion': ['Misplaced Childhood'], 'Metallica': ['Garage Inc. (Disc 1)', 'Black Album', 'Garage Inc. (Disc 2)', \"Kill 'Em All\", 'Load', 'Master Of Puppets', 'ReLoad', 'Ride The Lightning', 'St. Anger', '...And Justice For All'], 'Audioslave': ['Audioslave', 'Out Of Exile', 'Revelations'], 'The Who': ['My Generation - The Very Best Of The Who'], 'Caetano Veloso': ['Prenda Minha', 'Sozinho Remix Ao Vivo'], 'Barry Wordsworth & BBC Concert Orchestra': ['The Last Night of the Proms'], 'Rush': ['Retrospective I (1974-1980)'], 'Soundgarden': ['A-Sides'], 'Itzhak Perlman': [\"Great Recordings of the Century: Paganini's 24 Caprices\"], 'Iron Maiden': ['A Matter of Life and Death', 'A Real Dead One', 'A Real Live One', 'Brave New World', 'Dance Of Death', 'Fear Of The Dark', 'Iron Maiden', 'Killers', 'Live After Death', 'Live At Donington 1992 (Disc 1)', 'Live At Donington 1992 (Disc 2)', 'No Prayer For The Dying', 'Piece Of Mind', 'Powerslave', 'Rock In Rio [CD1]', 'Rock In Rio [CD2]', 'Seventh Son of a Seventh Son', 'Somewhere in Time', 'The Number of The Beast', 'The X Factor', 'Virtual XI'], 'Santana': ['Supernatural', 'Santana - As Years Go By', 'Santana Live'], 'Falamansa': ['Deixa Entrar'], 'Kiss': ['Greatest Kiss', 'Unplugged [Live]'], 'Frank Sinatra': ['My Way: The Best Of Frank Sinatra [Disc 1]'], 'Dread Zeppelin': ['Un-Led-Ed'], 'Les Arts Florissants & William Christie': ['Charpentier: Divertissements, Airs & Concerts'], 'Chico Buarque': ['Minha Historia'], 'Various Artists': ['Axé Bahia 2001', 'Carnaval 2001', 'Sambas De Enredo 2001', 'Vozes do MPB'], 'Choir Of Westminster Abbey & Simon Preston': ['Palestrina: Missa Papae Marcelli & Allegri: Miserere'], 'Herbert Von Karajan, Mirella Freni & Wiener Philharmoniker': ['Puccini: Madama Butterfly - Highlights'], 'Göteborgs Symfoniker & Neeme Järvi': ['Nielsen: The Six Symphonies'], 'Deep Purple': ['MK III The Final Concerts [Disc 1]', 'The Final Concerts (Disc 2)', 'Come Taste The Band', 'Deep Purple In Rock', 'Fireball', \"Knocking at Your Back Door: The Best Of Deep Purple in the 80's\", 'Machine Head', 'Purpendicular', 'Slaves And Masters', 'Stormbringer', 'The Battle Rages On'], 'Raul Seixas': ['Raul Seixas'], 'Lulu Santos': ['Lulu Santos - RCA 100 Anos De Música - Álbum 01', 'Lulu Santos - RCA 100 Anos De Música - Álbum 02'], 'Felix Schmidt, London Symphony Orchestra & Rafael Frühbeck de Burgos': ['Elgar: Cello Concerto & Vaughan Williams: Fantasias'], 'Wilhelm Kempff': ['Bach: Goldberg Variations'], 'Gene Krupa': [\"Up An' Atom\"], 'Michele Campanella': [\"Liszt - 12 Études D'Execution Transcendante\"], 'Milton Nascimento': ['Milton Nascimento Ao Vivo', 'Minas'], 'Velvet Revolver': ['Contraband'], 'Aquaman': ['Aquaman'], 'Orchestra of The Age of Enlightenment': ['Bach: The Brandenburg Concertos'], 'Gilberto Gil': ['As Canções de Eu Tu Eles', 'Quanta Gente Veio Ver (Live)', 'Quanta Gente Veio ver--Bônus De Carnaval'], 'Chico Science & Nação Zumbi': ['Afrociberdelia', 'Da Lama Ao Caos'], 'Elis Regina': ['Elis Regina-Minha História'], 'Temple of the Dog': ['Temple of the Dog'], 'Sergei Prokofiev & Yuri Temirkanov': ['Prokofiev: Symphony No.1'], 'The Posies': ['Every Kind of Light'], 'Lost': ['Lost, Season 3', 'Lost, Season 1', 'Lost, Season 2', 'LOST, Season 4'], 'English Concert & Trevor Pinnock': ['Pachelbel: Canon & Gigue', 'Handel: Music for the Royal Fireworks (Original Version 1749)'], 'Academy of St. Martin in the Fields & Sir Neville Marriner': ['The World of Classical Favourites'], 'Alberto Turco & Nova Schola Gregoriana': ['Adorate Deum: Gregorian Chant from the Proper of the Mass'], 'Def Leppard': [\"Vault: Def Leppard's Greatest Hits\"], 'Body Count': ['Body Count'], 'Scholars Baroque Ensemble': ['Handel: The Messiah (Highlights)'], 'The 12 Cellists of The Berlin Philharmonic': ['South American Getaway'], 'Habib Koité and Bamada': ['Muso Ko'], 'Berliner Philharmoniker & Herbert Von Karajan': ['Grieg: Peer Gynt Suites & Sibelius: Pelléas et Mélisande', 'Mozart: Symphonies Nos. 40 & 41', 'Prokofiev: Symphony No.5 & Stravinksy: Le Sacre Du Printemps'], 'U2': ['Achtung Baby', \"All That You Can't Leave Behind\", 'B-Sides 1980-1990', 'How To Dismantle An Atomic Bomb', 'Pop', 'Rattle And Hum', 'The Best Of 1980-1990', 'War', 'Zooropa', 'Instant Karma: The Amnesty International Campaign to Save Darfur'], \"Christopher O'Riley\": ['SCRIABIN: Vers la flamme'], 'Ed Motta': ['The Best of Ed Motta'], 'Stevie Ray Vaughan & Double Trouble': ['In Step'], 'Roger Norrington, London Classical Players': ['Purcell: The Fairy Queen'], 'Led Zeppelin': ['BBC Sessions [Disc 1] [Live]', 'Physical Graffiti [Disc 1]', 'BBC Sessions [Disc 2] [Live]', 'Coda', 'Houses Of The Holy', 'In Through The Out Door', 'IV', 'Led Zeppelin I', 'Led Zeppelin II', 'Led Zeppelin III', 'Physical Graffiti [Disc 2]', 'Presence', 'The Song Remains The Same (Disc 1)', 'The Song Remains The Same (Disc 2)'], 'Martin Roscoe': ['Szymanowski: Piano Works, Vol. 1'], 'James Brown': ['Sex Machine'], 'The Doors': ['The Doors'], 'Academy of St. Martin in the Fields Chamber Ensemble & Sir Neville Marriner': ['Sir Neville Marriner: A Celebration'], 'Zeca Pagodinho': ['Ao Vivo [IMPORT]'], 'Cláudio Zoli': ['Na Pista'], 'Chris Cornell': ['Carry On'], 'Philharmonia Orchestra & Sir Neville Marriner': [\"Mendelssohn: A Midsummer Night's Dream\"], 'Pearl Jam': ['Live On Two Legs [Live]', 'Pearl Jam', 'Riot Act', 'Ten', 'Vs.'], 'Gerald Moore': ['Great Recordings of the Century - Shubert: Schwanengesang, 4 Lieder'], 'Ton Koopman': ['Bach: Toccata & Fugue in D Minor'], 'Britten Sinfonia, Ivor Bolton & Lesley Garrett': ['A Soprano Inspired'], 'System Of A Down': ['Mezmerize'], 'Scorpions': ['20th Century Masters - The Millennium Collection: The Best of Scorpions'], 'Faith No More': ['Album Of The Year', 'Angel Dust', 'King For A Day Fool For A Lifetime', 'The Real Thing'], 'House Of Pain': ['House of Pain'], \"Paul D'Ianno\": ['The Beast Live'], 'Raimundos': ['Cesta Básica'], 'Creedence Clearwater Revival': ['Chronicle, Vol. 1', 'Chronicle, Vol. 2'], 'C. Monteverdi, Nigel Rogers - Chiaroscuro; London Baroque; London Cornett & Sackbu': [\"Monteverdi: L'Orfeo\"], 'Os Mutantes': ['Minha História'], 'Fretwork': ['Armada: Music from the Courts of England and Spain'], 'Aerosmith': ['Big Ones'], 'Emerson String Quartet': [\"Schubert: The Late String Quartets & String Quintet (3 CD's)\"], 'Titãs': ['Acústico', 'Volume Dois'], 'UB40': ['UB40 The Best Of - Volume Two [UK]'], 'The Police': ['The Police Greatest Hits'], 'Julian Bream': ['J.S. Bach: Chaconne, Suite in E Minor, Partita in E Major & Prelude, Fugue and Allegro'], \"Charles Dutoit & L'Orchestre Symphonique de Montréal\": ['The Ultimate Relexation Album'], \"Kent Nagano and Orchestre de l'Opéra de Lyon\": ['Weill: The Seven Deadly Sins'], \"The King's Singers\": ['English Renaissance'], 'Terry Bozzio, Tony Levin & Steve Stevens': ['[1997] Black Light Syndrome'], 'Adrian Leaper & Doreen de Feis': ['Górecki: Symphony No. 3'], 'David Coverdale': ['Into The Light'], 'Mötley Crüe': ['Motley Crue Greatest Hits'], 'The Clash': ['The Singles'], 'Sir Georg Solti & Wiener Philharmoniker': ['Wagner: Favourite Overtures'], 'Heroes': ['Heroes, Season 1'], 'Luciano Pavarotti': [\"Pavarotti's Opera Made Easy\"], 'Frank Zappa & Captain Beefheart': ['Bongo Fury'], 'Funk Como Le Gusta': ['Roda De Funk'], 'Black Sabbath': ['Black Sabbath', 'Black Sabbath Vol. 4 (Remaster)'], 'Alice In Chains': ['Facelift'], 'Academy of St. Martin in the Fields, John Birch, Sir Neville Marriner & Sylvia McNair': ['Fauré: Requiem, Ravel: Pavane & Others'], 'Marvin Gaye': ['Seek And Shall Find: More Of The Best (1963-1981)'], \"Guns N' Roses\": ['Appetite for Destruction', 'Use Your Illusion I', 'Use Your Illusion II'], 'Berliner Philharmoniker & Hans Rosbaud': ['Sibelius: Finlandia'], 'Royal Philharmonic Orchestra & Sir Thomas Beecham': ['Haydn: Symphonies 99 - 104'], 'Edo de Waart & San Francisco Symphony': ['Adams, John: The Chairman Dances'], 'Pink Floyd': ['Dark Side Of The Moon'], 'Red Hot Chili Peppers': ['Blood Sugar Sex Magik', 'By The Way', 'Californication'], 'Accept': ['Balls to the Wall', 'Restless and Wild'], 'The Rolling Stones': ['Hot Rocks, 1964-1971 (Disc 1)', 'No Security', 'Voodoo Lounge'], 'Chicago Symphony Chorus, Chicago Symphony Orchestra & Sir Georg Solti': ['Great Opera Choruses'], 'Sir Georg Solti, Sumi Jo & Wiener Philharmoniker': ['Mozart Gala: Famous Arias'], 'Planet Hemp': ['Os Cães Ladram Mas A Caravana Não Pára'], 'Marisa Monte': ['Barulhinho Bom'], 'Marcos Valle': ['Chill: Brazil (Disc 1)'], 'Mônica Marianno': ['Demorou...'], 'JET': ['Get Born'], 'Gustav Mahler': ['Great Recordings of the Century - Mahler: Das Lied von der Erde'], 'Yo-Yo Ma': ['Bach: The Cello Suites'], 'Antal Doráti & London Symphony Orchestra': [\"Tchaikovsky: 1812 Festival Overture, Op.49, Capriccio Italien & Beethoven: Wellington's Victory\"], 'Aaron Goldberg': ['Worlds'], 'James Levine': ['Mascagni: Cavalleria Rusticana'], 'Van Halen': ['Diver Down', 'The Best Of Van Halen, Vol. I', 'Van Halen', 'Van Halen III'], 'Boston Symphony Orchestra & Seiji Ozawa': ['Carmina Burana'], 'Page & Plant': ['Walking Into Clarksdale'], 'Vinícius De Moraes': ['Vinicius De Moraes'], 'Luciana Souza/Romero Lubambo': ['Duos II'], 'Eric Clapton': ['The Cream Of Clapton', 'Unplugged'], 'Godsmack': ['Faceless'], 'Cássia Eller': ['Cássia Eller - Coleção Sem Limite [Disc 2]', 'Cássia Eller - Sem Limite [Disc 1]'], 'Djavan': ['Djavan Ao Vivo - Vol. 02', 'Djavan Ao Vivo - Vol. 1'], 'Maurizio Pollini': ['Beethoven Piano Sonatas: Moonlight & Pastorale'], 'Yehudi Menuhin': ['Bartok: Violin & Viola Concertos'], 'London Symphony Orchestra & Sir Charles Mackerras': ['Tchaikovsky: The Nutcracker'], 'The Cult': ['Beyond Good And Evil', 'Pure Cult: The Best Of The Cult (For Rockers, Ravers, Lovers & Sinners) [UK]'], 'Legião Urbana': ['A TempestadeTempestade Ou O Livro Dos Dias', 'Mais Do Mesmo'], 'Calexico': ['Carried to Dust (Bonus Track Version)'], 'Philip Glass Ensemble': ['Koyaanisqatsi (Soundtrack from the Motion Picture)'], 'Academy of St. Martin in the Fields, Sir Neville Marriner & Thurston Dart': ['Bach: Orchestral Suites Nos. 1 - 4'], 'Cake': ['Cake: B-Sides and Rarities'], 'R.E.M. Feat. Kate Pearson': ['Out Of Time'], 'Alanis Morissette': ['Jagged Little Pill'], 'O Rappa': ['Radio Brasil (O Som da Jovem Vanguarda) - Seleccao de Henrique Amaro'], 'Cidade Negra': ['Acústico MTV [Live]', 'Cidade Negra - Hits'], 'Incognito': ['Blue Moods'], 'Jamiroquai': ['Emergency On Planet Earth', 'Synkronized', 'The Return Of The Space Cowboy'], 'Stone Temple Pilots': ['Core'], 'BackBeat': ['BackBeat Soundtrack'], 'The Black Crowes': ['Live [Disc 1]', 'Live [Disc 2]'], 'Mela Tenenbaum, Pro Musica Prague & Richard Kapp': ['Locatelli: Concertos for Violin, Strings and Continuo, Vol. 3'], 'Amy Winehouse': ['Back to Black', 'Frank'], 'Skank': ['Maquinarama', 'O Samba Poconé'], 'O Terço': ['Compositores'], 'Miles Davis': ['The Essential Miles Davis [Disc 1]', 'The Essential Miles Davis [Disc 2]', 'Miles Ahead'], 'Black Label Society': ['Alcohol Fueled Brewtality Live! [Disc 1]', 'Alcohol Fueled Brewtality Live! [Disc 2]'], 'Eugene Ormandy': ['Holst: The Planets, Op. 32 & Vaughan Williams: Fantasies', 'Strauss: Waltzes', 'Respighi:Pines of Rome'], 'Nirvana': ['From The Muddy Banks Of The Wishkah [Live]', 'Nevermind'], 'AC/DC': ['For Those About To Rock We Salute You', 'Let There Be Rock'], 'The Tea Party': ['Tangents', 'Transmission'], 'Aisha Duo': ['Quiet Songs'], 'Foo Fighters': ['In Your Honor [Disc 1]', 'In Your Honor [Disc 2]', 'One By One', 'The Colour And The Shape'], 'Gonzaguinha': ['Meus Momentos'], 'Emanuel Ax, Eugene Ormandy & Philadelphia Orchestra': ['Chopin: Piano Concertos Nos. 1 & 2'], 'Buddy Guy': ['The Best Of Buddy Guy - The Millenium Collection'], 'Jota Quest': ['Jota Quest-1995'], 'Billy Cobham': ['The Best Of Billy Cobham'], 'Aaron Copland & London Symphony Orchestra': ['A Copland Celebration, Vol. I'], 'Passengers': ['Original Soundtracks 1'], 'Joe Satriani': ['Surfing with the Alien (Remastered)'], 'Apocalyptica': ['Plays Metallica By Four Cellos'], 'Olodum': ['Olodum'], 'Lenny Kravitz': ['Greatest Hits'], 'Battlestar Galactica (Classic)': ['Battlestar Galactica (Classic), Season 1'], 'Motörhead': ['Ace Of Spades'], 'Green Day': ['International Superhits', 'American Idiot'], 'Karsh Kale': ['Realize'], 'R.E.M.': ['Green', 'New Adventures In Hi-Fi', 'The Best Of R.E.M.: The IRS Years'], 'Richard Marlow & The Choir of Trinity College, Cambridge': ['Allegri: Miserere'], 'Jorge Ben': ['Jorge Ben Jor 25 Anos'], 'Orchestre Révolutionnaire et Romantique & John Eliot Gardiner': ['Beethoven: Symhonies Nos. 5 & 6'], 'Judas Priest': ['Living After Midnight'], 'Hilary Hahn, Jeffrey Kahane, Los Angeles Chamber Orchestra & Margaret Batjer': ['Bach: Violin Concertos'], 'Berliner Philharmoniker, Claudio Abbado & Sabine Meyer': ['Mozart: Wind Concertos'], 'Jimi Hendrix': ['Are You Experienced?'], 'Anne-Sophie Mutter, Herbert Von Karajan & Wiener Philharmoniker': ['Vivaldi: The Four Seasons'], 'Men At Work': ['The Best Of Men At Work'], 'Smashing Pumpkins': ['Judas 0: B-Sides and Rarities', 'Rotten Apples: Greatest Hits'], 'Toquinho & Vinícius': ['Vinícius De Moraes - Sem Limite'], 'Bruce Dickinson': ['Chemical Wedding'], 'The Office': ['The Office, Season 1', 'The Office, Season 2', 'The Office, Season 3'], 'Chicago Symphony Orchestra & Fritz Reiner': ['Scheherazade'], 'Nicolaus Esterhazy Sinfonia': ['The Best of Beethoven'], 'Ozzy Osbourne': ['Bark at the Moon (Remastered)', 'Blizzard of Ozz', 'Diary of a Madman (Remastered)', 'No More Tears (Remastered)', 'Tribute', 'Speak of the Devil'], 'Antônio Carlos Jobim': ['Warner 25 Anos', 'Chill: Brazil (Disc 2)'], 'Tim Maia': ['Serie Sem Limite (Disc 1)', 'Serie Sem Limite (Disc 2)'], 'Battlestar Galactica': ['Battlestar Galactica: The Story So Far', 'Battlestar Galactica, Season 3'], 'Os Paralamas Do Sucesso': ['Acústico MTV', 'Arquivo II', 'Arquivo Os Paralamas Do Sucesso'], 'Nash Ensemble': ['Mozart: Chamber Music']}\n"
     ]
    }
   ],
   "source": [
    "#c)\n",
    "artista = '''select a.Name, b.Title from artists as a\n",
    "inner join albums as b\n",
    "on a.ArtistId = b.ArtistId\n",
    "'''\n",
    "cur.execute(artista)\n",
    "dicio_artistas = {}\n",
    "for r in cur.fetchall():\n",
    "    if not r[0] in dicio_artistas:\n",
    "        dicio_artistas[r[0]] = []\n",
    "    else:\n",
    "        pass\n",
    "\n",
    "cur.execute(artista)\n",
    "for r in cur.fetchall():\n",
    "    dicio_artistas[r[0]].append(r[1])\n",
    "\n",
    "print(dicio_artistas)"
   ]
  },
  {
   "cell_type": "markdown",
   "metadata": {},
   "source": [
    "Auto-avaliação (1 ponto):    \n",
    "Escreva sua auto-avaliação (mínimo de 3 linhas) e atribua a esta um valor entre 0 e 1, levando em consideração o aproveitamento na disciplina.    "
   ]
  },
  {
   "cell_type": "code",
   "execution_count": 155,
   "metadata": {},
   "outputs": [],
   "source": [
    "np.random.seed(100)\n",
    "\n",
    "atributo = np.random.random()\n",
    "\n",
    "avaliacao = '''Eu me considerei extremamente produtivo nesse período de A2. Soube aproveitar o shell, me inspirando até para baixar o ubuntu para windows.\n",
    "Eu gostei muito das aulas, apesar de saber que a programação demanda tempo fora da aula, visto que uma dúvida é tão específica que acaba atrapalhando o decorrer da aula.\n",
    "Mas o mais importante é que consegui extrair uma filosofia de programação interessante. Sei dizer que cada função tem uma linguagem melhor, mas também sei que tem uma melhor que outras rsrsrs.\n",
    "Obrigado, Renato pelas aulas. Espero ter contribuído, de alguma forma.'''\n",
    "\n",
    "atributo = int(1 + atributo)"
   ]
  },
  {
   "cell_type": "code",
   "execution_count": 160,
   "metadata": {},
   "outputs": [
    {
     "name": "stdout",
     "output_type": "stream",
     "text": [
      "Eu me considerei extremamente produtivo nesse período de A2. Soube aproveitar o shell, me inspirando até para baixar o ubuntu para windows.\n",
      "Eu gostei muito das aulas, apesar de saber que a programação demanda tempo fora da aula, visto que uma dúvida é tão específica que acaba atrapalhando o decorrer da aula.\n",
      "Mas o mais importante é que consegui extrair uma filosofia de programação interessante. Sei dizer que cada função tem uma linguagem melhor, mas também sei que tem uma melhor que outras rsrsrs.\n",
      "Obrigado, Renato pelas aulas. Espero ter contribuído, de alguma forma. \n",
      " \n",
      " Minha nota é: 1\n"
     ]
    }
   ],
   "source": [
    "print(avaliacao,'\\n','\\n','Minha nota é: {}'.format(atributo))"
   ]
  }
 ],
 "metadata": {
  "kernelspec": {
   "display_name": "Python 3",
   "language": "python",
   "name": "python3"
  },
  "language_info": {
   "codemirror_mode": {
    "name": "ipython",
    "version": 3
   },
   "file_extension": ".py",
   "mimetype": "text/x-python",
   "name": "python",
   "nbconvert_exporter": "python",
   "pygments_lexer": "ipython3",
   "version": "3.5.2"
  }
 },
 "nbformat": 4,
 "nbformat_minor": 2
}
