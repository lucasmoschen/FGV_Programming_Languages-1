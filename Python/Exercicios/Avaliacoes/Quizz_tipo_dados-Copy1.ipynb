{
 "cells": [
  {
   "cell_type": "markdown",
   "metadata": {},
   "source": [
    "1 - Quais são as estruturas de dados primitivas mais comuns na linguagem Python? Exemplifique criando variáveis de cada uma destas estruturas."
   ]
  },
  {
   "cell_type": "markdown",
   "metadata": {
    "collapsed": true
   },
   "source": [
    "A estruturas primitivas mais comuns são numérica(int, float and complex), lista, conjunto, dicionário, tupla e string  "
   ]
  },
  {
   "cell_type": "code",
   "execution_count": 133,
   "metadata": {},
   "outputs": [
    {
     "name": "stdout",
     "output_type": "stream",
     "text": [
      "6\n",
      "6.5\n",
      "(5+2j)\n",
      "[1, 2, 3, 4, 5]\n",
      "{1, 2, 3}\n",
      "{'calça': 2, 'casa': 1}\n",
      "False\n",
      "(1, 2, 3, 4)\n"
     ]
    }
   ],
   "source": [
    "numerictype_int = 6\n",
    "numerictype_float = 6.5\n",
    "numerictype_complex = 5 + 2j\n",
    "listtype = [1,2,3,4,5]\n",
    "conjunto = {1,2,3}\n",
    "dicionario = {'casa':1,'calça':2}\n",
    "booleano = 1 == 2 \n",
    "tupla = (1,2,3,4)\n",
    "print(numerictype_int)\n",
    "print(numerictype_float)\n",
    "print(numerictype_complex)\n",
    "print(listtype)\n",
    "print(conjunto)\n",
    "print(dicionario)\n",
    "print(booleano)\n",
    "print(tupla)"
   ]
  },
  {
   "cell_type": "markdown",
   "metadata": {},
   "source": [
    "2 - Dê pelo menos 5 exemplos de conversões entre tipos de dados, utilizando as variáveis criadas na questão anterior  "
   ]
  },
  {
   "cell_type": "code",
   "execution_count": 7,
   "metadata": {},
   "outputs": [
    {
     "name": "stdout",
     "output_type": "stream",
     "text": [
      "[1, 2, 3, 4]\n"
     ]
    }
   ],
   "source": [
    "tupla = list(tupla)\n",
    "print(tupla)"
   ]
  },
  {
   "cell_type": "code",
   "execution_count": 9,
   "metadata": {},
   "outputs": [
    {
     "name": "stdout",
     "output_type": "stream",
     "text": [
      "0\n"
     ]
    }
   ],
   "source": [
    "booleano = int(booleano)\n",
    "print(booleano)"
   ]
  },
  {
   "cell_type": "code",
   "execution_count": 12,
   "metadata": {},
   "outputs": [
    {
     "name": "stdout",
     "output_type": "stream",
     "text": [
      "(1, 2, 3)\n"
     ]
    }
   ],
   "source": [
    "conjunto = tuple(conjunto)\n",
    "print(conjunto)"
   ]
  },
  {
   "cell_type": "code",
   "execution_count": 13,
   "metadata": {},
   "outputs": [
    {
     "name": "stdout",
     "output_type": "stream",
     "text": [
      "6\n"
     ]
    }
   ],
   "source": [
    "numerictype_float = int(numerictype_float)\n",
    "print(numerictype_float)"
   ]
  },
  {
   "cell_type": "code",
   "execution_count": 14,
   "metadata": {},
   "outputs": [
    {
     "name": "stdout",
     "output_type": "stream",
     "text": [
      "[1, 2, 3]\n"
     ]
    }
   ],
   "source": [
    "conjunto = {1,2,3}\n",
    "conjunto = list(conjunto)\n",
    "print(conjunto)"
   ]
  },
  {
   "cell_type": "markdown",
   "metadata": {},
   "source": [
    "3- Exemplifique o uso de algumas primitivas, de forma isolada ou combinada, para criar as seguintes estruturas de dados:  \n",
    "\n",
    "+ Um registro médico\n",
    "+ Uma matriz de pixels em formato RGB\n",
    "+ Um conjunto de coordenadas geográficas representando a sede da prefeitura e do corpo de bombeiros em 4 cidades diferentes"
   ]
  },
  {
   "cell_type": "code",
   "execution_count": 32,
   "metadata": {},
   "outputs": [
    {
     "name": "stdout",
     "output_type": "stream",
     "text": [
      "{'nome': 'Lucas', 'doenças': 'nenhuma', 'numero': 27638921, 'idade': 18}\n"
     ]
    }
   ],
   "source": [
    "numero = 27638921\n",
    "nome = 'Lucas'\n",
    "idade = 18\n",
    "doenças = 'nenhuma'\n",
    "registromed = {'numero':numero,'nome':nome,'idade':idade,'doenças':doenças}\n",
    "print(registromed)"
   ]
  },
  {
   "cell_type": "code",
   "execution_count": 39,
   "metadata": {},
   "outputs": [
    {
     "name": "stdout",
     "output_type": "stream",
     "text": [
      "([1, 1, 2, 0], [2, 2, 1, 0], [1, 2, 2, 1], [1, 0, 2, 0])\n"
     ]
    }
   ],
   "source": [
    "matriz = ([1,1,2,0],[2,2,1,0],[1,2,2,1],[1,0,2,0])       \n",
    "print(matriz)"
   ]
  },
  {
   "cell_type": "code",
   "execution_count": 44,
   "metadata": {},
   "outputs": [
    {
     "name": "stdout",
     "output_type": "stream",
     "text": [
      "('A prefeitura da cidade 1 é (1, 2)', 'A prefeitura da cidade 2 é (13, 14)', 'A prefeitura da cidade 3 é (16, 39)', 'A prefeitura da cidade 4 é (20, 43)', 'O corpo de bombeiros da cidade 1 é (5, 8)', 'O corpo de bombeiros da cidade 2 é (50, 84)', 'O corpo de bombeiros da cidade 3 é (20, 20)', 'O corpo de bombeiros da cidade 4 é (43, 20)')\n"
     ]
    }
   ],
   "source": [
    "pref_1 = (1,2)\n",
    "pref_2 = (13,14)\n",
    "pref_3 = (16,39)\n",
    "pref_4 = (20,43)\n",
    "bomb_1 = (5,8)\n",
    "bomb_2 = (50,84)\n",
    "bomb_3 = (20,20)\n",
    "bomb_4 = (43,20)\n",
    "Coordenadas = ('A prefeitura da cidade 1 é {}'.format(pref_1),'A prefeitura da cidade 2 é {}'.format(pref_2),'A prefeitura da cidade 3 é {}'.format(pref_3),'A prefeitura da cidade 4 é {}'.format(pref_4),'O corpo de bombeiros da cidade 1 é {}'.format(bomb_1),'O corpo de bombeiros da cidade 2 é {}'.format(bomb_2),'O corpo de bombeiros da cidade 3 é {}'.format(bomb_3),'O corpo de bombeiros da cidade 4 é {}'.format(bomb_4))\n",
    "print(Coordenadas)"
   ]
  },
  {
   "cell_type": "markdown",
   "metadata": {},
   "source": [
    "4- Exemplifique o acesso aos elementos de informação das estruturas criadas na questão anterior."
   ]
  },
  {
   "cell_type": "code",
   "execution_count": 43,
   "metadata": {},
   "outputs": [
    {
     "data": {
      "text/plain": [
       "18"
      ]
     },
     "execution_count": 43,
     "metadata": {},
     "output_type": "execute_result"
    }
   ],
   "source": [
    "registromed['idade'] #acessa a idade do paciente"
   ]
  },
  {
   "cell_type": "code",
   "execution_count": 41,
   "metadata": {},
   "outputs": [
    {
     "data": {
      "text/plain": [
       "[1, 2, 2, 1]"
      ]
     },
     "execution_count": 41,
     "metadata": {},
     "output_type": "execute_result"
    }
   ],
   "source": [
    "matriz[2] #acessa a 3 linha"
   ]
  },
  {
   "cell_type": "code",
   "execution_count": 45,
   "metadata": {},
   "outputs": [
    {
     "data": {
      "text/plain": [
       "'O corpo de bombeiros da cidade 1 é (5, 8)'"
      ]
     },
     "execution_count": 45,
     "metadata": {},
     "output_type": "execute_result"
    }
   ],
   "source": [
    "Coordenadas[4] #acessa o 5 coordenada"
   ]
  },
  {
   "cell_type": "markdown",
   "metadata": {},
   "source": [
    "5- Explique o que são, exemplifique, e mostre algumas características de:  \n",
    "\n",
    "+ Tipos mutáveis e tipos imutáveis  \n",
    "+ Tipos \"container\"\n",
    "+ Tipos sequenciais\n"
   ]
  },
  {
   "cell_type": "markdown",
   "metadata": {
    "collapsed": true
   },
   "source": [
    "Tipos mutáveis são aqueles que têm funções para alterar informações do tipo. Já tipos imutáveis, a memória é fixa, tem-se que criar uma nova variável (pode ser até o mesmo nome).\n",
    "Listas são mutáveis\n",
    "Tuplas são imutáveis."
   ]
  },
  {
   "cell_type": "markdown",
   "metadata": {
    "collapsed": true
   },
   "source": [
    "Tipos container são aqueles que contém uma série de objetos (nele contidos), escolhidos de forma arbitrária. Listas e conjuntos são bons exemplos."
   ]
  },
  {
   "cell_type": "markdown",
   "metadata": {
    "collapsed": true
   },
   "source": [
    "Tipos sequencias são aqueles que existe uma sequência na ordenação das informações. Eles podem ser acessados pelo índice quando ordenados. Listas, conjuntos e tuplas são sequenciais "
   ]
  },
  {
   "cell_type": "markdown",
   "metadata": {},
   "source": [
    "6- Exemplifique chamadas de métodos em variáveis associadas a tipos de dados que:  \n",
    "+ Não modifiquem a variável e não retornem valores à chamada do método \n",
    "+ Modifiquem a variável mas não retornem valores à chamada do método\n",
    "+ Não modifiquem a variável mas retornem valores à chamada do método\n",
    "+ Modifiquem a variável e retornem valores à chamada do método  "
   ]
  },
  {
   "cell_type": "code",
   "execution_count": 132,
   "metadata": {},
   "outputs": [
    {
     "name": "stdout",
     "output_type": "stream",
     "text": [
      "casa\n",
      "None\n"
     ]
    }
   ],
   "source": [
    "c = print('casa')\n",
    "print(c)"
   ]
  },
  {
   "cell_type": "code",
   "execution_count": 74,
   "metadata": {},
   "outputs": [],
   "source": [
    "lista = [1,2,3]\n",
    "lista.append(4)"
   ]
  },
  {
   "cell_type": "code",
   "execution_count": 65,
   "metadata": {},
   "outputs": [
    {
     "data": {
      "text/plain": [
       "1"
      ]
     },
     "execution_count": 65,
     "metadata": {},
     "output_type": "execute_result"
    }
   ],
   "source": [
    "tupla = (1,2,3)\n",
    "tupla.index(2)"
   ]
  },
  {
   "cell_type": "code",
   "execution_count": 123,
   "metadata": {},
   "outputs": [
    {
     "data": {
      "text/plain": [
       "[[1, 3], [3, 4]]"
      ]
     },
     "execution_count": 123,
     "metadata": {},
     "output_type": "execute_result"
    }
   ],
   "source": [
    "coordenada = [[1,3],[3,4],[6,7]]\n",
    "coordenada.pop()\n",
    "coordenada"
   ]
  },
  {
   "cell_type": "markdown",
   "metadata": {},
   "source": [
    "7- Exemplifique o uso de métodos para:  \n",
    "+ Testar se uma string pode ser convertida para um inteiro  \n",
    "+ Testar se um conjunto é subconjunto de outro\n",
    "+ Concatenar duas listas\n",
    "+ Contar as ocorrências de um elemento em uma lista"
   ]
  },
  {
   "cell_type": "code",
   "execution_count": 90,
   "metadata": {},
   "outputs": [
    {
     "data": {
      "text/plain": [
       "int"
      ]
     },
     "execution_count": 90,
     "metadata": {},
     "output_type": "execute_result"
    }
   ],
   "source": [
    "string = '123'\n",
    "string = int(string)\n",
    "type(string)"
   ]
  },
  {
   "cell_type": "code",
   "execution_count": 91,
   "metadata": {},
   "outputs": [
    {
     "data": {
      "text/plain": [
       "True"
      ]
     },
     "execution_count": 91,
     "metadata": {},
     "output_type": "execute_result"
    }
   ],
   "source": [
    "conjunto = {1,2,3,4}\n",
    "subconjunto = {2,3,4}\n",
    "subconjunto.issubset(conjunto)"
   ]
  },
  {
   "cell_type": "code",
   "execution_count": 93,
   "metadata": {},
   "outputs": [
    {
     "data": {
      "text/plain": [
       "[1, 2, 3, 3, 4, 5]"
      ]
     },
     "execution_count": 93,
     "metadata": {},
     "output_type": "execute_result"
    }
   ],
   "source": [
    "lista1 = [1,2,3]\n",
    "lista2 = [3,4,5]\n",
    "lista = lista1 + lista2\n",
    "lista"
   ]
  },
  {
   "cell_type": "code",
   "execution_count": 97,
   "metadata": {},
   "outputs": [
    {
     "data": {
      "text/plain": [
       "10"
      ]
     },
     "execution_count": 97,
     "metadata": {},
     "output_type": "execute_result"
    }
   ],
   "source": [
    "lista = [1,2,3,4,5,6,7,8,9,0,1,2,3,4,5,6,7,8,9,1,2,3,4,5,6,7,8,1,2,3,4,5,6,7,1,2,3,4,5,6,1,2,3,4,5,1,2,3,4,1,2,3,1,2,1]\n",
    "lista.count(1)"
   ]
  },
  {
   "cell_type": "markdown",
   "metadata": {},
   "source": [
    "Deescreva, em linhas gerais, o que é uma linguagem de programação, e para que serve.  "
   ]
  },
  {
   "cell_type": "markdown",
   "metadata": {
    "collapsed": true
   },
   "source": [
    "Uma linguagem de programação é uma forma de comunicação com a máquina. Como qualquer linguagem, contém morforlogia e sintaxe. Ela serve para construir programas a fim de alcançar algum objetivo específico."
   ]
  },
  {
   "cell_type": "markdown",
   "metadata": {},
   "source": [
    "Feedback: o que você está achando do curso até agora?  "
   ]
  },
  {
   "cell_type": "markdown",
   "metadata": {},
   "source": []
  },
  {
   "cell_type": "markdown",
   "metadata": {},
   "source": [
    "# Nota 9.5\n",
    "\n",
    "- Esqueci o tipo none\n",
    "- precisei de ajuda em 6.1"
   ]
  },
  {
   "cell_type": "code",
   "execution_count": null,
   "metadata": {},
   "outputs": [],
   "source": []
  }
 ],
 "metadata": {
  "kernelspec": {
   "display_name": "Python 3",
   "language": "python",
   "name": "python3"
  },
  "language_info": {
   "codemirror_mode": {
    "name": "ipython",
    "version": 3
   },
   "file_extension": ".py",
   "mimetype": "text/x-python",
   "name": "python",
   "nbconvert_exporter": "python",
   "pygments_lexer": "ipython3",
   "version": "3.5.2"
  }
 },
 "nbformat": 4,
 "nbformat_minor": 2
}
