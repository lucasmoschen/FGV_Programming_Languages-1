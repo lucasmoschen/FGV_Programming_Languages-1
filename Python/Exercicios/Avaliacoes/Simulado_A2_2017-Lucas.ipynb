{
 "cells": [
  {
   "cell_type": "markdown",
   "metadata": {},
   "source": [
    "Simulado da A2 de Linguagens de Programação – 17/11/2017\n",
    "--\n",
    "Professor: Renato Rocha Souza  \n",
    "--"
   ]
  },
  {
   "cell_type": "markdown",
   "metadata": {},
   "source": [
    "Nome do Aluno(a):"
   ]
  },
  {
   "cell_type": "code",
   "execution_count": 3,
   "metadata": {},
   "outputs": [
    {
     "name": "stdout",
     "output_type": "stream",
     "text": [
      "Entre com o seu nome completo: Lucas Moschen\n",
      "Olá, Lucas Moschen!\n",
      "Bom trabalho!\n"
     ]
    }
   ],
   "source": [
    "meu_nome = input('Entre com o seu nome completo: ')\n",
    "print('Olá, {}!'.format(meu_nome))\n",
    "print('Bom trabalho!')"
   ]
  },
  {
   "cell_type": "code",
   "execution_count": 4,
   "metadata": {},
   "outputs": [],
   "source": [
    "import numpy as np\n",
    "import matplotlib.pyplot as plt\n",
    "import requests\n",
    "import random\n",
    "import re\n",
    "import string\n",
    "import time\n",
    "import pymysql\n",
    "import sqlite3\n",
    "import getpass\n",
    "import pandas.io.sql as psql\n",
    "import networkx as nx\n",
    "from IPython.display import clear_output\n",
    "%matplotlib inline"
   ]
  },
  {
   "cell_type": "code",
   "execution_count": 11,
   "metadata": {},
   "outputs": [
    {
     "data": {
      "text/plain": [
       "<sqlite3.Cursor at 0x7f09878f5b90>"
      ]
     },
     "execution_count": 11,
     "metadata": {},
     "output_type": "execute_result"
    }
   ],
   "source": [
    "conn = sqlite3.connect('cadastro.sqlite')\n",
    "cur = conn.cursor()\n",
    "\n",
    "cur.execute('create table if not exists \"cantores\" (\"id\" int(10) not null, \"nome\" varchar(255), \"data_nascimento\" varchar(255), \"peso\" float(4), \"altura\" float(4), \"imc\" float(5), \"Gênero\" varchar(10))')"
   ]
  },
  {
   "cell_type": "code",
   "execution_count": 12,
   "metadata": {},
   "outputs": [
    {
     "name": "stdout",
     "output_type": "stream",
     "text": [
      "(0, 'id', 'int(10)', 1, None, 0)\n",
      "(1, 'nome', 'varchar(255)', 0, None, 0)\n",
      "(2, 'data_nascimento', 'varchar(255)', 0, None, 0)\n",
      "(3, 'peso', 'float(4)', 0, None, 0)\n",
      "(4, 'altura', 'float(4)', 0, None, 0)\n",
      "(5, 'imc', 'float(5)', 0, None, 0)\n",
      "(6, 'Gênero', 'varchar(10)', 0, None, 0)\n"
     ]
    }
   ],
   "source": [
    "cur.execute('pragma table_info(cantores)')\n",
    "for r in cur.fetchall():\n",
    "    print(r)"
   ]
  },
  {
   "cell_type": "markdown",
   "metadata": {},
   "source": [
    "Questão 1 (2,0 pontos)  \n",
    "\n",
    "\n",
    "Utilizando Python, crie um banco de dados no sqlite que guarde a seguinte estrutura:\n",
    "\n",
    "\n",
    "| id (rowid) | nome (text)    | data_nascimento (text)    | peso (real) | altura (real) | imc (real) | Gênero  (text) |\n",
    "|--------------|----------------|---------------------------|-------------|---------------|------------|----------------|\n",
    "| 1            | Anitta         | \"1993-03-30 00:00:00.000\" | 56          | 162           | 0          | POP            |\n",
    "| 2            | Caetano Veloso | \"1942-08-07 00:00:00.000\" | 57          | 170           | 0          | MBP            |\n",
    "| 3            | Roberto Carlos | \"1941-04-19 00:00:00.000\" | 69          | 166           | 0          | MPB            |\n",
    "| 4            | Ivete Sangalo  | \"1972-05-27 00:00:00.000\" | 60          | 177           | 0          | AXÉ            |\n",
    "| 5            | Wesley Safadão | \"1988-09-06 00:00:00.000\" | 77          | 175           | 0          | POP            |\n",
    "\n",
    "\n",
    "Após a estrutura gerada, crie um script que calcule e corrija o IMC da tabela pela fórmula:  \n",
    "\n",
    "\n",
    "$\\large IMC = \\frac{Peso}{Altura^{2}}$\n",
    "\n",
    "\n",
    "Veja:  \n",
    "https://sqlite.org/datatype3.html    \n",
    "https://sqlite.org/autoinc.html  \n",
    "https://www.tutorialspoint.com/sqlite/sqlite_update_query.htm  "
   ]
  },
  {
   "cell_type": "code",
   "execution_count": 14,
   "metadata": {},
   "outputs": [
    {
     "data": {
      "text/plain": [
       "<sqlite3.Cursor at 0x7f09878f5b90>"
      ]
     },
     "execution_count": 14,
     "metadata": {},
     "output_type": "execute_result"
    }
   ],
   "source": [
    "cur.execute('insert into cantores values (1,\"Annita\",\"1993-03-30 00:00:00.000\",56,162,0,\"POP\")')"
   ]
  },
  {
   "cell_type": "code",
   "execution_count": 24,
   "metadata": {},
   "outputs": [
    {
     "data": {
      "text/plain": [
       "<sqlite3.Cursor at 0x7f09878f5b90>"
      ]
     },
     "execution_count": 24,
     "metadata": {},
     "output_type": "execute_result"
    }
   ],
   "source": [
    "cur.execute('''insert into cantores values \n",
    "(3, \"Roberto Carlos\", \"1941-04-19 00:00:00.000\", 69, 166, 0, \"MPB\"),\n",
    "(4, \"Ivete Sangalo\", \"1972-05-27 00:00:00.000\", 60, 177, 0, \"AXÉ\"),\n",
    "(5, \"Wesley Safadão\", \"1988-09-06 00:00:00.000\", 77, 175, 0, \"POP\")''')"
   ]
  },
  {
   "cell_type": "code",
   "execution_count": 29,
   "metadata": {},
   "outputs": [
    {
     "name": "stdout",
     "output_type": "stream",
     "text": [
      "(1, 'Annita', '1993-03-30 00:00:00.000', 56.0, 162.0, 0.002133821063862216, 'POP')\n",
      "(2, 'Caetano Veloso', '1942-08-07 00:00:00.000', 57.0, 170.0, 0.001972318339100346, 'MBP')\n",
      "(3, 'Roberto Carlos', '1941-04-19 00:00:00.000', 69.0, 166.0, 0.0025039918710988533, 'MPB')\n",
      "(4, 'Ivete Sangalo', '1972-05-27 00:00:00.000', 60.0, 177.0, 0.0019151584793641674, 'AXÉ')\n",
      "(5, 'Wesley Safadão', '1988-09-06 00:00:00.000', 77.0, 175.0, 0.002514285714285714, 'POP')\n"
     ]
    }
   ],
   "source": [
    "cur.execute('select * from cantores')\n",
    "for r in cur.fetchall():\n",
    "    print(r)"
   ]
  },
  {
   "cell_type": "code",
   "execution_count": 28,
   "metadata": {},
   "outputs": [
    {
     "data": {
      "text/plain": [
       "<sqlite3.Cursor at 0x7f09878f5b90>"
      ]
     },
     "execution_count": 28,
     "metadata": {},
     "output_type": "execute_result"
    }
   ],
   "source": [
    "cur.execute('update cantores set imc = (peso)/(altura*altura)')"
   ]
  },
  {
   "cell_type": "markdown",
   "metadata": {},
   "source": [
    "Questão 2 (2.0 pontos)  \n",
    "\n",
    "Conecte ao banco SQLite e responda:\n",
    "- Quantos artistas/bandas (artists) possuem nomes (Name) começando com a letra \"L\"?\n",
    "- Quais as 5 faixas (tracks) mais longas?\n",
    "- Qual o gênero (Genre) que possui, em média, as faixas (tracks) mais longas?\n",
    "- Qual o gênero (Genre) que possui, em média, as faixas (tracks) mais caras?"
   ]
  },
  {
   "cell_type": "code",
   "execution_count": 30,
   "metadata": {},
   "outputs": [],
   "source": [
    "conn = sqlite3.connect('../../Dados/chinook.sqlite')\n",
    "cur = conn.cursor()"
   ]
  },
  {
   "cell_type": "code",
   "execution_count": 46,
   "metadata": {},
   "outputs": [],
   "source": [
    "cur.execute('select count(*) from artists where Name like \"L%\"')\n",
    "for r in cur.fetchall():\n",
    "    print(r)"
   ]
  },
  {
   "cell_type": "code",
   "execution_count": 39,
   "metadata": {},
   "outputs": [
    {
     "name": "stdout",
     "output_type": "stream",
     "text": [
      "(2820, 'Occupation / Precipice', 227, 3, 19, None, 5286953, 1054423946, 1.99)\n",
      "(3224, 'Through a Looking Glass', 229, 3, 21, None, 5088838, 1059546140, 1.99)\n",
      "(3244, 'Greetings from Earth, Pt. 1', 253, 3, 20, None, 2960293, 536824558, 1.99)\n",
      "(3242, 'The Man With Nine Lives', 253, 3, 20, None, 2956998, 577829804, 1.99)\n",
      "(3227, 'Battlestar Galactica, Pt. 2', 253, 3, 20, None, 2956081, 521387924, 1.99)\n"
     ]
    }
   ],
   "source": [
    "cur.execute('select * from tracks order by Milliseconds desc limit 5')\n",
    "for r in cur.fetchall():\n",
    "    print(r)"
   ]
  },
  {
   "cell_type": "code",
   "execution_count": 54,
   "metadata": {},
   "outputs": [
    {
     "name": "stdout",
     "output_type": "stream",
     "text": [
      "(20, 'Sci Fi & Fantasy')\n"
     ]
    }
   ],
   "source": [
    "cur.execute('select GenreId, Name from genres where GenreId in (select GenreId from tracks group by GenreId order by avg(Milliseconds) desc limit 1)')\n",
    "for r in cur.fetchall():\n",
    "    print(r)"
   ]
  },
  {
   "cell_type": "code",
   "execution_count": 53,
   "metadata": {},
   "outputs": [
    {
     "name": "stdout",
     "output_type": "stream",
     "text": [
      "('albums',)\n",
      "('sqlite_sequence',)\n",
      "('artists',)\n",
      "('customers',)\n",
      "('employees',)\n",
      "('genres',)\n",
      "('invoices',)\n",
      "('invoice_items',)\n",
      "('media_types',)\n",
      "('playlists',)\n",
      "('playlist_track',)\n",
      "('tracks',)\n",
      "('sqlite_stat1',)\n"
     ]
    }
   ],
   "source": [
    "cur.execute('select name from sqlite_master where type = \"table\"') \n",
    "for r in cur.fetchall():\n",
    "    print(r)"
   ]
  },
  {
   "cell_type": "code",
   "execution_count": 36,
   "metadata": {},
   "outputs": [
    {
     "name": "stdout",
     "output_type": "stream",
     "text": [
      "(0, 'TrackId', 'INTEGER', 1, None, 1)\n",
      "(1, 'Name', 'NVARCHAR(200)', 1, None, 0)\n",
      "(2, 'AlbumId', 'INTEGER', 0, None, 0)\n",
      "(3, 'MediaTypeId', 'INTEGER', 1, None, 0)\n",
      "(4, 'GenreId', 'INTEGER', 0, None, 0)\n",
      "(5, 'Composer', 'NVARCHAR(220)', 0, None, 0)\n",
      "(6, 'Milliseconds', 'INTEGER', 1, None, 0)\n",
      "(7, 'Bytes', 'INTEGER', 0, None, 0)\n",
      "(8, 'UnitPrice', 'NUMERIC(10,2)', 1, None, 0)\n"
     ]
    }
   ],
   "source": [
    "cur.execute('pragma table_info(tracks)')\n",
    "for r in cur.fetchall():\n",
    "    print(r)"
   ]
  },
  {
   "cell_type": "markdown",
   "metadata": {},
   "source": [
    "Questão 3 (3.0 pontos)  (questão desafiante!!)\n",
    "\n",
    "Com o banco de dados da questão anterior, crie um grafo utilizando o pacote networkx do Python, de modo que os artistas estejam ligados ao gênero ao qual pertence a maioria de suas músicas. Diferencie com atributos os nós de artista e de gênero.\n",
    "\n",
    "https://networkx.github.io/  \n",
    "https://networkx.github.io/documentation/stable/tutorial.html#directed-graphs \n",
    "https://networkx.github.io/documentation/stable/tutorial.html#adding-attributes-to-graphs-nodes-and-edges  \n",
    "https://networkx.github.io/documentation/stable/tutorial.html#drawing-graphs  "
   ]
  },
  {
   "cell_type": "code",
   "execution_count": null,
   "metadata": {
    "collapsed": true
   },
   "outputs": [],
   "source": [
    "# seu código aqui"
   ]
  },
  {
   "cell_type": "markdown",
   "metadata": {},
   "source": [
    "Questão 4 (1.5 pontos) \n",
    "\n",
    "Pedro, coitado, programa em R há muitos anos, mas gostaria de migrar para Python, uma linguagem muito mais poderosa. Ajude-o a converter o código abaixo para Python:  "
   ]
  },
  {
   "cell_type": "code",
   "execution_count": null,
   "metadata": {
    "collapsed": true
   },
   "outputs": [],
   "source": [
    "countdown <- function(from)\n",
    "{\n",
    "  print(from)\n",
    "  while(from!=0)\n",
    "  {\n",
    "    Sys.sleep(1)\n",
    "    from <- from - 1\n",
    "    print(from)\n",
    "  }\n",
    "}\n",
    "\n",
    "countdown(5)"
   ]
  },
  {
   "cell_type": "code",
   "execution_count": null,
   "metadata": {
    "collapsed": true
   },
   "outputs": [],
   "source": [
    "#seu código aqui"
   ]
  },
  {
   "cell_type": "markdown",
   "metadata": {},
   "source": [
    "Questão 5 (1.5 pontos) \n",
    "\n",
    "Vitória é uma excelente programadora em C. Nos últimos tempos - mas isso ela não admitiria - tem se convencido de que Python é uma escolha mais razoável para sua vida acadêmica. Ajude-a a converter o código abaixo para Python:    "
   ]
  },
  {
   "cell_type": "code",
   "execution_count": null,
   "metadata": {
    "collapsed": true
   },
   "outputs": [],
   "source": [
    "#include <stdio.h>\n",
    "int main()\n",
    "{\n",
    "    int n, reversedInteger = 0, remainder, originalInteger;\n",
    "\n",
    "    printf(\"Enter an integer: \");\n",
    "    scanf(\"%d\", &n);\n",
    "\n",
    "    originalInteger = n;\n",
    "\n",
    "    // reversed integer is stored in variable \n",
    "    while( n!=0 )\n",
    "    {\n",
    "        remainder = n%10;\n",
    "        reversedInteger = reversedInteger*10 + remainder;\n",
    "        n /= 10;\n",
    "    }\n",
    "\n",
    "    // palindrome if orignalInteger and reversedInteger are equal\n",
    "    if (originalInteger == reversedInteger)\n",
    "        printf(\"%d is a palindrome.\", originalInteger);\n",
    "    else\n",
    "        printf(\"%d is not a palindrome.\", originalInteger);\n",
    "    \n",
    "    return 0;\n",
    "}"
   ]
  },
  {
   "cell_type": "code",
   "execution_count": 3,
   "metadata": {
    "collapsed": true
   },
   "outputs": [],
   "source": [
    "#seu código aqui"
   ]
  },
  {
   "cell_type": "markdown",
   "metadata": {},
   "source": [
    "Questão Bônus (0,5 pontos)  \n",
    "\n",
    "Alexandrino gosta muito de LISP, mas - poucos sabem - secretamente acalenta o sonho de programar em Python. \n",
    "Ajude-o a converter o código abaixo para Python:  "
   ]
  },
  {
   "cell_type": "code",
   "execution_count": null,
   "metadata": {
    "collapsed": true
   },
   "outputs": [],
   "source": [
    "(defun get-max-value (list)\n",
    "  (let ((ans (first list)))\n",
    "    (do ((i 1 (1+ i)))\n",
    "        ((>= i (length list)) ans)\n",
    "      (when (> (nth i list) ans)\n",
    "        (setf ans (nth i list))))))"
   ]
  },
  {
   "cell_type": "code",
   "execution_count": null,
   "metadata": {
    "collapsed": true
   },
   "outputs": [],
   "source": [
    "#seu código aqui"
   ]
  }
 ],
 "metadata": {
  "kernelspec": {
   "display_name": "Python 3",
   "language": "python",
   "name": "python3"
  },
  "language_info": {
   "codemirror_mode": {
    "name": "ipython",
    "version": 3
   },
   "file_extension": ".py",
   "mimetype": "text/x-python",
   "name": "python",
   "nbconvert_exporter": "python",
   "pygments_lexer": "ipython3",
   "version": "3.5.2"
  }
 },
 "nbformat": 4,
 "nbformat_minor": 2
}
