{
 "cells": [
  {
   "cell_type": "markdown",
   "metadata": {},
   "source": [
    "Exercícios de Revisão A2\n",
    "--\n",
    "Professor: Renato Rocha Souza  \n",
    "--"
   ]
  },
  {
   "cell_type": "code",
   "execution_count": 47,
   "metadata": {},
   "outputs": [],
   "source": [
    "import itertools as it\n",
    "import random\n",
    "from collections import Counter\n",
    "import re\n",
    "import string\n",
    "\n",
    "import pymysql\n",
    "import sqlite3\n",
    "import getpass\n",
    "\n",
    "import numpy as np\n",
    "import matplotlib.pyplot as plt\n",
    "import pandas as pd\n",
    "import pandas.io.sql as psql\n",
    "\n",
    "%matplotlib inline\n",
    "import time"
   ]
  },
  {
   "cell_type": "markdown",
   "metadata": {},
   "source": [
    "### Parte I - Pandas"
   ]
  },
  {
   "cell_type": "markdown",
   "metadata": {},
   "source": [
    "Para o Dataframe abaixo, resolva as seguintes tarefas:"
   ]
  },
  {
   "cell_type": "code",
   "execution_count": null,
   "metadata": {},
   "outputs": [],
   "source": [
    "pd_zoo = pd.read_csv('../Dados/zoo.csv')\n",
    "pd_zoo.head()"
   ]
  },
  {
   "cell_type": "markdown",
   "metadata": {},
   "source": [
    "1 - Crie uma série somente com os nomes dos animais (primeira coluna)"
   ]
  },
  {
   "cell_type": "code",
   "execution_count": null,
   "metadata": {},
   "outputs": [],
   "source": [
    "res_1 = pd_zoo.animal"
   ]
  },
  {
   "cell_type": "markdown",
   "metadata": {},
   "source": [
    "2 - Transforme os campos com as strings \"True\"/\"False\" em variáveis booleanas True/False  \n",
    "Veja as dicas [aqui](https://pandas.pydata.org/pandas-docs/stable/generated/pandas.DataFrame.apply.html) e [aqui](https://stackoverflow.com/questions/49259580/replace-values-in-a-pandas-series-via-dictionary-efficiently)"
   ]
  },
  {
   "cell_type": "code",
   "execution_count": null,
   "metadata": {},
   "outputs": [],
   "source": [
    "pd_zoo = pd_zoo.apply(lambda x: x.replace(True,'Verdadeiro'))"
   ]
  },
  {
   "cell_type": "code",
   "execution_count": null,
   "metadata": {},
   "outputs": [],
   "source": [
    "pd_zoo = pd_zoo.apply(lambda x: x.replace(False,'Falso'))\n",
    "pd_zoo.legs[pd_zoo.legs == 'Falso'] = 0"
   ]
  },
  {
   "cell_type": "code",
   "execution_count": null,
   "metadata": {},
   "outputs": [],
   "source": [
    "pd_zoo[0:10]"
   ]
  },
  {
   "cell_type": "markdown",
   "metadata": {},
   "source": [
    "3 - Crie um novo dataframe somente com os Mamíferos"
   ]
  },
  {
   "cell_type": "code",
   "execution_count": null,
   "metadata": {},
   "outputs": [],
   "source": [
    "mamiferos = pd_zoo[pd_zoo.type =='mammal']\n",
    "mamiferos[0:10]"
   ]
  },
  {
   "cell_type": "markdown",
   "metadata": {},
   "source": [
    "4 - Crie um gráfico com os números de patas por animais  \n",
    "Veja as dicas [aqui](https://pandas.pydata.org/pandas-docs/version/0.22/generated/pandas.DataFrame.plot.html)  "
   ]
  },
  {
   "cell_type": "code",
   "execution_count": null,
   "metadata": {},
   "outputs": [],
   "source": [
    "pd_zoo.legs.plot(kind = 'hist',color = 'r')"
   ]
  },
  {
   "cell_type": "markdown",
   "metadata": {},
   "source": [
    "5 - crie uma tabela no banco alunos a partir do dataframe  \n",
    "ver referência [aqui](https://pandas.pydata.org/pandas-docs/stable/generated/pandas.DataFrame.to_sql.html)"
   ]
  },
  {
   "cell_type": "code",
   "execution_count": null,
   "metadata": {},
   "outputs": [],
   "source": [
    "p = getpass.getpass()\n",
    "conn = pymysql.connect(host='127.0.0.1', #localhost\n",
    "                       port=3306, \n",
    "                       user='aluno', \n",
    "                       passwd=p, \n",
    "                       db='alunos')"
   ]
  },
  {
   "cell_type": "code",
   "execution_count": null,
   "metadata": {},
   "outputs": [],
   "source": [
    "conn = sqlite3.connect('tabela_zoo')"
   ]
  },
  {
   "cell_type": "code",
   "execution_count": null,
   "metadata": {},
   "outputs": [],
   "source": [
    "pd_zoo.to_sql('tabela_zoo', con=conn)\n",
    "cur = conn.cursor()"
   ]
  },
  {
   "cell_type": "code",
   "execution_count": null,
   "metadata": {},
   "outputs": [],
   "source": [
    "cur.execute(\"SELECT * FROM tabela_zoo;\")\n",
    "for r in cur.fetchmany(12):\n",
    "    print(r)"
   ]
  },
  {
   "cell_type": "markdown",
   "metadata": {},
   "source": [
    "### Parte 2 - Shell Linux"
   ]
  },
  {
   "cell_type": "markdown",
   "metadata": {},
   "source": [
    "Usando comandos do Shell, abra o arquivo ../Dados/DomCasmurroMachadoAssis.txt e resolva as seguintes tarefas:"
   ]
  },
  {
   "cell_type": "markdown",
   "metadata": {},
   "source": [
    "1 - Ordene as palavras do texto nas formas abaixo:\n",
    "+ ordem ascii\n",
    "+ ordem alfabética\n",
    "+ ordem de \"rima\""
   ]
  },
  {
   "cell_type": "code",
   "execution_count": null,
   "metadata": {},
   "outputs": [],
   "source": [
    "!cat ../Dados/DomCasmurroMachadoAssis.txt | tr ']' '\\n'| tr -sc '[a-záàâãéêíôóõúç][A-ZÁÀÃÂÉÊÍÓÔÚÇ]' '[\\012*]' | sort | uniq "
   ]
  },
  {
   "cell_type": "code",
   "execution_count": null,
   "metadata": {},
   "outputs": [],
   "source": [
    "!cat ../Dados/DomCasmurroMachadoAssis.txt | tr ']' '\\n'| tr -sc '[a-záàâãéêíôóõúç][A-ZÁÀÃÂÉÊÍÓÔÚÇ]' '[\\012*]' | sort -h | uniq"
   ]
  },
  {
   "cell_type": "code",
   "execution_count": null,
   "metadata": {},
   "outputs": [],
   "source": [
    "!cat ../Dados/DomCasmurroMachadoAssis.txt | tr [A-Z] [a-z] | tr ']' '\\n'| tr -sc '[a-záàâãéêíôóõúç][A-ZÁÀÃÂÉÊÍÓÔÚÇ]' '[\\012*]' | sort | uniq | rev | sort | rev"
   ]
  },
  {
   "cell_type": "markdown",
   "metadata": {},
   "source": [
    "2 - Quantas palavras maiúsculas distintas há no texto?"
   ]
  },
  {
   "cell_type": "code",
   "execution_count": 35,
   "metadata": {},
   "outputs": [
    {
     "name": "stdout",
     "output_type": "stream",
     "text": [
      "1531\r\n"
     ]
    }
   ],
   "source": [
    "!cat ../Dados/DomCasmurroMachadoAssis.txt | tr -sc '[a-záàâãéêíôóõúç][A-ZÁÀÃÂÉÊÍÓÔÚÇ]' '[\\012*]' | sort -n | uniq | grep -c '^[A-ZÁÀÃÂÉÊÍÓÕÔÚÇ]' "
   ]
  },
  {
   "cell_type": "markdown",
   "metadata": {},
   "source": [
    "3 - Quantas palavras há com apenas uma, com apenas duas, e com apenas 3 vogais?"
   ]
  },
  {
   "cell_type": "code",
   "execution_count": null,
   "metadata": {},
   "outputs": [],
   "source": [
    "!cat ../Dados/DomCasmurroMachadoAssis.txt | tr -sc '[a-záàâãéêíôóõúç][A-ZÁÀÃÂÉÊÍÓÔÚÇ]' '[\\012*]' | grep [aeiouáàâãéêíôóõú][^aeiouáàâãéêíôóõú]*[aeiouáàâãéêíôóõú] | grep -vc [aeiouáàâãéêíôóõú].*[aeiouáàâãéêíôóõú].*[aeiouáàâãéêíôóõú] "
   ]
  },
  {
   "cell_type": "code",
   "execution_count": null,
   "metadata": {},
   "outputs": [],
   "source": [
    "!cat ../Dados/DomCasmurroMachadoAssis.txt | tr -sc '[a-záàâãéêíôóõúç][A-ZÁÀÃÂÉÊÍÓÔÚÇ]' '[\\012*]' | grep [aeiouáàâãéêíôóõú][^aeiouáàâãéêíôóõú]*[aeiouáàâãéêíôóõú][^aeiouáàâãéêíôóõú]*[aeiouáàâãéêíôóõú] | grep -vc [aeiouáàâãéêíôóõú].*[aeiouáàâãéêíôóõú].*[aeiouáàâãéêíôóõú].*[aeiouáàâãéêíôóõú] "
   ]
  },
  {
   "cell_type": "markdown",
   "metadata": {},
   "source": [
    "4 - Qual a sequência de comandos para criar um arquivo com os bigramas e suas contagens?"
   ]
  },
  {
   "cell_type": "code",
   "execution_count": null,
   "metadata": {},
   "outputs": [],
   "source": [
    "!cat ../Dados/DomCasmurroMachadoAssis.txt | tr -sc '[a-záàâãéêíôóõúç][A-ZÁÀÃÂÉÊÍÓÔÚÇ]' '[\\012*]' > ../Dados/Dom_words.txt\n",
    "!cat ../Dados/DomCasmurroMachadoAssis.txt | tr -sc '[a-záàâãéêíôóõúç][A-ZÁÀÃÂÉÊÍÓÔÚÇ]' '[\\012*]' | tail  -n +2 > ../Dados/Dom_nextwords.txt\n",
    "!paste ../Dados/Dom_words.txt ../Dados/Dom_nextwords.txt | sort | uniq -c | sort -nr"
   ]
  },
  {
   "cell_type": "markdown",
   "metadata": {},
   "source": [
    "### Parte 3 - Expressões Regulares"
   ]
  },
  {
   "cell_type": "markdown",
   "metadata": {},
   "source": [
    "1 - Repita os exercícios 1 a 4 da parte 2 utilizando Python"
   ]
  },
  {
   "cell_type": "code",
   "execution_count": 52,
   "metadata": {},
   "outputs": [],
   "source": [
    "f = open('../Dados/DomCasmurroMachadoAssis.txt',encoding='utf-8')\n",
    "texto = f.read()\n",
    "palavras = texto.split()\n",
    "palavras = {p.strip(string.punctuation) for p in palavras}\n",
    "palavras = {p for p in palavras if not p[0:1].isnumeric()}\n",
    "rimas = {r[::-1] for r in palavras}\n",
    "\n",
    "ordem1 = sorted(palavras,key=ascii)\n",
    "ordem2 = sorted(palavras)\n",
    "ordem3 = sorted(rimas)\n",
    "ordem3 = [r[::-1] for r in ordem3]"
   ]
  },
  {
   "cell_type": "code",
   "execution_count": 20,
   "metadata": {},
   "outputs": [
    {
     "name": "stdout",
     "output_type": "stream",
     "text": [
      "1592\n"
     ]
    }
   ],
   "source": [
    "with open('../Dados/DomCasmurroMachadoAssis.txt',encoding='utf-8') as g:\n",
    "    texto = g.read()\n",
    "    texto = re.sub(r'»',' ',texto)\n",
    "    words = texto.split()\n",
    "    words = [p.strip(string.punctuation) for p in words]\n",
    "    words = {m for m in words if re.search(r'^[A-ZÁÀÃÂÉÊÍÓÕÔÚÇ].*',m)}\n",
    "    print(len(words))"
   ]
  },
  {
   "cell_type": "code",
   "execution_count": 36,
   "metadata": {},
   "outputs": [],
   "source": [
    "with open('../Dados/DomCasmurroMachadoAssis.txt',encoding='utf-8') as h:\n",
    "    texto = h.read()\n",
    "    words = texto.split()\n",
    "    words = [p.strip(string.punctuation) for p in words]\n",
    "    vogal1 = [p for p in words if re.search(r'^[^AEIOUaeiouÁÂÃÀÉÊÍÓÔÕÚáàãâêéíóôõú]*[AEIOUaeiouÁÂÃÀÉÊÍÓÔÕÚáàãâêéíóôõú]{1}[^AEIOUaeiouÁÂÃÀÉÊÍÓÔÕÚáàãâêéíóôõú]*$',p)]"
   ]
  },
  {
   "cell_type": "code",
   "execution_count": 46,
   "metadata": {},
   "outputs": [
    {
     "name": "stdout",
     "output_type": "stream",
     "text": [
      "[('A', 'minha'), ('minha', 'casa'), ('casa', 'era'), ('era', 'feita'), ('feita', 'de'), ('de', 'palmeiras'), ('palmeiras', 'Ela'), ('Ela', 'era'), ('era', 'bagunçada'), ('bagunçada', 'como'), ('como', 'eu'), ('eu', 'era'), ('era', 'zoeiro')]\n"
     ]
    }
   ],
   "source": [
    "text = 'A minha casa era feita de palmeiras. Ela era bagunçada como eu era zoeiro.'\n",
    "lista1 = text.split()\n",
    "lista1 = [l.strip(string.punctuation) for l in lista1]\n",
    "lista2 = lista1\n",
    "lista1 = tuple(lista1)\n",
    "lista2.pop(0)\n",
    "lista1 = list(lista1)\n",
    "bigramas = zip(lista1,lista2)\n",
    "print(list(bigramas))"
   ]
  },
  {
   "cell_type": "markdown",
   "metadata": {},
   "source": [
    "### Parte 4 - Bancos de dados"
   ]
  },
  {
   "cell_type": "code",
   "execution_count": 48,
   "metadata": {},
   "outputs": [
    {
     "name": "stdout",
     "output_type": "stream",
     "text": [
      "········\n"
     ]
    }
   ],
   "source": [
    "p = getpass.getpass()\n",
    "conn = pymysql.connect(host='127.0.0.1', #localhost\n",
    "                       port=3306, \n",
    "                       user='aluno', \n",
    "                       passwd=p, \n",
    "                       db='SQLExample1')\n",
    "cur = conn.cursor()"
   ]
  },
  {
   "cell_type": "code",
   "execution_count": 49,
   "metadata": {},
   "outputs": [
    {
     "name": "stdout",
     "output_type": "stream",
     "text": [
      "('account',)\n",
      "('branch',)\n",
      "('business',)\n",
      "('customer',)\n",
      "('department',)\n",
      "('employee',)\n",
      "('individual',)\n",
      "('officer',)\n",
      "('product',)\n",
      "('product_type',)\n",
      "('transaction',)\n"
     ]
    }
   ],
   "source": [
    "cur.execute('use SQLExample1;')\n",
    "cur.execute('show tables;')\n",
    "for r in cur.fetchall():\n",
    "    print(r)"
   ]
  },
  {
   "cell_type": "code",
   "execution_count": 50,
   "metadata": {},
   "outputs": [
    {
     "name": "stdout",
     "output_type": "stream",
     "text": [
      "('account_id', 'int(10) unsigned', 'NO', 'PRI', None, 'auto_increment')\n",
      "('product_cd', 'varchar(10)', 'NO', 'MUL', None, '')\n",
      "('cust_id', 'int(10) unsigned', 'NO', 'MUL', None, '')\n",
      "('open_date', 'date', 'NO', '', None, '')\n",
      "('close_date', 'date', 'YES', '', None, '')\n",
      "('last_activity_date', 'date', 'YES', '', None, '')\n",
      "('status', \"enum('ACTIVE','CLOSED','FROZEN')\", 'YES', '', None, '')\n",
      "('open_branch_id', 'smallint(5) unsigned', 'YES', 'MUL', None, '')\n",
      "('open_emp_id', 'smallint(5) unsigned', 'YES', 'MUL', None, '')\n",
      "('avail_balance', 'float(10,2)', 'YES', '', None, '')\n",
      "('pending_balance', 'float(10,2)', 'YES', '', None, '')\n"
     ]
    }
   ],
   "source": [
    "cur.execute('describe account;')\n",
    "for r in cur.fetchall():\n",
    "    print(r)"
   ]
  },
  {
   "cell_type": "code",
   "execution_count": 51,
   "metadata": {},
   "outputs": [
    {
     "name": "stdout",
     "output_type": "stream",
     "text": [
      "(1, 'CHK', 1, datetime.date(2000, 1, 15), None, datetime.date(2005, 1, 4), 'ACTIVE', 2, 10, 1057.75, 1057.75)\n",
      "(2, 'SAV', 1, datetime.date(2000, 1, 15), None, datetime.date(2004, 12, 19), 'ACTIVE', 2, 10, 500.0, 500.0)\n",
      "(3, 'CD', 1, datetime.date(2004, 6, 30), None, datetime.date(2004, 6, 30), 'ACTIVE', 2, 10, 3000.0, 3000.0)\n",
      "(4, 'CHK', 2, datetime.date(2001, 3, 12), None, datetime.date(2004, 12, 27), 'ACTIVE', 2, 10, 2258.02, 2258.02)\n",
      "(5, 'SAV', 2, datetime.date(2001, 3, 12), None, datetime.date(2004, 12, 11), 'ACTIVE', 2, 10, 200.0, 200.0)\n"
     ]
    }
   ],
   "source": [
    "cur.execute('select * from account limit 5;')\n",
    "for r in cur.fetchall():\n",
    "    print(r)"
   ]
  },
  {
   "cell_type": "code",
   "execution_count": 52,
   "metadata": {},
   "outputs": [
    {
     "name": "stdout",
     "output_type": "stream",
     "text": [
      "('product_cd', 'varchar(10)', 'NO', 'PRI', None, '')\n",
      "('name', 'varchar(50)', 'NO', '', None, '')\n",
      "('product_type_cd', 'varchar(10)', 'NO', 'MUL', None, '')\n",
      "('date_offered', 'date', 'YES', '', None, '')\n",
      "('date_retired', 'date', 'YES', '', None, '')\n"
     ]
    }
   ],
   "source": [
    "cur.execute('describe product;')\n",
    "for r in cur.fetchall():\n",
    "    print(r)"
   ]
  },
  {
   "cell_type": "code",
   "execution_count": 53,
   "metadata": {},
   "outputs": [
    {
     "name": "stdout",
     "output_type": "stream",
     "text": [
      "('AUT', 'auto loan', 'LOAN', datetime.date(2000, 1, 1), None)\n",
      "('BUS', 'business line of credit', 'LOAN', datetime.date(2000, 1, 1), None)\n",
      "('CD', 'certificate of deposit', 'ACCOUNT', datetime.date(2000, 1, 1), None)\n",
      "('CHK', 'checking account', 'ACCOUNT', datetime.date(2000, 1, 1), None)\n",
      "('MM', 'money market account', 'ACCOUNT', datetime.date(2000, 1, 1), None)\n",
      "('MRT', 'home mortgage', 'LOAN', datetime.date(2000, 1, 1), None)\n",
      "('SAV', 'savings account', 'ACCOUNT', datetime.date(2000, 1, 1), None)\n",
      "('SBL', 'small business loan', 'LOAN', datetime.date(2000, 1, 1), None)\n"
     ]
    }
   ],
   "source": [
    "cur.execute('select * from product;')\n",
    "for r in cur.fetchall():\n",
    "    print(r)"
   ]
  },
  {
   "cell_type": "code",
   "execution_count": 54,
   "metadata": {},
   "outputs": [
    {
     "name": "stdout",
     "output_type": "stream",
     "text": [
      "('product_type_cd', 'varchar(10)', 'NO', 'PRI', None, '')\n",
      "('name', 'varchar(50)', 'NO', '', None, '')\n"
     ]
    }
   ],
   "source": [
    "cur.execute('describe product_type;')\n",
    "for r in cur.fetchall():\n",
    "    print(r)"
   ]
  },
  {
   "cell_type": "code",
   "execution_count": 55,
   "metadata": {},
   "outputs": [
    {
     "name": "stdout",
     "output_type": "stream",
     "text": [
      "('ACCOUNT', 'Customer Accounts')\n",
      "('INSURANCE', 'Insurance Offerings')\n",
      "('LOAN', 'Individual and Business Loans')\n"
     ]
    }
   ],
   "source": [
    "cur.execute('select * from product_type;')\n",
    "for r in cur.fetchall():\n",
    "    print(r)"
   ]
  },
  {
   "cell_type": "code",
   "execution_count": 56,
   "metadata": {},
   "outputs": [
    {
     "name": "stdout",
     "output_type": "stream",
     "text": [
      "('emp_id', 'smallint(5) unsigned', 'NO', 'PRI', None, 'auto_increment')\n",
      "('fname', 'varchar(20)', 'NO', '', None, '')\n",
      "('lname', 'varchar(20)', 'NO', '', None, '')\n",
      "('start_date', 'date', 'NO', '', None, '')\n",
      "('end_date', 'date', 'YES', '', None, '')\n",
      "('superior_emp_id', 'smallint(5) unsigned', 'YES', 'MUL', None, '')\n",
      "('dept_id', 'smallint(5) unsigned', 'YES', 'MUL', None, '')\n",
      "('title', 'varchar(20)', 'YES', '', None, '')\n",
      "('assigned_branch_id', 'smallint(5) unsigned', 'YES', 'MUL', None, '')\n"
     ]
    }
   ],
   "source": [
    "cur.execute('describe employee;')\n",
    "for r in cur.fetchall():\n",
    "    print(r)"
   ]
  },
  {
   "cell_type": "code",
   "execution_count": 57,
   "metadata": {},
   "outputs": [
    {
     "name": "stdout",
     "output_type": "stream",
     "text": [
      "(1, 'Michael', 'Smith', datetime.date(2001, 6, 22), None, None, 3, 'President', 1)\n",
      "(2, 'Susan', 'Barker', datetime.date(2002, 9, 12), None, 1, 3, 'Vice President', 1)\n",
      "(3, 'Robert', 'Tyler', datetime.date(2000, 2, 9), None, 1, 3, 'Treasurer', 1)\n",
      "(4, 'Susan', 'Hawthorne', datetime.date(2002, 4, 24), None, 3, 1, 'Operations Manager', 1)\n",
      "(5, 'John', 'Gooding', datetime.date(2003, 11, 14), None, 4, 2, 'Loan Manager', 1)\n",
      "(6, 'Helen', 'Fleming', datetime.date(2004, 3, 17), None, 4, 1, 'Head Teller', 1)\n",
      "(7, 'Chris', 'Tucker', datetime.date(2004, 9, 15), None, 6, 1, 'Teller', 1)\n",
      "(8, 'Sarah', 'Parker', datetime.date(2002, 12, 2), None, 6, 1, 'Teller', 1)\n",
      "(9, 'Jane', 'Grossman', datetime.date(2002, 5, 3), None, 6, 1, 'Teller', 1)\n",
      "(10, 'Paula', 'Roberts', datetime.date(2002, 7, 27), None, 4, 1, 'Head Teller', 2)\n"
     ]
    }
   ],
   "source": [
    "cur.execute('select * from employee limit 10;')\n",
    "for r in cur.fetchall():\n",
    "    print(r)"
   ]
  },
  {
   "cell_type": "code",
   "execution_count": 63,
   "metadata": {},
   "outputs": [],
   "source": [
    "def print_all(action):\n",
    "    cur.execute(action)\n",
    "    for r in cur.fetchall():\n",
    "        print(r)            "
   ]
  },
  {
   "cell_type": "markdown",
   "metadata": {},
   "source": [
    "1 - Na tabela \"account\", quais os valores médio, mínimo e máximo de \"avail_balance\"?"
   ]
  },
  {
   "cell_type": "code",
   "execution_count": 65,
   "metadata": {},
   "outputs": [
    {
     "name": "stdout",
     "output_type": "stream",
     "text": [
      "(7114.769138, 0.0, 50000.0)\n"
     ]
    }
   ],
   "source": [
    "valores = 'select avg(avail_balance), min(avail_balance), max(avail_balance) from account'\n",
    "print_all(valores)"
   ]
  },
  {
   "cell_type": "markdown",
   "metadata": {},
   "source": [
    "2 - Quais registros na tabela \"account\" estão acima da média de \"avail_balance\"?"
   ]
  },
  {
   "cell_type": "code",
   "execution_count": 69,
   "metadata": {},
   "outputs": [
    {
     "name": "stdout",
     "output_type": "stream",
     "text": [
      "(29, 'SBL', 13, datetime.date(2004, 2, 22), None, datetime.date(2004, 12, 17), 'ACTIVE', 3, 13, 50000.0, 50000.0)\n",
      "(28, 'CHK', 12, datetime.date(2003, 7, 30), None, datetime.date(2004, 12, 15), 'ACTIVE', 4, 16, 38552.05, 38552.05)\n",
      "(24, 'CHK', 10, datetime.date(2002, 9, 30), None, datetime.date(2004, 12, 15), 'ACTIVE', 4, 16, 23575.12, 23575.12)\n",
      "(15, 'CD', 6, datetime.date(2004, 12, 28), None, datetime.date(2004, 12, 28), 'ACTIVE', 1, 1, 10000.0, 10000.0)\n",
      "(22, 'MM', 9, datetime.date(2004, 10, 28), None, datetime.date(2004, 10, 28), 'ACTIVE', 1, 1, 9345.55, 9845.55)\n",
      "(27, 'BUS', 11, datetime.date(2004, 3, 22), None, datetime.date(2004, 11, 14), 'ACTIVE', 2, 10, 9345.55, 9345.55)\n"
     ]
    }
   ],
   "source": [
    "acima = 'select * from account where avail_balance > (select avg(avail_balance) from account limit 10) order by avail_balance desc'\n",
    "print_all(acima)"
   ]
  },
  {
   "cell_type": "markdown",
   "metadata": {},
   "source": [
    "3 - Na tabela \"account\", quais as 3 datas mais recentes e as 3 datas mais antigas (\"open_date\")?"
   ]
  },
  {
   "cell_type": "code",
   "execution_count": 72,
   "metadata": {},
   "outputs": [
    {
     "name": "stdout",
     "output_type": "stream",
     "text": [
      "(datetime.date(2000, 1, 15),)\n",
      "(datetime.date(2000, 1, 15),)\n",
      "(datetime.date(2000, 1, 15),)\n",
      "(datetime.date(2004, 12, 28),)\n",
      "(datetime.date(2004, 10, 28),)\n",
      "(datetime.date(2004, 9, 30),)\n"
     ]
    }
   ],
   "source": [
    "datas = '(select open_date from account order by open_date limit 3) union all (select open_date from account order by open_date desc limit 3)'\n",
    "print_all(datas)"
   ]
  },
  {
   "cell_type": "markdown",
   "metadata": {},
   "source": [
    "4 - Para cada elemento na tabela \"product\", exiba o nome completo do \"product_type_cd\" (tabela \"product_type\")"
   ]
  },
  {
   "cell_type": "code",
   "execution_count": 74,
   "metadata": {},
   "outputs": [
    {
     "name": "stdout",
     "output_type": "stream",
     "text": [
      "('auto loan', 'Individual and Business Loans')\n",
      "('business line of credit', 'Individual and Business Loans')\n",
      "('certificate of deposit', 'Customer Accounts')\n",
      "('checking account', 'Customer Accounts')\n",
      "('money market account', 'Customer Accounts')\n",
      "('home mortgage', 'Individual and Business Loans')\n",
      "('savings account', 'Customer Accounts')\n",
      "('small business loan', 'Individual and Business Loans')\n"
     ]
    }
   ],
   "source": [
    "nome = '''SELECT p.name, pt.name FROM product AS p\n",
    "INNER JOIN product_type AS pt\n",
    "ON p.product_type_cd = pt.product_type_cd'''\n",
    "print_all(nome)"
   ]
  },
  {
   "cell_type": "markdown",
   "metadata": {},
   "source": [
    "5 - Quantos empregados (\"employee\") possuem a letra \"e\" em seus nomes? E quantos tem sobrenomes que terminam com \"r\"? "
   ]
  },
  {
   "cell_type": "code",
   "execution_count": null,
   "metadata": {},
   "outputs": [],
   "source": [
    "emp = '''select count(*) from employee where fname like '%e%' '''\n",
    "\n",
    "cur.execute(emp)\n",
    "for r in cur.fetchall():\n",
    "    print(r)"
   ]
  },
  {
   "cell_type": "code",
   "execution_count": null,
   "metadata": {},
   "outputs": [],
   "source": [
    "emp = '''select count(*) from employee where lname like '%r' '''\n",
    "\n",
    "cur.execute(emp)\n",
    "for r in cur.fetchall():\n",
    "    print(r)"
   ]
  },
  {
   "cell_type": "markdown",
   "metadata": {},
   "source": [
    "6 - Quais são os títulos (\"title\") possíveis para os empregados (\"employees\")? "
   ]
  },
  {
   "cell_type": "code",
   "execution_count": null,
   "metadata": {},
   "outputs": [],
   "source": [
    "title = '''select distinct title from employee'''\n",
    "\n",
    "cur.execute(title)\n",
    "for r in cur.fetchall():\n",
    "    print(r)"
   ]
  },
  {
   "cell_type": "markdown",
   "metadata": {},
   "source": [
    "7 - Quantos empregados (\"employees\") estão a exatamente dois níveis abaixo do presidente? "
   ]
  },
  {
   "cell_type": "code",
   "execution_count": null,
   "metadata": {},
   "outputs": [],
   "source": [
    "q3 = '''\n",
    "    select count(*) from employee where superior_emp_id in \n",
    "    (select emp_id from employee where superior_emp_id = 1)'''\n",
    "\n",
    "cur.execute(q3)\n",
    "for r in cur.fetchall():\n",
    "    print(r)"
   ]
  },
  {
   "cell_type": "markdown",
   "metadata": {},
   "source": [
    "8 - Na tabela \"account\", quais os valores médio, mínimo e máximo de \"avail_balance\" por tipo de 'product_cd' ?"
   ]
  },
  {
   "cell_type": "code",
   "execution_count": null,
   "metadata": {},
   "outputs": [],
   "source": [
    "cur.execute('select product_cd, avg(avail_balance), min(avail_balance), max(avail_balance) from account group by product_cd')\n",
    "for r in cur.fetchall():\n",
    "    print(r)"
   ]
  },
  {
   "cell_type": "markdown",
   "metadata": {},
   "source": [
    "9 - Na tabela \"transaction\", há quantos registros por ano (\"txn_date\")?"
   ]
  },
  {
   "cell_type": "code",
   "execution_count": null,
   "metadata": {},
   "outputs": [],
   "source": [
    "des = 'describe transaction'\n",
    "\n",
    "reg = 'select year(txn_date), count(*) from transaction group by year(txn_date)'\n",
    "\n",
    "cur.execute(reg)\n",
    "\n",
    "for r in cur.fetchall(): print(r)"
   ]
  },
  {
   "cell_type": "markdown",
   "metadata": {},
   "source": [
    "10 - Você é dono de uma loja de automóveis. Crie tabelas no banco \"alunos\" para representar os carros de seu pátio, os modelos de automóveis, os clientes e as compras realizadas. "
   ]
  },
  {
   "cell_type": "code",
   "execution_count": null,
   "metadata": {},
   "outputs": [],
   "source": [
    "#cur.execute('''CREATE TABLE loja_automoveis''') "
   ]
  },
  {
   "cell_type": "markdown",
   "metadata": {},
   "source": [
    "11 - Crie uma lista no Python com todos os nomes e sobrenomes em strings únicas, a partir da tabela \"individual\"  "
   ]
  },
  {
   "cell_type": "code",
   "execution_count": null,
   "metadata": {},
   "outputs": [],
   "source": [
    "names = []\n",
    "cur.execute('select * from individual')\n",
    "for r in cur.fetchall():\n",
    "    names.append('{} {}'.format(r[1],r[2]))\n",
    "names"
   ]
  },
  {
   "cell_type": "markdown",
   "metadata": {},
   "source": [
    "12 - A partir da tabela \"individual\", crie um dicionário no Python tendo os nomes e sobrenomes em strings únicas como chaves e os anos das datas como valores."
   ]
  },
  {
   "cell_type": "code",
   "execution_count": null,
   "metadata": {},
   "outputs": [],
   "source": [
    "names_dict = {}\n",
    "cur.execute('select fname,lname,year(birth_date) from individual')\n",
    "for r in cur.fetchall():\n",
    "    names_dict['{} {}'.format(r[0],r[1])] = r[2]\n",
    "names_dict"
   ]
  },
  {
   "cell_type": "markdown",
   "metadata": {},
   "source": [
    "13 - Utilizando Python, crie um banco de dados no sqlite que guarde a seguinte estrutura, demonstrada no dataframe do Pandas:  \n",
    "Use os tipos de dados mais adequados.  \n",
    "\n",
    "Veja:  \n",
    "https://sqlite.org/datatype3.html    \n",
    "https://sqlite.org/autoinc.html  \n",
    "https://www.tutorialspoint.com/sqlite/sqlite_update_query.htm  "
   ]
  },
  {
   "cell_type": "code",
   "execution_count": null,
   "metadata": {},
   "outputs": [],
   "source": [
    "df_tf = pd.read_excel('../Dados/votesurvey.xls')\n",
    "df_tf.index.name = 'id'\n",
    "df_tf.head(10)"
   ]
  },
  {
   "cell_type": "code",
   "execution_count": null,
   "metadata": {},
   "outputs": [],
   "source": []
  },
  {
   "cell_type": "markdown",
   "metadata": {},
   "source": [
    "14 - Conecte ao banco SQLite \"iris_database.sqlite\"e responda, demonstrando os comandos SQL apropriados:  \n",
    "\n",
    "a) Há quantas \"Species\" diferentes na tabela \"iris\"?  \n",
    "b) Quantos registros totais há na tabela \"iris\"?  \n",
    "\n",
    "Considerando a superfície das pétalas e sépalas como retangular, responda:  \n",
    "\n",
    "c) Qual espécie (\"Species\") contém, em média, a maior área de pétalas?  \n",
    "d) Qual espécie (\"Species\") contém, em média, a maior área total (pétalas e sépalas)?  \n",
    "\n",
    "(Por curiosidade, as espécies de Iris contém 3 pétalas e 3 sépalas)  "
   ]
  },
  {
   "cell_type": "code",
   "execution_count": 75,
   "metadata": {},
   "outputs": [],
   "source": [
    "conn = sqlite3.connect('../Dados/iris_database.sqlite')\n",
    "cur = conn.cursor()"
   ]
  },
  {
   "cell_type": "code",
   "execution_count": 87,
   "metadata": {},
   "outputs": [
    {
     "name": "stdout",
     "output_type": "stream",
     "text": [
      "(3,)\n"
     ]
    }
   ],
   "source": [
    "describe = 'select count(*) from (select * from iris group by Species)'\n",
    "print_all(describe)"
   ]
  },
  {
   "cell_type": "code",
   "execution_count": 91,
   "metadata": {},
   "outputs": [
    {
     "ename": "OperationalError",
     "evalue": "near \"describe\": syntax error",
     "output_type": "error",
     "traceback": [
      "\u001b[0;31m---------------------------------------------------------------------------\u001b[0m",
      "\u001b[0;31mOperationalError\u001b[0m                          Traceback (most recent call last)",
      "\u001b[0;32m<ipython-input-91-0c24f49525eb>\u001b[0m in \u001b[0;36m<module>\u001b[0;34m()\u001b[0m\n\u001b[1;32m      1\u001b[0m \u001b[0mregistros\u001b[0m \u001b[0;34m=\u001b[0m \u001b[0;34m'describe iris'\u001b[0m\u001b[0;34m\u001b[0m\u001b[0m\n\u001b[0;32m----> 2\u001b[0;31m \u001b[0mcur\u001b[0m\u001b[0;34m.\u001b[0m\u001b[0mexecute\u001b[0m\u001b[0;34m(\u001b[0m\u001b[0mregistros\u001b[0m\u001b[0;34m)\u001b[0m\u001b[0;34m\u001b[0m\u001b[0m\n\u001b[0m\u001b[1;32m      3\u001b[0m \u001b[0;31m#print_all(registros)\u001b[0m\u001b[0;34m\u001b[0m\u001b[0;34m\u001b[0m\u001b[0m\n",
      "\u001b[0;31mOperationalError\u001b[0m: near \"describe\": syntax error"
     ]
    }
   ],
   "source": [
    "registros = 'describe iris'\n",
    "cur.execute(registros)\n",
    "#print_all(registros)"
   ]
  },
  {
   "cell_type": "markdown",
   "metadata": {},
   "source": [
    "15 - Conecte ao banco Python/Dados/chinook.sqlite e responda:\n",
    "\n",
    "a) Utilizando um comando SQL e as tabelas \"invoices\", \"invoice_items\", \"customers\" e \"tracks\", mostre quais as faixas compradas por clientes que têm o primeiro nome começando com a letra \"M\".  \n",
    "b) Quais clientes contêm a letra \"o\" tanto no nome como no sobrenome?  \n",
    "c) Crie um histograma de faixas (\"tracks\") mais compradas, usando o matplotlib.  \n",
    "d) Qual o cliente (\"customers\") que teve gasto médio em compras (\"invoices\") o valor mais próximo do valor médio do total de compras de todos os clientes?  \n",
    "e) Escreva um script em Python + SQL para construir um dicionário tendo os nomes dos artistas (\"artists\") como chaves e uma lista dos álbuns (\"albuns\") respectivos como valores."
   ]
  },
  {
   "cell_type": "code",
   "execution_count": null,
   "metadata": {},
   "outputs": [],
   "source": [
    "conn = sqlite3.connect('../Dados/chinook.sqlite')\n",
    "cur = conn.cursor()"
   ]
  },
  {
   "cell_type": "code",
   "execution_count": null,
   "metadata": {},
   "outputs": [],
   "source": []
  }
 ],
 "metadata": {
  "kernelspec": {
   "display_name": "Python 3",
   "language": "python",
   "name": "python3"
  },
  "language_info": {
   "codemirror_mode": {
    "name": "ipython",
    "version": 3
   },
   "file_extension": ".py",
   "mimetype": "text/x-python",
   "name": "python",
   "nbconvert_exporter": "python",
   "pygments_lexer": "ipython3",
   "version": "3.5.2"
  }
 },
 "nbformat": 4,
 "nbformat_minor": 2
}
