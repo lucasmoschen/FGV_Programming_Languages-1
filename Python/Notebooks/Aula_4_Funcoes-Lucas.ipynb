{
 "cells": [
  {
   "cell_type": "markdown",
   "metadata": {},
   "source": [
    "FGV - Escola de Matemática Aplicada\n",
    "==\n",
    "Introdução à Programação com a Linguagem Python\n",
    "--"
   ]
  },
  {
   "cell_type": "markdown",
   "metadata": {},
   "source": [
    "### Funções:"
   ]
  },
  {
   "cell_type": "code",
   "execution_count": 2,
   "metadata": {},
   "outputs": [],
   "source": [
    "def faz_nada():\n",
    "    print('não fiz nada')"
   ]
  },
  {
   "cell_type": "code",
   "execution_count": 3,
   "metadata": {},
   "outputs": [
    {
     "name": "stdout",
     "output_type": "stream",
     "text": [
      "não fiz nada\n"
     ]
    }
   ],
   "source": [
    "faz_nada()"
   ]
  },
  {
   "cell_type": "code",
   "execution_count": 4,
   "metadata": {},
   "outputs": [
    {
     "name": "stdout",
     "output_type": "stream",
     "text": [
      "não fiz nada\n"
     ]
    }
   ],
   "source": [
    "x = faz_nada()"
   ]
  },
  {
   "cell_type": "code",
   "execution_count": 5,
   "metadata": {},
   "outputs": [
    {
     "name": "stdout",
     "output_type": "stream",
     "text": [
      "None\n"
     ]
    }
   ],
   "source": [
    "print(x)"
   ]
  },
  {
   "cell_type": "code",
   "execution_count": 6,
   "metadata": {},
   "outputs": [],
   "source": [
    "def soma(x,y):\n",
    "    return x+y"
   ]
  },
  {
   "cell_type": "code",
   "execution_count": 7,
   "metadata": {},
   "outputs": [
    {
     "data": {
      "text/plain": [
       "9"
      ]
     },
     "execution_count": 7,
     "metadata": {},
     "output_type": "execute_result"
    }
   ],
   "source": [
    "soma(3,6)"
   ]
  },
  {
   "cell_type": "code",
   "execution_count": 8,
   "metadata": {},
   "outputs": [
    {
     "name": "stdout",
     "output_type": "stream",
     "text": [
      "7\n"
     ]
    }
   ],
   "source": [
    "x = soma(2,5)\n",
    "print(x)"
   ]
  },
  {
   "cell_type": "code",
   "execution_count": 9,
   "metadata": {},
   "outputs": [],
   "source": [
    "def diz_se_e_par(numero):\n",
    "    if numero%2 == 0:\n",
    "        return 'Par'\n",
    "    else:\n",
    "        return 'Ímpar'"
   ]
  },
  {
   "cell_type": "code",
   "execution_count": 10,
   "metadata": {},
   "outputs": [
    {
     "name": "stdout",
     "output_type": "stream",
     "text": [
      "Ímpar\n"
     ]
    }
   ],
   "source": [
    "resposta = diz_se_e_par(235)\n",
    "print(resposta)"
   ]
  },
  {
   "cell_type": "code",
   "execution_count": 11,
   "metadata": {},
   "outputs": [],
   "source": [
    "def soma2(*args):\n",
    "    print(args)\n",
    "    print('a soma é {}'.format(sum(args)))\n",
    "    return sum(args)"
   ]
  },
  {
   "cell_type": "code",
   "execution_count": 12,
   "metadata": {},
   "outputs": [],
   "source": [
    "x,*y = 1,2,3,4 #não se pode usar mais de uma estrela"
   ]
  },
  {
   "cell_type": "code",
   "execution_count": 13,
   "metadata": {},
   "outputs": [
    {
     "name": "stdout",
     "output_type": "stream",
     "text": [
      "(23, 45, 18)\n",
      "a soma é 86\n"
     ]
    }
   ],
   "source": [
    "y = soma2(23, 45, 18)\n",
    "#print(y)"
   ]
  },
  {
   "cell_type": "code",
   "execution_count": 14,
   "metadata": {},
   "outputs": [],
   "source": [
    "def ordem(x,y,z):\n",
    "    if x >= y and x >= z:\n",
    "        print('o maior é {}'.format(x))\n",
    "        if y >= z:\n",
    "            print('o do meio é {}'.format(y))\n",
    "            print('o menor é {}'.format(z))\n",
    "        else:\n",
    "            print('o do meio é {}'.format(z))\n",
    "            print('o menor é {}'.format(y))\n",
    "    elif y >= x and y >= z:\n",
    "        print('o maior é {}'.format(y))\n",
    "        if x >= z:\n",
    "            print('o do meio é {}'.format(x))\n",
    "            print('o menor é {}'.format(z))\n",
    "        else:\n",
    "            print('o do meio é {}'.format(z))\n",
    "            print('o menor é {}'.format(x))\n",
    "    else:\n",
    "        print('o maior é {}'.format(z))\n",
    "        if x >= y:\n",
    "            print('o do meio é {}'.format(x))\n",
    "            print('o menor é {}'.format(y))\n",
    "        else:\n",
    "            print('o do meio é {}'.format(y))\n",
    "            print('o menor é {}'.format(x))"
   ]
  },
  {
   "cell_type": "code",
   "execution_count": 15,
   "metadata": {},
   "outputs": [
    {
     "name": "stdout",
     "output_type": "stream",
     "text": [
      "o maior é 98\n",
      "o do meio é 56\n",
      "o menor é 21\n"
     ]
    }
   ],
   "source": [
    "ordem(56,21,98)"
   ]
  },
  {
   "cell_type": "code",
   "execution_count": 16,
   "metadata": {},
   "outputs": [],
   "source": [
    "def compara(x,y):\n",
    "    if x >= y:\n",
    "        print('o do meio é {}'.format(x))\n",
    "        print('o menor é {}'.format(y))\n",
    "    else:\n",
    "        print('o do meio é {}'.format(y))\n",
    "        print('o menor é {}'.format(x))\n",
    "\n",
    "def ordem2(x,y,z):\n",
    "    if x >= y and x >= z:\n",
    "        print('o maior é {}'.format(x))\n",
    "        compara(y,z)\n",
    "    elif y >= x and y >= z:\n",
    "        print('o maior é {}'.format(y))\n",
    "        compara(x,z)\n",
    "    else:\n",
    "        print('o maior é {}'.format(z))\n",
    "        compara(x,y)"
   ]
  },
  {
   "cell_type": "code",
   "execution_count": 17,
   "metadata": {},
   "outputs": [],
   "source": [
    "def anuncia(x,y):\n",
    "    print('o do meio é {}'.format(x))\n",
    "    print('o menor é {}'.format(y))\n",
    "    \n",
    "#def anuncia(status,numero):\n",
    "#    print('O {} é {}'.format(status, numero))\n",
    "        \n",
    "def compara2(x,y):\n",
    "    if x >= y:\n",
    "        anuncia(x,y)\n",
    "    else:\n",
    "        anuncia(y,x)\n",
    "\n",
    "def ordem2(x,y,z):\n",
    "    if x >= y and x >= z:\n",
    "        print('o maior é {}'.format(x))\n",
    "        compara2(y,z)\n",
    "    elif y >= x and y >= z:\n",
    "        print('o maior é {}'.format(y))\n",
    "        compara2(x,z)\n",
    "    else:\n",
    "        print('o maior é {}'.format(z))\n",
    "        compara2(x,y)"
   ]
  },
  {
   "cell_type": "code",
   "execution_count": 18,
   "metadata": {},
   "outputs": [
    {
     "name": "stdout",
     "output_type": "stream",
     "text": [
      "o maior é 98\n",
      "o do meio é 56\n",
      "o menor é 21\n"
     ]
    }
   ],
   "source": [
    "ordem2(56,21,98)"
   ]
  },
  {
   "cell_type": "code",
   "execution_count": 19,
   "metadata": {},
   "outputs": [],
   "source": [
    "def ordem3(x,y,z):\n",
    "    l = [x,y,z]\n",
    "    l.sort()\n",
    "    anuncia('maior',l[2])\n",
    "    anuncia('do meio',l[1])\n",
    "    anuncia('menor',l[0])"
   ]
  },
  {
   "cell_type": "code",
   "execution_count": 20,
   "metadata": {},
   "outputs": [
    {
     "name": "stdout",
     "output_type": "stream",
     "text": [
      "o maior é 98\n",
      "o do meio é 56\n",
      "o menor é 56\n"
     ]
    }
   ],
   "source": [
    "ordem2(56,56,98)"
   ]
  },
  {
   "cell_type": "code",
   "execution_count": 21,
   "metadata": {},
   "outputs": [],
   "source": [
    "#Cuidado com valores altos na função abaixo\n",
    "import time\n",
    "def fibo_recursivo(n):\n",
    "    if n <= 0:\n",
    "        print('número inválido')\n",
    "        return\n",
    "    if n == 1:\n",
    "        return 0\n",
    "    elif n == 2:\n",
    "        return 1\n",
    "    else:\n",
    "        #print(fibo_recursivo(n-1) + fibo_recursivo(n-2))\n",
    "        return fibo_recursivo(n-1) + fibo_recursivo(n-2)"
   ]
  },
  {
   "cell_type": "code",
   "execution_count": 22,
   "metadata": {},
   "outputs": [
    {
     "name": "stdout",
     "output_type": "stream",
     "text": [
      "63245986\n",
      "30.465074062347412\n"
     ]
    }
   ],
   "source": [
    "t0 = time.time()\n",
    "print(fibo_recursivo(40))\n",
    "print(time.time() - t0)"
   ]
  },
  {
   "cell_type": "code",
   "execution_count": 24,
   "metadata": {},
   "outputs": [
    {
     "name": "stdout",
     "output_type": "stream",
     "text": [
      "1\n",
      "2\n",
      "3\n",
      "5\n",
      "8\n",
      "13\n",
      "21\n",
      "34\n",
      "55\n",
      "89\n",
      "144\n",
      "233\n",
      "377\n",
      "610\n",
      "987\n"
     ]
    }
   ],
   "source": [
    "x,y = 1,1\n",
    "while y < 1000:\n",
    "    x,y = y,x+y\n",
    "    print(x)"
   ]
  },
  {
   "cell_type": "code",
   "execution_count": 25,
   "metadata": {},
   "outputs": [],
   "source": [
    "def fibo_nao_recursivo(n):\n",
    "    fibo1 = 0\n",
    "    fibo2 = 1\n",
    "    for numero in range(1,n):\n",
    "        fibo2, fibo1 = fibo2+fibo1, fibo2\n",
    "        #print(fibo2)\n",
    "    return fibo1"
   ]
  },
  {
   "cell_type": "code",
   "execution_count": 28,
   "metadata": {},
   "outputs": [
    {
     "name": "stdout",
     "output_type": "stream",
     "text": [
      "108788617463475645289761992289049744844995705477812699099751202749393926359816304226\n",
      "0.0\n"
     ]
    }
   ],
   "source": [
    "t0 = time.time()\n",
    "print(fibo_nao_recursivo(400))\n",
    "print(time.time() - t0)"
   ]
  },
  {
   "cell_type": "code",
   "execution_count": 35,
   "metadata": {},
   "outputs": [],
   "source": [
    "def raiz(n,raiz=2):\n",
    "    return n ** (1/raiz)"
   ]
  },
  {
   "cell_type": "code",
   "execution_count": 36,
   "metadata": {},
   "outputs": [
    {
     "data": {
      "text/plain": [
       "3.0"
      ]
     },
     "execution_count": 36,
     "metadata": {},
     "output_type": "execute_result"
    }
   ],
   "source": [
    "raiz(27,3)"
   ]
  },
  {
   "cell_type": "code",
   "execution_count": 38,
   "metadata": {},
   "outputs": [
    {
     "data": {
      "text/plain": [
       "3.9999999999999996"
      ]
     },
     "execution_count": 38,
     "metadata": {},
     "output_type": "execute_result"
    }
   ],
   "source": [
    "raiz(64,3)"
   ]
  },
  {
   "cell_type": "code",
   "execution_count": 39,
   "metadata": {},
   "outputs": [],
   "source": [
    "import math"
   ]
  },
  {
   "cell_type": "code",
   "execution_count": 40,
   "metadata": {},
   "outputs": [],
   "source": [
    "def raiz2(n,raiz=2):\n",
    "    return math.pow(n,(1./raiz))"
   ]
  },
  {
   "cell_type": "code",
   "execution_count": 41,
   "metadata": {},
   "outputs": [
    {
     "data": {
      "text/plain": [
       "3.9999999999999996"
      ]
     },
     "execution_count": 41,
     "metadata": {},
     "output_type": "execute_result"
    }
   ],
   "source": [
    "raiz2(64,3)"
   ]
  },
  {
   "cell_type": "code",
   "execution_count": 42,
   "metadata": {},
   "outputs": [],
   "source": [
    "def qualquer(primeiro=10,segundo=11):\n",
    "    return segundo + primeiro"
   ]
  },
  {
   "cell_type": "code",
   "execution_count": 43,
   "metadata": {},
   "outputs": [
    {
     "name": "stdout",
     "output_type": "stream",
     "text": [
      "21\n"
     ]
    }
   ],
   "source": [
    "x = qualquer()\n",
    "print(x)"
   ]
  },
  {
   "cell_type": "code",
   "execution_count": 44,
   "metadata": {},
   "outputs": [
    {
     "name": "stdout",
     "output_type": "stream",
     "text": [
      "22\n"
     ]
    }
   ],
   "source": [
    "x = qualquer(11)\n",
    "print(x)"
   ]
  },
  {
   "cell_type": "code",
   "execution_count": 45,
   "metadata": {},
   "outputs": [
    {
     "data": {
      "text/plain": [
       "13"
      ]
     },
     "execution_count": 45,
     "metadata": {},
     "output_type": "execute_result"
    }
   ],
   "source": [
    "qualquer(2) # primeiro = 2 e segundo = 11"
   ]
  },
  {
   "cell_type": "code",
   "execution_count": 46,
   "metadata": {},
   "outputs": [
    {
     "data": {
      "text/plain": [
       "12"
      ]
     },
     "execution_count": 46,
     "metadata": {},
     "output_type": "execute_result"
    }
   ],
   "source": [
    "qualquer(segundo=2) #primeiro = 10 e segundo = 2"
   ]
  },
  {
   "cell_type": "code",
   "execution_count": 47,
   "metadata": {},
   "outputs": [],
   "source": [
    "a, *b, c, d = (1,2,3,4,5,6,7,8,9)"
   ]
  },
  {
   "cell_type": "code",
   "execution_count": 48,
   "metadata": {},
   "outputs": [
    {
     "name": "stdout",
     "output_type": "stream",
     "text": [
      "1\n",
      "[2, 3, 4, 5, 6, 7]\n",
      "8\n",
      "9\n"
     ]
    }
   ],
   "source": [
    "print(a)\n",
    "print(b)\n",
    "print(c)\n",
    "print(d)"
   ]
  },
  {
   "cell_type": "code",
   "execution_count": 49,
   "metadata": {},
   "outputs": [],
   "source": [
    "a, *b, c, d = (1,2,3,4,5,6,7,8,9)"
   ]
  },
  {
   "cell_type": "code",
   "execution_count": 50,
   "metadata": {},
   "outputs": [],
   "source": [
    "def indefinido(*args):\n",
    "    for arg in args:\n",
    "        print(arg)"
   ]
  },
  {
   "cell_type": "code",
   "execution_count": 51,
   "metadata": {},
   "outputs": [
    {
     "name": "stdout",
     "output_type": "stream",
     "text": [
      "5\n",
      "1\n",
      "2\n",
      "string\n"
     ]
    }
   ],
   "source": [
    "indefinido(5,1,2,'string')"
   ]
  },
  {
   "cell_type": "code",
   "execution_count": 52,
   "metadata": {},
   "outputs": [],
   "source": [
    "def soma_muitos(*args):\n",
    "    print(args)\n",
    "    return sum(args)"
   ]
  },
  {
   "cell_type": "code",
   "execution_count": 53,
   "metadata": {},
   "outputs": [
    {
     "name": "stdout",
     "output_type": "stream",
     "text": [
      "(1, 2, 3, 4, 5, 6, 7, 8, 9, 10)\n"
     ]
    },
    {
     "data": {
      "text/plain": [
       "55"
      ]
     },
     "execution_count": 53,
     "metadata": {},
     "output_type": "execute_result"
    }
   ],
   "source": [
    "soma_muitos(1,2,3,4,5,6,7,8,9,10)"
   ]
  },
  {
   "cell_type": "code",
   "execution_count": 54,
   "metadata": {},
   "outputs": [],
   "source": [
    "def muitos_args(a,*args):\n",
    "    print(a)\n",
    "    print(args)"
   ]
  },
  {
   "cell_type": "code",
   "execution_count": 55,
   "metadata": {},
   "outputs": [
    {
     "name": "stdout",
     "output_type": "stream",
     "text": [
      "1\n",
      "(2, 3, 4, 5)\n"
     ]
    }
   ],
   "source": [
    "muitos_args(1,2,3,4,5)"
   ]
  },
  {
   "cell_type": "code",
   "execution_count": 56,
   "metadata": {},
   "outputs": [],
   "source": [
    "def indefinido2(*args, **kwargs):\n",
    "    print(args)\n",
    "    print()\n",
    "    print(kwargs)"
   ]
  },
  {
   "cell_type": "code",
   "execution_count": 57,
   "metadata": {},
   "outputs": [
    {
     "name": "stdout",
     "output_type": "stream",
     "text": [
      "(2, 3, 4)\n",
      "\n",
      "{'nome': 'Renato', 'inst': 'FGV', 'bairro': 'Botafogo'}\n"
     ]
    }
   ],
   "source": [
    "indefinido2(2,3,4,nome='Renato',inst='FGV', bairro='Botafogo')"
   ]
  },
  {
   "cell_type": "code",
   "execution_count": 58,
   "metadata": {},
   "outputs": [
    {
     "name": "stdout",
     "output_type": "stream",
     "text": [
      "()\n",
      "\n",
      "{'mensagem': 'Hello World'}\n"
     ]
    }
   ],
   "source": [
    "indefinido2(mensagem='Hello World')"
   ]
  },
  {
   "cell_type": "code",
   "execution_count": 59,
   "metadata": {},
   "outputs": [],
   "source": [
    "def recebe_notas(**kwargs):\n",
    "    for chave, valor in kwargs.items():\n",
    "        print('A chave é {} e o valor é {}'.format(chave,valor))\n",
    "    if 'Matematica' in kwargs:\n",
    "        print('A nota de Matemática é {}'.format(kwargs['Matematica']))\n",
    "    else:\n",
    "        print('Não foi passada a nota de Matemática')"
   ]
  },
  {
   "cell_type": "code",
   "execution_count": 60,
   "metadata": {},
   "outputs": [
    {
     "name": "stdout",
     "output_type": "stream",
     "text": [
      "A chave é Física e o valor é 9\n",
      "A chave é Portugues e o valor é 8\n",
      "A chave é História e o valor é 6\n",
      "Não foi passada a nota de Matemática\n"
     ]
    }
   ],
   "source": [
    "recebe_notas(Física=9,Portugues=8, História=6)"
   ]
  },
  {
   "cell_type": "code",
   "execution_count": 49,
   "metadata": {},
   "outputs": [
    {
     "name": "stdout",
     "output_type": "stream",
     "text": [
      "A chave é Historia e o valor é 8\n",
      "Não foi passada a nota de Matemática\n"
     ]
    }
   ],
   "source": [
    "recebe_notas(Historia=8)"
   ]
  },
  {
   "cell_type": "code",
   "execution_count": 77,
   "metadata": {},
   "outputs": [],
   "source": [
    "def mostra_e_soma(*args):\n",
    "    for valor in args:\n",
    "        print('Valor:{0:9.2f}'.format(valor))\n",
    "    print('_______________')\n",
    "    print('Soma:{0:10.2f}'.format(sum(args)))"
   ]
  },
  {
   "cell_type": "code",
   "execution_count": 78,
   "metadata": {},
   "outputs": [
    {
     "name": "stdout",
     "output_type": "stream",
     "text": [
      "Valor:    23.00\n",
      "Valor:    45.00\n",
      "Valor:   124.00\n",
      "Valor:    34.60\n",
      "Valor:    98.24\n",
      "_______________\n",
      "Soma:    324.84\n"
     ]
    }
   ],
   "source": [
    "mostra_e_soma(23,45,124,34.6,98.236)"
   ]
  },
  {
   "cell_type": "code",
   "execution_count": 79,
   "metadata": {},
   "outputs": [
    {
     "name": "stdout",
     "output_type": "stream",
     "text": [
      "Entre com seu nome: Lucas\n"
     ]
    }
   ],
   "source": [
    "nome = input('Entre com seu nome: ')"
   ]
  },
  {
   "cell_type": "code",
   "execution_count": 80,
   "metadata": {},
   "outputs": [
    {
     "data": {
      "text/plain": [
       "'Lucas'"
      ]
     },
     "execution_count": 80,
     "metadata": {},
     "output_type": "execute_result"
    }
   ],
   "source": [
    "nome"
   ]
  },
  {
   "cell_type": "code",
   "execution_count": 81,
   "metadata": {},
   "outputs": [
    {
     "name": "stdout",
     "output_type": "stream",
     "text": [
      "Entre com a idade de seus pais 85 98\n"
     ]
    }
   ],
   "source": [
    "valores = input('Entre com a idade de seus pais ')"
   ]
  },
  {
   "cell_type": "code",
   "execution_count": 82,
   "metadata": {},
   "outputs": [
    {
     "name": "stdout",
     "output_type": "stream",
     "text": [
      "85 98\n"
     ]
    }
   ],
   "source": [
    "print(valores)"
   ]
  },
  {
   "cell_type": "code",
   "execution_count": 83,
   "metadata": {},
   "outputs": [],
   "source": [
    "import re"
   ]
  },
  {
   "cell_type": "code",
   "execution_count": 85,
   "metadata": {},
   "outputs": [],
   "source": [
    "saida = re.findall(r'[0-9]{2}',valores)"
   ]
  },
  {
   "cell_type": "code",
   "execution_count": 86,
   "metadata": {},
   "outputs": [
    {
     "name": "stdout",
     "output_type": "stream",
     "text": [
      "['85', '98']\n"
     ]
    }
   ],
   "source": [
    "print(saida)"
   ]
  },
  {
   "cell_type": "code",
   "execution_count": 89,
   "metadata": {},
   "outputs": [],
   "source": [
    "def cordial():\n",
    "    nome = input('Qual o seu nome? ')\n",
    "    print('Como você vai hoje, {}?'.format(nome))"
   ]
  },
  {
   "cell_type": "code",
   "execution_count": 90,
   "metadata": {},
   "outputs": [
    {
     "name": "stdout",
     "output_type": "stream",
     "text": [
      "Qual o seu nome? Lucas\n",
      "Como você vai hoje, Lucas?\n"
     ]
    }
   ],
   "source": [
    "cordial()"
   ]
  },
  {
   "cell_type": "code",
   "execution_count": 92,
   "metadata": {},
   "outputs": [],
   "source": [
    "def anuncia_tempo(tempo = 'chuvoso', umidade = 'alta'):\n",
    "    print('A umidade hoje está {}'.format(umidade))\n",
    "    print('O tempo hoje está {}'.format(tempo))"
   ]
  },
  {
   "cell_type": "code",
   "execution_count": 93,
   "metadata": {},
   "outputs": [
    {
     "name": "stdout",
     "output_type": "stream",
     "text": [
      "A umidade hoje está baixa\n",
      "O tempo hoje está chuvoso\n"
     ]
    }
   ],
   "source": [
    "anuncia_tempo(umidade = 'baixa')"
   ]
  },
  {
   "cell_type": "code",
   "execution_count": 94,
   "metadata": {},
   "outputs": [
    {
     "name": "stdout",
     "output_type": "stream",
     "text": [
      "A umidade hoje está alta\n",
      "O tempo hoje está chuvoso\n"
     ]
    }
   ],
   "source": [
    "anuncia_tempo()"
   ]
  },
  {
   "cell_type": "code",
   "execution_count": 95,
   "metadata": {},
   "outputs": [],
   "source": [
    "def imc(massa=0, altura=0):\n",
    "    if massa == 0:\n",
    "        massa = input('Qual o seu peso em kg? ')               \n",
    "    if not str(massa).isdigit():\n",
    "        print('Valor Invalido')\n",
    "        imc()\n",
    "        return\n",
    "    if float(massa) < 0 or float(massa) > 500:\n",
    "        Resposta = input('Você gostaria de digitar a sua massa em kg novamente? Sim ou Não.')\n",
    "        if Resposta == 'Sim':\n",
    "            massa = input('Qual o seu peso em kg? ') \n",
    "    if altura == 0:\n",
    "        altura = input('Qual a sua altura em cm? ') \n",
    "    if not str(altura).isdigit():\n",
    "        print('Valor Invalido')\n",
    "        imc(massa=massa)\n",
    "        return\n",
    "    if float(altura) < 0 or float(altura) > 300:\n",
    "        Resposta = input('Você gostaria de digitar a sua altura em cm novamente? Sim ou Não.')\n",
    "        if Resposta == 'Sim':\n",
    "            altura = input('Qual a sua altura em cm? ') \n",
    "    print('Seu IMC é {}'.format((float(massa)/(float(altura)/100)**2)))"
   ]
  },
  {
   "cell_type": "code",
   "execution_count": 96,
   "metadata": {},
   "outputs": [
    {
     "name": "stdout",
     "output_type": "stream",
     "text": [
      "Qual o seu peso em kg? \n",
      "Valor Invalido\n",
      "Qual o seu peso em kg? \n",
      "Valor Invalido\n",
      "Qual o seu peso em kg? \n",
      "Valor Invalido\n",
      "Qual o seu peso em kg? \n",
      "Valor Invalido\n",
      "Qual o seu peso em kg? \n",
      "Valor Invalido\n",
      "Qual o seu peso em kg? 60\n",
      "Qual a sua altura em cm? 250\n",
      "Seu IMC é 9.6\n"
     ]
    }
   ],
   "source": [
    "imc()"
   ]
  },
  {
   "cell_type": "code",
   "execution_count": 97,
   "metadata": {},
   "outputs": [],
   "source": [
    "def recebe_altura(x):\n",
    "    x = str(x)\n",
    "    print(x)\n",
    "    x = x.replace('.',',')\n",
    "    print(x)"
   ]
  },
  {
   "cell_type": "code",
   "execution_count": 98,
   "metadata": {},
   "outputs": [
    {
     "name": "stdout",
     "output_type": "stream",
     "text": [
      "1.87\n",
      "1,87\n"
     ]
    }
   ],
   "source": [
    "recebe_altura(1.87)"
   ]
  },
  {
   "cell_type": "code",
   "execution_count": 99,
   "metadata": {},
   "outputs": [],
   "source": [
    "def acha_posicoes(texto,letra):\n",
    "    posicoes=[]\n",
    "    atual = 0\n",
    "    while not texto.find(letra) == -1:\n",
    "        posicao = atual + texto.find(letra)\n",
    "        #print(posicao)\n",
    "        acrescimo_posicao = texto.find(letra)\n",
    "        #print(acrescimo_posicao)\n",
    "        posicoes.append(posicao)\n",
    "        atual += acrescimo_posicao + 1\n",
    "        #print(atual)\n",
    "        texto = texto[acrescimo_posicao+1:]\n",
    "        #print(texto)\n",
    "    print(posicoes)"
   ]
  },
  {
   "cell_type": "code",
   "execution_count": 100,
   "metadata": {},
   "outputs": [],
   "source": [
    "texto = '''\n",
    "Uma vez Flamengo, sempre Flamengo. Flamengo sempre eu hei de ser.\n",
    "É meu maior prazer, vê-lo brilhar, seja na terra, seja no mar.\n",
    "Vencer vencer vencer. Uma vez Flamengo, Flamengo até morrer\n",
    "'''"
   ]
  },
  {
   "cell_type": "code",
   "execution_count": 101,
   "metadata": {},
   "outputs": [
    {
     "name": "stdout",
     "output_type": "stream",
     "text": [
      "[9, 26, 36, 160, 170]\n"
     ]
    }
   ],
   "source": [
    "acha_posicoes(texto,'Flamengo')"
   ]
  },
  {
   "cell_type": "code",
   "execution_count": null,
   "metadata": {},
   "outputs": [],
   "source": []
  }
 ],
 "metadata": {
  "kernelspec": {
   "display_name": "Python 3",
   "language": "python",
   "name": "python3"
  },
  "language_info": {
   "codemirror_mode": {
    "name": "ipython",
    "version": 3
   },
   "file_extension": ".py",
   "mimetype": "text/x-python",
   "name": "python",
   "nbconvert_exporter": "python",
   "pygments_lexer": "ipython3",
   "version": "3.6.5"
  }
 },
 "nbformat": 4,
 "nbformat_minor": 2
}
