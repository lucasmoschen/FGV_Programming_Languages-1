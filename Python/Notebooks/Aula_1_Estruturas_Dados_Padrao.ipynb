{
 "cells": [
  {
   "cell_type": "markdown",
   "metadata": {},
   "source": [
    "FGV - EMAp - Escola de Matemática Aplicada\n",
    "==\n",
    "Introdução à Programação com a Linguagem Python\n",
    "--"
   ]
  },
  {
   "cell_type": "markdown",
   "metadata": {},
   "source": [
<<<<<<< HEAD:PythonL/Notebooks/Aula_1_Estruturas_Dados_Padrao.ipynb
    "Usando Python como uma calculadora"
   ]
  },
  {
   "cell_type": "code",
   "execution_count": 4,
   "metadata": {},
   "outputs": [
    {
     "data": {
      "text/plain": [
       "35"
      ]
     },
     "execution_count": 4,
     "metadata": {},
     "output_type": "execute_result"
    }
   ],
   "source": [
    "23 + 12"
   ]
  },
  {
   "cell_type": "code",
   "execution_count": 1,
   "metadata": {},
   "outputs": [
    {
     "data": {
      "text/plain": [
       "True"
      ]
     },
     "execution_count": 1,
     "metadata": {},
     "output_type": "execute_result"
    }
   ],
   "source": [
    "1 + 1 == 2"
   ]
  },
  {
   "cell_type": "code",
   "execution_count": 5,
   "metadata": {},
   "outputs": [
    {
     "data": {
      "text/plain": [
       "29"
      ]
     },
     "execution_count": 5,
     "metadata": {},
     "output_type": "execute_result"
    }
   ],
   "source": [
    "34 - 5"
   ]
  },
  {
   "cell_type": "code",
   "execution_count": 6,
   "metadata": {},
   "outputs": [
    {
     "data": {
      "text/plain": [
       "2001"
      ]
     },
     "execution_count": 6,
     "metadata": {},
     "output_type": "execute_result"
    }
   ],
   "source": [
    "87 * 23"
   ]
  },
  {
   "cell_type": "code",
   "execution_count": 7,
   "metadata": {},
   "outputs": [
    {
     "data": {
      "text/plain": [
       "11.333333333333334"
      ]
     },
     "execution_count": 7,
     "metadata": {},
     "output_type": "execute_result"
    }
   ],
   "source": [
    "34 / 3"
   ]
  },
  {
   "cell_type": "code",
   "execution_count": 8,
   "metadata": {},
   "outputs": [
    {
     "data": {
      "text/plain": [
       "1"
      ]
     },
     "execution_count": 8,
     "metadata": {},
     "output_type": "execute_result"
    }
   ],
   "source": [
    "23 % 2"
   ]
  },
  {
   "cell_type": "code",
   "execution_count": 9,
   "metadata": {},
   "outputs": [
    {
     "data": {
      "text/plain": [
       "64"
      ]
     },
     "execution_count": 9,
     "metadata": {},
     "output_type": "execute_result"
    }
   ],
   "source": [
    "4 ** 3"
   ]
  },
  {
   "cell_type": "code",
   "execution_count": 1,
   "metadata": {},
   "outputs": [
    {
     "data": {
      "text/plain": [
       "1.4142135623730951"
      ]
     },
     "execution_count": 1,
     "metadata": {},
     "output_type": "execute_result"
    }
   ],
   "source": [
    "2**(1/2)\n"
   ]
  },
  {
   "cell_type": "code",
   "execution_count": 8,
   "metadata": {},
   "outputs": [],
   "source": [
    "import math"
   ]
  },
  {
   "cell_type": "code",
   "execution_count": 9,
   "metadata": {},
   "outputs": [
    {
     "data": {
      "text/plain": [
       "3.141592653589793"
      ]
     },
     "execution_count": 9,
     "metadata": {},
     "output_type": "execute_result"
    }
   ],
   "source": [
    "math.pi"
   ]
  },
  {
   "cell_type": "markdown",
   "metadata": {},
   "source": [
    "pi"
   ]
  },
  {
   "cell_type": "markdown",
   "metadata": {},
   "source": [
    "## Tipos padrão do Python"
=======
    "## Tipos padrão do Python:"
>>>>>>> reporenato/master:Python/Notebooks/Aula_1_Estruturas_Dados_Padrao.ipynb
   ]
  },
  {
   "cell_type": "markdown",
   "metadata": {},
   "source": [
    "### O que são tipos?"
   ]
  },
  {
   "cell_type": "markdown",
   "metadata": {},
   "source": [
<<<<<<< HEAD:PythonL/Notebooks/Aula_1_Estruturas_Dados_Padrao.ipynb
    "Tipos são classificações de dados que em Python são objetos. Dessa forma um objeto de determinado tipo possui as propriedades (métodos/funções e atributos) específicos do tipo. Podemos descobrir o tipo de cada objeto usando o comando:  \n",
    "  \n",
    "_type(objeto)_\n",
    "\n",
    "# Lembrar que tipos são classificações de dados. "
=======
    "Tipos são classificações de dados que em Python são objetos. Dessa forma um objeto de determinado tipo possui as propriedades (métodos/funções e atributos) específicos do tipo.  \n",
    "Podemos descobrir o tipo de cada objeto usando o comando:  \n",
    "      _type(objeto)_"
>>>>>>> reporenato/master:Python/Notebooks/Aula_1_Estruturas_Dados_Padrao.ipynb
   ]
  },
  {
   "cell_type": "markdown",
   "metadata": {},
   "source": [
    "### Tipos Numéricos:\n",
    "Em Python (3.x) os tipos numéricos são divididos em três classes: os inteiros (int), os pontos flutuantes (float) e os complexos (complex).  \n",
    "# Inteiros, pontos fluantes e os complexos."
   ]
  },
  {
   "cell_type": "code",
<<<<<<< HEAD:PythonL/Notebooks/Aula_1_Estruturas_Dados_Padrao.ipynb
   "execution_count": null,
   "metadata": {},
=======
   "execution_count": 3,
   "metadata": {
    "collapsed": true
   },
>>>>>>> reporenato/master:Python/Notebooks/Aula_1_Estruturas_Dados_Padrao.ipynb
   "outputs": [],
   "source": [
    "a = 12"
   ]
  },
  {
   "cell_type": "markdown",
   "metadata": {},
   "source": [
    "Usando uma função [_bultin_](https://docs.python.org/3/library/functions.html) para descobrir o tipo de uma variável:"
   ]
  },
  {
   "cell_type": "code",
<<<<<<< HEAD:PythonL/Notebooks/Aula_1_Estruturas_Dados_Padrao.ipynb
   "execution_count": 29,
   "metadata": {},
   "outputs": [
    {
     "name": "stdout",
     "output_type": "stream",
     "text": [
      "12\n"
     ]
    }
   ],
   "source": [
    "print(a)"
   ]
  },
  {
   "cell_type": "code",
   "execution_count": 39,
   "metadata": {},
   "outputs": [
    {
     "data": {
      "text/plain": [
       "12"
      ]
     },
     "execution_count": 39,
     "metadata": {},
     "output_type": "execute_result"
    }
   ],
   "source": [
    "a"
   ]
  },
  {
   "cell_type": "markdown",
   "metadata": {},
   "source": [
    "$1+1 = 2$, mas $s(0) = 1$"
   ]
  },
  {
   "cell_type": "code",
   "execution_count": 30,
=======
   "execution_count": 4,
>>>>>>> reporenato/master:Python/Notebooks/Aula_1_Estruturas_Dados_Padrao.ipynb
   "metadata": {},
   "outputs": [
    {
     "data": {
      "text/plain": [
       "int"
      ]
     },
<<<<<<< HEAD:PythonL/Notebooks/Aula_1_Estruturas_Dados_Padrao.ipynb
     "execution_count": 30,
=======
     "execution_count": 4,
>>>>>>> reporenato/master:Python/Notebooks/Aula_1_Estruturas_Dados_Padrao.ipynb
     "metadata": {},
     "output_type": "execute_result"
    }
   ],
   "source": [
    "type(a)"
   ]
  },
  {
   "cell_type": "code",
<<<<<<< HEAD:PythonL/Notebooks/Aula_1_Estruturas_Dados_Padrao.ipynb
   "execution_count": 43,
   "metadata": {},
=======
   "execution_count": 5,
   "metadata": {
    "collapsed": true
   },
>>>>>>> reporenato/master:Python/Notebooks/Aula_1_Estruturas_Dados_Padrao.ipynb
   "outputs": [],
   "source": [
    "b = 2.0"
   ]
  },
  {
   "cell_type": "code",
<<<<<<< HEAD:PythonL/Notebooks/Aula_1_Estruturas_Dados_Padrao.ipynb
   "execution_count": 44,
=======
   "execution_count": 6,
>>>>>>> reporenato/master:Python/Notebooks/Aula_1_Estruturas_Dados_Padrao.ipynb
   "metadata": {},
   "outputs": [
    {
     "data": {
      "text/plain": [
       "float"
      ]
     },
<<<<<<< HEAD:PythonL/Notebooks/Aula_1_Estruturas_Dados_Padrao.ipynb
     "execution_count": 44,
=======
     "execution_count": 6,
>>>>>>> reporenato/master:Python/Notebooks/Aula_1_Estruturas_Dados_Padrao.ipynb
     "metadata": {},
     "output_type": "execute_result"
    }
   ],
   "source": [
    "type(b)"
   ]
  },
  {
   "cell_type": "markdown",
   "metadata": {},
   "source": [
    "Métodos de tipos de dados:"
   ]
  },
  {
   "cell_type": "code",
<<<<<<< HEAD:PythonL/Notebooks/Aula_1_Estruturas_Dados_Padrao.ipynb
   "execution_count": 45,
=======
   "execution_count": 7,
>>>>>>> reporenato/master:Python/Notebooks/Aula_1_Estruturas_Dados_Padrao.ipynb
   "metadata": {},
   "outputs": [
    {
     "data": {
      "text/plain": [
       "True"
      ]
     },
<<<<<<< HEAD:PythonL/Notebooks/Aula_1_Estruturas_Dados_Padrao.ipynb
     "execution_count": 45,
=======
     "execution_count": 7,
>>>>>>> reporenato/master:Python/Notebooks/Aula_1_Estruturas_Dados_Padrao.ipynb
     "metadata": {},
     "output_type": "execute_result"
    }
   ],
   "source": [
    "b.is_integer()"
   ]
  },
  {
   "cell_type": "code",
   "execution_count": 46,
   "metadata": {},
   "outputs": [],
   "source": [
    "c = 3 + 1j"
   ]
  },
  {
   "cell_type": "code",
   "execution_count": 47,
   "metadata": {},
   "outputs": [
    {
     "data": {
      "text/plain": [
       "complex"
      ]
     },
     "execution_count": 47,
     "metadata": {},
     "output_type": "execute_result"
    }
   ],
   "source": [
    "type(c)"
   ]
  },
  {
   "cell_type": "code",
   "execution_count": 49,
   "metadata": {},
   "outputs": [
    {
     "data": {
      "text/plain": [
       "3.0"
      ]
     },
     "execution_count": 49,
     "metadata": {},
     "output_type": "execute_result"
    }
   ],
   "source": [
    "c.real"
   ]
  },
  {
   "cell_type": "code",
   "execution_count": 50,
   "metadata": {},
   "outputs": [
    {
     "data": {
      "text/plain": [
       "(3-1j)"
      ]
     },
     "execution_count": 50,
     "metadata": {},
     "output_type": "execute_result"
    }
   ],
   "source": [
    "c.conjugate()"
   ]
  },
  {
   "cell_type": "code",
   "execution_count": 12,
   "metadata": {},
   "outputs": [
    {
     "data": {
      "text/plain": [
       "<function float.conjugate>"
      ]
     },
     "execution_count": 12,
     "metadata": {},
     "output_type": "execute_result"
    }
   ],
   "source": [
    "numero = 6.0\n",
    "numero.conjugate"
   ]
  },
  {
   "cell_type": "code",
   "execution_count": 15,
   "metadata": {},
   "outputs": [
    {
     "ename": "AttributeError",
     "evalue": "'float' object has no attribute 'integer'",
     "output_type": "error",
     "traceback": [
      "\u001b[0;31m---------------------------------------------------------------------------\u001b[0m",
      "\u001b[0;31mAttributeError\u001b[0m                            Traceback (most recent call last)",
      "\u001b[0;32m<ipython-input-15-e29339255da3>\u001b[0m in \u001b[0;36m<module>\u001b[0;34m()\u001b[0m\n\u001b[0;32m----> 1\u001b[0;31m \u001b[0mnumero\u001b[0m\u001b[0;34m.\u001b[0m\u001b[0minteger\u001b[0m\u001b[0;34m\u001b[0m\u001b[0m\n\u001b[0m",
      "\u001b[0;31mAttributeError\u001b[0m: 'float' object has no attribute 'integer'"
     ]
    }
   ],
   "source": [
    "numero.integer"
   ]
  },
  {
   "cell_type": "markdown",
   "metadata": {},
   "source": [
    "#### Operações com tipos numéricos:"
   ]
  },
  {
   "cell_type": "code",
<<<<<<< HEAD:PythonL/Notebooks/Aula_1_Estruturas_Dados_Padrao.ipynb
   "execution_count": 60,
=======
   "execution_count": 11,
>>>>>>> reporenato/master:Python/Notebooks/Aula_1_Estruturas_Dados_Padrao.ipynb
   "metadata": {},
   "outputs": [
    {
     "name": "stdout",
     "output_type": "stream",
     "text": [
      "17\n",
      "-22\n",
      "36\n",
      "1.4782608695652173\n",
      "243\n",
      "3.0\n",
      "1\n"
     ]
    }
   ],
   "source": [
    "print(9 + 8) # Soma.\n",
    "print(12 - 34) # Subtração.\n",
    "print(12 * 3) # Multiplicação.\n",
    "print(34 / 23) # Divisão.\n",
    "print(3 ** 5) # Exponenciação.\n",
    "print(9 ** 0.5) # Radiciação.\n",
    "print(501 % 10) # resto da divisão"
   ]
  },
  {
   "cell_type": "code",
<<<<<<< HEAD:PythonL/Notebooks/Aula_1_Estruturas_Dados_Padrao.ipynb
   "execution_count": 16,
   "metadata": {},
   "outputs": [
    {
     "data": {
      "text/plain": [
       "3.0"
      ]
     },
     "execution_count": 16,
     "metadata": {},
     "output_type": "execute_result"
    }
   ],
   "source": [
    "math.sqrt(9)"
   ]
  },
  {
   "cell_type": "code",
   "execution_count": 61,
=======
   "execution_count": 12,
>>>>>>> reporenato/master:Python/Notebooks/Aula_1_Estruturas_Dados_Padrao.ipynb
   "metadata": {},
   "outputs": [
    {
     "name": "stdout",
     "output_type": "stream",
     "text": [
      "<class 'float'>\n"
     ]
    }
   ],
   "source": [
    "a = 23.\n",
    "print(type(a))"
   ]
  },
  {
   "cell_type": "code",
<<<<<<< HEAD:PythonL/Notebooks/Aula_1_Estruturas_Dados_Padrao.ipynb
   "execution_count": 62,
=======
   "execution_count": 13,
>>>>>>> reporenato/master:Python/Notebooks/Aula_1_Estruturas_Dados_Padrao.ipynb
   "metadata": {},
   "outputs": [
    {
     "name": "stdout",
     "output_type": "stream",
     "text": [
      "<class 'complex'>\n"
     ]
    }
   ],
   "source": [
    "b = 2 + 3j\n",
    "print(type(b))"
   ]
  },
  {
   "cell_type": "code",
<<<<<<< HEAD:PythonL/Notebooks/Aula_1_Estruturas_Dados_Padrao.ipynb
   "execution_count": 63,
=======
   "execution_count": 14,
>>>>>>> reporenato/master:Python/Notebooks/Aula_1_Estruturas_Dados_Padrao.ipynb
   "metadata": {},
   "outputs": [
    {
     "name": "stdout",
     "output_type": "stream",
     "text": [
      "<class 'complex'>\n"
     ]
    }
   ],
   "source": [
    "c = a + b\n",
    "print(type(c))"
   ]
  },
  {
   "cell_type": "code",
   "execution_count": 65,
   "metadata": {},
   "outputs": [
    {
     "name": "stdout",
     "output_type": "stream",
     "text": [
      "<class 'int'>\n"
     ]
    }
   ],
   "source": [
    "d = 34\n",
    "print(type(d))"
   ]
  },
  {
   "cell_type": "code",
   "execution_count": 66,
   "metadata": {},
   "outputs": [
    {
     "name": "stdout",
     "output_type": "stream",
     "text": [
      "<class 'float'>\n"
     ]
    }
   ],
   "source": [
    "f = a + d\n",
    "print(type(f))"
   ]
  },
  {
   "cell_type": "markdown",
   "metadata": {},
   "source": [
    "##### Operações com > (maior), < (menor), >= (maior ou igual) e <= (menor ou igual)"
   ]
  },
  {
   "cell_type": "code",
   "execution_count": 67,
   "metadata": {},
   "outputs": [
    {
     "data": {
      "text/plain": [
       "False"
      ]
     },
     "execution_count": 67,
     "metadata": {},
     "output_type": "execute_result"
    }
   ],
   "source": [
    "c = 2.5\n",
    "d = 4\n",
    "c > d"
   ]
  },
  {
   "cell_type": "code",
   "execution_count": 68,
   "metadata": {},
   "outputs": [
    {
     "data": {
      "text/plain": [
       "True"
      ]
     },
     "execution_count": 68,
     "metadata": {},
     "output_type": "execute_result"
    }
   ],
   "source": [
    "c = 2.5\n",
    "d = 4\n",
    "c <= d"
   ]
  },
  {
   "cell_type": "code",
   "execution_count": 69,
   "metadata": {},
   "outputs": [
    {
     "ename": "TypeError",
     "evalue": "'>' not supported between instances of 'complex' and 'complex'",
     "output_type": "error",
     "traceback": [
      "\u001b[1;31m---------------------------------------------------------------------------\u001b[0m",
      "\u001b[1;31mTypeError\u001b[0m                                 Traceback (most recent call last)",
      "\u001b[1;32m<ipython-input-69-ebbb0efa04c7>\u001b[0m in \u001b[0;36m<module>\u001b[1;34m()\u001b[0m\n\u001b[0;32m      1\u001b[0m \u001b[0mc\u001b[0m \u001b[1;33m=\u001b[0m \u001b[1;36m1\u001b[0m \u001b[1;33m+\u001b[0m \u001b[1;36m3j\u001b[0m\u001b[1;33m\u001b[0m\u001b[0m\n\u001b[0;32m      2\u001b[0m \u001b[0md\u001b[0m \u001b[1;33m=\u001b[0m \u001b[1;36m2\u001b[0m \u001b[1;33m+\u001b[0m \u001b[1;36m4j\u001b[0m\u001b[1;33m\u001b[0m\u001b[0m\n\u001b[1;32m----> 3\u001b[1;33m \u001b[0mc\u001b[0m \u001b[1;33m>\u001b[0m \u001b[0md\u001b[0m\u001b[1;33m\u001b[0m\u001b[0m\n\u001b[0m",
      "\u001b[1;31mTypeError\u001b[0m: '>' not supported between instances of 'complex' and 'complex'"
     ]
    }
   ],
   "source": [
    "c = 1 + 3j\n",
    "d = 2 + 4j\n",
    "c > d"
   ]
  },
  {
   "cell_type": "markdown",
   "metadata": {},
   "source": [
    "É importante lembrar que complexos não podem ser comparados por maior ou menor ."
   ]
  },
  {
   "cell_type": "markdown",
   "metadata": {},
   "source": [
    "##### Operação de igualdade (==) e desigualdade (!=)"
   ]
  },
  {
   "cell_type": "code",
<<<<<<< HEAD:PythonL/Notebooks/Aula_1_Estruturas_Dados_Padrao.ipynb
   "execution_count": 70,
=======
   "execution_count": 15,
>>>>>>> reporenato/master:Python/Notebooks/Aula_1_Estruturas_Dados_Padrao.ipynb
   "metadata": {},
   "outputs": [
    {
     "data": {
      "text/plain": [
       "False"
      ]
     },
<<<<<<< HEAD:PythonL/Notebooks/Aula_1_Estruturas_Dados_Padrao.ipynb
     "execution_count": 70,
=======
     "execution_count": 15,
>>>>>>> reporenato/master:Python/Notebooks/Aula_1_Estruturas_Dados_Padrao.ipynb
     "metadata": {},
     "output_type": "execute_result"
    }
   ],
   "source": [
    "c == d"
   ]
  },
  {
   "cell_type": "code",
<<<<<<< HEAD:PythonL/Notebooks/Aula_1_Estruturas_Dados_Padrao.ipynb
   "execution_count": 71,
=======
   "execution_count": 16,
>>>>>>> reporenato/master:Python/Notebooks/Aula_1_Estruturas_Dados_Padrao.ipynb
   "metadata": {},
   "outputs": [
    {
     "data": {
      "text/plain": [
       "True"
      ]
     },
<<<<<<< HEAD:PythonL/Notebooks/Aula_1_Estruturas_Dados_Padrao.ipynb
     "execution_count": 71,
=======
     "execution_count": 16,
>>>>>>> reporenato/master:Python/Notebooks/Aula_1_Estruturas_Dados_Padrao.ipynb
     "metadata": {},
     "output_type": "execute_result"
    }
   ],
   "source": [
<<<<<<< HEAD:PythonL/Notebooks/Aula_1_Estruturas_Dados_Padrao.ipynb
    "d != c"
=======
    "c = 2.5\n",
    "d = 4\n",
    "c <= d"
   ]
  },
  {
   "cell_type": "code",
   "execution_count": 17,
   "metadata": {
    "collapsed": true
   },
   "outputs": [
    {
     "ename": "TypeError",
     "evalue": "'>' not supported between instances of 'complex' and 'complex'",
     "output_type": "error",
     "traceback": [
      "\u001b[0;31m---------------------------------------------------------------------------\u001b[0m",
      "\u001b[0;31mTypeError\u001b[0m                                 Traceback (most recent call last)",
      "\u001b[0;32m<ipython-input-17-ebbb0efa04c7>\u001b[0m in \u001b[0;36m<module>\u001b[0;34m()\u001b[0m\n\u001b[1;32m      1\u001b[0m \u001b[0mc\u001b[0m \u001b[0;34m=\u001b[0m \u001b[0;36m1\u001b[0m \u001b[0;34m+\u001b[0m \u001b[0;36m3j\u001b[0m\u001b[0;34m\u001b[0m\u001b[0m\n\u001b[1;32m      2\u001b[0m \u001b[0md\u001b[0m \u001b[0;34m=\u001b[0m \u001b[0;36m2\u001b[0m \u001b[0;34m+\u001b[0m \u001b[0;36m4j\u001b[0m\u001b[0;34m\u001b[0m\u001b[0m\n\u001b[0;32m----> 3\u001b[0;31m \u001b[0mc\u001b[0m \u001b[0;34m>\u001b[0m \u001b[0md\u001b[0m\u001b[0;34m\u001b[0m\u001b[0m\n\u001b[0m",
      "\u001b[0;31mTypeError\u001b[0m: '>' not supported between instances of 'complex' and 'complex'"
     ]
    }
   ],
   "source": [
    "c = 1 + 3j\n",
    "d = 2 + 4j\n",
    "c > d"
   ]
  },
  {
   "cell_type": "markdown",
   "metadata": {},
   "source": [
    "##### Operação de igualdade (==) e desigualdade (!=)"
>>>>>>> reporenato/master:Python/Notebooks/Aula_1_Estruturas_Dados_Padrao.ipynb
   ]
  },
  {
   "cell_type": "code",
<<<<<<< HEAD:PythonL/Notebooks/Aula_1_Estruturas_Dados_Padrao.ipynb
   "execution_count": 26,
=======
   "execution_count": 18,
>>>>>>> reporenato/master:Python/Notebooks/Aula_1_Estruturas_Dados_Padrao.ipynb
   "metadata": {},
   "outputs": [
    {
     "data": {
      "text/plain": [
       "False"
      ]
     },
<<<<<<< HEAD:PythonL/Notebooks/Aula_1_Estruturas_Dados_Padrao.ipynb
     "execution_count": 26,
=======
     "execution_count": 18,
>>>>>>> reporenato/master:Python/Notebooks/Aula_1_Estruturas_Dados_Padrao.ipynb
     "metadata": {},
     "output_type": "execute_result"
    }
   ],
   "source": [
    "x = 1 != 2 \n",
    "y = 1 == 2\n",
    "z = 1 == 3\n",
    "x\n",
    "y\n",
    "z"
   ]
  },
  {
   "cell_type": "code",
<<<<<<< HEAD:PythonL/Notebooks/Aula_1_Estruturas_Dados_Padrao.ipynb
   "execution_count": 27,
=======
   "execution_count": 19,
>>>>>>> reporenato/master:Python/Notebooks/Aula_1_Estruturas_Dados_Padrao.ipynb
   "metadata": {},
   "outputs": [
    {
     "data": {
      "text/plain": [
       "True"
      ]
     },
<<<<<<< HEAD:PythonL/Notebooks/Aula_1_Estruturas_Dados_Padrao.ipynb
     "execution_count": 27,
=======
     "execution_count": 19,
>>>>>>> reporenato/master:Python/Notebooks/Aula_1_Estruturas_Dados_Padrao.ipynb
     "metadata": {},
     "output_type": "execute_result"
    }
   ],
   "source": [
    "x"
   ]
  },
  {
   "cell_type": "markdown",
   "metadata": {},
   "source": [
    "### Tipo Lista:\n",
    "Listas são sequências ordenadas de itens (não necessariamente do mesmo tipo) que são postos entre colchetes e separados por vírgula. Uma característica que faz com que as listas sejam tão utilizadas é a mutabilidade, isto é, seus elementos podem ser alterados."
   ]
  },
  {
   "cell_type": "code",
<<<<<<< HEAD:PythonL/Notebooks/Aula_1_Estruturas_Dados_Padrao.ipynb
   "execution_count": 72,
   "metadata": {},
=======
   "execution_count": 20,
   "metadata": {
    "collapsed": true
   },
>>>>>>> reporenato/master:Python/Notebooks/Aula_1_Estruturas_Dados_Padrao.ipynb
   "outputs": [],
   "source": [
    "lista = [1,2,2, [2,3,4], 3.9, 4, 2.8,'uma string']"
   ]
  },
  {
   "cell_type": "code",
<<<<<<< HEAD:PythonL/Notebooks/Aula_1_Estruturas_Dados_Padrao.ipynb
   "execution_count": 73,
=======
   "execution_count": 21,
>>>>>>> reporenato/master:Python/Notebooks/Aula_1_Estruturas_Dados_Padrao.ipynb
   "metadata": {},
   "outputs": [
    {
     "data": {
      "text/plain": [
       "[1, 2, 2, [2, 3, 4], 3.9, 4, 2.8, 'uma string']"
      ]
     },
<<<<<<< HEAD:PythonL/Notebooks/Aula_1_Estruturas_Dados_Padrao.ipynb
     "execution_count": 73,
=======
     "execution_count": 21,
>>>>>>> reporenato/master:Python/Notebooks/Aula_1_Estruturas_Dados_Padrao.ipynb
     "metadata": {},
     "output_type": "execute_result"
    }
   ],
   "source": [
    "lista"
   ]
  },
  {
   "cell_type": "code",
   "execution_count": 74,
   "metadata": {},
   "outputs": [
    {
     "data": {
      "text/plain": [
       "8"
      ]
     },
     "execution_count": 74,
     "metadata": {},
     "output_type": "execute_result"
    }
   ],
   "source": [
    "len(lista)"
   ]
  },
  {
   "cell_type": "markdown",
   "metadata": {},
   "source": [
    "##### Acessando elementos da lista\n",
    "\n",
    "obs.: O primeiro elemento possui índice 0."
   ]
  },
  {
   "cell_type": "code",
   "execution_count": 22,
   "metadata": {},
   "outputs": [
    {
     "data": {
      "text/plain": [
       "[2, 3, 4]"
      ]
     },
     "execution_count": 22,
     "metadata": {},
     "output_type": "execute_result"
    }
   ],
   "source": [
    "lista[3]"
   ]
  },
  {
   "cell_type": "code",
   "execution_count": 23,
   "metadata": {},
   "outputs": [
    {
     "data": {
      "text/plain": [
       "4"
      ]
     },
     "execution_count": 23,
     "metadata": {},
     "output_type": "execute_result"
    }
   ],
   "source": [
    "lista[3][2]"
   ]
  },
  {
   "cell_type": "code",
   "execution_count": 24,
   "metadata": {},
   "outputs": [
    {
     "data": {
      "text/plain": [
       "'uma string'"
      ]
     },
     "execution_count": 24,
     "metadata": {},
     "output_type": "execute_result"
    }
   ],
   "source": [
    "lista[-1]"
   ]
  },
  {
   "cell_type": "code",
   "execution_count": 31,
   "metadata": {},
   "outputs": [],
   "source": [
    "lista = [1,2,2, [2,3,4], 3.9, 4, 2.8,'uma string']"
   ]
  },
  {
   "cell_type": "code",
   "execution_count": 37,
   "metadata": {},
   "outputs": [
    {
     "data": {
      "text/plain": [
       "2"
      ]
     },
     "execution_count": 37,
     "metadata": {},
     "output_type": "execute_result"
    }
   ],
   "source": [
    "lista[3][0]"
   ]
  },
  {
   "cell_type": "markdown",
   "metadata": {},
   "source": [
    "##### Adicionando novos elementos"
   ]
  },
  {
   "cell_type": "code",
   "execution_count": 25,
   "metadata": {
    "collapsed": true
   },
   "outputs": [],
   "source": [
    "seu_novo_nome = [2,6,3,8]"
   ]
  },
  {
   "cell_type": "code",
   "execution_count": 26,
   "metadata": {
    "collapsed": true
   },
   "outputs": [],
   "source": [
    "seu_novo_nome.append(23)"
   ]
  },
  {
   "cell_type": "code",
   "execution_count": 27,
   "metadata": {},
   "outputs": [
    {
     "data": {
      "text/plain": [
       "[2, 6, 3, 8, 23]"
      ]
     },
     "execution_count": 27,
     "metadata": {},
     "output_type": "execute_result"
    }
   ],
   "source": [
    "seu_novo_nome"
   ]
  },
  {
   "cell_type": "code",
   "execution_count": 40,
   "metadata": {},
   "outputs": [
    {
     "data": {
      "text/plain": [
       "[2, 6, 3, 8, 34]"
      ]
     },
     "execution_count": 40,
     "metadata": {},
     "output_type": "execute_result"
    }
   ],
   "source": [
    "seu_novo_nome = [2,6,3,8]\n",
    "seu_novo_nome.append(34)\n",
    "seu_novo_nome"
   ]
  },
  {
   "cell_type": "code",
<<<<<<< HEAD:PythonL/Notebooks/Aula_1_Estruturas_Dados_Padrao.ipynb
   "execution_count": 54,
=======
   "execution_count": 28,
>>>>>>> reporenato/master:Python/Notebooks/Aula_1_Estruturas_Dados_Padrao.ipynb
   "metadata": {},
   "outputs": [
    {
     "data": {
      "text/plain": [
       "[3, 8]"
      ]
     },
<<<<<<< HEAD:PythonL/Notebooks/Aula_1_Estruturas_Dados_Padrao.ipynb
     "execution_count": 54,
=======
     "execution_count": 28,
>>>>>>> reporenato/master:Python/Notebooks/Aula_1_Estruturas_Dados_Padrao.ipynb
     "metadata": {},
     "output_type": "execute_result"
    }
   ],
   "source": [
    "seu_novo_nome.pop(0)\n",
    "seu_novo_nome"
   ]
  },
  {
   "cell_type": "code",
   "execution_count": 46,
   "metadata": {},
   "outputs": [
    {
     "name": "stdout",
     "output_type": "stream",
     "text": [
      "Help on built-in function append:\n",
      "\n",
      "append(...) method of builtins.list instance\n",
      "    L.append(object) -> None -- append object to end\n",
      "\n"
     ]
    }
   ],
   "source": [
    "help(seu_novo_nome.append)"
   ]
  },
  {
   "cell_type": "code",
   "execution_count": 49,
   "metadata": {},
   "outputs": [
    {
     "name": "stdout",
     "output_type": "stream",
     "text": [
      "Help on built-in function pop:\n",
      "\n",
      "pop(...) method of builtins.list instance\n",
      "    L.pop([index]) -> item -- remove and return item at index (default last).\n",
      "    Raises IndexError if list is empty or index is out of range.\n",
      "\n"
     ]
    }
   ],
   "source": [
    "help(seu_novo_nome.pop)"
   ]
  },
  {
   "cell_type": "markdown",
   "metadata": {},
   "source": [
    "#### Removendo elementos de uma lista"
   ]
  },
  {
   "cell_type": "code",
   "execution_count": 3,
   "metadata": {},
   "outputs": [
    {
     "ename": "NameError",
     "evalue": "name 'seu_novo_nome' is not defined",
     "output_type": "error",
     "traceback": [
      "\u001b[1;31m---------------------------------------------------------------------------\u001b[0m",
      "\u001b[1;31mNameError\u001b[0m                                 Traceback (most recent call last)",
      "\u001b[1;32m<ipython-input-3-2905fa6faeab>\u001b[0m in \u001b[0;36m<module>\u001b[1;34m()\u001b[0m\n\u001b[1;32m----> 1\u001b[1;33m \u001b[0mseu_novo_nome\u001b[0m\u001b[1;33m.\u001b[0m\u001b[0mpop\u001b[0m\u001b[1;33m(\u001b[0m\u001b[1;33m)\u001b[0m\u001b[1;33m\u001b[0m\u001b[0m\n\u001b[0m",
      "\u001b[1;31mNameError\u001b[0m: name 'seu_novo_nome' is not defined"
     ]
    }
   ],
   "source": [
    "seu_novo_nome.pop()"
   ]
  },
  {
   "cell_type": "code",
   "execution_count": 29,
   "metadata": {},
   "outputs": [
    {
     "data": {
      "text/plain": [
       "[2, 6, 3, 8]"
      ]
     },
     "execution_count": 29,
     "metadata": {},
     "output_type": "execute_result"
    }
   ],
   "source": [
    "seu_novo_nome"
   ]
  },
  {
   "cell_type": "markdown",
   "metadata": {},
   "source": [
    "#### Inserindo listas e elementos "
   ]
  },
  {
   "cell_type": "code",
   "execution_count": 30,
   "metadata": {},
   "outputs": [
    {
     "data": {
      "text/plain": [
       "[2, 6, 3, 8]"
      ]
     },
     "execution_count": 30,
     "metadata": {},
     "output_type": "execute_result"
    }
   ],
   "source": [
    "seu_novo_nome"
   ]
  },
  {
   "cell_type": "code",
   "execution_count": 31,
   "metadata": {
    "collapsed": true
   },
   "outputs": [],
   "source": [
    "seu_novo_nome.append(4)"
   ]
  },
  {
   "cell_type": "code",
   "execution_count": 32,
   "metadata": {
    "collapsed": true
   },
   "outputs": [],
   "source": [
    "seu_novo_nome.extend([0,7,3])"
   ]
  },
  {
   "cell_type": "code",
<<<<<<< HEAD:PythonL/Notebooks/Aula_1_Estruturas_Dados_Padrao.ipynb
   "execution_count": 55,
=======
   "execution_count": 33,
>>>>>>> reporenato/master:Python/Notebooks/Aula_1_Estruturas_Dados_Padrao.ipynb
   "metadata": {},
   "outputs": [
    {
     "data": {
      "text/plain": [
       "[3, 8]"
      ]
     },
<<<<<<< HEAD:PythonL/Notebooks/Aula_1_Estruturas_Dados_Padrao.ipynb
     "execution_count": 55,
=======
     "execution_count": 33,
>>>>>>> reporenato/master:Python/Notebooks/Aula_1_Estruturas_Dados_Padrao.ipynb
     "metadata": {},
     "output_type": "execute_result"
    }
   ],
   "source": [
    "seu_novo_nome"
   ]
  },
  {
   "cell_type": "code",
   "execution_count": 56,
   "metadata": {},
   "outputs": [],
   "source": [
    "seu_novo_nome.extend([1,1,1])"
   ]
  },
  {
   "cell_type": "code",
   "execution_count": 57,
   "metadata": {},
   "outputs": [
    {
     "data": {
      "text/plain": [
       "[3, 8, 1, 1, 1, [9, 9]]"
      ]
     },
     "execution_count": 57,
     "metadata": {},
     "output_type": "execute_result"
    }
   ],
   "source": [
    "seu_novo_nome.append([9,9])\n",
    "seu_novo_nome"
   ]
  },
  {
   "cell_type": "code",
   "execution_count": 35,
   "metadata": {
    "collapsed": true
   },
   "outputs": [],
   "source": [
    "seu_novo_nome.insert(2,5678)"
   ]
  },
  {
   "cell_type": "code",
   "execution_count": 36,
   "metadata": {},
   "outputs": [
    {
     "data": {
      "text/plain": [
       "[2, 6, 5678, 3, 8, 4, 0, 7, 3, [9, 9]]"
      ]
     },
     "execution_count": 36,
     "metadata": {},
     "output_type": "execute_result"
    }
   ],
   "source": [
    "seu_novo_nome"
   ]
  },
  {
   "cell_type": "code",
   "execution_count": 37,
   "metadata": {},
   "outputs": [
    {
     "data": {
      "text/plain": [
       "[9, 9]"
      ]
     },
     "execution_count": 37,
     "metadata": {},
     "output_type": "execute_result"
    }
   ],
   "source": [
    "seu_novo_nome.pop()"
   ]
  },
  {
   "cell_type": "code",
   "execution_count": 38,
   "metadata": {},
   "outputs": [
    {
     "data": {
      "text/plain": [
       "[0, 2, 3, 3, 4, 6, 7, 8, 5678]"
      ]
     },
     "execution_count": 38,
     "metadata": {},
     "output_type": "execute_result"
    }
   ],
   "source": [
    "seu_novo_nome.sort() #Colocando em ordem\n",
    "seu_novo_nome"
   ]
  },
  {
   "cell_type": "markdown",
   "metadata": {},
   "source": [
    "#### Acessando elementos"
   ]
  },
  {
   "cell_type": "code",
   "execution_count": 39,
   "metadata": {
    "collapsed": true
   },
   "outputs": [],
   "source": [
    "nova2 = [[[2,1],7,9,3,3,2,[2,6]],4,5,7]"
   ]
  },
  {
   "cell_type": "code",
   "execution_count": 40,
   "metadata": {},
   "outputs": [
    {
     "data": {
      "text/plain": [
       "[[2, 1], 7, 9, 3, 3, 2, [2, 6]]"
      ]
     },
     "execution_count": 40,
     "metadata": {},
     "output_type": "execute_result"
    }
   ],
   "source": [
    "nova2[0]"
   ]
  },
  {
   "cell_type": "code",
<<<<<<< HEAD:PythonL/Notebooks/Aula_1_Estruturas_Dados_Padrao.ipynb
   "execution_count": 61,
=======
   "execution_count": 41,
>>>>>>> reporenato/master:Python/Notebooks/Aula_1_Estruturas_Dados_Padrao.ipynb
   "metadata": {},
   "outputs": [
    {
     "data": {
      "text/plain": [
       "5"
      ]
     },
<<<<<<< HEAD:PythonL/Notebooks/Aula_1_Estruturas_Dados_Padrao.ipynb
     "execution_count": 61,
=======
     "execution_count": 41,
>>>>>>> reporenato/master:Python/Notebooks/Aula_1_Estruturas_Dados_Padrao.ipynb
     "metadata": {},
     "output_type": "execute_result"
    }
   ],
   "source": [
    "nova2 = [[2,1],7,9,3,3,2,[2,6],4,5,7]\n",
    "nova2.index(2)"
   ]
  },
  {
   "cell_type": "code",
   "execution_count": 42,
   "metadata": {},
   "outputs": [
    {
     "data": {
      "text/plain": [
       "4"
      ]
     },
     "execution_count": 42,
     "metadata": {},
     "output_type": "execute_result"
    }
   ],
   "source": [
    "len(nova2) #len() serve para dar o tamanho do objeto"
   ]
  },
  {
   "cell_type": "code",
   "execution_count": 43,
   "metadata": {},
   "outputs": [
    {
     "data": {
      "text/plain": [
       "2"
      ]
     },
     "execution_count": 43,
     "metadata": {},
     "output_type": "execute_result"
    }
   ],
   "source": [
    "nova2[0].count(3)"
   ]
  },
  {
   "cell_type": "code",
   "execution_count": 44,
   "metadata": {},
   "outputs": [
    {
     "data": {
      "text/plain": [
       "3"
      ]
     },
     "execution_count": 44,
     "metadata": {},
     "output_type": "execute_result"
    }
   ],
   "source": [
    "nova2[0][3]"
   ]
  },
  {
   "cell_type": "code",
   "execution_count": 45,
   "metadata": {},
   "outputs": [
    {
     "data": {
      "text/plain": [
       "1"
      ]
     },
     "execution_count": 45,
     "metadata": {},
     "output_type": "execute_result"
    }
   ],
   "source": [
    "nova2.index(4)"
   ]
  },
  {
   "cell_type": "code",
   "execution_count": 46,
   "metadata": {},
   "outputs": [
    {
     "name": "stdout",
     "output_type": "stream",
     "text": [
      "[7, 5, 4, [[2, 1], 7, 9, 3, 3, 2, [2, 6]]]\n"
     ]
    }
   ],
   "source": [
    "nova2.reverse()\n",
    "print(nova2)"
   ]
  },
  {
   "cell_type": "code",
   "execution_count": 47,
   "metadata": {
    "collapsed": true
   },
   "outputs": [],
   "source": [
    "nova_lista = [1,2,3,4,5,6]"
   ]
  },
  {
   "cell_type": "code",
   "execution_count": 48,
   "metadata": {},
   "outputs": [
    {
     "data": {
      "text/plain": [
       "3"
      ]
     },
     "execution_count": 48,
     "metadata": {},
     "output_type": "execute_result"
    }
   ],
   "source": [
    "nova_lista[2]"
   ]
  },
  {
   "cell_type": "code",
   "execution_count": 49,
   "metadata": {},
   "outputs": [
    {
     "data": {
      "text/plain": [
       "[3, 4, 5]"
      ]
     },
     "execution_count": 49,
     "metadata": {},
     "output_type": "execute_result"
    }
   ],
   "source": [
    "nova_lista[2:5]"
   ]
  },
  {
   "cell_type": "code",
   "execution_count": 50,
   "metadata": {},
   "outputs": [
    {
     "data": {
      "text/plain": [
       "5"
      ]
     },
     "execution_count": 50,
     "metadata": {},
     "output_type": "execute_result"
    }
   ],
   "source": [
    "nova_lista[-2]"
   ]
  },
  {
   "cell_type": "markdown",
   "metadata": {},
   "source": [
    "### Tipo String:\n",
    "Strings são sequências de caracteres dispostos, necessariamente, entre aspas simples ou duplas.  "
   ]
  },
  {
   "cell_type": "code",
   "execution_count": 51,
   "metadata": {
    "collapsed": true
   },
   "outputs": [],
   "source": [
    "s1 = 'uma string'\n",
    "s2 = \"outra string\""
   ]
  },
  {
   "cell_type": "code",
   "execution_count": 52,
   "metadata": {},
   "outputs": [
    {
     "name": "stdout",
     "output_type": "stream",
     "text": [
      "uma string\n"
     ]
    }
   ],
   "source": [
    "print(s1)"
   ]
  },
  {
   "cell_type": "code",
   "execution_count": 53,
   "metadata": {},
   "outputs": [
    {
     "data": {
      "text/plain": [
       "'uma string'"
      ]
     },
     "execution_count": 53,
     "metadata": {},
     "output_type": "execute_result"
    }
   ],
   "source": [
    "s1"
   ]
  },
  {
   "cell_type": "code",
   "execution_count": 54,
   "metadata": {},
   "outputs": [
    {
     "data": {
      "text/plain": [
       "'outra string'"
      ]
     },
     "execution_count": 54,
     "metadata": {},
     "output_type": "execute_result"
    }
   ],
   "source": [
    "s2"
   ]
  },
  {
   "cell_type": "code",
   "execution_count": 55,
   "metadata": {},
   "outputs": [
    {
     "data": {
      "text/plain": [
       "\"let's go to the classroom\""
      ]
     },
     "execution_count": 55,
     "metadata": {},
     "output_type": "execute_result"
    }
   ],
   "source": [
    "s3 = \"let's go to the classroom\"\n",
    "s3"
   ]
  },
  {
   "cell_type": "code",
   "execution_count": 56,
   "metadata": {
    "collapsed": true
   },
   "outputs": [],
   "source": [
    "s4 = \"nesta string eu tenho aspas simples (') e aspas duplas(\\\")\""
   ]
  },
  {
   "cell_type": "code",
   "execution_count": 57,
   "metadata": {},
   "outputs": [
    {
     "data": {
      "text/plain": [
       "'nesta string eu tenho aspas simples (\\') e aspas duplas(\")'"
      ]
     },
     "execution_count": 57,
     "metadata": {},
     "output_type": "execute_result"
    }
   ],
   "source": [
    "s4"
   ]
  },
  {
   "cell_type": "code",
   "execution_count": 58,
   "metadata": {},
   "outputs": [
    {
     "name": "stdout",
     "output_type": "stream",
     "text": [
      "nesta string eu tenho aspas simples (') e aspas duplas(\")\n"
     ]
    }
   ],
   "source": [
    "print(s4)"
   ]
  },
  {
   "cell_type": "code",
   "execution_count": 59,
   "metadata": {
    "collapsed": true
   },
   "outputs": [
    {
     "data": {
      "text/plain": [
       "\"let's stress\""
      ]
     },
     "execution_count": 59,
     "metadata": {},
     "output_type": "execute_result"
    }
   ],
   "source": [
    "s5 = 'let\\'s stress'\n",
    "s5"
   ]
  },
  {
   "cell_type": "markdown",
   "metadata": {},
   "source": [
    "#### Concatenando strings"
   ]
  },
  {
   "cell_type": "code",
   "execution_count": 60,
   "metadata": {
    "collapsed": true
   },
   "outputs": [
    {
     "data": {
      "text/plain": [
       "'uma stringoutra string'"
      ]
     },
     "execution_count": 60,
     "metadata": {},
     "output_type": "execute_result"
    }
   ],
   "source": [
    "s1+s2"
   ]
  },
  {
   "cell_type": "code",
   "execution_count": 61,
   "metadata": {},
   "outputs": [
    {
     "data": {
      "text/plain": [
       "'uma string outra string'"
      ]
     },
     "execution_count": 61,
     "metadata": {},
     "output_type": "execute_result"
    }
   ],
   "source": [
    "s1+' '+s2"
   ]
  },
  {
   "cell_type": "code",
   "execution_count": 62,
   "metadata": {},
   "outputs": [
    {
     "name": "stdout",
     "output_type": "stream",
     "text": [
      "um comando que ocupe duas ou mais linhas\n"
     ]
    }
   ],
   "source": [
    "print('um comando' + ' ' + 'que ocupe' + ' ' + 'duas ou mais linhas')"
   ]
  },
  {
   "cell_type": "code",
   "execution_count": 63,
   "metadata": {
    "collapsed": true
   },
   "outputs": [],
   "source": [
    "s6 = 'RIO - Brasília fechou 2015 com uma inflação de 11,95%, segundo o Índice de Preços \\\n",
    "ao Consumidor Semanal (IPC-S), medido pela Fundação Getulio Vargas (FGV). Entre as sete \\\n",
    "capitais pesquisadas pela FGV, a capital federal foi a que teve a maior alta de preços. \\\n",
    "Em 2014, Brasília havia registrado uma taxa de inflação de 6,74%.'"
   ]
  },
  {
   "cell_type": "code",
   "execution_count": 64,
   "metadata": {},
   "outputs": [
    {
     "data": {
      "text/plain": [
       "'RIO - Brasília fechou 2015 com uma inflação de 11,95%, segundo o Índice de Preços ao Consumidor Semanal (IPC-S), medido pela Fundação Getulio Vargas (FGV). Entre as sete capitais pesquisadas pela FGV, a capital federal foi a que teve a maior alta de preços. Em 2014, Brasília havia registrado uma taxa de inflação de 6,74%.'"
      ]
     },
     "execution_count": 64,
     "metadata": {},
     "output_type": "execute_result"
    }
   ],
   "source": [
    "s6"
   ]
  },
  {
   "cell_type": "code",
   "execution_count": 65,
   "metadata": {},
   "outputs": [
    {
     "name": "stdout",
     "output_type": "stream",
     "text": [
      "RIO - Brasília fechou 2015 com uma inflação de 11,95%, segundo o Índice de Preços ao Consumidor Semanal (IPC-S), medido pela Fundação Getulio Vargas (FGV). Entre as sete capitais pesquisadas pela FGV, a capital federal foi a que teve a maior alta de preços. Em 2014, Brasília havia registrado uma taxa de inflação de 6,74%.\n"
     ]
    }
   ],
   "source": [
    "print(s6)"
   ]
  },
  {
   "cell_type": "code",
   "execution_count": 66,
   "metadata": {
    "collapsed": true
   },
   "outputs": [],
   "source": [
    "s7 = '''\n",
    "RIO - Brasília fechou 2015 com uma inflação de 11,95%, \n",
    "segundo o Índice de Preços ao Consumidor Semanal (IPC-S), \n",
    "medido pela Fundação Getulio Vargas (FGV). \n",
    "Entre as sete capitais pesquisadas pela FGV, a capital federal foi \n",
    "a que teve a maior alta de preços. Em 2014, Brasília havia registrado \n",
    "uma taxa de inflação de 6,74%.\n",
    "'''"
   ]
  },
  {
   "cell_type": "code",
   "execution_count": 67,
   "metadata": {},
   "outputs": [
    {
     "data": {
      "text/plain": [
       "'\\nRIO - Brasília fechou 2015 com uma inflação de 11,95%, \\nsegundo o Índice de Preços ao Consumidor Semanal (IPC-S), \\nmedido pela Fundação Getulio Vargas (FGV). \\nEntre as sete capitais pesquisadas pela FGV, a capital federal foi \\na que teve a maior alta de preços. Em 2014, Brasília havia registrado \\numa taxa de inflação de 6,74%.\\n'"
      ]
     },
     "execution_count": 67,
     "metadata": {},
     "output_type": "execute_result"
    }
   ],
   "source": [
    "s7"
   ]
  },
  {
   "cell_type": "code",
   "execution_count": 68,
   "metadata": {},
   "outputs": [
    {
     "name": "stdout",
     "output_type": "stream",
     "text": [
      "\n",
      "RIO - Brasília fechou 2015 com uma inflação de 11,95%, \n",
      "segundo o Índice de Preços ao Consumidor Semanal (IPC-S), \n",
      "medido pela Fundação Getulio Vargas (FGV). \n",
      "Entre as sete capitais pesquisadas pela FGV, a capital federal foi \n",
      "a que teve a maior alta de preços. Em 2014, Brasília havia registrado \n",
      "uma taxa de inflação de 6,74%.\n",
      "\n"
     ]
    }
   ],
   "source": [
    "print(s7)"
   ]
  },
  {
   "cell_type": "code",
   "execution_count": 69,
   "metadata": {},
   "outputs": [
    {
     "name": "stdout",
     "output_type": "stream",
     "text": [
      "uma linha \n",
      "outra linha\n"
     ]
    }
   ],
   "source": [
    "texto = 'uma linha \\noutra linha'\n",
    "print(texto)"
   ]
  },
  {
   "cell_type": "code",
   "execution_count": 70,
   "metadata": {},
   "outputs": [
    {
     "data": {
      "text/plain": [
       "'nesta string eu tenho aspas simples (\\') e aspas duplas(\")'"
      ]
     },
     "execution_count": 70,
     "metadata": {},
     "output_type": "execute_result"
    }
   ],
   "source": [
    "s4"
   ]
  },
  {
   "cell_type": "markdown",
   "metadata": {},
   "source": [
    "#### Contando o número de aparições de um caracter"
   ]
  },
  {
   "cell_type": "code",
   "execution_count": 71,
   "metadata": {},
   "outputs": [
    {
     "data": {
      "text/plain": [
       "6"
      ]
     },
     "execution_count": 71,
     "metadata": {},
     "output_type": "execute_result"
    }
   ],
   "source": [
    "s4.count('a')"
   ]
  },
  {
   "cell_type": "markdown",
   "metadata": {},
   "source": [
    "#### Modificando caracteres"
   ]
  },
  {
   "cell_type": "code",
   "execution_count": 72,
   "metadata": {
    "collapsed": true
   },
   "outputs": [],
   "source": [
    "s4 = s4.replace('a','@')"
   ]
  },
  {
   "cell_type": "code",
   "execution_count": 73,
   "metadata": {},
   "outputs": [
    {
     "data": {
      "text/plain": [
       "'nest@ string eu tenho @sp@s simples (\\') e @sp@s dupl@s(\")'"
      ]
     },
     "execution_count": 73,
     "metadata": {},
     "output_type": "execute_result"
    }
   ],
   "source": [
    "s4"
   ]
  },
  {
   "cell_type": "markdown",
   "metadata": {},
   "source": [
    "#### Encontrando a posição da palavra"
   ]
  },
  {
   "cell_type": "code",
   "execution_count": 74,
   "metadata": {},
   "outputs": [
    {
     "data": {
      "text/plain": [
       "28"
      ]
     },
     "execution_count": 74,
     "metadata": {},
     "output_type": "execute_result"
    }
   ],
   "source": [
    "s4.find('simples')"
   ]
  },
  {
   "cell_type": "code",
   "execution_count": 75,
   "metadata": {},
   "outputs": [
    {
     "data": {
      "text/plain": [
       "'s'"
      ]
     },
     "execution_count": 75,
     "metadata": {},
     "output_type": "execute_result"
    }
   ],
   "source": [
    "s4[6]"
   ]
  },
  {
   "cell_type": "code",
   "execution_count": 76,
   "metadata": {},
   "outputs": [
    {
     "data": {
      "text/plain": [
       "'simples (\\') e @sp@s dupl@s(\")'"
      ]
     },
     "execution_count": 76,
     "metadata": {},
     "output_type": "execute_result"
    }
   ],
   "source": [
    "s4[28:]"
   ]
  },
  {
   "cell_type": "code",
   "execution_count": 77,
   "metadata": {},
   "outputs": [
    {
     "data": {
      "text/plain": [
       "'string eu tenho @sp@s simples'"
      ]
     },
     "execution_count": 77,
     "metadata": {},
     "output_type": "execute_result"
    }
   ],
   "source": [
    "s4[s4.find('string'):s4.find('simples')+len('simples')]"
   ]
  },
  {
   "cell_type": "code",
   "execution_count": 78,
   "metadata": {},
   "outputs": [
    {
     "data": {
      "text/plain": [
       "'string eu tenho @sp@s simples'"
      ]
     },
     "execution_count": 78,
     "metadata": {},
     "output_type": "execute_result"
    }
   ],
   "source": [
    "s4[6:35]"
   ]
  },
  {
   "cell_type": "markdown",
   "metadata": {},
   "source": [
    "#### Fazendo mais elegantemente"
   ]
  },
  {
   "cell_type": "code",
   "execution_count": 79,
   "metadata": {},
   "outputs": [
    {
     "data": {
      "text/plain": [
       "'string eu tenho @sp@s simples'"
      ]
     },
     "execution_count": 79,
     "metadata": {},
     "output_type": "execute_result"
    }
   ],
   "source": [
    "inicio = s4.find('string')\n",
    "fim = s4.find('simples')+len('simples')\n",
    "s4[inicio:fim]"
   ]
  },
  {
   "cell_type": "code",
   "execution_count": 80,
   "metadata": {},
   "outputs": [
    {
     "data": {
      "text/plain": [
       "24"
      ]
     },
     "execution_count": 80,
     "metadata": {},
     "output_type": "execute_result"
    }
   ],
   "source": [
    "a = 12\n",
    "b = int('12')\n",
    "a + b"
   ]
  },
  {
   "cell_type": "code",
   "execution_count": 81,
   "metadata": {},
   "outputs": [
    {
     "data": {
      "text/plain": [
       "'1212'"
      ]
     },
     "execution_count": 81,
     "metadata": {},
     "output_type": "execute_result"
    }
   ],
   "source": [
    "c = str(12)\n",
    "d = '12'\n",
    "c + d"
   ]
  },
  {
   "cell_type": "code",
   "execution_count": 82,
   "metadata": {},
   "outputs": [
    {
     "data": {
      "text/plain": [
       "True"
      ]
     },
     "execution_count": 82,
     "metadata": {},
     "output_type": "execute_result"
    }
   ],
   "source": [
    "c.isdigit()"
   ]
  },
  {
   "cell_type": "code",
   "execution_count": 83,
   "metadata": {},
   "outputs": [
    {
     "data": {
      "text/plain": [
       "4095"
      ]
     },
     "execution_count": 83,
     "metadata": {},
     "output_type": "execute_result"
    }
   ],
   "source": [
    "x = 0xFFF\n",
    "x"
   ]
  },
  {
   "cell_type": "code",
   "execution_count": 84,
   "metadata": {},
   "outputs": [
    {
     "data": {
      "text/plain": [
       "497"
      ]
     },
     "execution_count": 84,
     "metadata": {},
     "output_type": "execute_result"
    }
   ],
   "source": [
    "y = 0b111110001\n",
    "y"
   ]
  },
  {
   "cell_type": "code",
   "execution_count": 85,
   "metadata": {},
   "outputs": [
    {
     "data": {
      "text/plain": [
       "261841"
      ]
     },
     "execution_count": 85,
     "metadata": {},
     "output_type": "execute_result"
    }
   ],
   "source": [
    "z = 0o777321\n",
    "z"
   ]
  },
  {
   "cell_type": "code",
   "execution_count": 86,
   "metadata": {},
   "outputs": [
    {
     "data": {
      "text/plain": [
       "255"
      ]
     },
     "execution_count": 86,
     "metadata": {},
     "output_type": "execute_result"
    }
   ],
   "source": [
    "0b11111111"
   ]
  },
  {
   "cell_type": "markdown",
   "metadata": {},
   "source": [
    "### Tipo Booleano:\n",
    "Serve para criação de estruturas lógicas e criação de condicionais retornando somente True ou False. True e False são algumas das [constantes _bultin_](https://docs.python.org/3/library/constants.html)"
   ]
  },
  {
   "cell_type": "code",
   "execution_count": 87,
   "metadata": {},
   "outputs": [
    {
     "data": {
      "text/plain": [
       "True"
      ]
     },
     "execution_count": 87,
     "metadata": {},
     "output_type": "execute_result"
    }
   ],
   "source": [
    "'RENATO'.isupper()"
   ]
  },
  {
   "cell_type": "code",
   "execution_count": 88,
   "metadata": {
    "collapsed": true
   },
   "outputs": [],
   "source": [
    "b1 = True"
   ]
  },
  {
   "cell_type": "code",
   "execution_count": 89,
   "metadata": {
    "collapsed": true
   },
   "outputs": [],
   "source": [
    "b2 = False"
   ]
  },
  {
   "cell_type": "code",
   "execution_count": 90,
   "metadata": {},
   "outputs": [
    {
     "data": {
      "text/plain": [
       "False"
      ]
     },
     "execution_count": 90,
     "metadata": {},
     "output_type": "execute_result"
    }
   ],
   "source": [
    "b1 == b2"
   ]
  },
  {
   "cell_type": "code",
   "execution_count": 91,
   "metadata": {},
   "outputs": [
    {
     "data": {
      "text/plain": [
       "False"
      ]
     },
     "execution_count": 91,
     "metadata": {},
     "output_type": "execute_result"
    }
   ],
   "source": [
    "2 == 5"
   ]
  },
  {
   "cell_type": "code",
   "execution_count": 92,
   "metadata": {},
   "outputs": [
    {
     "data": {
      "text/plain": [
       "bool"
      ]
     },
     "execution_count": 92,
     "metadata": {},
     "output_type": "execute_result"
    }
   ],
   "source": [
    "type(2 == 7)"
   ]
  },
  {
   "cell_type": "code",
   "execution_count": 93,
   "metadata": {},
   "outputs": [
    {
     "data": {
      "text/plain": [
       "True"
      ]
     },
     "execution_count": 93,
     "metadata": {},
     "output_type": "execute_result"
    }
   ],
   "source": [
    "4 != 5"
   ]
  },
  {
   "cell_type": "code",
   "execution_count": 94,
   "metadata": {},
   "outputs": [
    {
     "name": "stdout",
     "output_type": "stream",
     "text": [
      "Legal\n",
      "novo bloco\n"
     ]
    }
   ],
   "source": [
    "if (9 > 10) and (2 == (1 + 1)) and (7 <= 8):\n",
    "    print('Correto')\n",
    "if x == 4095:\n",
    "    print('Legal')\n",
    "else:\n",
    "    print('chato')\n",
    "print('novo bloco')"
   ]
  },
  {
   "cell_type": "markdown",
   "metadata": {},
   "source": [
    "### Tipo Conjunto (sets):\n",
    "Set são sequências nãoordenada de itens únicos. Os itens são postos entre chaves e separados por vírgula."
   ]
  },
  {
   "cell_type": "code",
   "execution_count": 95,
   "metadata": {
    "collapsed": true
   },
   "outputs": [],
   "source": [
    "c1 = {1,2,3,3,3,3,3,4}"
   ]
  },
  {
   "cell_type": "code",
   "execution_count": 96,
   "metadata": {},
   "outputs": [
    {
     "data": {
      "text/plain": [
       "{1, 2, 3, 4}"
      ]
     },
     "execution_count": 96,
     "metadata": {},
     "output_type": "execute_result"
    }
   ],
   "source": [
    "c1"
   ]
  },
  {
   "cell_type": "code",
   "execution_count": 97,
   "metadata": {
    "collapsed": true
   },
   "outputs": [],
   "source": [
    "c2 = set([1,2,3,4,1,2])"
   ]
  },
  {
   "cell_type": "code",
   "execution_count": 98,
   "metadata": {},
   "outputs": [
    {
     "data": {
      "text/plain": [
       "{1, 2, 3, 4}"
      ]
     },
     "execution_count": 98,
     "metadata": {},
     "output_type": "execute_result"
    }
   ],
   "source": [
    "c2"
   ]
  },
  {
   "cell_type": "code",
   "execution_count": 99,
   "metadata": {
    "collapsed": true
   },
   "outputs": [],
   "source": [
    "lista3 = [1,2,3,'string']"
   ]
  },
  {
   "cell_type": "code",
   "execution_count": 100,
   "metadata": {
    "collapsed": true
   },
   "outputs": [],
   "source": [
    "conjunto = set(lista3)"
   ]
  },
  {
   "cell_type": "code",
   "execution_count": 101,
   "metadata": {},
   "outputs": [
    {
     "data": {
      "text/plain": [
       "{1, 2, 3, 'string'}"
      ]
     },
     "execution_count": 101,
     "metadata": {},
     "output_type": "execute_result"
    }
   ],
   "source": [
    "conjunto"
   ]
  },
  {
   "cell_type": "code",
   "execution_count": 102,
   "metadata": {
    "collapsed": true
   },
   "outputs": [],
   "source": [
    "conjunto2 = conjunto.union([9,8,7])"
   ]
  },
  {
   "cell_type": "code",
   "execution_count": 103,
   "metadata": {},
   "outputs": [
    {
     "data": {
      "text/plain": [
       "{1, 2, 3, 7, 8, 9, 'string'}"
      ]
     },
     "execution_count": 103,
     "metadata": {},
     "output_type": "execute_result"
    }
   ],
   "source": [
    "conjunto2"
   ]
  },
  {
   "cell_type": "code",
   "execution_count": 104,
   "metadata": {},
   "outputs": [
    {
     "data": {
      "text/plain": [
       "{1, 2, 3, 'string'}"
      ]
     },
     "execution_count": 104,
     "metadata": {},
     "output_type": "execute_result"
    }
   ],
   "source": [
    "conjunto.intersection(conjunto2)"
   ]
  },
  {
   "cell_type": "code",
   "execution_count": 105,
   "metadata": {
    "collapsed": true
   },
   "outputs": [],
   "source": [
    "lista3 = list(conjunto)"
   ]
  },
  {
   "cell_type": "code",
   "execution_count": 106,
   "metadata": {
    "collapsed": true
   },
   "outputs": [],
   "source": [
    "conjunto4 = set('uma string legal')"
   ]
  },
  {
   "cell_type": "code",
   "execution_count": 107,
   "metadata": {},
   "outputs": [
    {
     "data": {
      "text/plain": [
       "{' ', 'a', 'e', 'g', 'i', 'l', 'm', 'n', 'r', 's', 't', 'u'}"
      ]
     },
     "execution_count": 107,
     "metadata": {},
     "output_type": "execute_result"
    }
   ],
   "source": [
    "conjunto4"
   ]
  },
  {
   "cell_type": "code",
   "execution_count": 108,
   "metadata": {},
   "outputs": [
    {
     "name": "stdout",
     "output_type": "stream",
     "text": [
      "16\n",
      "12\n"
     ]
    }
   ],
   "source": [
    "print(len('uma string legal'))\n",
    "print(len(set('uma string legal')))"
   ]
  },
  {
   "cell_type": "code",
   "execution_count": 109,
   "metadata": {
    "collapsed": true
   },
   "outputs": [],
   "source": [
    "texto = '''\n",
    "Nosso pai era homem cumpridor, ordeiro, positivo; e sido assim desde mocinho e menino, pelo que testemunharam as diversas sensatas pessoas, quando indaguei a informação. \n",
    "Do que eu mesmo me alembro, ele não figurava mais estúrdio nem mais triste do que os outros, conhecidos nossos. Só quieto. Nossa mãe era quem regia, e que ralhava no diário \n",
    "com a gente — minha irmã, meu irmão e eu. Mas se deu que, certo dia, nosso pai mandou fazer para si uma canoa. \n",
    "'''"
   ]
  },
  {
   "cell_type": "code",
   "execution_count": 110,
   "metadata": {},
   "outputs": [
    {
     "data": {
      "text/plain": [
       "'\\nNosso pai era homem cumpridor, ordeiro, positivo; e sido assim desde mocinho e menino, pelo que testemunharam as diversas sensatas pessoas, quando indaguei a informação. \\nDo que eu mesmo me alembro, ele não figurava mais estúrdio nem mais triste do que os outros, conhecidos nossos. Só quieto. Nossa mãe era quem regia, e que ralhava no diário \\ncom a gente — minha irmã, meu irmão e eu. Mas se deu que, certo dia, nosso pai mandou fazer para si uma canoa. \\n'"
      ]
     },
     "execution_count": 110,
     "metadata": {},
     "output_type": "execute_result"
    }
   ],
   "source": [
    "texto"
   ]
  },
  {
   "cell_type": "code",
   "execution_count": 111,
   "metadata": {
    "collapsed": true
   },
   "outputs": [],
   "source": [
    "#texto = texto.replace('a','&&&&a')"
   ]
  },
  {
   "cell_type": "code",
   "execution_count": 112,
   "metadata": {},
   "outputs": [
    {
     "data": {
      "text/plain": [
       "['Nosso',\n",
       " 'pai',\n",
       " 'era',\n",
       " 'homem',\n",
       " 'cumpridor,',\n",
       " 'ordeiro,',\n",
       " 'positivo;',\n",
       " 'e',\n",
       " 'sido',\n",
       " 'assim',\n",
       " 'desde',\n",
       " 'mocinho',\n",
       " 'e',\n",
       " 'menino,',\n",
       " 'pelo',\n",
       " 'que',\n",
       " 'testemunharam',\n",
       " 'as',\n",
       " 'diversas',\n",
       " 'sensatas',\n",
       " 'pessoas,',\n",
       " 'quando',\n",
       " 'indaguei',\n",
       " 'a',\n",
       " 'informação.',\n",
       " 'Do',\n",
       " 'que',\n",
       " 'eu',\n",
       " 'mesmo',\n",
       " 'me',\n",
       " 'alembro,',\n",
       " 'ele',\n",
       " 'não',\n",
       " 'figurava',\n",
       " 'mais',\n",
       " 'estúrdio',\n",
       " 'nem',\n",
       " 'mais',\n",
       " 'triste',\n",
       " 'do',\n",
       " 'que',\n",
       " 'os',\n",
       " 'outros,',\n",
       " 'conhecidos',\n",
       " 'nossos.',\n",
       " 'Só',\n",
       " 'quieto.',\n",
       " 'Nossa',\n",
       " 'mãe',\n",
       " 'era',\n",
       " 'quem',\n",
       " 'regia,',\n",
       " 'e',\n",
       " 'que',\n",
       " 'ralhava',\n",
       " 'no',\n",
       " 'diário',\n",
       " 'com',\n",
       " 'a',\n",
       " 'gente',\n",
       " '—',\n",
       " 'minha',\n",
       " 'irmã,',\n",
       " 'meu',\n",
       " 'irmão',\n",
       " 'e',\n",
       " 'eu.',\n",
       " 'Mas',\n",
       " 'se',\n",
       " 'deu',\n",
       " 'que,',\n",
       " 'certo',\n",
       " 'dia,',\n",
       " 'nosso',\n",
       " 'pai',\n",
       " 'mandou',\n",
       " 'fazer',\n",
       " 'para',\n",
       " 'si',\n",
       " 'uma',\n",
       " 'canoa.']"
      ]
     },
     "execution_count": 112,
     "metadata": {},
     "output_type": "execute_result"
    }
   ],
   "source": [
    "lista_palavras = texto.split()\n",
    "lista_palavras"
   ]
  },
  {
   "cell_type": "code",
   "execution_count": 113,
   "metadata": {
    "collapsed": true
   },
   "outputs": [],
   "source": [
    "palavras_unicas = set(lista_palavras)"
   ]
  },
  {
   "cell_type": "code",
   "execution_count": 114,
   "metadata": {},
   "outputs": [
    {
     "name": "stdout",
     "output_type": "stream",
     "text": [
      "81\n",
      "71\n"
     ]
    }
   ],
   "source": [
    "print(len(lista_palavras))\n",
    "print(len(palavras_unicas))"
   ]
  },
  {
   "cell_type": "code",
   "execution_count": 115,
   "metadata": {},
   "outputs": [
    {
     "data": {
      "text/plain": [
       "'Nosso @ pai @ era @ homem @ cumpridor, @ ordeiro, @ positivo; @ e @ sido @ assim @ desde @ mocinho @ e @ menino, @ pelo @ que @ testemunharam @ as @ diversas @ sensatas @ pessoas, @ quando @ indaguei @ a @ informação. @ Do @ que @ eu @ mesmo @ me @ alembro, @ ele @ não @ figurava @ mais @ estúrdio @ nem @ mais @ triste @ do @ que @ os @ outros, @ conhecidos @ nossos. @ Só @ quieto. @ Nossa @ mãe @ era @ quem @ regia, @ e @ que @ ralhava @ no @ diário @ com @ a @ gente @ — @ minha @ irmã, @ meu @ irmão @ e @ eu. @ Mas @ se @ deu @ que, @ certo @ dia, @ nosso @ pai @ mandou @ fazer @ para @ si @ uma @ canoa.'"
      ]
     },
     "execution_count": 115,
     "metadata": {},
     "output_type": "execute_result"
    }
   ],
   "source": [
    "' @ '.join(lista_palavras)"
   ]
  },
  {
   "cell_type": "code",
   "execution_count": 116,
   "metadata": {
    "collapsed": true
   },
   "outputs": [],
   "source": [
    "import string"
   ]
  },
  {
   "cell_type": "code",
   "execution_count": 117,
   "metadata": {},
   "outputs": [
    {
     "data": {
      "text/plain": [
       "'!\"#$%&\\'()*+,-./:;<=>?@[\\\\]^_`{|}~'"
      ]
     },
     "execution_count": 117,
     "metadata": {},
     "output_type": "execute_result"
    }
   ],
   "source": [
    "string.punctuation"
   ]
  },
  {
   "cell_type": "code",
   "execution_count": 118,
   "metadata": {},
   "outputs": [
    {
     "data": {
      "text/plain": [
       "'\\nNosso pai era homem cumpridor, ordeiro, positivo; e sido assim desde mocinho e menino, pelo que testemunharam as diversas sensatas pessoas, quando indaguei a informação***** \\nDo que eu mesmo me alembro, ele não figurava mais estúrdio nem mais triste do que os outros, conhecidos nossos***** Só quieto***** Nossa mãe era quem regia, e que ralhava no diário \\ncom a gente — minha irmã, meu irmão e eu***** Mas se deu que, certo dia, nosso pai mandou fazer para si uma canoa***** \\n'"
      ]
     },
     "execution_count": 118,
     "metadata": {},
     "output_type": "execute_result"
    }
   ],
   "source": [
    "for punct in ['.','?','!']:\n",
    "    texto = texto.replace(punct, '*****')\n",
    "texto"
   ]
  },
  {
   "cell_type": "code",
   "execution_count": 119,
   "metadata": {},
   "outputs": [
    {
     "data": {
      "text/plain": [
       "['\\nNosso pai era homem cumpridor, ordeiro, positivo; e sido assim desde mocinho e menino, pelo que testemunharam as diversas sensatas pessoas, quando indaguei a informação',\n",
       " ' \\nDo que eu mesmo me alembro, ele não figurava mais estúrdio nem mais triste do que os outros, conhecidos nossos',\n",
       " ' Só quieto',\n",
       " ' Nossa mãe era quem regia, e que ralhava no diário \\ncom a gente — minha irmã, meu irmão e eu',\n",
       " ' Mas se deu que, certo dia, nosso pai mandou fazer para si uma canoa',\n",
       " ' \\n']"
      ]
     },
     "execution_count": 119,
     "metadata": {},
     "output_type": "execute_result"
    }
   ],
   "source": [
    "texto.split('*****')"
   ]
  },
  {
   "cell_type": "code",
   "execution_count": 120,
   "metadata": {
    "collapsed": true
   },
   "outputs": [],
   "source": [
    "string5 = 'uma string'\n",
    "string5 += ' outro texto'"
   ]
  },
  {
   "cell_type": "code",
   "execution_count": 121,
   "metadata": {},
   "outputs": [
    {
     "data": {
      "text/plain": [
       "'uma string outro texto'"
      ]
     },
     "execution_count": 121,
     "metadata": {},
     "output_type": "execute_result"
    }
   ],
   "source": [
    "string5"
   ]
  },
  {
   "cell_type": "markdown",
   "metadata": {},
   "source": [
    "### Tipo Dicionário:\n",
    "Dicionários são sequências não ordenadas de itens na forma de pares key:values que se encontram dentro de chaves e separados por vírgula. Como value podemos usar objetos de qualquer tipo, já como key só podemos usar objetos de tipos imutáveis (strings, números ou tuplas)."
   ]
  },
  {
   "cell_type": "code",
   "execution_count": 122,
   "metadata": {},
   "outputs": [
    {
     "data": {
      "text/plain": [
       "{45: 26, 'chave1': [1, 2, 3], 'chave2': 2, 'outra chave': 4, 'outro': 23}"
      ]
     },
     "execution_count": 122,
     "metadata": {},
     "output_type": "execute_result"
    }
   ],
   "source": [
    "dic = {'chave1':[1,2,3],'chave2':2,'outra chave':4,45:26, 'outro':23}\n",
    "dic"
   ]
  },
  {
   "cell_type": "code",
   "execution_count": 123,
   "metadata": {
    "collapsed": true
   },
   "outputs": [],
   "source": [
    "dic.update({2:3})"
   ]
  },
  {
   "cell_type": "code",
   "execution_count": 124,
   "metadata": {},
   "outputs": [
    {
     "data": {
      "text/plain": [
       "{2: 3, 45: 26, 'chave1': [1, 2, 3], 'chave2': 2, 'outra chave': 4, 'outro': 23}"
      ]
     },
     "execution_count": 124,
     "metadata": {},
     "output_type": "execute_result"
    }
   ],
   "source": [
    "dic"
   ]
  },
  {
   "cell_type": "code",
   "execution_count": 125,
   "metadata": {
    "collapsed": true
   },
   "outputs": [],
   "source": [
    "ficha = {'Peso':73, 'Altura':183, 'Idade':44, 'Nome':'Renato'}"
   ]
  },
  {
   "cell_type": "code",
   "execution_count": 126,
   "metadata": {},
   "outputs": [
    {
     "data": {
      "text/plain": [
       "{'Altura': 183, 'Idade': 44, 'Nome': 'Renato', 'Peso': 73}"
      ]
     },
     "execution_count": 126,
     "metadata": {},
     "output_type": "execute_result"
    }
   ],
   "source": [
    "ficha"
   ]
  },
  {
   "cell_type": "code",
   "execution_count": 127,
   "metadata": {},
   "outputs": [
    {
     "data": {
      "text/plain": [
       "44"
      ]
     },
     "execution_count": 127,
     "metadata": {},
     "output_type": "execute_result"
    }
   ],
   "source": [
    "ficha['Idade']"
   ]
  },
  {
   "cell_type": "markdown",
   "metadata": {},
   "source": [
    "Exercício:  \n",
    "Criar uma estrutura de dados para representar as notas de 3 avaliações (A1, A2 e AS) em três \n",
    "disciplinas (Matemática, História e Geografia)"
   ]
  },
  {
   "cell_type": "code",
   "execution_count": 128,
   "metadata": {},
   "outputs": [
    {
     "data": {
      "text/plain": [
       "{'Geografia': {'A1': 9.0, 'A2': 8.0, 'AS': 4.0},\n",
       " 'História': {'A1': 9.0, 'A2': 8.0, 'AS': 4.0},\n",
       " 'Matemática': {'A1': 9.0, 'A2': 8.0, 'AS': 4.0}}"
      ]
     },
     "execution_count": 128,
     "metadata": {},
     "output_type": "execute_result"
    }
   ],
   "source": [
    "boletim = {'Matemática':{'A1':9.0, 'A2':8.0,'AS':4.0},\n",
    "           'História':{'A1':9.0, 'A2':8.0,'AS':4.0},\n",
    "           'Geografia':{'A1':9.0, 'A2':8.0,'AS':4.0}}\n",
    "boletim"
   ]
  },
  {
   "cell_type": "code",
   "execution_count": 129,
   "metadata": {},
   "outputs": [
    {
     "data": {
      "text/plain": [
       "8.0"
      ]
     },
     "execution_count": 129,
     "metadata": {},
     "output_type": "execute_result"
    }
   ],
   "source": [
    "boletim['Matemática']['A2']"
   ]
  },
  {
   "cell_type": "code",
   "execution_count": 130,
   "metadata": {},
   "outputs": [
    {
     "data": {
      "text/plain": [
       "dict_items([('Matemática', {'A1': 9.0, 'A2': 8.0, 'AS': 4.0}), ('História', {'A1': 9.0, 'A2': 8.0, 'AS': 4.0}), ('Geografia', {'A1': 9.0, 'A2': 8.0, 'AS': 4.0})])"
      ]
     },
     "execution_count": 130,
     "metadata": {},
     "output_type": "execute_result"
    }
   ],
   "source": [
    "boletim.items()"
   ]
  },
  {
   "cell_type": "code",
   "execution_count": 131,
   "metadata": {},
   "outputs": [
    {
     "data": {
      "text/plain": [
       "True"
      ]
     },
     "execution_count": 131,
     "metadata": {},
     "output_type": "execute_result"
    }
   ],
   "source": [
    "'A2' in boletim['Matemática']"
   ]
  },
  {
   "cell_type": "code",
   "execution_count": 132,
   "metadata": {},
   "outputs": [
    {
     "data": {
      "text/plain": [
       "dict_values([9.0, 8.0, 4.0])"
      ]
     },
     "execution_count": 132,
     "metadata": {},
     "output_type": "execute_result"
    }
   ],
   "source": [
    "boletim['Matemática'].values()"
   ]
  },
  {
   "cell_type": "code",
   "execution_count": 133,
   "metadata": {},
   "outputs": [
    {
     "data": {
      "text/plain": [
       "{'Geografia': {'A1': 9.0, 'A2': 8.0, 'AS': 4.0},\n",
       " 'História': {'A1': 9.0, 'A2': 8.0, 'AS': 4.0},\n",
       " 'Matemática': {'A1': 9.0, 'A2': 8.0, 'AS': 10}}"
      ]
     },
     "execution_count": 133,
     "metadata": {},
     "output_type": "execute_result"
    }
   ],
   "source": [
    "boletim['Matemática']['AS'] = 10\n",
    "boletim"
   ]
  },
  {
   "cell_type": "code",
   "execution_count": 134,
   "metadata": {
    "collapsed": true
   },
   "outputs": [],
   "source": [
    "newdic = {}"
   ]
  },
  {
   "cell_type": "code",
   "execution_count": 135,
   "metadata": {},
   "outputs": [
    {
     "data": {
      "text/plain": [
       "{}"
      ]
     },
     "execution_count": 135,
     "metadata": {},
     "output_type": "execute_result"
    }
   ],
   "source": [
    "newdic"
   ]
  },
  {
   "cell_type": "code",
   "execution_count": 136,
   "metadata": {
    "collapsed": true
   },
   "outputs": [],
   "source": [
    "newdic['elemento1'] = 23"
   ]
  },
  {
   "cell_type": "code",
   "execution_count": 137,
   "metadata": {},
   "outputs": [
    {
     "data": {
      "text/plain": [
       "{'elemento1': 23}"
      ]
     },
     "execution_count": 137,
     "metadata": {},
     "output_type": "execute_result"
    }
   ],
   "source": [
    "newdic"
   ]
  },
  {
   "cell_type": "code",
   "execution_count": 138,
   "metadata": {
    "collapsed": true
   },
   "outputs": [],
   "source": [
    "newdic.update({'um':2})"
   ]
  },
  {
   "cell_type": "code",
   "execution_count": 139,
   "metadata": {},
   "outputs": [
    {
     "data": {
      "text/plain": [
       "{'elemento1': 23, 'um': 2}"
      ]
     },
     "execution_count": 139,
     "metadata": {},
     "output_type": "execute_result"
    }
   ],
   "source": [
    "newdic"
   ]
  },
  {
   "cell_type": "code",
   "execution_count": 140,
   "metadata": {
    "collapsed": true
   },
   "outputs": [],
   "source": [
    "newdic['um'] = 1"
   ]
  },
  {
   "cell_type": "code",
   "execution_count": 141,
   "metadata": {},
   "outputs": [
    {
     "data": {
      "text/plain": [
       "{'elemento1': 23, 'um': 1}"
      ]
     },
     "execution_count": 141,
     "metadata": {},
     "output_type": "execute_result"
    }
   ],
   "source": [
    "newdic"
   ]
  },
  {
   "cell_type": "code",
   "execution_count": 142,
   "metadata": {
    "collapsed": true
   },
   "outputs": [],
   "source": [
    "d2 = {}\n",
    "d1 = {1:d2}\n",
    "d2 = {2:d1}"
   ]
  },
  {
   "cell_type": "code",
   "execution_count": 143,
   "metadata": {},
   "outputs": [
    {
     "data": {
      "text/plain": [
       "{1: {}}"
      ]
     },
     "execution_count": 143,
     "metadata": {},
     "output_type": "execute_result"
    }
   ],
   "source": [
    "d1"
   ]
  },
  {
   "cell_type": "code",
   "execution_count": 144,
   "metadata": {},
   "outputs": [
    {
     "data": {
      "text/plain": [
       "{2: {1: {}}}"
      ]
     },
     "execution_count": 144,
     "metadata": {},
     "output_type": "execute_result"
    }
   ],
   "source": [
    "d2"
   ]
  },
  {
   "cell_type": "code",
   "execution_count": 145,
   "metadata": {
    "collapsed": true
   },
   "outputs": [],
   "source": [
    "d2[2][1] = 'outra coisa'"
   ]
  },
  {
   "cell_type": "code",
   "execution_count": 146,
   "metadata": {
    "collapsed": true
   },
   "outputs": [],
   "source": [
    "d1[2]='outro elemento'"
   ]
  },
  {
   "cell_type": "code",
   "execution_count": 147,
   "metadata": {
    "collapsed": true
   },
   "outputs": [
    {
     "data": {
      "text/plain": [
       "{2: {1: 'outra coisa', 2: 'outro elemento'}}"
      ]
     },
     "execution_count": 147,
     "metadata": {},
     "output_type": "execute_result"
    }
   ],
   "source": [
    "d2"
   ]
  },
  {
   "cell_type": "markdown",
   "metadata": {},
   "source": [
    "### Tipo Tupla:\n",
    "Tuplas, assim como listas, são sequências ordenadas de itens. As diferenças entre elas são: os elementos estão entre parênteses e as tuplas são imutáveis, seus elementos não podem ser modificados."
   ]
  },
  {
   "cell_type": "code",
   "execution_count": 148,
   "metadata": {
    "collapsed": true
   },
   "outputs": [],
   "source": [
    "t = (1,2,3,4,7,4,3,1,'string',{1,2}, [1,2])"
   ]
  },
  {
   "cell_type": "code",
   "execution_count": 149,
   "metadata": {},
   "outputs": [
    {
     "data": {
      "text/plain": [
       "tuple"
      ]
     },
     "execution_count": 149,
     "metadata": {},
     "output_type": "execute_result"
    }
   ],
   "source": [
    "type(t)"
   ]
  },
  {
   "cell_type": "code",
   "execution_count": 150,
   "metadata": {},
   "outputs": [
    {
     "data": {
      "text/plain": [
       "1"
      ]
     },
     "execution_count": 150,
     "metadata": {},
     "output_type": "execute_result"
    }
   ],
   "source": [
    "t[0]"
   ]
  },
  {
   "cell_type": "code",
   "execution_count": 151,
   "metadata": {},
   "outputs": [
    {
     "data": {
      "text/plain": [
       "4"
      ]
     },
     "execution_count": 151,
     "metadata": {},
     "output_type": "execute_result"
    }
   ],
   "source": [
    "t[5]"
   ]
  },
  {
   "cell_type": "code",
   "execution_count": 152,
   "metadata": {},
   "outputs": [
    {
     "data": {
      "text/plain": [
       "(4, 7, 4)"
      ]
     },
     "execution_count": 152,
     "metadata": {},
     "output_type": "execute_result"
    }
   ],
   "source": [
    "t[3:6]"
   ]
  },
  {
   "cell_type": "code",
   "execution_count": 153,
   "metadata": {
    "collapsed": true
   },
   "outputs": [],
   "source": [
    "lista = [1,2,3]"
   ]
  },
  {
   "cell_type": "code",
   "execution_count": 154,
   "metadata": {
    "collapsed": true
   },
   "outputs": [],
   "source": [
    "tupla = tuple(lista)"
   ]
  },
  {
   "cell_type": "code",
   "execution_count": 155,
   "metadata": {},
   "outputs": [
    {
     "data": {
      "text/plain": [
       "(1, 2, 3)"
      ]
     },
     "execution_count": 155,
     "metadata": {},
     "output_type": "execute_result"
    }
   ],
   "source": [
    "tupla"
   ]
  },
  {
   "cell_type": "code",
   "execution_count": 156,
   "metadata": {
    "collapsed": true
   },
   "outputs": [],
   "source": [
    "lista2 = list(tupla)"
   ]
  },
  {
   "cell_type": "code",
   "execution_count": 157,
   "metadata": {},
   "outputs": [
    {
     "data": {
      "text/plain": [
       "[1, 2, 3]"
      ]
     },
     "execution_count": 157,
     "metadata": {},
     "output_type": "execute_result"
    }
   ],
   "source": [
    "lista2"
   ]
  },
  {
   "cell_type": "code",
   "execution_count": 158,
   "metadata": {},
   "outputs": [
    {
     "data": {
      "text/plain": [
       "{(1, 2): 'tupla'}"
      ]
     },
     "execution_count": 158,
     "metadata": {},
     "output_type": "execute_result"
    }
   ],
   "source": [
    "d5 = {(1,2):'tupla'}\n",
    "d5"
   ]
  },
  {
   "cell_type": "code",
   "execution_count": 159,
   "metadata": {
    "collapsed": true
   },
   "outputs": [],
   "source": [
    "t2 = (2,4,7,2,2,2,2)"
   ]
  },
  {
   "cell_type": "code",
   "execution_count": 160,
   "metadata": {},
   "outputs": [
    {
     "data": {
      "text/plain": [
       "5"
      ]
     },
     "execution_count": 160,
     "metadata": {},
     "output_type": "execute_result"
    }
   ],
   "source": [
    "t2.count(2)"
   ]
  },
  {
   "cell_type": "code",
   "execution_count": 161,
   "metadata": {
    "collapsed": true
   },
   "outputs": [],
   "source": [
    "a = [1,2]"
   ]
  },
  {
   "cell_type": "code",
   "execution_count": 162,
   "metadata": {
    "collapsed": true
   },
   "outputs": [],
   "source": [
    "t = (a,a,a,a,a)\n",
    "l = [a,a,a,a,a]"
   ]
  },
  {
   "cell_type": "code",
   "execution_count": 163,
   "metadata": {
    "collapsed": true
   },
   "outputs": [
    {
     "name": "stdout",
     "output_type": "stream",
     "text": [
      "<class 'int'>\n",
      "<class 'tuple'>\n"
     ]
    }
   ],
   "source": [
    "tupla_falsa = (1)\n",
    "tupla_verdadeira = (1,)\n",
    "print(type(tupla_falsa))\n",
    "print(type(tupla_verdadeira))"
   ]
  },
  {
   "cell_type": "markdown",
   "metadata": {},
   "source": [
    "Acessando cada elemento da tupla"
   ]
  },
  {
   "cell_type": "code",
   "execution_count": 164,
   "metadata": {
    "collapsed": true
   },
   "outputs": [
    {
     "name": "stdout",
     "output_type": "stream",
     "text": [
      "19\n",
      "10\n"
     ]
    }
   ],
   "source": [
    "x, y = 10, 19 #Relembrando como declarar as variáveis em uma linha\n",
    "print(y)\n",
    "print(x)"
   ]
  },
  {
   "cell_type": "markdown",
   "metadata": {},
   "source": [
    "Empacotamento e desempacotamento de tuplas"
   ]
  },
  {
   "cell_type": "code",
   "execution_count": 165,
   "metadata": {
    "collapsed": true
   },
   "outputs": [
    {
     "name": "stdout",
     "output_type": "stream",
     "text": [
      "19\n",
      "10\n"
     ]
    }
   ],
   "source": [
    "x, y = 10, 19 #Relembrando como declarar as variáveis em uma linha\n",
    "print(y)\n",
    "print(x)"
   ]
  },
  {
   "cell_type": "code",
   "execution_count": 166,
   "metadata": {
    "collapsed": true
   },
   "outputs": [
    {
     "name": "stdout",
     "output_type": "stream",
     "text": [
      "(2, 3, 4)\n",
      "2\n",
      "3\n",
      "4\n"
     ]
    }
   ],
   "source": [
    "t = (2,3,4)\n",
    "x,y,z = t\n",
    "print(t)\n",
    "print(x)\n",
    "print(y)\n",
    "print(z)"
   ]
  },
  {
   "cell_type": "code",
<<<<<<< HEAD:PythonL/Notebooks/Aula_1_Estruturas_Dados_Padrao.ipynb
   "execution_count": null,
   "metadata": {
    "collapsed": true
   },
   "outputs": [],
   "source": [
    "x, *y, z = (1,2,3,4)\n",
    "print(x)\n",
    "print(y)\n",
    "print(z)"
   ]
  },
  {
   "cell_type": "markdown",
   "metadata": {},
   "source": [
    "### Várias formas para importação de módulos:\n",
    "\n",
    "#### Importando o pacote inteiro:"
   ]
  },
  {
   "cell_type": "code",
   "execution_count": 62,
   "metadata": {},
   "outputs": [],
   "source": [
    "import string\n",
    "import random\n",
    "import math\n",
    "import numpy"
   ]
  },
  {
   "cell_type": "code",
   "execution_count": 5,
   "metadata": {},
   "outputs": [
    {
     "data": {
      "text/plain": [
       "'!\"#$%&\\'()*+,-./:;<=>?@[\\\\]^_`{|}~'"
      ]
     },
     "execution_count": 5,
     "metadata": {},
     "output_type": "execute_result"
    }
   ],
   "source": [
    "string.punctuation"
   ]
  },
  {
   "cell_type": "code",
   "execution_count": 6,
   "metadata": {},
   "outputs": [
    {
     "data": {
      "text/plain": [
       "0.7554019509574217"
      ]
     },
     "execution_count": 6,
     "metadata": {},
     "output_type": "execute_result"
    }
   ],
   "source": [
    "random.random()"
   ]
  },
  {
   "cell_type": "code",
   "execution_count": 7,
   "metadata": {},
   "outputs": [
    {
     "data": {
      "text/plain": [
       "3.141592653589793"
      ]
     },
     "execution_count": 7,
     "metadata": {},
     "output_type": "execute_result"
    }
   ],
   "source": [
    "math.pi"
   ]
  },
  {
   "cell_type": "code",
   "execution_count": 8,
   "metadata": {},
   "outputs": [
    {
     "data": {
      "text/plain": [
       "3.141592653589793"
      ]
     },
     "execution_count": 8,
     "metadata": {},
     "output_type": "execute_result"
    }
   ],
   "source": [
    "numpy.pi"
   ]
  },
  {
   "cell_type": "markdown",
   "metadata": {},
   "source": [
    "#### Importando do pacote determinada função"
   ]
  },
  {
   "cell_type": "code",
   "execution_count": 9,
   "metadata": {
    "collapsed": true
   },
   "outputs": [],
   "source": [
    "from math import *"
   ]
  },
  {
   "cell_type": "code",
   "execution_count": 10,
   "metadata": {},
   "outputs": [
    {
     "data": {
      "text/plain": [
       "3.141592653589793"
      ]
     },
     "execution_count": 10,
     "metadata": {},
     "output_type": "execute_result"
    }
   ],
   "source": [
    "pi"
   ]
  },
  {
   "cell_type": "code",
   "execution_count": 12,
   "metadata": {
    "collapsed": true
   },
   "outputs": [],
   "source": [
    "e = [1,2,3]"
   ]
  },
  {
   "cell_type": "code",
   "execution_count": 13,
   "metadata": {
    "collapsed": true
   },
   "outputs": [],
   "source": [
    "from math import *"
   ]
  },
  {
   "cell_type": "code",
   "execution_count": 14,
   "metadata": {},
   "outputs": [
    {
     "data": {
      "text/plain": [
       "2.718281828459045"
      ]
     },
     "execution_count": 14,
     "metadata": {},
     "output_type": "execute_result"
    }
   ],
   "source": [
    "e"
   ]
  },
  {
   "cell_type": "code",
   "execution_count": 17,
   "metadata": {
    "collapsed": true
   },
   "outputs": [],
   "source": [
    "from numpy import mean, pi"
   ]
  },
  {
   "cell_type": "code",
   "execution_count": 16,
   "metadata": {},
   "outputs": [
    {
     "data": {
      "text/plain": [
       "5.0"
      ]
     },
     "execution_count": 16,
     "metadata": {},
     "output_type": "execute_result"
    }
   ],
   "source": [
    "mean([1,2,3,4,5,6,7,8,9])"
   ]
  },
  {
   "cell_type": "code",
   "execution_count": 18,
   "metadata": {},
   "outputs": [
    {
     "data": {
      "text/plain": [
       "3.141592653589793"
      ]
     },
     "execution_count": 18,
     "metadata": {},
     "output_type": "execute_result"
    }
   ],
   "source": [
    "pi"
   ]
  },
  {
   "cell_type": "code",
   "execution_count": 19,
   "metadata": {},
   "outputs": [
    {
     "data": {
      "text/plain": [
       "True"
      ]
     },
     "execution_count": 19,
     "metadata": {},
     "output_type": "execute_result"
    }
   ],
   "source": [
    "math.pi == numpy.pi"
   ]
  },
  {
   "cell_type": "markdown",
   "metadata": {},
   "source": [
    "#### Importando o pacote e atribuindo-o outro nome"
   ]
  },
  {
   "cell_type": "code",
   "execution_count": 25,
   "metadata": {
    "collapsed": true
   },
   "outputs": [],
   "source": [
    "import pandas as pd\n",
    "import numpy as np\n",
    "import matplotlib.pyplot as plt"
   ]
  },
  {
   "cell_type": "code",
   "execution_count": 26,
   "metadata": {},
   "outputs": [
    {
     "data": {
      "text/plain": [
       "[<matplotlib.lines.Line2D at 0x8d255f8>]"
      ]
     },
     "execution_count": 26,
     "metadata": {},
     "output_type": "execute_result"
    }
   ],
   "source": [
    "plt.plot([1,2,3,4,5,6,4,3,2,1])"
   ]
  },
  {
   "cell_type": "code",
   "execution_count": 27,
   "metadata": {
    "collapsed": true
   },
   "outputs": [],
   "source": [
    "plt.show()"
   ]
  },
  {
   "cell_type": "code",
   "execution_count": 73,
   "metadata": {},
=======
   "execution_count": 167,
   "metadata": {
    "collapsed": true
   },
>>>>>>> reporenato/master:Python/Notebooks/Aula_1_Estruturas_Dados_Padrao.ipynb
   "outputs": [
    {
     "name": "stdout",
     "output_type": "stream",
     "text": [
      "1\n",
      "[2, 3]\n",
      "4\n"
     ]
    }
   ],
   "source": [
    "x, *y, z = (1,2,3,4)\n",
    "print(x)\n",
    "print(y)\n",
    "print(z)"
   ]
<<<<<<< HEAD:PythonL/Notebooks/Aula_1_Estruturas_Dados_Padrao.ipynb
  },
  {
   "cell_type": "code",
   "execution_count": 1,
   "metadata": {},
   "outputs": [],
   "source": [
    "#Hoje na aula estudamos os tipos de Dicionário, de Conjunto e de Tupla"
   ]
  },
  {
   "cell_type": "code",
   "execution_count": 63,
   "metadata": {},
   "outputs": [
    {
     "data": {
      "text/plain": [
       "2"
      ]
     },
     "execution_count": 63,
     "metadata": {},
     "output_type": "execute_result"
    }
   ],
   "source": [
    "1+1"
   ]
  },
  {
   "cell_type": "code",
   "execution_count": null,
   "metadata": {},
   "outputs": [],
   "source": []
  },
  {
   "cell_type": "code",
   "execution_count": null,
   "metadata": {},
   "outputs": [],
   "source": []
  },
  {
   "cell_type": "code",
   "execution_count": null,
   "metadata": {},
   "outputs": [],
   "source": []
=======
>>>>>>> reporenato/master:Python/Notebooks/Aula_1_Estruturas_Dados_Padrao.ipynb
  }
 ],
 "metadata": {
  "kernelspec": {
   "display_name": "Python 3",
   "language": "python",
   "name": "python3"
  },
  "language_info": {
   "codemirror_mode": {
    "name": "ipython",
    "version": 3
   },
   "file_extension": ".py",
   "mimetype": "text/x-python",
   "name": "python",
   "nbconvert_exporter": "python",
   "pygments_lexer": "ipython3",
   "version": "3.5.2"
  }
 },
 "nbformat": 4,
 "nbformat_minor": 2
}
